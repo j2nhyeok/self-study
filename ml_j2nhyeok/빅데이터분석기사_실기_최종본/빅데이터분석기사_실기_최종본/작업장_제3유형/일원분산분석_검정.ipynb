{
 "cells": [
  {
   "cell_type": "markdown",
   "id": "b2d6302f-b837-4478-82ff-da823e2489ee",
   "metadata": {},
   "source": [
    "## 문제\n",
    "- 주어진 데이터(data/iris.csv)는 붓꽃의 종, 꽃받침 길이와 너비, 꽃잎의 길이와 너비를 기록한 데이터이다. 이를 이용하여 붓꽃의 종(species)에 따라 꽃받침의 너비(sepal_width) 차이 나는지 일원분산분석을 통해 답을 한다. \n",
    "- 가설검정 \n",
    "    + 귀무가설 : $\\overline{X_{1}} = \\overline{X_{2}} = \\overline{X_{3}}$ 각 그룹의 평균은 모두 같다. \n",
    "    + 대립가설 : 적어도 한개의 그룹은 평균이 갖지 않다. \n",
    "- 단, 주어진 데이터가 정규성과 등분산성을 만족한다고 가정한다. \n",
    "- 문제 1: versicolor 종의 평균 꽃받침 너비를 구하시오. (반올림하여 소숫점 둘째 자리까지 계산)\n",
    "- 문제 2: 위의 가설을 검정하기 위한 검정통계량을 구하시오. (반올림하여 소숫점 둘째 자리까지 계산)\n",
    "- 문제 3: 위의 통계량에 대한 p-값을 구하고 (반올림하여 소숫점 넷째 자리까지 계산), 유의수준 0.05하에서 가설검정의 결과를 채택/기각 중 하나로 선택하시오. \n",
    "      "
   ]
  },
  {
   "cell_type": "markdown",
   "id": "53bba55e-b064-43c7-89bf-cee7f1cd0c84",
   "metadata": {},
   "source": [
    "## 데이터 불러오기"
   ]
  },
  {
   "cell_type": "code",
   "execution_count": 1,
   "id": "f30ebbd0-56c8-4081-ab6a-e2e9dbe2c803",
   "metadata": {},
   "outputs": [
    {
     "data": {
      "text/html": [
       "<div>\n",
       "<style scoped>\n",
       "    .dataframe tbody tr th:only-of-type {\n",
       "        vertical-align: middle;\n",
       "    }\n",
       "\n",
       "    .dataframe tbody tr th {\n",
       "        vertical-align: top;\n",
       "    }\n",
       "\n",
       "    .dataframe thead th {\n",
       "        text-align: right;\n",
       "    }\n",
       "</style>\n",
       "<table border=\"1\" class=\"dataframe\">\n",
       "  <thead>\n",
       "    <tr style=\"text-align: right;\">\n",
       "      <th></th>\n",
       "      <th>sepal_length</th>\n",
       "      <th>sepal_width</th>\n",
       "      <th>petal_length</th>\n",
       "      <th>petal_width</th>\n",
       "      <th>species</th>\n",
       "    </tr>\n",
       "  </thead>\n",
       "  <tbody>\n",
       "    <tr>\n",
       "      <th>0</th>\n",
       "      <td>5.1</td>\n",
       "      <td>3.5</td>\n",
       "      <td>1.4</td>\n",
       "      <td>0.2</td>\n",
       "      <td>setosa</td>\n",
       "    </tr>\n",
       "    <tr>\n",
       "      <th>1</th>\n",
       "      <td>4.9</td>\n",
       "      <td>3.0</td>\n",
       "      <td>1.4</td>\n",
       "      <td>0.2</td>\n",
       "      <td>setosa</td>\n",
       "    </tr>\n",
       "    <tr>\n",
       "      <th>2</th>\n",
       "      <td>4.7</td>\n",
       "      <td>3.2</td>\n",
       "      <td>1.3</td>\n",
       "      <td>0.2</td>\n",
       "      <td>setosa</td>\n",
       "    </tr>\n",
       "    <tr>\n",
       "      <th>3</th>\n",
       "      <td>4.6</td>\n",
       "      <td>3.1</td>\n",
       "      <td>1.5</td>\n",
       "      <td>0.2</td>\n",
       "      <td>setosa</td>\n",
       "    </tr>\n",
       "    <tr>\n",
       "      <th>4</th>\n",
       "      <td>5.0</td>\n",
       "      <td>3.6</td>\n",
       "      <td>1.4</td>\n",
       "      <td>0.2</td>\n",
       "      <td>setosa</td>\n",
       "    </tr>\n",
       "  </tbody>\n",
       "</table>\n",
       "</div>"
      ],
      "text/plain": [
       "   sepal_length  sepal_width  petal_length  petal_width species\n",
       "0           5.1          3.5           1.4          0.2  setosa\n",
       "1           4.9          3.0           1.4          0.2  setosa\n",
       "2           4.7          3.2           1.3          0.2  setosa\n",
       "3           4.6          3.1           1.5          0.2  setosa\n",
       "4           5.0          3.6           1.4          0.2  setosa"
      ]
     },
     "execution_count": 1,
     "metadata": {},
     "output_type": "execute_result"
    }
   ],
   "source": [
    "import pandas as pd \n",
    "df = pd.read_csv(\"./data/iris.csv\")\n",
    "df.head()"
   ]
  },
  {
   "cell_type": "markdown",
   "id": "67bea173-8324-458f-98e5-b619fe4dc364",
   "metadata": {},
   "source": [
    "## 문제 1\n",
    "- versicolor 종의 평균 꽃받침 너비를 구하시오. (반올림하여 소숫점 둘째 자리까지 계산)"
   ]
  },
  {
   "cell_type": "code",
   "execution_count": 2,
   "id": "6e1064f2-e602-4967-be42-66deabf34256",
   "metadata": {},
   "outputs": [
    {
     "name": "stdout",
     "output_type": "stream",
     "text": [
      "2.77\n"
     ]
    }
   ],
   "source": [
    "result = df.loc[df['species'] == 'versicolor', 'sepal_width'].mean()\n",
    "print(round(result, 2))"
   ]
  },
  {
   "cell_type": "markdown",
   "id": "88bab335-c823-4c68-9329-4a4ce1b21252",
   "metadata": {},
   "source": [
    "## 문제 2\n",
    "- 위의 가설을 검정하기 위한 검정통계량을 구하시오. (반올림하여 소숫점 둘째 자리까지 계산)"
   ]
  },
  {
   "cell_type": "code",
   "execution_count": 3,
   "id": "1174cd55-ed0c-4616-bfe1-0ee413025ea8",
   "metadata": {},
   "outputs": [
    {
     "name": "stdout",
     "output_type": "stream",
     "text": [
      "<class 'pandas.core.series.Series'>\n",
      "49.16 0.0\n"
     ]
    }
   ],
   "source": [
    "from scipy.stats import stats\n",
    "from math import sqrt\n",
    "\n",
    "X1 = df.loc[df['species'] == 'setosa', 'sepal_width']\n",
    "X2 = df.loc[df['species'] == 'versicolor', 'sepal_width']\n",
    "X3 = df.loc[df['species'] == 'virginica', 'sepal_width']\n",
    "\n",
    "print(type(X1))\n",
    "\n",
    "f_score, p_value = stats.f_oneway(X1, X2, X3)\n",
    "print(round(f_score, 4), round(p_value, 4))"
   ]
  },
  {
   "cell_type": "markdown",
   "id": "8c825fdc-d795-4fd7-b760-56430e2676f3",
   "metadata": {},
   "source": [
    "## 문제 3. \n",
    "- 위의 통계량에 대한 p-값을 구하고 (반올림하여 소숫점 넷째 자리까지 계산), 유의수준 0.05하에서 가설검정의 결과를 채택/기각 중 하나로 선택하시오. "
   ]
  },
  {
   "cell_type": "code",
   "execution_count": 11,
   "id": "d26249ff-f4c4-4314-a73d-5738dfeaeb12",
   "metadata": {},
   "outputs": [
    {
     "name": "stdout",
     "output_type": "stream",
     "text": [
      "0.0\n"
     ]
    }
   ],
   "source": [
    "print(round(p_value, 4))"
   ]
  },
  {
   "cell_type": "code",
   "execution_count": 12,
   "id": "c8b64c6c-3575-43d1-ae35-b3547bbefb9a",
   "metadata": {},
   "outputs": [
    {
     "name": "stdout",
     "output_type": "stream",
     "text": [
      "기각\n"
     ]
    }
   ],
   "source": [
    "if p_value >= 0.05:\n",
    "    print(\"채택\")\n",
    "else:\n",
    "    print(\"기각\")"
   ]
  },
  {
   "cell_type": "markdown",
   "id": "12c5f314-38e5-455b-ac5e-9f0921bcc406",
   "metadata": {},
   "source": [
    "## 사후검정"
   ]
  },
  {
   "cell_type": "code",
   "execution_count": 4,
   "id": "41688791-ebd4-4495-b7f7-8986d881a055",
   "metadata": {},
   "outputs": [
    {
     "name": "stdout",
     "output_type": "stream",
     "text": [
      "    Multiple Comparison of Means - Tukey HSD, FWER=0.05     \n",
      "============================================================\n",
      "  group1     group2   meandiff p-adj   lower   upper  reject\n",
      "------------------------------------------------------------\n",
      "    setosa versicolor   -0.658    0.0 -0.8189 -0.4971   True\n",
      "    setosa  virginica   -0.454    0.0 -0.6149 -0.2931   True\n",
      "versicolor  virginica    0.204 0.0088  0.0431  0.3649   True\n",
      "------------------------------------------------------------\n"
     ]
    }
   ],
   "source": [
    "from statsmodels.stats.multicomp import pairwise_tukeyhsd\n",
    "\n",
    "posthoc = pairwise_tukeyhsd(df['sepal_width'], df['species'])\n",
    "print(posthoc.summary())"
   ]
  }
 ],
 "metadata": {
  "kernelspec": {
   "display_name": "Python 3 (ipykernel)",
   "language": "python",
   "name": "python3"
  },
  "language_info": {
   "codemirror_mode": {
    "name": "ipython",
    "version": 3
   },
   "file_extension": ".py",
   "mimetype": "text/x-python",
   "name": "python",
   "nbconvert_exporter": "python",
   "pygments_lexer": "ipython3",
   "version": "3.9.13"
  }
 },
 "nbformat": 4,
 "nbformat_minor": 5
}
