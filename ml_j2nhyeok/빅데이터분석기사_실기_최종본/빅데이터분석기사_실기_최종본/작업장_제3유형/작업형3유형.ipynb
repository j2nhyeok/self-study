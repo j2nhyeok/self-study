{
 "cells": [
  {
   "cell_type": "markdown",
   "id": "e14b9b73-9b75-4d28-82dc-ae73b7efad21",
   "metadata": {},
   "source": [
    "## 작업형 3유형 최종정리\n",
    "- 작업형1 : 3문제 (30점), 데이터 전처리\n",
    "- 작업형2 : 1문제 (40점), 분류/회귀 예측 모델링\n",
    "- `작업형3 : 2문제 (30점), 가설 검정`"
   ]
  },
  {
   "cell_type": "markdown",
   "id": "a3cf50bf-991b-4c53-99f8-5fc0357ce313",
   "metadata": {},
   "source": [
    "## 라이브러리 확인\n",
    "- 파이썬에서 가설검정을 위한 통계와 관련된 라이브러리는 크게 2가지이다.\n",
    "   + scipy : SciPy는 수치 계산, 최적화, 선형 대수, 신호 및 이미지 처리, 통계 분석 등과 같은 과학적 계산 작업을 수행하는 데 사용됨\n",
    "   + statsmodels : Statsmodels는 통계 분석과 추정을 위한 파이썬 라이브러리로, 선형 회귀, 로지스틱 회귀, 시계열 분석, 비모수적 추정 등 다양한 통계 모델을 지원함.\n",
    "- SciPy와 Statsmodels는 각각의 독립성과 기능을 가지고 있으며, 과학적 계산과 통계 분석을 위한 파이썬 생태계에서 함께 사용되는 보완적인 라이브러리임."
   ]
  },
  {
   "cell_type": "markdown",
   "id": "aa4a07ae-73df-4709-ba8c-998924d853f1",
   "metadata": {},
   "source": [
    "## 주의\n",
    "- 여기에서는 각 검정의 구체적인 원리 설명은 하지 않는다.\n",
    "- 코드 위주로만 확인을 하도록 한다. "
   ]
  },
  {
   "cell_type": "markdown",
   "id": "be8d2106-ffbb-4c58-8bbd-23316bc7d37d",
   "metadata": {},
   "source": [
    "## One Sample T-Test\n",
    "- 가설검정\n",
    "    + 귀무가설 : 붓꽃의 sepal_length의 평균은 5.5이다.\n",
    "    + 대립가설 : 붓꽃의 sepal_length의 평균은 5.5이 아니다.  "
   ]
  },
  {
   "cell_type": "code",
   "execution_count": 4,
   "id": "2158719c-852c-4b81-ac2a-416b4a904567",
   "metadata": {},
   "outputs": [
    {
     "data": {
      "text/html": [
       "<div>\n",
       "<style scoped>\n",
       "    .dataframe tbody tr th:only-of-type {\n",
       "        vertical-align: middle;\n",
       "    }\n",
       "\n",
       "    .dataframe tbody tr th {\n",
       "        vertical-align: top;\n",
       "    }\n",
       "\n",
       "    .dataframe thead th {\n",
       "        text-align: right;\n",
       "    }\n",
       "</style>\n",
       "<table border=\"1\" class=\"dataframe\">\n",
       "  <thead>\n",
       "    <tr style=\"text-align: right;\">\n",
       "      <th></th>\n",
       "      <th>sepal_length</th>\n",
       "      <th>sepal_width</th>\n",
       "      <th>petal_length</th>\n",
       "      <th>petal_width</th>\n",
       "      <th>species</th>\n",
       "    </tr>\n",
       "  </thead>\n",
       "  <tbody>\n",
       "    <tr>\n",
       "      <th>0</th>\n",
       "      <td>5.1</td>\n",
       "      <td>3.5</td>\n",
       "      <td>1.4</td>\n",
       "      <td>0.2</td>\n",
       "      <td>setosa</td>\n",
       "    </tr>\n",
       "    <tr>\n",
       "      <th>1</th>\n",
       "      <td>4.9</td>\n",
       "      <td>3.0</td>\n",
       "      <td>1.4</td>\n",
       "      <td>0.2</td>\n",
       "      <td>setosa</td>\n",
       "    </tr>\n",
       "    <tr>\n",
       "      <th>2</th>\n",
       "      <td>4.7</td>\n",
       "      <td>3.2</td>\n",
       "      <td>1.3</td>\n",
       "      <td>0.2</td>\n",
       "      <td>setosa</td>\n",
       "    </tr>\n",
       "    <tr>\n",
       "      <th>3</th>\n",
       "      <td>4.6</td>\n",
       "      <td>3.1</td>\n",
       "      <td>1.5</td>\n",
       "      <td>0.2</td>\n",
       "      <td>setosa</td>\n",
       "    </tr>\n",
       "    <tr>\n",
       "      <th>4</th>\n",
       "      <td>5.0</td>\n",
       "      <td>3.6</td>\n",
       "      <td>1.4</td>\n",
       "      <td>0.2</td>\n",
       "      <td>setosa</td>\n",
       "    </tr>\n",
       "  </tbody>\n",
       "</table>\n",
       "</div>"
      ],
      "text/plain": [
       "   sepal_length  sepal_width  petal_length  petal_width species\n",
       "0           5.1          3.5           1.4          0.2  setosa\n",
       "1           4.9          3.0           1.4          0.2  setosa\n",
       "2           4.7          3.2           1.3          0.2  setosa\n",
       "3           4.6          3.1           1.5          0.2  setosa\n",
       "4           5.0          3.6           1.4          0.2  setosa"
      ]
     },
     "execution_count": 4,
     "metadata": {},
     "output_type": "execute_result"
    }
   ],
   "source": [
    "import seaborn as sns\n",
    "import pandas as pd\n",
    "\n",
    "iris_df = sns.load_dataset(\"iris\")\n",
    "iris_df.head()"
   ]
  },
  {
   "cell_type": "markdown",
   "id": "86dec3b3-5bf6-4ad0-a59e-3e62da004b51",
   "metadata": {},
   "source": [
    "### 문제 1. \n",
    "- sepal_length의 표본평균 X를 구하시오."
   ]
  },
  {
   "cell_type": "code",
   "execution_count": 6,
   "id": "e3a8b8a4-6f7f-4dcc-a63b-547abf6d7745",
   "metadata": {},
   "outputs": [
    {
     "data": {
      "text/plain": [
       "5.84"
      ]
     },
     "execution_count": 6,
     "metadata": {},
     "output_type": "execute_result"
    }
   ],
   "source": [
    "mu = iris_df['sepal_length'].mean()\n",
    "round(mu, 2)"
   ]
  },
  {
   "cell_type": "markdown",
   "id": "2af2144a-7222-45e9-aa6b-c8412492b872",
   "metadata": {},
   "source": [
    "### 문제 2. \n",
    "- 위의 가설을 검정하기 위한 검정통계량을 구하시오. "
   ]
  },
  {
   "cell_type": "code",
   "execution_count": 10,
   "id": "0f097e76-e30a-4217-a487-45f8ab8d9718",
   "metadata": {},
   "outputs": [
    {
     "name": "stdout",
     "output_type": "stream",
     "text": [
      "5.078\n"
     ]
    }
   ],
   "source": [
    "from scipy import stats\n",
    "from math import sqrt\n",
    "\n",
    "t_statistic, p_value = stats.ttest_1samp(iris_df['sepal_length'], popmean=5.5)\n",
    "print(round(t_statistic, 4))"
   ]
  },
  {
   "cell_type": "markdown",
   "id": "2a9e388e-710e-4c9b-a654-91101ba0a3c3",
   "metadata": {},
   "source": [
    "### 문제 3. \n",
    "- 위의 통계량에 대한 p-값을 구하고(반올림하여 소숫점 넷째 자리까지 계산), 유의수준 0.05하에서 가설검정의 결과를 채택/기각 중 하나로 선택하시오. "
   ]
  },
  {
   "cell_type": "code",
   "execution_count": 12,
   "id": "4cb896ce-3098-4cc2-935b-3dfc21cc10ee",
   "metadata": {},
   "outputs": [
    {
     "name": "stdout",
     "output_type": "stream",
     "text": [
      "기각\n"
     ]
    }
   ],
   "source": [
    "if p_value >= 0.05:\n",
    "    print(\"채택\")\n",
    "else:\n",
    "    print(\"기각\")"
   ]
  },
  {
   "cell_type": "markdown",
   "id": "6c6d2882-01d7-4412-afc6-716421c02a58",
   "metadata": {},
   "source": [
    "## 독립표본 T-검정\n",
    "- 귀무가설 : male tip과 female tip의 평균은 같다. \n",
    "- 대립가설 : male tip과 female tip의 평균은 다르다. "
   ]
  },
  {
   "cell_type": "code",
   "execution_count": 13,
   "id": "2e2739b0-d9da-4e32-886f-78acc9629267",
   "metadata": {},
   "outputs": [
    {
     "data": {
      "text/html": [
       "<div>\n",
       "<style scoped>\n",
       "    .dataframe tbody tr th:only-of-type {\n",
       "        vertical-align: middle;\n",
       "    }\n",
       "\n",
       "    .dataframe tbody tr th {\n",
       "        vertical-align: top;\n",
       "    }\n",
       "\n",
       "    .dataframe thead th {\n",
       "        text-align: right;\n",
       "    }\n",
       "</style>\n",
       "<table border=\"1\" class=\"dataframe\">\n",
       "  <thead>\n",
       "    <tr style=\"text-align: right;\">\n",
       "      <th></th>\n",
       "      <th>total_bill</th>\n",
       "      <th>tip</th>\n",
       "      <th>sex</th>\n",
       "      <th>smoker</th>\n",
       "      <th>day</th>\n",
       "      <th>time</th>\n",
       "      <th>size</th>\n",
       "    </tr>\n",
       "  </thead>\n",
       "  <tbody>\n",
       "    <tr>\n",
       "      <th>0</th>\n",
       "      <td>16.99</td>\n",
       "      <td>1.01</td>\n",
       "      <td>Female</td>\n",
       "      <td>No</td>\n",
       "      <td>Sun</td>\n",
       "      <td>Dinner</td>\n",
       "      <td>2</td>\n",
       "    </tr>\n",
       "    <tr>\n",
       "      <th>1</th>\n",
       "      <td>10.34</td>\n",
       "      <td>1.66</td>\n",
       "      <td>Male</td>\n",
       "      <td>No</td>\n",
       "      <td>Sun</td>\n",
       "      <td>Dinner</td>\n",
       "      <td>3</td>\n",
       "    </tr>\n",
       "    <tr>\n",
       "      <th>2</th>\n",
       "      <td>21.01</td>\n",
       "      <td>3.50</td>\n",
       "      <td>Male</td>\n",
       "      <td>No</td>\n",
       "      <td>Sun</td>\n",
       "      <td>Dinner</td>\n",
       "      <td>3</td>\n",
       "    </tr>\n",
       "    <tr>\n",
       "      <th>3</th>\n",
       "      <td>23.68</td>\n",
       "      <td>3.31</td>\n",
       "      <td>Male</td>\n",
       "      <td>No</td>\n",
       "      <td>Sun</td>\n",
       "      <td>Dinner</td>\n",
       "      <td>2</td>\n",
       "    </tr>\n",
       "    <tr>\n",
       "      <th>4</th>\n",
       "      <td>24.59</td>\n",
       "      <td>3.61</td>\n",
       "      <td>Female</td>\n",
       "      <td>No</td>\n",
       "      <td>Sun</td>\n",
       "      <td>Dinner</td>\n",
       "      <td>4</td>\n",
       "    </tr>\n",
       "  </tbody>\n",
       "</table>\n",
       "</div>"
      ],
      "text/plain": [
       "   total_bill   tip     sex smoker  day    time  size\n",
       "0       16.99  1.01  Female     No  Sun  Dinner     2\n",
       "1       10.34  1.66    Male     No  Sun  Dinner     3\n",
       "2       21.01  3.50    Male     No  Sun  Dinner     3\n",
       "3       23.68  3.31    Male     No  Sun  Dinner     2\n",
       "4       24.59  3.61  Female     No  Sun  Dinner     4"
      ]
     },
     "execution_count": 13,
     "metadata": {},
     "output_type": "execute_result"
    }
   ],
   "source": [
    "import seaborn as sns\n",
    "import pandas as pd \n",
    "\n",
    "tips = sns.load_dataset(\"tips\")\n",
    "tips.head()"
   ]
  },
  {
   "cell_type": "markdown",
   "id": "9956b05a-8d44-48aa-a2a1-ba059e749c13",
   "metadata": {},
   "source": [
    "### 문제 1. \n",
    "- male group의 표본평균, female group의 표본평균을 구하세요. "
   ]
  },
  {
   "cell_type": "code",
   "execution_count": 16,
   "id": "37486e9d-3e32-4675-8f48-b106f63b77dd",
   "metadata": {},
   "outputs": [
    {
     "data": {
      "text/plain": [
       "3.09"
      ]
     },
     "execution_count": 16,
     "metadata": {},
     "output_type": "execute_result"
    }
   ],
   "source": [
    "male = tips.loc[tips['sex'] == \"Male\", \"tip\"]\n",
    "round(male.mean(), 2)"
   ]
  },
  {
   "cell_type": "code",
   "execution_count": 18,
   "id": "0c63c0c4-bcf1-4333-815a-db6112afb6ed",
   "metadata": {},
   "outputs": [
    {
     "data": {
      "text/plain": [
       "2.83"
      ]
     },
     "execution_count": 18,
     "metadata": {},
     "output_type": "execute_result"
    }
   ],
   "source": [
    "female = tips.loc[tips['sex'] == \"Female\", \"tip\"]\n",
    "round(female.mean(), 2)"
   ]
  },
  {
   "cell_type": "markdown",
   "id": "3cede521-e52a-4836-b865-2045c4ec9b50",
   "metadata": {},
   "source": [
    "### 문제 2. \n",
    "- 위의 가설을 검정하기 위한 검정통계량을 구하시오. (반올림하여 소숫점 둘째 자리까지 계산)"
   ]
  },
  {
   "cell_type": "code",
   "execution_count": 24,
   "id": "c1898fcb-ae6b-4fdf-babe-794bc0aa4227",
   "metadata": {},
   "outputs": [
    {
     "name": "stdout",
     "output_type": "stream",
     "text": [
      "1.39\n",
      "0.17\n"
     ]
    }
   ],
   "source": [
    "from scipy.stats import stats\n",
    "t_statistic, p_value = stats.ttest_ind(male, female, equal_var=True)\n",
    "print(round(t_statistic, 2))\n",
    "print(round(p_value, 2))"
   ]
  },
  {
   "cell_type": "markdown",
   "id": "eb1e40fb-9ad0-4cdf-88da-e44b544750ef",
   "metadata": {},
   "source": [
    "### 문제 3. \n",
    "- 위의 통계량에 대한 p-값을 구하고 (반올림하여 소숫점 넷째 자리까지 계산), 유의수준 0.05하에서 가설검정의 결과를 채택/기각 중 하나로 선택하시오. "
   ]
  },
  {
   "cell_type": "code",
   "execution_count": 25,
   "id": "504b7c48-8983-40ce-ad93-392573a48c38",
   "metadata": {},
   "outputs": [
    {
     "name": "stdout",
     "output_type": "stream",
     "text": [
      "채택\n"
     ]
    }
   ],
   "source": [
    "if p_value >= 0.05:\n",
    "    print(\"채택\")\n",
    "else:\n",
    "    print(\"기각\")"
   ]
  },
  {
   "cell_type": "markdown",
   "id": "bf348963-842d-4a37-9d76-190d968733d6",
   "metadata": {},
   "source": [
    "## 대응표본 t검정\n",
    "- 가상의 데이터를 만든다. "
   ]
  },
  {
   "cell_type": "code",
   "execution_count": 40,
   "id": "53448d3a-9a94-4a39-9b7e-e3c3c0989fdb",
   "metadata": {},
   "outputs": [
    {
     "data": {
      "text/html": [
       "<div>\n",
       "<style scoped>\n",
       "    .dataframe tbody tr th:only-of-type {\n",
       "        vertical-align: middle;\n",
       "    }\n",
       "\n",
       "    .dataframe tbody tr th {\n",
       "        vertical-align: top;\n",
       "    }\n",
       "\n",
       "    .dataframe thead th {\n",
       "        text-align: right;\n",
       "    }\n",
       "</style>\n",
       "<table border=\"1\" class=\"dataframe\">\n",
       "  <thead>\n",
       "    <tr style=\"text-align: right;\">\n",
       "      <th></th>\n",
       "      <th>ID</th>\n",
       "      <th>Before</th>\n",
       "      <th>After</th>\n",
       "    </tr>\n",
       "  </thead>\n",
       "  <tbody>\n",
       "    <tr>\n",
       "      <th>0</th>\n",
       "      <td>1</td>\n",
       "      <td>13</td>\n",
       "      <td>15</td>\n",
       "    </tr>\n",
       "    <tr>\n",
       "      <th>1</th>\n",
       "      <td>2</td>\n",
       "      <td>10</td>\n",
       "      <td>14</td>\n",
       "    </tr>\n",
       "    <tr>\n",
       "      <th>2</th>\n",
       "      <td>3</td>\n",
       "      <td>11</td>\n",
       "      <td>14</td>\n",
       "    </tr>\n",
       "    <tr>\n",
       "      <th>3</th>\n",
       "      <td>4</td>\n",
       "      <td>14</td>\n",
       "      <td>16</td>\n",
       "    </tr>\n",
       "    <tr>\n",
       "      <th>4</th>\n",
       "      <td>5</td>\n",
       "      <td>13</td>\n",
       "      <td>16</td>\n",
       "    </tr>\n",
       "  </tbody>\n",
       "</table>\n",
       "</div>"
      ],
      "text/plain": [
       "   ID  Before  After\n",
       "0   1      13     15\n",
       "1   2      10     14\n",
       "2   3      11     14\n",
       "3   4      14     16\n",
       "4   5      13     16"
      ]
     },
     "execution_count": 40,
     "metadata": {},
     "output_type": "execute_result"
    }
   ],
   "source": [
    "import pandas as pd\n",
    "import numpy as np\n",
    "\n",
    "# Set random seed for reproducibility\n",
    "np.random.seed(0)\n",
    "\n",
    "n = 50  # Sample size\n",
    "before = np.random.normal(loc=10, scale=2, size=n)\n",
    "mean_diff = 3 \n",
    "after = before + mean_diff + np.random.normal(loc=0, scale=1, size=n)\n",
    "data = pd.DataFrame({'ID': range(1, n + 1), 'Before': before, 'After': after})\n",
    "data['Before'] = data['Before'].astype(\"int\")\n",
    "data['After'] = data['After'].astype(\"int\")\n",
    "data.head()"
   ]
  },
  {
   "cell_type": "markdown",
   "id": "6ecf85d6-cf91-49c6-8d35-7c29433d81a8",
   "metadata": {},
   "source": [
    "- 가설설정\n",
    "    + 귀무가설 : $\\overline{\\mu_{d}}$은 0이다. \n",
    "    + 대립가설 : $\\overline{\\mu_{d}}$은 0이 아니다."
   ]
  },
  {
   "cell_type": "markdown",
   "id": "e83ec77d-b70f-41c2-b14b-c64180904ac9",
   "metadata": {},
   "source": [
    "### 문제 1. \n",
    "- 표본평균 $\\overline{\\mu_{d}}$의 표본 평균을 구하시오. (반올림하여 소숫점 둘째 자리까지 계산)"
   ]
  },
  {
   "cell_type": "code",
   "execution_count": 43,
   "id": "7ed891dc-e127-4b3e-96c7-68da23afd162",
   "metadata": {},
   "outputs": [
    {
     "data": {
      "text/plain": [
       "3.0"
      ]
     },
     "execution_count": 43,
     "metadata": {},
     "output_type": "execute_result"
    }
   ],
   "source": [
    "diff = data['After'] - data['Before']\n",
    "diff.mean()"
   ]
  },
  {
   "cell_type": "markdown",
   "id": "06b640d3-b0ea-43e0-9113-0588ff1168b8",
   "metadata": {},
   "source": [
    "### 문제 2. \n",
    "- 위의 가설을 검정하기 위한 검정통계량을 구하시오. "
   ]
  },
  {
   "cell_type": "code",
   "execution_count": 45,
   "id": "f91b5feb-e8bd-42ff-a684-0130bd53e54f",
   "metadata": {},
   "outputs": [
    {
     "name": "stdout",
     "output_type": "stream",
     "text": [
      "-23.48\n",
      "0.0\n"
     ]
    }
   ],
   "source": [
    "from scipy.stats import stats\n",
    "from math import sqrt\n",
    "\n",
    "t_statistic, p_value = stats.ttest_rel(data['Before'], data['After'])\n",
    "print(round(t_statistic, 2))\n",
    "print(round(p_value, 2))"
   ]
  },
  {
   "cell_type": "markdown",
   "id": "a3ab2212-1e0f-425a-8ca7-f5fa96753245",
   "metadata": {},
   "source": [
    "### 문제 3. \n",
    "- 위의 통계량에 대한 p-값을 구하고 (반올림하여 소숫점 넷째 자리까지 계산), 유의수준 0.05하에서 가설검정의 결과를 채택/기각 중 하나로 선택하시오. "
   ]
  },
  {
   "cell_type": "code",
   "execution_count": 47,
   "id": "e61c77f5-3c98-4299-82f4-b3155e164b0d",
   "metadata": {},
   "outputs": [
    {
     "name": "stdout",
     "output_type": "stream",
     "text": [
      "기각\n"
     ]
    }
   ],
   "source": [
    "if p_value >= 0.05:\n",
    "    print(\"채택\")\n",
    "else:\n",
    "    print(\"기각\")"
   ]
  },
  {
   "cell_type": "markdown",
   "id": "0715bae4-067c-4420-9b97-3e2ca0ba9f2b",
   "metadata": {},
   "source": [
    "## 일원분산분석\n",
    "- 각 종의 sepal_width 평균길이를 비교 분석 한다. \n",
    "- 가설검정 \n",
    "    + 귀무가설 : $\\overline{X_{1}} = \\overline{X_{2}} = \\overline{X_{3}}$ 각 그룹의 평균은 모두 같다. \n",
    "    + 대립가설 : 적어도 한개의 그룹은 평균이 갖지 않다.\n",
    "- 각 그룹의 데이터는 모두 정규성 그리고 등분산성은 만족하는 것으로 가정한다. "
   ]
  },
  {
   "cell_type": "code",
   "execution_count": 1,
   "id": "b72e81a0-bcfb-455d-8fd7-5c1e5cb6ebd4",
   "metadata": {},
   "outputs": [
    {
     "data": {
      "text/html": [
       "<div>\n",
       "<style scoped>\n",
       "    .dataframe tbody tr th:only-of-type {\n",
       "        vertical-align: middle;\n",
       "    }\n",
       "\n",
       "    .dataframe tbody tr th {\n",
       "        vertical-align: top;\n",
       "    }\n",
       "\n",
       "    .dataframe thead th {\n",
       "        text-align: right;\n",
       "    }\n",
       "</style>\n",
       "<table border=\"1\" class=\"dataframe\">\n",
       "  <thead>\n",
       "    <tr style=\"text-align: right;\">\n",
       "      <th></th>\n",
       "      <th>sepal_length</th>\n",
       "      <th>sepal_width</th>\n",
       "      <th>petal_length</th>\n",
       "      <th>petal_width</th>\n",
       "      <th>species</th>\n",
       "    </tr>\n",
       "  </thead>\n",
       "  <tbody>\n",
       "    <tr>\n",
       "      <th>0</th>\n",
       "      <td>5.1</td>\n",
       "      <td>3.5</td>\n",
       "      <td>1.4</td>\n",
       "      <td>0.2</td>\n",
       "      <td>setosa</td>\n",
       "    </tr>\n",
       "    <tr>\n",
       "      <th>1</th>\n",
       "      <td>4.9</td>\n",
       "      <td>3.0</td>\n",
       "      <td>1.4</td>\n",
       "      <td>0.2</td>\n",
       "      <td>setosa</td>\n",
       "    </tr>\n",
       "    <tr>\n",
       "      <th>2</th>\n",
       "      <td>4.7</td>\n",
       "      <td>3.2</td>\n",
       "      <td>1.3</td>\n",
       "      <td>0.2</td>\n",
       "      <td>setosa</td>\n",
       "    </tr>\n",
       "    <tr>\n",
       "      <th>3</th>\n",
       "      <td>4.6</td>\n",
       "      <td>3.1</td>\n",
       "      <td>1.5</td>\n",
       "      <td>0.2</td>\n",
       "      <td>setosa</td>\n",
       "    </tr>\n",
       "    <tr>\n",
       "      <th>4</th>\n",
       "      <td>5.0</td>\n",
       "      <td>3.6</td>\n",
       "      <td>1.4</td>\n",
       "      <td>0.2</td>\n",
       "      <td>setosa</td>\n",
       "    </tr>\n",
       "  </tbody>\n",
       "</table>\n",
       "</div>"
      ],
      "text/plain": [
       "   sepal_length  sepal_width  petal_length  petal_width species\n",
       "0           5.1          3.5           1.4          0.2  setosa\n",
       "1           4.9          3.0           1.4          0.2  setosa\n",
       "2           4.7          3.2           1.3          0.2  setosa\n",
       "3           4.6          3.1           1.5          0.2  setosa\n",
       "4           5.0          3.6           1.4          0.2  setosa"
      ]
     },
     "execution_count": 1,
     "metadata": {},
     "output_type": "execute_result"
    }
   ],
   "source": [
    "import seaborn as sns\n",
    "import pandas as pd\n",
    "\n",
    "iris_df = sns.load_dataset(\"iris\")\n",
    "iris_df.head()"
   ]
  },
  {
   "cell_type": "code",
   "execution_count": 51,
   "id": "e15c61fd-e1f2-455a-b627-bd0285195bdf",
   "metadata": {},
   "outputs": [],
   "source": [
    "x1 = iris_df.loc[iris_df['species'] == \"setosa\", \"sepal_width\"]\n",
    "x2 = iris_df.loc[iris_df['species'] == \"versicolor\", \"sepal_width\"]\n",
    "x3 = iris_df.loc[iris_df['species'] == \"virginica\", \"sepal_width\"]"
   ]
  },
  {
   "cell_type": "markdown",
   "id": "3d03f5c5-62dd-45ac-b279-45e828afd3a8",
   "metadata": {},
   "source": [
    "### 문제 1. \n",
    "- versicolor 종의 평균 꽃받침 너비를 구하시오. (반올림하여 소숫점 둘째 자리까지 계산)"
   ]
  },
  {
   "cell_type": "code",
   "execution_count": 52,
   "id": "119541c7-52cd-4df1-bd72-7bd2956e2017",
   "metadata": {},
   "outputs": [
    {
     "data": {
      "text/plain": [
       "2.7700000000000005"
      ]
     },
     "execution_count": 52,
     "metadata": {},
     "output_type": "execute_result"
    }
   ],
   "source": [
    "x2.mean()"
   ]
  },
  {
   "cell_type": "markdown",
   "id": "214d8e71-e9e5-4cca-aa91-dc70196e0a5e",
   "metadata": {},
   "source": [
    "### 문제 2\n",
    "- 위의 가설을 검정하기 위한 검정통계량을 구하시오. (반올림하여 소숫점 둘째 자리까지 계산)"
   ]
  },
  {
   "cell_type": "code",
   "execution_count": 56,
   "id": "82146cda-c59b-4b8e-8240-4b2881ae67d1",
   "metadata": {},
   "outputs": [
    {
     "name": "stdout",
     "output_type": "stream",
     "text": [
      "49.16\n",
      "0.0\n"
     ]
    }
   ],
   "source": [
    "from scipy.stats import stats\n",
    "f_statistic, p_value = stats.f_oneway(x1, x2, x3)\n",
    "print(round(f_statistic, 2))\n",
    "print(round(p_value, 2))"
   ]
  },
  {
   "cell_type": "markdown",
   "id": "0ecaec31-31b7-4db4-8a47-0d349f5d841a",
   "metadata": {},
   "source": [
    "### 문제 3. \n",
    "- 위의 통계량에 대한 p-값을 구하고 (반올림하여 소숫점 넷째 자리까지 계산), 유의수준 0.05하에서 가설검정의 결과를 채택/기각 중 하나로 선택하시오. "
   ]
  },
  {
   "cell_type": "code",
   "execution_count": 55,
   "id": "eb1fafd9-7970-4743-a5c5-c06e4cb47e53",
   "metadata": {},
   "outputs": [
    {
     "name": "stdout",
     "output_type": "stream",
     "text": [
      "기각\n"
     ]
    }
   ],
   "source": [
    "if p_value >= 0.05:\n",
    "    print(\"채택\")\n",
    "else:\n",
    "    print(\"기각\")"
   ]
  },
  {
   "cell_type": "markdown",
   "id": "0166dd15-cead-4da9-a411-9e241604c374",
   "metadata": {},
   "source": [
    "### 사후검정"
   ]
  },
  {
   "cell_type": "code",
   "execution_count": 58,
   "id": "85f23a21-244d-44cb-b30d-d110b3f3645b",
   "metadata": {},
   "outputs": [
    {
     "data": {
      "text/html": [
       "<table class=\"simpletable\">\n",
       "<caption>Multiple Comparison of Means - Tukey HSD, FWER=0.05</caption>\n",
       "<tr>\n",
       "    <th>group1</th>     <th>group2</th>   <th>meandiff</th>  <th>p-adj</th>  <th>lower</th>   <th>upper</th>  <th>reject</th>\n",
       "</tr>\n",
       "<tr>\n",
       "    <td>setosa</td>   <td>versicolor</td>  <td>-0.658</td>    <td>0.0</td>  <td>-0.8189</td> <td>-0.4971</td>  <td>True</td> \n",
       "</tr>\n",
       "<tr>\n",
       "    <td>setosa</td>    <td>virginica</td>  <td>-0.454</td>    <td>0.0</td>  <td>-0.6149</td> <td>-0.2931</td>  <td>True</td> \n",
       "</tr>\n",
       "<tr>\n",
       "  <td>versicolor</td>  <td>virginica</td>   <td>0.204</td>  <td>0.0088</td> <td>0.0431</td>  <td>0.3649</td>   <td>True</td> \n",
       "</tr>\n",
       "</table>"
      ],
      "text/plain": [
       "<class 'statsmodels.iolib.table.SimpleTable'>"
      ]
     },
     "execution_count": 58,
     "metadata": {},
     "output_type": "execute_result"
    }
   ],
   "source": [
    "from statsmodels.stats.multicomp import pairwise_tukeyhsd\n",
    "posthoc = pairwise_tukeyhsd(iris_df['sepal_width'], iris_df['species'])\n",
    "posthoc.summary()"
   ]
  },
  {
   "cell_type": "markdown",
   "id": "b70f8590-bc97-487b-9bc2-2320cdcec43d",
   "metadata": {},
   "source": [
    "## 카이제곱검정 독립성 검정\n",
    "- 가설설정\n",
    "  + 귀무가설 : tips 데이터의 smoker와 day는 서로 관련성이 없다.\n",
    "  + 대립가설 : tips 데이터의 smoker와 day는 서로 관련성이 있다. "
   ]
  },
  {
   "cell_type": "code",
   "execution_count": 4,
   "id": "f105f696-cb24-4e71-959c-6300effe683d",
   "metadata": {},
   "outputs": [
    {
     "data": {
      "text/html": [
       "<div>\n",
       "<style scoped>\n",
       "    .dataframe tbody tr th:only-of-type {\n",
       "        vertical-align: middle;\n",
       "    }\n",
       "\n",
       "    .dataframe tbody tr th {\n",
       "        vertical-align: top;\n",
       "    }\n",
       "\n",
       "    .dataframe thead th {\n",
       "        text-align: right;\n",
       "    }\n",
       "</style>\n",
       "<table border=\"1\" class=\"dataframe\">\n",
       "  <thead>\n",
       "    <tr style=\"text-align: right;\">\n",
       "      <th></th>\n",
       "      <th>total_bill</th>\n",
       "      <th>tip</th>\n",
       "      <th>sex</th>\n",
       "      <th>smoker</th>\n",
       "      <th>day</th>\n",
       "      <th>time</th>\n",
       "      <th>size</th>\n",
       "    </tr>\n",
       "  </thead>\n",
       "  <tbody>\n",
       "    <tr>\n",
       "      <th>0</th>\n",
       "      <td>16.99</td>\n",
       "      <td>1.01</td>\n",
       "      <td>Female</td>\n",
       "      <td>No</td>\n",
       "      <td>Sun</td>\n",
       "      <td>Dinner</td>\n",
       "      <td>2</td>\n",
       "    </tr>\n",
       "    <tr>\n",
       "      <th>1</th>\n",
       "      <td>10.34</td>\n",
       "      <td>1.66</td>\n",
       "      <td>Male</td>\n",
       "      <td>No</td>\n",
       "      <td>Sun</td>\n",
       "      <td>Dinner</td>\n",
       "      <td>3</td>\n",
       "    </tr>\n",
       "    <tr>\n",
       "      <th>2</th>\n",
       "      <td>21.01</td>\n",
       "      <td>3.50</td>\n",
       "      <td>Male</td>\n",
       "      <td>No</td>\n",
       "      <td>Sun</td>\n",
       "      <td>Dinner</td>\n",
       "      <td>3</td>\n",
       "    </tr>\n",
       "    <tr>\n",
       "      <th>3</th>\n",
       "      <td>23.68</td>\n",
       "      <td>3.31</td>\n",
       "      <td>Male</td>\n",
       "      <td>No</td>\n",
       "      <td>Sun</td>\n",
       "      <td>Dinner</td>\n",
       "      <td>2</td>\n",
       "    </tr>\n",
       "    <tr>\n",
       "      <th>4</th>\n",
       "      <td>24.59</td>\n",
       "      <td>3.61</td>\n",
       "      <td>Female</td>\n",
       "      <td>No</td>\n",
       "      <td>Sun</td>\n",
       "      <td>Dinner</td>\n",
       "      <td>4</td>\n",
       "    </tr>\n",
       "  </tbody>\n",
       "</table>\n",
       "</div>"
      ],
      "text/plain": [
       "   total_bill   tip     sex smoker  day    time  size\n",
       "0       16.99  1.01  Female     No  Sun  Dinner     2\n",
       "1       10.34  1.66    Male     No  Sun  Dinner     3\n",
       "2       21.01  3.50    Male     No  Sun  Dinner     3\n",
       "3       23.68  3.31    Male     No  Sun  Dinner     2\n",
       "4       24.59  3.61  Female     No  Sun  Dinner     4"
      ]
     },
     "execution_count": 4,
     "metadata": {},
     "output_type": "execute_result"
    }
   ],
   "source": [
    "import seaborn as sns\n",
    "import numpy as np\n",
    "\n",
    "# 데이터 가져오기\n",
    "tips = sns.load_dataset(\"tips\")\n",
    "tips.head()"
   ]
  },
  {
   "cell_type": "markdown",
   "id": "3729d679-c09c-438a-8657-4468d241bd72",
   "metadata": {},
   "source": [
    "### 분할표 만들기"
   ]
  },
  {
   "cell_type": "code",
   "execution_count": 5,
   "id": "cc1c6b5c-1c02-4815-aeea-3e39eba5799a",
   "metadata": {},
   "outputs": [
    {
     "data": {
      "text/html": [
       "<div>\n",
       "<style scoped>\n",
       "    .dataframe tbody tr th:only-of-type {\n",
       "        vertical-align: middle;\n",
       "    }\n",
       "\n",
       "    .dataframe tbody tr th {\n",
       "        vertical-align: top;\n",
       "    }\n",
       "\n",
       "    .dataframe thead th {\n",
       "        text-align: right;\n",
       "    }\n",
       "</style>\n",
       "<table border=\"1\" class=\"dataframe\">\n",
       "  <thead>\n",
       "    <tr style=\"text-align: right;\">\n",
       "      <th>smoker</th>\n",
       "      <th>Yes</th>\n",
       "      <th>No</th>\n",
       "    </tr>\n",
       "    <tr>\n",
       "      <th>day</th>\n",
       "      <th></th>\n",
       "      <th></th>\n",
       "    </tr>\n",
       "  </thead>\n",
       "  <tbody>\n",
       "    <tr>\n",
       "      <th>Thur</th>\n",
       "      <td>17</td>\n",
       "      <td>45</td>\n",
       "    </tr>\n",
       "    <tr>\n",
       "      <th>Fri</th>\n",
       "      <td>15</td>\n",
       "      <td>4</td>\n",
       "    </tr>\n",
       "    <tr>\n",
       "      <th>Sat</th>\n",
       "      <td>42</td>\n",
       "      <td>45</td>\n",
       "    </tr>\n",
       "    <tr>\n",
       "      <th>Sun</th>\n",
       "      <td>19</td>\n",
       "      <td>57</td>\n",
       "    </tr>\n",
       "  </tbody>\n",
       "</table>\n",
       "</div>"
      ],
      "text/plain": [
       "smoker  Yes  No\n",
       "day            \n",
       "Thur     17  45\n",
       "Fri      15   4\n",
       "Sat      42  45\n",
       "Sun      19  57"
      ]
     },
     "execution_count": 5,
     "metadata": {},
     "output_type": "execute_result"
    }
   ],
   "source": [
    "observed = pd.crosstab(tips['day'], tips['smoker'])\n",
    "observed"
   ]
  },
  {
   "cell_type": "markdown",
   "id": "f1338793-69f7-44f1-9269-3195095479f1",
   "metadata": {},
   "source": [
    "### 문제 1. \n",
    "- 주어진 데이터로 smoker와 day 분할표를 만들었을 때, yes가 가장 많은 day를 출력하세요. "
   ]
  },
  {
   "cell_type": "code",
   "execution_count": 6,
   "id": "7d60de7d-0919-42ff-a4fa-b9beb6847979",
   "metadata": {},
   "outputs": [
    {
     "data": {
      "text/plain": [
       "'Sat'"
      ]
     },
     "execution_count": 6,
     "metadata": {},
     "output_type": "execute_result"
    }
   ],
   "source": [
    "result = observed.loc[observed['Yes'] == observed['Yes'].max()]\n",
    "result.index[0]"
   ]
  },
  {
   "cell_type": "markdown",
   "id": "e7ecb339-c570-4723-af83-e0f9fce2df11",
   "metadata": {},
   "source": [
    "### 문제 2. \n",
    "- 위의 가설을 검정하기 위한 검정통계량을 구하시오. (반올림하여 소숫점 둘째 자리까지 계산)"
   ]
  },
  {
   "cell_type": "code",
   "execution_count": 7,
   "id": "f23e6576-cab8-43ab-8db6-20a878e2e055",
   "metadata": {},
   "outputs": [
    {
     "name": "stdout",
     "output_type": "stream",
     "text": [
      "25.7872 0.0\n"
     ]
    }
   ],
   "source": [
    "from scipy.stats import chi2_contingency\n",
    "\n",
    "f_statistic, p_value, dof, expected = chi2_contingency(observed)\n",
    "print(round(f_statistic, 4), round(p_value, 4))"
   ]
  },
  {
   "cell_type": "code",
   "execution_count": 77,
   "id": "77937e6b-5647-4a86-b069-cc509bcc9f9f",
   "metadata": {},
   "outputs": [
    {
     "name": "stdout",
     "output_type": "stream",
     "text": [
      "25.7872 0.0\n"
     ]
    }
   ],
   "source": [
    "X1 = observed.loc['Thur', :]\n",
    "X2 = observed.loc['Fri', :]\n",
    "X3 = observed.loc['Sat', :]\n",
    "X4 = observed.loc['Sun', :]\n",
    "\n",
    "result = chi2_contingency([X1, X2, X3, X4])\n",
    "f_statistic, p_value = result[0], result[1]\n",
    "print(round(f_statistic, 4), round(p_value, 4))"
   ]
  },
  {
   "cell_type": "markdown",
   "id": "d832d9ee-ca84-464f-8601-56eaf2fda2ea",
   "metadata": {},
   "source": [
    "### 문제 3. \n",
    "- 위의 통계량에 대한 p-값을 구하고 (반올림하여 소숫점 넷째 자리까지 계산), 유의수준 0.05하에서 가설검정의 결과를 채택/기각 중 하나로 선택하시오. "
   ]
  },
  {
   "cell_type": "code",
   "execution_count": 78,
   "id": "94d88b35-c4fa-4dba-a2a2-eea790eabeab",
   "metadata": {},
   "outputs": [
    {
     "name": "stdout",
     "output_type": "stream",
     "text": [
      "기각\n"
     ]
    }
   ],
   "source": [
    "if p_value >= 0.05:\n",
    "    print(\"채택\")\n",
    "else:\n",
    "    print(\"기각\")"
   ]
  },
  {
   "cell_type": "markdown",
   "id": "b0542d60-9151-4e56-89d7-66f4b63d4fac",
   "metadata": {},
   "source": [
    "## 카이제곱검정 적합성 검정\n",
    "- 가설설정\n",
    "  + 귀무가설 : tips 데이터의 day 분포는 목요일 30%, 금요일 5%, 토요일 35%, 일요일 30%를 따른다. \n",
    "  + 대립가설 : tips 데이터의 day 분포는 목요일 30%, 금요일 5%, 토요일 35%, 일요일 30%를 따르지 않는다. "
   ]
  },
  {
   "cell_type": "code",
   "execution_count": 84,
   "id": "067dee5c-2e55-4e4d-8434-503b36ca9948",
   "metadata": {},
   "outputs": [
    {
     "data": {
      "text/html": [
       "<div>\n",
       "<style scoped>\n",
       "    .dataframe tbody tr th:only-of-type {\n",
       "        vertical-align: middle;\n",
       "    }\n",
       "\n",
       "    .dataframe tbody tr th {\n",
       "        vertical-align: top;\n",
       "    }\n",
       "\n",
       "    .dataframe thead th {\n",
       "        text-align: right;\n",
       "    }\n",
       "</style>\n",
       "<table border=\"1\" class=\"dataframe\">\n",
       "  <thead>\n",
       "    <tr style=\"text-align: right;\">\n",
       "      <th></th>\n",
       "      <th>total_bill</th>\n",
       "      <th>tip</th>\n",
       "      <th>sex</th>\n",
       "      <th>smoker</th>\n",
       "      <th>day</th>\n",
       "      <th>time</th>\n",
       "      <th>size</th>\n",
       "    </tr>\n",
       "  </thead>\n",
       "  <tbody>\n",
       "    <tr>\n",
       "      <th>0</th>\n",
       "      <td>16.99</td>\n",
       "      <td>1.01</td>\n",
       "      <td>Female</td>\n",
       "      <td>No</td>\n",
       "      <td>Sun</td>\n",
       "      <td>Dinner</td>\n",
       "      <td>2</td>\n",
       "    </tr>\n",
       "    <tr>\n",
       "      <th>1</th>\n",
       "      <td>10.34</td>\n",
       "      <td>1.66</td>\n",
       "      <td>Male</td>\n",
       "      <td>No</td>\n",
       "      <td>Sun</td>\n",
       "      <td>Dinner</td>\n",
       "      <td>3</td>\n",
       "    </tr>\n",
       "    <tr>\n",
       "      <th>2</th>\n",
       "      <td>21.01</td>\n",
       "      <td>3.50</td>\n",
       "      <td>Male</td>\n",
       "      <td>No</td>\n",
       "      <td>Sun</td>\n",
       "      <td>Dinner</td>\n",
       "      <td>3</td>\n",
       "    </tr>\n",
       "    <tr>\n",
       "      <th>3</th>\n",
       "      <td>23.68</td>\n",
       "      <td>3.31</td>\n",
       "      <td>Male</td>\n",
       "      <td>No</td>\n",
       "      <td>Sun</td>\n",
       "      <td>Dinner</td>\n",
       "      <td>2</td>\n",
       "    </tr>\n",
       "    <tr>\n",
       "      <th>4</th>\n",
       "      <td>24.59</td>\n",
       "      <td>3.61</td>\n",
       "      <td>Female</td>\n",
       "      <td>No</td>\n",
       "      <td>Sun</td>\n",
       "      <td>Dinner</td>\n",
       "      <td>4</td>\n",
       "    </tr>\n",
       "  </tbody>\n",
       "</table>\n",
       "</div>"
      ],
      "text/plain": [
       "   total_bill   tip     sex smoker  day    time  size\n",
       "0       16.99  1.01  Female     No  Sun  Dinner     2\n",
       "1       10.34  1.66    Male     No  Sun  Dinner     3\n",
       "2       21.01  3.50    Male     No  Sun  Dinner     3\n",
       "3       23.68  3.31    Male     No  Sun  Dinner     2\n",
       "4       24.59  3.61  Female     No  Sun  Dinner     4"
      ]
     },
     "execution_count": 84,
     "metadata": {},
     "output_type": "execute_result"
    }
   ],
   "source": [
    "import seaborn as sns\n",
    "import pandas as pd\n",
    "\n",
    "tips = sns.load_dataset(\"tips\")\n",
    "tips.head()"
   ]
  },
  {
   "cell_type": "markdown",
   "id": "31dfa112-ac0b-4ed8-b5b0-3d00e11dc2d7",
   "metadata": {},
   "source": [
    "### 문제 1\n",
    "- day Sun의 분포에서 day Fri 분포 수를 뺀 값을 정수로 출력하시오."
   ]
  },
  {
   "cell_type": "code",
   "execution_count": 86,
   "id": "53f0bbf0-b52f-4501-9bd9-1a1c93a3b9ff",
   "metadata": {},
   "outputs": [
    {
     "data": {
      "text/html": [
       "<div>\n",
       "<style scoped>\n",
       "    .dataframe tbody tr th:only-of-type {\n",
       "        vertical-align: middle;\n",
       "    }\n",
       "\n",
       "    .dataframe tbody tr th {\n",
       "        vertical-align: top;\n",
       "    }\n",
       "\n",
       "    .dataframe thead th {\n",
       "        text-align: right;\n",
       "    }\n",
       "</style>\n",
       "<table border=\"1\" class=\"dataframe\">\n",
       "  <thead>\n",
       "    <tr style=\"text-align: right;\">\n",
       "      <th></th>\n",
       "      <th>total_bill</th>\n",
       "      <th>tip</th>\n",
       "      <th>sex</th>\n",
       "      <th>smoker</th>\n",
       "      <th>time</th>\n",
       "      <th>size</th>\n",
       "    </tr>\n",
       "    <tr>\n",
       "      <th>day</th>\n",
       "      <th></th>\n",
       "      <th></th>\n",
       "      <th></th>\n",
       "      <th></th>\n",
       "      <th></th>\n",
       "      <th></th>\n",
       "    </tr>\n",
       "  </thead>\n",
       "  <tbody>\n",
       "    <tr>\n",
       "      <th>Thur</th>\n",
       "      <td>62</td>\n",
       "      <td>62</td>\n",
       "      <td>62</td>\n",
       "      <td>62</td>\n",
       "      <td>62</td>\n",
       "      <td>62</td>\n",
       "    </tr>\n",
       "    <tr>\n",
       "      <th>Fri</th>\n",
       "      <td>19</td>\n",
       "      <td>19</td>\n",
       "      <td>19</td>\n",
       "      <td>19</td>\n",
       "      <td>19</td>\n",
       "      <td>19</td>\n",
       "    </tr>\n",
       "    <tr>\n",
       "      <th>Sat</th>\n",
       "      <td>87</td>\n",
       "      <td>87</td>\n",
       "      <td>87</td>\n",
       "      <td>87</td>\n",
       "      <td>87</td>\n",
       "      <td>87</td>\n",
       "    </tr>\n",
       "    <tr>\n",
       "      <th>Sun</th>\n",
       "      <td>76</td>\n",
       "      <td>76</td>\n",
       "      <td>76</td>\n",
       "      <td>76</td>\n",
       "      <td>76</td>\n",
       "      <td>76</td>\n",
       "    </tr>\n",
       "  </tbody>\n",
       "</table>\n",
       "</div>"
      ],
      "text/plain": [
       "      total_bill  tip  sex  smoker  time  size\n",
       "day                                           \n",
       "Thur          62   62   62      62    62    62\n",
       "Fri           19   19   19      19    19    19\n",
       "Sat           87   87   87      87    87    87\n",
       "Sun           76   76   76      76    76    76"
      ]
     },
     "execution_count": 86,
     "metadata": {},
     "output_type": "execute_result"
    }
   ],
   "source": [
    "count_df = tips.groupby(\"day\").count()\n",
    "count_df"
   ]
  },
  {
   "cell_type": "code",
   "execution_count": 88,
   "id": "f2bc6e79-d448-437c-983e-6ce7a8c834df",
   "metadata": {},
   "outputs": [
    {
     "data": {
      "text/plain": [
       "57"
      ]
     },
     "execution_count": 88,
     "metadata": {},
     "output_type": "execute_result"
    }
   ],
   "source": [
    "result = count_df.loc['Sun', \"total_bill\"] - count_df.loc['Fri', \"total_bill\"]\n",
    "result"
   ]
  },
  {
   "cell_type": "markdown",
   "id": "54dfe79f-c350-43af-9b46-df6edc6c229e",
   "metadata": {},
   "source": [
    "### 문제 2\n",
    "- 귀무가설에서 제시된 day 분포를 이용하여 기대 빈도를 계산하고, 위의 가설을 검정하기 위한 검정통계량을 구하시오. (반올림하여 소숫점 둘째 자리까지 계산)"
   ]
  },
  {
   "cell_type": "code",
   "execution_count": 91,
   "id": "97c76d40-9ec0-4778-b07f-474894ebc7dc",
   "metadata": {},
   "outputs": [
    {
     "name": "stdout",
     "output_type": "stream",
     "text": [
      "[73.2, 12.200000000000001, 85.39999999999999, 73.2]\n"
     ]
    }
   ],
   "source": [
    "total_sum = len(tips)\n",
    "expected = [int(total_sum) * 0.3,  # 목요일\n",
    "            int(total_sum) * 0.05, # 금요일\n",
    "            int(total_sum) * 0.35, # 토요일\n",
    "            int(total_sum) * 0.30  # 일요일\n",
    "           ]\n",
    "# 기대빈도 구하기\n",
    "print(expected)"
   ]
  },
  {
   "cell_type": "code",
   "execution_count": 93,
   "id": "e40140ed-b3ce-4c82-943d-42f2738912bc",
   "metadata": {},
   "outputs": [
    {
     "name": "stdout",
     "output_type": "stream",
     "text": [
      "5.64 0.13\n"
     ]
    }
   ],
   "source": [
    "from scipy import stats\n",
    "\n",
    "observed = count_df['total_bill'].values\n",
    "f_score, p_value = stats.chisquare(observed, f_exp = expected)\n",
    "\n",
    "print(round(f_score, 2), round(p_value, 2))"
   ]
  },
  {
   "cell_type": "markdown",
   "id": "6079202f-da27-4884-9a4b-8c5b11eb08c8",
   "metadata": {},
   "source": [
    "### 문제 3. \n",
    "- 위의 통계량에 대한 p-값을 구하고 (반올림하여 소숫점 넷째 자리까지 계산), 유의수준 0.05하에서 가설검정의 결과를 채택/기각 중 하나로 선택하시오. "
   ]
  },
  {
   "cell_type": "code",
   "execution_count": 94,
   "id": "18ee2c65-1def-430f-badf-0004d954be00",
   "metadata": {},
   "outputs": [
    {
     "name": "stdout",
     "output_type": "stream",
     "text": [
      "채택\n"
     ]
    }
   ],
   "source": [
    "if p_value >= 0.05:\n",
    "    print(\"채택\")\n",
    "else:\n",
    "    print(\"기각\")"
   ]
  }
 ],
 "metadata": {
  "kernelspec": {
   "display_name": "Python 3 (ipykernel)",
   "language": "python",
   "name": "python3"
  },
  "language_info": {
   "codemirror_mode": {
    "name": "ipython",
    "version": 3
   },
   "file_extension": ".py",
   "mimetype": "text/x-python",
   "name": "python",
   "nbconvert_exporter": "python",
   "pygments_lexer": "ipython3",
   "version": "3.9.13"
  }
 },
 "nbformat": 4,
 "nbformat_minor": 5
}
