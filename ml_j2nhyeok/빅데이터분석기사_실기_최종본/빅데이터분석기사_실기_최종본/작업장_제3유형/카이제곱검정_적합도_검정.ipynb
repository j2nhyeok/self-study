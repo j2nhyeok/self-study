{
 "cells": [
  {
   "cell_type": "markdown",
   "id": "b2d6302f-b837-4478-82ff-da823e2489ee",
   "metadata": {},
   "source": [
    "## 문제\n",
    "- 주어진 데이터(data/cellphone.csv)는 A회사의 직원 200명을 대상으로 현재 사용하고 있는 스마트폰 제조사를 조사한 결과이다. 최근 조사에 따르면, 스마트폰 제조사 점유율은 60%, 애플 30%, 기타 10%라고 한다. 이를 이용하여 A회사의 직원들이 사용하는 스마트폰 제조사 분포가 국내 스마트폰 제조사 점유율 분포와 동일한지 카이제곱검정을 통해 답하고자 한다.  \n",
    "- 가설검정 \n",
    "    + 귀무가설 : A 회사 직원들이 사용하는 스마트폰 제조사 분포는 국내 스마트폰 제조사 점유율 분포를 따른다. \n",
    "    + 대립가설 : A 회사 직원들이 사용하는 스마트폰 제조사 분포는 국내 스마트폰 제조사 점유율 분포를 따르지 않는다.\n",
    "- 문제 1: 삼성 제조사 스마트폰 사용 직원 수에서 애플 제조사 스마트폰 사용 직원 수를 뺀 값을 정수로 출력하시오.\n",
    "- 문제 2: 문제에서 제시된 국내 스마트폰 제조사 점유율을 이용하여 기대 빈도를 계산하고, 위의 가설을 검정하기 위한 검정통계량을 구하시오. (반올림하여 소숫점 둘째 자리까지 계산)\n",
    "- 문제 3: 위의 통계량에 대한 p-값을 구하고 (반올림하여 소숫점 넷째 자리까지 계산), 유의수준 0.05하에서 가설검정의 결과를 채택/기각 중 하나로 선택하시오. "
   ]
  },
  {
   "cell_type": "markdown",
   "id": "53bba55e-b064-43c7-89bf-cee7f1cd0c84",
   "metadata": {},
   "source": [
    "## 데이터 불러오기"
   ]
  },
  {
   "cell_type": "code",
   "execution_count": 2,
   "id": "f30ebbd0-56c8-4081-ab6a-e2e9dbe2c803",
   "metadata": {},
   "outputs": [
    {
     "data": {
      "text/html": [
       "<div>\n",
       "<style scoped>\n",
       "    .dataframe tbody tr th:only-of-type {\n",
       "        vertical-align: middle;\n",
       "    }\n",
       "\n",
       "    .dataframe tbody tr th {\n",
       "        vertical-align: top;\n",
       "    }\n",
       "\n",
       "    .dataframe thead th {\n",
       "        text-align: right;\n",
       "    }\n",
       "</style>\n",
       "<table border=\"1\" class=\"dataframe\">\n",
       "  <thead>\n",
       "    <tr style=\"text-align: right;\">\n",
       "      <th></th>\n",
       "      <th>id</th>\n",
       "      <th>제조사</th>\n",
       "    </tr>\n",
       "  </thead>\n",
       "  <tbody>\n",
       "    <tr>\n",
       "      <th>0</th>\n",
       "      <td>1</td>\n",
       "      <td>삼성</td>\n",
       "    </tr>\n",
       "    <tr>\n",
       "      <th>1</th>\n",
       "      <td>2</td>\n",
       "      <td>애플</td>\n",
       "    </tr>\n",
       "    <tr>\n",
       "      <th>2</th>\n",
       "      <td>3</td>\n",
       "      <td>삼성</td>\n",
       "    </tr>\n",
       "    <tr>\n",
       "      <th>3</th>\n",
       "      <td>4</td>\n",
       "      <td>애플</td>\n",
       "    </tr>\n",
       "    <tr>\n",
       "      <th>4</th>\n",
       "      <td>5</td>\n",
       "      <td>애플</td>\n",
       "    </tr>\n",
       "  </tbody>\n",
       "</table>\n",
       "</div>"
      ],
      "text/plain": [
       "   id 제조사\n",
       "0   1  삼성\n",
       "1   2  애플\n",
       "2   3  삼성\n",
       "3   4  애플\n",
       "4   5  애플"
      ]
     },
     "execution_count": 2,
     "metadata": {},
     "output_type": "execute_result"
    }
   ],
   "source": [
    "import pandas as pd \n",
    "df = pd.read_csv(\"./data/cellphone.csv\")\n",
    "df.head()"
   ]
  },
  {
   "cell_type": "markdown",
   "id": "67bea173-8324-458f-98e5-b619fe4dc364",
   "metadata": {},
   "source": [
    "## 문제 1\n",
    "- 삼성 제조사 스마트폰 사용 직원 수에서 애플 제조사 스마트폰 사용 직원 수를 뺀 값을 정수로 출력하시오."
   ]
  },
  {
   "cell_type": "code",
   "execution_count": 3,
   "id": "6e1064f2-e602-4967-be42-66deabf34256",
   "metadata": {},
   "outputs": [
    {
     "data": {
      "text/html": [
       "<div>\n",
       "<style scoped>\n",
       "    .dataframe tbody tr th:only-of-type {\n",
       "        vertical-align: middle;\n",
       "    }\n",
       "\n",
       "    .dataframe tbody tr th {\n",
       "        vertical-align: top;\n",
       "    }\n",
       "\n",
       "    .dataframe thead th {\n",
       "        text-align: right;\n",
       "    }\n",
       "</style>\n",
       "<table border=\"1\" class=\"dataframe\">\n",
       "  <thead>\n",
       "    <tr style=\"text-align: right;\">\n",
       "      <th></th>\n",
       "      <th>id</th>\n",
       "    </tr>\n",
       "    <tr>\n",
       "      <th>제조사</th>\n",
       "      <th></th>\n",
       "    </tr>\n",
       "  </thead>\n",
       "  <tbody>\n",
       "    <tr>\n",
       "      <th>기타</th>\n",
       "      <td>5</td>\n",
       "    </tr>\n",
       "    <tr>\n",
       "      <th>삼성</th>\n",
       "      <td>117</td>\n",
       "    </tr>\n",
       "    <tr>\n",
       "      <th>애플</th>\n",
       "      <td>78</td>\n",
       "    </tr>\n",
       "  </tbody>\n",
       "</table>\n",
       "</div>"
      ],
      "text/plain": [
       "      id\n",
       "제조사     \n",
       "기타     5\n",
       "삼성   117\n",
       "애플    78"
      ]
     },
     "execution_count": 3,
     "metadata": {},
     "output_type": "execute_result"
    }
   ],
   "source": [
    "count_df = df.groupby('제조사').count()\n",
    "count_df"
   ]
  },
  {
   "cell_type": "code",
   "execution_count": 4,
   "id": "03278690-7598-481b-a1db-9a3b08485712",
   "metadata": {},
   "outputs": [
    {
     "name": "stdout",
     "output_type": "stream",
     "text": [
      "39\n"
     ]
    }
   ],
   "source": [
    "result = count_df.loc['삼성', 'id'] - count_df.loc['애플', 'id']\n",
    "print(result)"
   ]
  },
  {
   "cell_type": "markdown",
   "id": "88bab335-c823-4c68-9329-4a4ce1b21252",
   "metadata": {},
   "source": [
    "## 문제 2\n",
    "- 문제에서 제시된 국내 스마트폰 제조사 점유율을 이용하여 기대 빈도를 계산하고, 위의 가설을 검정하기 위한 검정통계량을 구하시오. (반올림하여 소숫점 둘째 자리까지 계산)"
   ]
  },
  {
   "cell_type": "code",
   "execution_count": 5,
   "id": "1174cd55-ed0c-4616-bfe1-0ee413025ea8",
   "metadata": {},
   "outputs": [
    {
     "name": "stdout",
     "output_type": "stream",
     "text": [
      "[20.0, 120.0, 60.0]\n"
     ]
    }
   ],
   "source": [
    "total_sum = len(df)\n",
    "expected = [int(total_sum) * 0.1, # 기타 제조사 기대빈도\n",
    "            int(total_sum) * 0.6, # 삼성 제조사 기대빈도\n",
    "            int(total_sum) * 0.3, # 애플 제조사 기대빈도\n",
    "           ]\n",
    "# 기대빈도 구하기\n",
    "print(expected)"
   ]
  },
  {
   "cell_type": "code",
   "execution_count": 6,
   "id": "d10e0ab9-e119-4df5-b446-bbf2864aaf15",
   "metadata": {},
   "outputs": [
    {
     "name": "stdout",
     "output_type": "stream",
     "text": [
      "16.73 0.0\n"
     ]
    }
   ],
   "source": [
    "from scipy import stats\n",
    "\n",
    "observed = count_df['id'].values\n",
    "f_score, p_value = stats.chisquare(observed, f_exp = expected)\n",
    "\n",
    "print(round(f_score, 2), round(p_value, 2))"
   ]
  },
  {
   "cell_type": "markdown",
   "id": "8c825fdc-d795-4fd7-b760-56430e2676f3",
   "metadata": {},
   "source": [
    "## 문제 3. \n",
    "- 위의 통계량에 대한 p-값을 구하고 (반올림하여 소숫점 넷째 자리까지 계산), 유의수준 0.05하에서 가설검정의 결과를 채택/기각 중 하나로 선택하시오. "
   ]
  },
  {
   "cell_type": "code",
   "execution_count": 7,
   "id": "d26249ff-f4c4-4314-a73d-5738dfeaeb12",
   "metadata": {},
   "outputs": [
    {
     "name": "stdout",
     "output_type": "stream",
     "text": [
      "0.0002\n"
     ]
    }
   ],
   "source": [
    "print(round(p_value, 4))"
   ]
  },
  {
   "cell_type": "code",
   "execution_count": 8,
   "id": "c8b64c6c-3575-43d1-ae35-b3547bbefb9a",
   "metadata": {},
   "outputs": [
    {
     "name": "stdout",
     "output_type": "stream",
     "text": [
      "기각\n"
     ]
    }
   ],
   "source": [
    "if p_value >= 0.05:\n",
    "    print(\"채택\")\n",
    "else:\n",
    "    print(\"기각\")"
   ]
  }
 ],
 "metadata": {
  "kernelspec": {
   "display_name": "Python 3 (ipykernel)",
   "language": "python",
   "name": "python3"
  },
  "language_info": {
   "codemirror_mode": {
    "name": "ipython",
    "version": 3
   },
   "file_extension": ".py",
   "mimetype": "text/x-python",
   "name": "python",
   "nbconvert_exporter": "python",
   "pygments_lexer": "ipython3",
   "version": "3.9.13"
  }
 },
 "nbformat": 4,
 "nbformat_minor": 5
}
