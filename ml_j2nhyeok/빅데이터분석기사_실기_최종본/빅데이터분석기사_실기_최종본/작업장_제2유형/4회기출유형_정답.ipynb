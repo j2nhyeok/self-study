{
 "cells": [
  {
   "cell_type": "markdown",
   "id": "c6941975-3033-462e-ae62-d97a46dac845",
   "metadata": {},
   "source": [
    "## 문제 1. \n",
    "- 다음은 Customer Segmentation 데이터 세트이다. 주어진 훈련 데이터 세트를 활용하여 고객이 속한 세그먼트(Segmentation)를 예측하고 해당 예측 결과를 csv 파일로 제출하시오.\n",
    "- 결과 제출 양식 : 제출한 예측값의 macro_f1 결과를 통해 영역별 배점에 따라 최종 점수가 반영될 예정"
   ]
  },
  {
   "cell_type": "code",
   "execution_count": 1,
   "id": "2d69ef72-645f-44c0-bb2a-e3e8c580ccd9",
   "metadata": {},
   "outputs": [
    {
     "data": {
      "text/html": [
       "<div>\n",
       "<style scoped>\n",
       "    .dataframe tbody tr th:only-of-type {\n",
       "        vertical-align: middle;\n",
       "    }\n",
       "\n",
       "    .dataframe tbody tr th {\n",
       "        vertical-align: top;\n",
       "    }\n",
       "\n",
       "    .dataframe thead th {\n",
       "        text-align: right;\n",
       "    }\n",
       "</style>\n",
       "<table border=\"1\" class=\"dataframe\">\n",
       "  <thead>\n",
       "    <tr style=\"text-align: right;\">\n",
       "      <th></th>\n",
       "      <th>ID</th>\n",
       "      <th>y_pred</th>\n",
       "    </tr>\n",
       "  </thead>\n",
       "  <tbody>\n",
       "    <tr>\n",
       "      <th>0</th>\n",
       "      <td>1</td>\n",
       "      <td>A</td>\n",
       "    </tr>\n",
       "    <tr>\n",
       "      <th>1</th>\n",
       "      <td>2</td>\n",
       "      <td>B</td>\n",
       "    </tr>\n",
       "    <tr>\n",
       "      <th>2</th>\n",
       "      <td>3</td>\n",
       "      <td>C</td>\n",
       "    </tr>\n",
       "  </tbody>\n",
       "</table>\n",
       "</div>"
      ],
      "text/plain": [
       "   ID y_pred\n",
       "0   1      A\n",
       "1   2      B\n",
       "2   3      C"
      ]
     },
     "execution_count": 1,
     "metadata": {},
     "output_type": "execute_result"
    }
   ],
   "source": [
    "import pandas as pd \n",
    "pd.DataFrame({\n",
    "    \"ID\"  : [1, 2, 3],\n",
    "    \"y_pred\" : [\"A\", \"B\", \"C\"]\n",
    "})"
   ]
  },
  {
   "cell_type": "markdown",
   "id": "712b678a-3650-4ea5-a070-e4d1e52596a6",
   "metadata": {},
   "source": [
    "## 데이터 불러오기"
   ]
  },
  {
   "cell_type": "code",
   "execution_count": 2,
   "id": "e1bc0c5b-fdea-4a79-beb5-b94123808242",
   "metadata": {},
   "outputs": [],
   "source": [
    "import pandas as pd \n",
    "X_test = pd.read_csv(\"data/4회/404_x_test.csv\")\n",
    "X_train = pd.read_csv(\"data/4회/404_x_train.csv\")\n",
    "y_train = pd.read_csv(\"data/4회/404_y_train.csv\")"
   ]
  },
  {
   "cell_type": "code",
   "execution_count": 3,
   "id": "dbd8178c-87f1-4ec4-b844-2f6b27875cea",
   "metadata": {},
   "outputs": [
    {
     "name": "stdout",
     "output_type": "stream",
     "text": [
      "<class 'pandas.core.frame.DataFrame'>\n",
      "RangeIndex: 6718 entries, 0 to 6717\n",
      "Data columns (total 2 columns):\n",
      " #   Column        Non-Null Count  Dtype \n",
      "---  ------        --------------  ----- \n",
      " 0   ID            6718 non-null   int64 \n",
      " 1   Segmentation  6718 non-null   object\n",
      "dtypes: int64(1), object(1)\n",
      "memory usage: 105.1+ KB\n"
     ]
    }
   ],
   "source": [
    "y_train.info()"
   ]
  },
  {
   "cell_type": "code",
   "execution_count": 4,
   "id": "eddd6c19-5a9c-4711-b739-6728a53256ff",
   "metadata": {},
   "outputs": [
    {
     "data": {
      "text/html": [
       "<div>\n",
       "<style scoped>\n",
       "    .dataframe tbody tr th:only-of-type {\n",
       "        vertical-align: middle;\n",
       "    }\n",
       "\n",
       "    .dataframe tbody tr th {\n",
       "        vertical-align: top;\n",
       "    }\n",
       "\n",
       "    .dataframe thead th {\n",
       "        text-align: right;\n",
       "    }\n",
       "</style>\n",
       "<table border=\"1\" class=\"dataframe\">\n",
       "  <thead>\n",
       "    <tr style=\"text-align: right;\">\n",
       "      <th></th>\n",
       "      <th>변수</th>\n",
       "      <th>설명</th>\n",
       "    </tr>\n",
       "  </thead>\n",
       "  <tbody>\n",
       "    <tr>\n",
       "      <th>0</th>\n",
       "      <td>ID</td>\n",
       "      <td>고객 ID 번호</td>\n",
       "    </tr>\n",
       "    <tr>\n",
       "      <th>1</th>\n",
       "      <td>Gender</td>\n",
       "      <td>성별</td>\n",
       "    </tr>\n",
       "    <tr>\n",
       "      <th>2</th>\n",
       "      <td>Ever_Married</td>\n",
       "      <td>결혼 여부</td>\n",
       "    </tr>\n",
       "    <tr>\n",
       "      <th>3</th>\n",
       "      <td>Age</td>\n",
       "      <td>나이</td>\n",
       "    </tr>\n",
       "    <tr>\n",
       "      <th>4</th>\n",
       "      <td>Graduated</td>\n",
       "      <td>대학 졸업 여부</td>\n",
       "    </tr>\n",
       "    <tr>\n",
       "      <th>5</th>\n",
       "      <td>Profession</td>\n",
       "      <td>직업</td>\n",
       "    </tr>\n",
       "    <tr>\n",
       "      <th>6</th>\n",
       "      <td>Work_Experience</td>\n",
       "      <td>근무 연수</td>\n",
       "    </tr>\n",
       "    <tr>\n",
       "      <th>7</th>\n",
       "      <td>Spending_Score</td>\n",
       "      <td>지출 수준</td>\n",
       "    </tr>\n",
       "    <tr>\n",
       "      <th>8</th>\n",
       "      <td>Family_Size</td>\n",
       "      <td>가족 수(본인 포함)</td>\n",
       "    </tr>\n",
       "    <tr>\n",
       "      <th>9</th>\n",
       "      <td>Segmentation</td>\n",
       "      <td>고객 세그먼트(A, B, C, D 중 하나)</td>\n",
       "    </tr>\n",
       "  </tbody>\n",
       "</table>\n",
       "</div>"
      ],
      "text/plain": [
       "                변수                        설명\n",
       "0               ID                  고객 ID 번호\n",
       "1           Gender                        성별\n",
       "2     Ever_Married                     결혼 여부\n",
       "3              Age                        나이\n",
       "4        Graduated                  대학 졸업 여부\n",
       "5       Profession                        직업\n",
       "6  Work_Experience                     근무 연수\n",
       "7   Spending_Score                     지출 수준\n",
       "8      Family_Size               가족 수(본인 포함)\n",
       "9     Segmentation  고객 세그먼트(A, B, C, D 중 하나)"
      ]
     },
     "execution_count": 4,
     "metadata": {},
     "output_type": "execute_result"
    }
   ],
   "source": [
    "import pandas as pd \n",
    "pd.DataFrame({\n",
    "    \"변수\" : list(X_train.columns) + [\"Segmentation\"], \n",
    "    \"설명\" : [\n",
    "        \"고객 ID 번호\", \n",
    "        \"성별\", \n",
    "        \"결혼 여부\", \n",
    "        \"나이\", \n",
    "        \"대학 졸업 여부\", \n",
    "        \"직업\",\n",
    "        \"근무 연수\", \n",
    "        \"지출 수준\", \n",
    "        \"가족 수(본인 포함)\",   \n",
    "        \"고객 세그먼트(A, B, C, D 중 하나)\"\n",
    "    ]\n",
    "})"
   ]
  },
  {
   "cell_type": "markdown",
   "id": "5b359041-e25d-4406-85f8-d5702b6c2d89",
   "metadata": {},
   "source": [
    "## 데이터 확인"
   ]
  },
  {
   "cell_type": "code",
   "execution_count": 5,
   "id": "e423313a-db40-4944-a954-666bf03a4f33",
   "metadata": {},
   "outputs": [
    {
     "data": {
      "text/html": [
       "<div>\n",
       "<style scoped>\n",
       "    .dataframe tbody tr th:only-of-type {\n",
       "        vertical-align: middle;\n",
       "    }\n",
       "\n",
       "    .dataframe tbody tr th {\n",
       "        vertical-align: top;\n",
       "    }\n",
       "\n",
       "    .dataframe thead th {\n",
       "        text-align: right;\n",
       "    }\n",
       "</style>\n",
       "<table border=\"1\" class=\"dataframe\">\n",
       "  <thead>\n",
       "    <tr style=\"text-align: right;\">\n",
       "      <th></th>\n",
       "      <th>ID</th>\n",
       "      <th>Gender</th>\n",
       "      <th>Ever_Married</th>\n",
       "      <th>Age</th>\n",
       "      <th>Graduated</th>\n",
       "      <th>Profession</th>\n",
       "      <th>Work_Experience</th>\n",
       "      <th>Spending_Score</th>\n",
       "      <th>Family_Size</th>\n",
       "    </tr>\n",
       "  </thead>\n",
       "  <tbody>\n",
       "    <tr>\n",
       "      <th>0</th>\n",
       "      <td>462809</td>\n",
       "      <td>Male</td>\n",
       "      <td>No</td>\n",
       "      <td>22</td>\n",
       "      <td>No</td>\n",
       "      <td>Healthcare</td>\n",
       "      <td>1.0</td>\n",
       "      <td>Low</td>\n",
       "      <td>4.0</td>\n",
       "    </tr>\n",
       "  </tbody>\n",
       "</table>\n",
       "</div>"
      ],
      "text/plain": [
       "       ID Gender Ever_Married  Age Graduated  Profession  Work_Experience  \\\n",
       "0  462809   Male           No   22        No  Healthcare              1.0   \n",
       "\n",
       "  Spending_Score  Family_Size  \n",
       "0            Low          4.0  "
      ]
     },
     "execution_count": 5,
     "metadata": {},
     "output_type": "execute_result"
    }
   ],
   "source": [
    "X_train.head(1)"
   ]
  },
  {
   "cell_type": "code",
   "execution_count": 6,
   "id": "c442dfd8-8caf-4a68-a0f0-57b9f5ca2a96",
   "metadata": {},
   "outputs": [
    {
     "data": {
      "text/html": [
       "<div>\n",
       "<style scoped>\n",
       "    .dataframe tbody tr th:only-of-type {\n",
       "        vertical-align: middle;\n",
       "    }\n",
       "\n",
       "    .dataframe tbody tr th {\n",
       "        vertical-align: top;\n",
       "    }\n",
       "\n",
       "    .dataframe thead th {\n",
       "        text-align: right;\n",
       "    }\n",
       "</style>\n",
       "<table border=\"1\" class=\"dataframe\">\n",
       "  <thead>\n",
       "    <tr style=\"text-align: right;\">\n",
       "      <th></th>\n",
       "      <th>ID</th>\n",
       "      <th>Gender</th>\n",
       "      <th>Ever_Married</th>\n",
       "      <th>Age</th>\n",
       "      <th>Graduated</th>\n",
       "      <th>Profession</th>\n",
       "      <th>Work_Experience</th>\n",
       "      <th>Spending_Score</th>\n",
       "      <th>Family_Size</th>\n",
       "    </tr>\n",
       "  </thead>\n",
       "  <tbody>\n",
       "    <tr>\n",
       "      <th>0</th>\n",
       "      <td>458989</td>\n",
       "      <td>Female</td>\n",
       "      <td>Yes</td>\n",
       "      <td>36</td>\n",
       "      <td>Yes</td>\n",
       "      <td>Engineer</td>\n",
       "      <td>0.0</td>\n",
       "      <td>Low</td>\n",
       "      <td>1.0</td>\n",
       "    </tr>\n",
       "  </tbody>\n",
       "</table>\n",
       "</div>"
      ],
      "text/plain": [
       "       ID  Gender Ever_Married  Age Graduated Profession  Work_Experience  \\\n",
       "0  458989  Female          Yes   36       Yes   Engineer              0.0   \n",
       "\n",
       "  Spending_Score  Family_Size  \n",
       "0            Low          1.0  "
      ]
     },
     "execution_count": 6,
     "metadata": {},
     "output_type": "execute_result"
    }
   ],
   "source": [
    "X_test.head(1)"
   ]
  },
  {
   "cell_type": "code",
   "execution_count": 7,
   "id": "5cdd63e9-b74b-41cd-adb5-2ea9317ecefa",
   "metadata": {},
   "outputs": [
    {
     "data": {
      "text/html": [
       "<div>\n",
       "<style scoped>\n",
       "    .dataframe tbody tr th:only-of-type {\n",
       "        vertical-align: middle;\n",
       "    }\n",
       "\n",
       "    .dataframe tbody tr th {\n",
       "        vertical-align: top;\n",
       "    }\n",
       "\n",
       "    .dataframe thead th {\n",
       "        text-align: right;\n",
       "    }\n",
       "</style>\n",
       "<table border=\"1\" class=\"dataframe\">\n",
       "  <thead>\n",
       "    <tr style=\"text-align: right;\">\n",
       "      <th></th>\n",
       "      <th>ID</th>\n",
       "      <th>Segmentation</th>\n",
       "    </tr>\n",
       "  </thead>\n",
       "  <tbody>\n",
       "    <tr>\n",
       "      <th>0</th>\n",
       "      <td>462809</td>\n",
       "      <td>D</td>\n",
       "    </tr>\n",
       "  </tbody>\n",
       "</table>\n",
       "</div>"
      ],
      "text/plain": [
       "       ID Segmentation\n",
       "0  462809            D"
      ]
     },
     "execution_count": 7,
     "metadata": {},
     "output_type": "execute_result"
    }
   ],
   "source": [
    "y_train.head(1)"
   ]
  },
  {
   "cell_type": "markdown",
   "id": "8ecb83b1-a16b-4270-bf53-1ee8d448c9ee",
   "metadata": {},
   "source": [
    "## 결측치 확인"
   ]
  },
  {
   "cell_type": "code",
   "execution_count": 8,
   "id": "d61fad74-8f5d-49d4-9020-1524883dc094",
   "metadata": {},
   "outputs": [
    {
     "data": {
      "text/plain": [
       "ID                 0\n",
       "Gender             0\n",
       "Ever_Married       0\n",
       "Age                0\n",
       "Graduated          0\n",
       "Profession         0\n",
       "Work_Experience    0\n",
       "Spending_Score     0\n",
       "Family_Size        0\n",
       "dtype: int64"
      ]
     },
     "execution_count": 8,
     "metadata": {},
     "output_type": "execute_result"
    }
   ],
   "source": [
    "X_train.isnull().sum()"
   ]
  },
  {
   "cell_type": "code",
   "execution_count": 9,
   "id": "ede87299-2940-45da-9ed8-7f12eb06f3a3",
   "metadata": {},
   "outputs": [
    {
     "data": {
      "text/plain": [
       "ID                 0\n",
       "Gender             0\n",
       "Ever_Married       0\n",
       "Age                0\n",
       "Graduated          0\n",
       "Profession         0\n",
       "Work_Experience    0\n",
       "Spending_Score     0\n",
       "Family_Size        0\n",
       "dtype: int64"
      ]
     },
     "execution_count": 9,
     "metadata": {},
     "output_type": "execute_result"
    }
   ],
   "source": [
    "X_test.isnull().sum()"
   ]
  },
  {
   "cell_type": "markdown",
   "id": "5ef7d774-68dd-4930-96de-e8b13473b7c0",
   "metadata": {},
   "source": [
    "## 데이터 확인"
   ]
  },
  {
   "cell_type": "code",
   "execution_count": 10,
   "id": "55b5a19d-8ec2-434a-97e3-460116423726",
   "metadata": {},
   "outputs": [
    {
     "data": {
      "text/plain": [
       "Segmentation\n",
       "D    1772\n",
       "C    1735\n",
       "A    1628\n",
       "B    1583\n",
       "Name: count, dtype: int64"
      ]
     },
     "execution_count": 10,
     "metadata": {},
     "output_type": "execute_result"
    }
   ],
   "source": [
    "y_train['Segmentation'].value_counts()"
   ]
  },
  {
   "cell_type": "code",
   "execution_count": 11,
   "id": "c543b040-07bb-49e4-bb4d-cd3cdc39636b",
   "metadata": {},
   "outputs": [
    {
     "data": {
      "text/html": [
       "<div>\n",
       "<style scoped>\n",
       "    .dataframe tbody tr th:only-of-type {\n",
       "        vertical-align: middle;\n",
       "    }\n",
       "\n",
       "    .dataframe tbody tr th {\n",
       "        vertical-align: top;\n",
       "    }\n",
       "\n",
       "    .dataframe thead th {\n",
       "        text-align: right;\n",
       "    }\n",
       "</style>\n",
       "<table border=\"1\" class=\"dataframe\">\n",
       "  <thead>\n",
       "    <tr style=\"text-align: right;\">\n",
       "      <th></th>\n",
       "      <th>ID</th>\n",
       "      <th>Age</th>\n",
       "      <th>Work_Experience</th>\n",
       "      <th>Family_Size</th>\n",
       "    </tr>\n",
       "  </thead>\n",
       "  <tbody>\n",
       "    <tr>\n",
       "      <th>count</th>\n",
       "      <td>6718.000000</td>\n",
       "      <td>6718.000000</td>\n",
       "      <td>6718.000000</td>\n",
       "      <td>6718.000000</td>\n",
       "    </tr>\n",
       "    <tr>\n",
       "      <th>mean</th>\n",
       "      <td>463516.571152</td>\n",
       "      <td>43.524263</td>\n",
       "      <td>2.629652</td>\n",
       "      <td>2.841768</td>\n",
       "    </tr>\n",
       "    <tr>\n",
       "      <th>std</th>\n",
       "      <td>2566.017254</td>\n",
       "      <td>16.513115</td>\n",
       "      <td>3.404639</td>\n",
       "      <td>1.523319</td>\n",
       "    </tr>\n",
       "    <tr>\n",
       "      <th>min</th>\n",
       "      <td>458982.000000</td>\n",
       "      <td>18.000000</td>\n",
       "      <td>0.000000</td>\n",
       "      <td>1.000000</td>\n",
       "    </tr>\n",
       "    <tr>\n",
       "      <th>25%</th>\n",
       "      <td>461347.250000</td>\n",
       "      <td>31.000000</td>\n",
       "      <td>0.000000</td>\n",
       "      <td>2.000000</td>\n",
       "    </tr>\n",
       "    <tr>\n",
       "      <th>50%</th>\n",
       "      <td>463566.000000</td>\n",
       "      <td>41.000000</td>\n",
       "      <td>1.000000</td>\n",
       "      <td>2.000000</td>\n",
       "    </tr>\n",
       "    <tr>\n",
       "      <th>75%</th>\n",
       "      <td>465739.750000</td>\n",
       "      <td>53.000000</td>\n",
       "      <td>4.000000</td>\n",
       "      <td>4.000000</td>\n",
       "    </tr>\n",
       "    <tr>\n",
       "      <th>max</th>\n",
       "      <td>467974.000000</td>\n",
       "      <td>89.000000</td>\n",
       "      <td>14.000000</td>\n",
       "      <td>9.000000</td>\n",
       "    </tr>\n",
       "  </tbody>\n",
       "</table>\n",
       "</div>"
      ],
      "text/plain": [
       "                  ID          Age  Work_Experience  Family_Size\n",
       "count    6718.000000  6718.000000      6718.000000  6718.000000\n",
       "mean   463516.571152    43.524263         2.629652     2.841768\n",
       "std      2566.017254    16.513115         3.404639     1.523319\n",
       "min    458982.000000    18.000000         0.000000     1.000000\n",
       "25%    461347.250000    31.000000         0.000000     2.000000\n",
       "50%    463566.000000    41.000000         1.000000     2.000000\n",
       "75%    465739.750000    53.000000         4.000000     4.000000\n",
       "max    467974.000000    89.000000        14.000000     9.000000"
      ]
     },
     "execution_count": 11,
     "metadata": {},
     "output_type": "execute_result"
    }
   ],
   "source": [
    "X_train.describe()"
   ]
  },
  {
   "cell_type": "markdown",
   "id": "16b30ce8-ed30-4d5c-bcf1-6f82198f8bb5",
   "metadata": {},
   "source": [
    "- StandardScaler를 사용한다. "
   ]
  },
  {
   "cell_type": "code",
   "execution_count": 12,
   "id": "5337457f-3b12-4112-bb7f-f38ef718918e",
   "metadata": {},
   "outputs": [
    {
     "name": "stdout",
     "output_type": "stream",
     "text": [
      "<class 'pandas.core.frame.DataFrame'>\n",
      "RangeIndex: 6718 entries, 0 to 6717\n",
      "Data columns (total 9 columns):\n",
      " #   Column           Non-Null Count  Dtype  \n",
      "---  ------           --------------  -----  \n",
      " 0   ID               6718 non-null   int64  \n",
      " 1   Gender           6718 non-null   object \n",
      " 2   Ever_Married     6718 non-null   object \n",
      " 3   Age              6718 non-null   int64  \n",
      " 4   Graduated        6718 non-null   object \n",
      " 5   Profession       6718 non-null   object \n",
      " 6   Work_Experience  6718 non-null   float64\n",
      " 7   Spending_Score   6718 non-null   object \n",
      " 8   Family_Size      6718 non-null   float64\n",
      "dtypes: float64(2), int64(2), object(5)\n",
      "memory usage: 472.5+ KB\n"
     ]
    }
   ],
   "source": [
    "X_train.info()"
   ]
  },
  {
   "cell_type": "code",
   "execution_count": 13,
   "id": "84cadaba-0878-4cc9-9317-376b546c9c53",
   "metadata": {},
   "outputs": [
    {
     "data": {
      "text/plain": [
       "Gender\n",
       "Male      3702\n",
       "Female    3016\n",
       "Name: count, dtype: int64"
      ]
     },
     "execution_count": 13,
     "metadata": {},
     "output_type": "execute_result"
    }
   ],
   "source": [
    "X_train['Gender'].value_counts() # OneHot"
   ]
  },
  {
   "cell_type": "code",
   "execution_count": 14,
   "id": "31c4997d-6dac-4491-9ca8-7356817d79a3",
   "metadata": {},
   "outputs": [
    {
     "data": {
      "text/plain": [
       "Ever_Married\n",
       "Yes    3975\n",
       "No     2743\n",
       "Name: count, dtype: int64"
      ]
     },
     "execution_count": 14,
     "metadata": {},
     "output_type": "execute_result"
    }
   ],
   "source": [
    "X_train['Ever_Married'].value_counts() # OneHot"
   ]
  },
  {
   "cell_type": "code",
   "execution_count": 15,
   "id": "1c33c33b-ee5a-47a8-9f6d-27f380111819",
   "metadata": {},
   "outputs": [
    {
     "data": {
      "text/plain": [
       "Graduated\n",
       "Yes    4278\n",
       "No     2440\n",
       "Name: count, dtype: int64"
      ]
     },
     "execution_count": 15,
     "metadata": {},
     "output_type": "execute_result"
    }
   ],
   "source": [
    "X_train['Graduated'].value_counts() # OneHot"
   ]
  },
  {
   "cell_type": "code",
   "execution_count": 16,
   "id": "85ac94df-a096-4109-8da5-671c65c0dc41",
   "metadata": {},
   "outputs": [
    {
     "data": {
      "text/plain": [
       "Profession\n",
       "Artist           2211\n",
       "Healthcare       1089\n",
       "Entertainment     815\n",
       "Doctor            594\n",
       "Engineer          586\n",
       "Executive         509\n",
       "Lawyer            503\n",
       "Marketing         233\n",
       "Homemaker         178\n",
       "Name: count, dtype: int64"
      ]
     },
     "execution_count": 16,
     "metadata": {},
     "output_type": "execute_result"
    }
   ],
   "source": [
    "X_train['Profession'].value_counts() # OneHot"
   ]
  },
  {
   "cell_type": "code",
   "execution_count": 17,
   "id": "fd812fb9-25f6-4220-a8c2-5dae4e78d98a",
   "metadata": {},
   "outputs": [
    {
     "data": {
      "text/plain": [
       "Spending_Score\n",
       "Low        4029\n",
       "Average    1677\n",
       "High       1012\n",
       "Name: count, dtype: int64"
      ]
     },
     "execution_count": 17,
     "metadata": {},
     "output_type": "execute_result"
    }
   ],
   "source": [
    "X_train['Spending_Score'].value_counts() # Ordinal"
   ]
  },
  {
   "cell_type": "markdown",
   "id": "bbae056a-13be-4ae7-9ed9-99a225ca982c",
   "metadata": {},
   "source": [
    "## ID 제거 "
   ]
  },
  {
   "cell_type": "code",
   "execution_count": 18,
   "id": "123142c1-9424-44d0-925d-d22f70e706e5",
   "metadata": {},
   "outputs": [
    {
     "data": {
      "text/plain": [
       "((6718,), (2178, 8))"
      ]
     },
     "execution_count": 18,
     "metadata": {},
     "output_type": "execute_result"
    }
   ],
   "source": [
    "X_train_id = X_train.pop(\"ID\")\n",
    "X_test_id = X_test.pop(\"ID\")\n",
    "\n",
    "X_train_id.shape, X_test.shape"
   ]
  },
  {
   "cell_type": "markdown",
   "id": "f7c57b9c-9012-481d-bc4d-ef5eb0900f38",
   "metadata": {},
   "source": [
    "## 컬럼 추출하기"
   ]
  },
  {
   "cell_type": "code",
   "execution_count": 19,
   "id": "fddf34a2-1342-4e63-8b7e-4e65c2ff0000",
   "metadata": {},
   "outputs": [
    {
     "data": {
      "text/plain": [
       "['Gender', 'Ever_Married', 'Graduated', 'Profession']"
      ]
     },
     "execution_count": 19,
     "metadata": {},
     "output_type": "execute_result"
    }
   ],
   "source": [
    "import numpy as np\n",
    "cat_cols = list(X_train.select_dtypes(exclude=np.number).columns)\n",
    "cat_cols.remove(\"Spending_Score\")\n",
    "cat_cols"
   ]
  },
  {
   "cell_type": "code",
   "execution_count": 20,
   "id": "62ccfc62-5fbc-4726-9ab7-c025e4b4ddbc",
   "metadata": {},
   "outputs": [
    {
     "data": {
      "text/plain": [
       "['Age', 'Work_Experience', 'Family_Size']"
      ]
     },
     "execution_count": 20,
     "metadata": {},
     "output_type": "execute_result"
    }
   ],
   "source": [
    "int_cols = list(X_train.select_dtypes(include=np.number).columns)\n",
    "int_cols"
   ]
  },
  {
   "cell_type": "markdown",
   "id": "a6513aca-7c6a-469e-aeed-2f2785ec4593",
   "metadata": {},
   "source": [
    "## 데이터셋 분리"
   ]
  },
  {
   "cell_type": "code",
   "execution_count": 21,
   "id": "0af53478-ac48-4f20-9155-c576159c0564",
   "metadata": {},
   "outputs": [
    {
     "data": {
      "text/plain": [
       "((4702, 8), (2016, 8), (4702,), (2016,))"
      ]
     },
     "execution_count": 21,
     "metadata": {},
     "output_type": "execute_result"
    }
   ],
   "source": [
    "from sklearn.model_selection import train_test_split\n",
    "X_tr, X_val, y_tr, y_val = train_test_split(\n",
    "    X_train, y_train['Segmentation'], \n",
    "    stratify = y_train['Segmentation'], \n",
    "    test_size = 0.3, \n",
    "    random_state=42\n",
    ")\n",
    "\n",
    "X_tr.shape, X_val.shape, y_tr.shape, y_val.shape"
   ]
  },
  {
   "cell_type": "markdown",
   "id": "3b24e6c5-edb5-4180-b176-549498653506",
   "metadata": {},
   "source": [
    "## 모델 학습"
   ]
  },
  {
   "cell_type": "code",
   "execution_count": 23,
   "id": "aabe4752-8c88-4989-b4ff-685772c9b0d4",
   "metadata": {},
   "outputs": [
    {
     "name": "stdout",
     "output_type": "stream",
     "text": [
      "Fitting 5 folds for each of 10 candidates, totalling 50 fits\n",
      "[LightGBM] [Info] Auto-choosing row-wise multi-threading, the overhead of testing was 0.000095 seconds.\n",
      "You can set `force_row_wise=true` to remove the overhead.\n",
      "And if memory is not enough, you can set `force_col_wise=true`.\n",
      "[LightGBM] [Info] Total Bins 127\n",
      "[LightGBM] [Info] Number of data points in the train set: 4702, number of used features: 19\n",
      "[LightGBM] [Info] Start training from score -1.416960\n",
      "[LightGBM] [Info] Start training from score -1.445431\n",
      "[LightGBM] [Info] Start training from score -1.354067\n",
      "[LightGBM] [Info] Start training from score -1.332877\n",
      "[LightGBM] [Warning] No further splits with positive gain, best gain: -inf\n",
      "[LightGBM] [Warning] No further splits with positive gain, best gain: -inf\n",
      "[LightGBM] [Warning] No further splits with positive gain, best gain: -inf\n",
      "[LightGBM] [Warning] No further splits with positive gain, best gain: -inf\n",
      "[LightGBM] [Warning] No further splits with positive gain, best gain: -inf\n",
      "[LightGBM] [Warning] No further splits with positive gain, best gain: -inf\n",
      "[LightGBM] [Warning] No further splits with positive gain, best gain: -inf\n",
      "[LightGBM] [Warning] No further splits with positive gain, best gain: -inf\n",
      "[LightGBM] [Warning] No further splits with positive gain, best gain: -inf\n",
      "[LightGBM] [Warning] No further splits with positive gain, best gain: -inf\n",
      "[LightGBM] [Warning] No further splits with positive gain, best gain: -inf\n",
      "[LightGBM] [Warning] No further splits with positive gain, best gain: -inf\n",
      "[LightGBM] [Warning] No further splits with positive gain, best gain: -inf\n",
      "[LightGBM] [Warning] No further splits with positive gain, best gain: -inf\n",
      "[LightGBM] [Warning] No further splits with positive gain, best gain: -inf\n",
      "[LightGBM] [Warning] No further splits with positive gain, best gain: -inf\n",
      "[LightGBM] [Warning] No further splits with positive gain, best gain: -inf\n",
      "[LightGBM] [Warning] No further splits with positive gain, best gain: -inf\n",
      "[LightGBM] [Warning] No further splits with positive gain, best gain: -inf\n",
      "[LightGBM] [Warning] No further splits with positive gain, best gain: -inf\n",
      "[LightGBM] [Warning] No further splits with positive gain, best gain: -inf\n",
      "[LightGBM] [Warning] No further splits with positive gain, best gain: -inf\n",
      "[LightGBM] [Warning] No further splits with positive gain, best gain: -inf\n",
      "[LightGBM] [Warning] No further splits with positive gain, best gain: -inf\n",
      "[LightGBM] [Warning] No further splits with positive gain, best gain: -inf\n",
      "[LightGBM] [Warning] No further splits with positive gain, best gain: -inf\n",
      "[LightGBM] [Warning] No further splits with positive gain, best gain: -inf\n",
      "[LightGBM] [Warning] No further splits with positive gain, best gain: -inf\n",
      "[LightGBM] [Warning] No further splits with positive gain, best gain: -inf\n",
      "[LightGBM] [Warning] No further splits with positive gain, best gain: -inf\n",
      "[LightGBM] [Warning] No further splits with positive gain, best gain: -inf\n",
      "[LightGBM] [Warning] No further splits with positive gain, best gain: -inf\n",
      "[LightGBM] [Warning] No further splits with positive gain, best gain: -inf\n",
      "[LightGBM] [Warning] No further splits with positive gain, best gain: -inf\n",
      "[LightGBM] [Warning] No further splits with positive gain, best gain: -inf\n",
      "[LightGBM] [Warning] No further splits with positive gain, best gain: -inf\n",
      "[LightGBM] [Warning] No further splits with positive gain, best gain: -inf\n",
      "[LightGBM] [Warning] No further splits with positive gain, best gain: -inf\n",
      "[LightGBM] [Warning] No further splits with positive gain, best gain: -inf\n",
      "[LightGBM] [Warning] No further splits with positive gain, best gain: -inf\n",
      "[LightGBM] [Warning] No further splits with positive gain, best gain: -inf\n",
      "[LightGBM] [Warning] No further splits with positive gain, best gain: -inf\n",
      "[LightGBM] [Warning] No further splits with positive gain, best gain: -inf\n",
      "[LightGBM] [Warning] No further splits with positive gain, best gain: -inf\n",
      "[LightGBM] [Warning] No further splits with positive gain, best gain: -inf\n",
      "[LightGBM] [Warning] No further splits with positive gain, best gain: -inf\n",
      "[LightGBM] [Warning] No further splits with positive gain, best gain: -inf\n",
      "[LightGBM] [Warning] No further splits with positive gain, best gain: -inf\n"
     ]
    },
    {
     "data": {
      "text/html": [
       "<style>#sk-container-id-1 {color: black;}#sk-container-id-1 pre{padding: 0;}#sk-container-id-1 div.sk-toggleable {background-color: white;}#sk-container-id-1 label.sk-toggleable__label {cursor: pointer;display: block;width: 100%;margin-bottom: 0;padding: 0.3em;box-sizing: border-box;text-align: center;}#sk-container-id-1 label.sk-toggleable__label-arrow:before {content: \"▸\";float: left;margin-right: 0.25em;color: #696969;}#sk-container-id-1 label.sk-toggleable__label-arrow:hover:before {color: black;}#sk-container-id-1 div.sk-estimator:hover label.sk-toggleable__label-arrow:before {color: black;}#sk-container-id-1 div.sk-toggleable__content {max-height: 0;max-width: 0;overflow: hidden;text-align: left;background-color: #f0f8ff;}#sk-container-id-1 div.sk-toggleable__content pre {margin: 0.2em;color: black;border-radius: 0.25em;background-color: #f0f8ff;}#sk-container-id-1 input.sk-toggleable__control:checked~div.sk-toggleable__content {max-height: 200px;max-width: 100%;overflow: auto;}#sk-container-id-1 input.sk-toggleable__control:checked~label.sk-toggleable__label-arrow:before {content: \"▾\";}#sk-container-id-1 div.sk-estimator input.sk-toggleable__control:checked~label.sk-toggleable__label {background-color: #d4ebff;}#sk-container-id-1 div.sk-label input.sk-toggleable__control:checked~label.sk-toggleable__label {background-color: #d4ebff;}#sk-container-id-1 input.sk-hidden--visually {border: 0;clip: rect(1px 1px 1px 1px);clip: rect(1px, 1px, 1px, 1px);height: 1px;margin: -1px;overflow: hidden;padding: 0;position: absolute;width: 1px;}#sk-container-id-1 div.sk-estimator {font-family: monospace;background-color: #f0f8ff;border: 1px dotted black;border-radius: 0.25em;box-sizing: border-box;margin-bottom: 0.5em;}#sk-container-id-1 div.sk-estimator:hover {background-color: #d4ebff;}#sk-container-id-1 div.sk-parallel-item::after {content: \"\";width: 100%;border-bottom: 1px solid gray;flex-grow: 1;}#sk-container-id-1 div.sk-label:hover label.sk-toggleable__label {background-color: #d4ebff;}#sk-container-id-1 div.sk-serial::before {content: \"\";position: absolute;border-left: 1px solid gray;box-sizing: border-box;top: 0;bottom: 0;left: 50%;z-index: 0;}#sk-container-id-1 div.sk-serial {display: flex;flex-direction: column;align-items: center;background-color: white;padding-right: 0.2em;padding-left: 0.2em;position: relative;}#sk-container-id-1 div.sk-item {position: relative;z-index: 1;}#sk-container-id-1 div.sk-parallel {display: flex;align-items: stretch;justify-content: center;background-color: white;position: relative;}#sk-container-id-1 div.sk-item::before, #sk-container-id-1 div.sk-parallel-item::before {content: \"\";position: absolute;border-left: 1px solid gray;box-sizing: border-box;top: 0;bottom: 0;left: 50%;z-index: -1;}#sk-container-id-1 div.sk-parallel-item {display: flex;flex-direction: column;z-index: 1;position: relative;background-color: white;}#sk-container-id-1 div.sk-parallel-item:first-child::after {align-self: flex-end;width: 50%;}#sk-container-id-1 div.sk-parallel-item:last-child::after {align-self: flex-start;width: 50%;}#sk-container-id-1 div.sk-parallel-item:only-child::after {width: 0;}#sk-container-id-1 div.sk-dashed-wrapped {border: 1px dashed gray;margin: 0 0.4em 0.5em 0.4em;box-sizing: border-box;padding-bottom: 0.4em;background-color: white;}#sk-container-id-1 div.sk-label label {font-family: monospace;font-weight: bold;display: inline-block;line-height: 1.2em;}#sk-container-id-1 div.sk-label-container {text-align: center;}#sk-container-id-1 div.sk-container {/* jupyter's `normalize.less` sets `[hidden] { display: none; }` but bootstrap.min.css set `[hidden] { display: none !important; }` so we also need the `!important` here to be able to override the default hidden behavior on the sphinx rendered scikit-learn.org. See: https://github.com/scikit-learn/scikit-learn/issues/21755 */display: inline-block !important;position: relative;}#sk-container-id-1 div.sk-text-repr-fallback {display: none;}</style><div id=\"sk-container-id-1\" class=\"sk-top-container\"><div class=\"sk-text-repr-fallback\"><pre>RandomizedSearchCV(cv=5,\n",
       "                   estimator=Pipeline(steps=[(&#x27;preprocessor&#x27;,\n",
       "                                              ColumnTransformer(remainder=&#x27;passthrough&#x27;,\n",
       "                                                                transformers=[(&#x27;scaler&#x27;,\n",
       "                                                                               StandardScaler(),\n",
       "                                                                               [&#x27;Age&#x27;,\n",
       "                                                                                &#x27;Work_Experience&#x27;,\n",
       "                                                                                &#x27;Family_Size&#x27;]),\n",
       "                                                                              (&#x27;ohc_encoder&#x27;,\n",
       "                                                                               OneHotEncoder(),\n",
       "                                                                               [&#x27;Gender&#x27;,\n",
       "                                                                                &#x27;Ever_Married&#x27;,\n",
       "                                                                                &#x27;Graduated&#x27;,\n",
       "                                                                                &#x27;Profession&#x27;]),\n",
       "                                                                              (&#x27;ord_encoder&#x27;,\n",
       "                                                                               OrdinalEncoder(categories=[[&#x27;Low&#x27;,\n",
       "                                                                                                           &#x27;Average&#x27;,\n",
       "                                                                                                           &#x27;High&#x27;]]),\n",
       "                                                                               [&#x27;Spendi...\n",
       "       154, 155, 156, 157, 158, 159, 160, 161, 162, 163, 164, 165, 166,\n",
       "       167, 168, 169, 170, 171, 172, 173, 174, 175, 176, 177, 178, 179,\n",
       "       180, 181, 182, 183, 184, 185, 186, 187, 188, 189, 190, 191, 192,\n",
       "       193, 194, 195, 196, 197, 198, 199]),\n",
       "                                        &#x27;clf__num_leaves&#x27;: array([20, 21, 22, 23, 24, 25, 26, 27, 28, 29, 30, 31, 32, 33, 34, 35, 36,\n",
       "       37, 38, 39, 40, 41, 42, 43, 44, 45, 46, 47, 48, 49]),\n",
       "                                        &#x27;clf__subsample&#x27;: array([0.6, 0.7, 0.8, 0.9])},\n",
       "                   scoring=&#x27;f1_macro&#x27;, verbose=3)</pre><b>In a Jupyter environment, please rerun this cell to show the HTML representation or trust the notebook. <br />On GitHub, the HTML representation is unable to render, please try loading this page with nbviewer.org.</b></div><div class=\"sk-container\" hidden><div class=\"sk-item sk-dashed-wrapped\"><div class=\"sk-label-container\"><div class=\"sk-label sk-toggleable\"><input class=\"sk-toggleable__control sk-hidden--visually\" id=\"sk-estimator-id-1\" type=\"checkbox\" ><label for=\"sk-estimator-id-1\" class=\"sk-toggleable__label sk-toggleable__label-arrow\">RandomizedSearchCV</label><div class=\"sk-toggleable__content\"><pre>RandomizedSearchCV(cv=5,\n",
       "                   estimator=Pipeline(steps=[(&#x27;preprocessor&#x27;,\n",
       "                                              ColumnTransformer(remainder=&#x27;passthrough&#x27;,\n",
       "                                                                transformers=[(&#x27;scaler&#x27;,\n",
       "                                                                               StandardScaler(),\n",
       "                                                                               [&#x27;Age&#x27;,\n",
       "                                                                                &#x27;Work_Experience&#x27;,\n",
       "                                                                                &#x27;Family_Size&#x27;]),\n",
       "                                                                              (&#x27;ohc_encoder&#x27;,\n",
       "                                                                               OneHotEncoder(),\n",
       "                                                                               [&#x27;Gender&#x27;,\n",
       "                                                                                &#x27;Ever_Married&#x27;,\n",
       "                                                                                &#x27;Graduated&#x27;,\n",
       "                                                                                &#x27;Profession&#x27;]),\n",
       "                                                                              (&#x27;ord_encoder&#x27;,\n",
       "                                                                               OrdinalEncoder(categories=[[&#x27;Low&#x27;,\n",
       "                                                                                                           &#x27;Average&#x27;,\n",
       "                                                                                                           &#x27;High&#x27;]]),\n",
       "                                                                               [&#x27;Spendi...\n",
       "       154, 155, 156, 157, 158, 159, 160, 161, 162, 163, 164, 165, 166,\n",
       "       167, 168, 169, 170, 171, 172, 173, 174, 175, 176, 177, 178, 179,\n",
       "       180, 181, 182, 183, 184, 185, 186, 187, 188, 189, 190, 191, 192,\n",
       "       193, 194, 195, 196, 197, 198, 199]),\n",
       "                                        &#x27;clf__num_leaves&#x27;: array([20, 21, 22, 23, 24, 25, 26, 27, 28, 29, 30, 31, 32, 33, 34, 35, 36,\n",
       "       37, 38, 39, 40, 41, 42, 43, 44, 45, 46, 47, 48, 49]),\n",
       "                                        &#x27;clf__subsample&#x27;: array([0.6, 0.7, 0.8, 0.9])},\n",
       "                   scoring=&#x27;f1_macro&#x27;, verbose=3)</pre></div></div></div><div class=\"sk-parallel\"><div class=\"sk-parallel-item\"><div class=\"sk-item\"><div class=\"sk-label-container\"><div class=\"sk-label sk-toggleable\"><input class=\"sk-toggleable__control sk-hidden--visually\" id=\"sk-estimator-id-2\" type=\"checkbox\" ><label for=\"sk-estimator-id-2\" class=\"sk-toggleable__label sk-toggleable__label-arrow\">estimator: Pipeline</label><div class=\"sk-toggleable__content\"><pre>Pipeline(steps=[(&#x27;preprocessor&#x27;,\n",
       "                 ColumnTransformer(remainder=&#x27;passthrough&#x27;,\n",
       "                                   transformers=[(&#x27;scaler&#x27;, StandardScaler(),\n",
       "                                                  [&#x27;Age&#x27;, &#x27;Work_Experience&#x27;,\n",
       "                                                   &#x27;Family_Size&#x27;]),\n",
       "                                                 (&#x27;ohc_encoder&#x27;,\n",
       "                                                  OneHotEncoder(),\n",
       "                                                  [&#x27;Gender&#x27;, &#x27;Ever_Married&#x27;,\n",
       "                                                   &#x27;Graduated&#x27;, &#x27;Profession&#x27;]),\n",
       "                                                 (&#x27;ord_encoder&#x27;,\n",
       "                                                  OrdinalEncoder(categories=[[&#x27;Low&#x27;,\n",
       "                                                                              &#x27;Average&#x27;,\n",
       "                                                                              &#x27;High&#x27;]]),\n",
       "                                                  [&#x27;Spending_Score&#x27;])])),\n",
       "                (&#x27;clf&#x27;,\n",
       "                 LGBMClassifier(num_class=4, objective=&#x27;multiclass&#x27;,\n",
       "                                random_state=42))])</pre></div></div></div><div class=\"sk-serial\"><div class=\"sk-item\"><div class=\"sk-serial\"><div class=\"sk-item sk-dashed-wrapped\"><div class=\"sk-label-container\"><div class=\"sk-label sk-toggleable\"><input class=\"sk-toggleable__control sk-hidden--visually\" id=\"sk-estimator-id-3\" type=\"checkbox\" ><label for=\"sk-estimator-id-3\" class=\"sk-toggleable__label sk-toggleable__label-arrow\">preprocessor: ColumnTransformer</label><div class=\"sk-toggleable__content\"><pre>ColumnTransformer(remainder=&#x27;passthrough&#x27;,\n",
       "                  transformers=[(&#x27;scaler&#x27;, StandardScaler(),\n",
       "                                 [&#x27;Age&#x27;, &#x27;Work_Experience&#x27;, &#x27;Family_Size&#x27;]),\n",
       "                                (&#x27;ohc_encoder&#x27;, OneHotEncoder(),\n",
       "                                 [&#x27;Gender&#x27;, &#x27;Ever_Married&#x27;, &#x27;Graduated&#x27;,\n",
       "                                  &#x27;Profession&#x27;]),\n",
       "                                (&#x27;ord_encoder&#x27;,\n",
       "                                 OrdinalEncoder(categories=[[&#x27;Low&#x27;, &#x27;Average&#x27;,\n",
       "                                                             &#x27;High&#x27;]]),\n",
       "                                 [&#x27;Spending_Score&#x27;])])</pre></div></div></div><div class=\"sk-parallel\"><div class=\"sk-parallel-item\"><div class=\"sk-item\"><div class=\"sk-label-container\"><div class=\"sk-label sk-toggleable\"><input class=\"sk-toggleable__control sk-hidden--visually\" id=\"sk-estimator-id-4\" type=\"checkbox\" ><label for=\"sk-estimator-id-4\" class=\"sk-toggleable__label sk-toggleable__label-arrow\">scaler</label><div class=\"sk-toggleable__content\"><pre>[&#x27;Age&#x27;, &#x27;Work_Experience&#x27;, &#x27;Family_Size&#x27;]</pre></div></div></div><div class=\"sk-serial\"><div class=\"sk-item\"><div class=\"sk-estimator sk-toggleable\"><input class=\"sk-toggleable__control sk-hidden--visually\" id=\"sk-estimator-id-5\" type=\"checkbox\" ><label for=\"sk-estimator-id-5\" class=\"sk-toggleable__label sk-toggleable__label-arrow\">StandardScaler</label><div class=\"sk-toggleable__content\"><pre>StandardScaler()</pre></div></div></div></div></div></div><div class=\"sk-parallel-item\"><div class=\"sk-item\"><div class=\"sk-label-container\"><div class=\"sk-label sk-toggleable\"><input class=\"sk-toggleable__control sk-hidden--visually\" id=\"sk-estimator-id-6\" type=\"checkbox\" ><label for=\"sk-estimator-id-6\" class=\"sk-toggleable__label sk-toggleable__label-arrow\">ohc_encoder</label><div class=\"sk-toggleable__content\"><pre>[&#x27;Gender&#x27;, &#x27;Ever_Married&#x27;, &#x27;Graduated&#x27;, &#x27;Profession&#x27;]</pre></div></div></div><div class=\"sk-serial\"><div class=\"sk-item\"><div class=\"sk-estimator sk-toggleable\"><input class=\"sk-toggleable__control sk-hidden--visually\" id=\"sk-estimator-id-7\" type=\"checkbox\" ><label for=\"sk-estimator-id-7\" class=\"sk-toggleable__label sk-toggleable__label-arrow\">OneHotEncoder</label><div class=\"sk-toggleable__content\"><pre>OneHotEncoder()</pre></div></div></div></div></div></div><div class=\"sk-parallel-item\"><div class=\"sk-item\"><div class=\"sk-label-container\"><div class=\"sk-label sk-toggleable\"><input class=\"sk-toggleable__control sk-hidden--visually\" id=\"sk-estimator-id-8\" type=\"checkbox\" ><label for=\"sk-estimator-id-8\" class=\"sk-toggleable__label sk-toggleable__label-arrow\">ord_encoder</label><div class=\"sk-toggleable__content\"><pre>[&#x27;Spending_Score&#x27;]</pre></div></div></div><div class=\"sk-serial\"><div class=\"sk-item\"><div class=\"sk-estimator sk-toggleable\"><input class=\"sk-toggleable__control sk-hidden--visually\" id=\"sk-estimator-id-9\" type=\"checkbox\" ><label for=\"sk-estimator-id-9\" class=\"sk-toggleable__label sk-toggleable__label-arrow\">OrdinalEncoder</label><div class=\"sk-toggleable__content\"><pre>OrdinalEncoder(categories=[[&#x27;Low&#x27;, &#x27;Average&#x27;, &#x27;High&#x27;]])</pre></div></div></div></div></div></div><div class=\"sk-parallel-item\"><div class=\"sk-item\"><div class=\"sk-label-container\"><div class=\"sk-label sk-toggleable\"><input class=\"sk-toggleable__control sk-hidden--visually\" id=\"sk-estimator-id-10\" type=\"checkbox\" ><label for=\"sk-estimator-id-10\" class=\"sk-toggleable__label sk-toggleable__label-arrow\">remainder</label><div class=\"sk-toggleable__content\"><pre></pre></div></div></div><div class=\"sk-serial\"><div class=\"sk-item\"><div class=\"sk-estimator sk-toggleable\"><input class=\"sk-toggleable__control sk-hidden--visually\" id=\"sk-estimator-id-11\" type=\"checkbox\" ><label for=\"sk-estimator-id-11\" class=\"sk-toggleable__label sk-toggleable__label-arrow\">passthrough</label><div class=\"sk-toggleable__content\"><pre>passthrough</pre></div></div></div></div></div></div></div></div><div class=\"sk-item\"><div class=\"sk-estimator sk-toggleable\"><input class=\"sk-toggleable__control sk-hidden--visually\" id=\"sk-estimator-id-12\" type=\"checkbox\" ><label for=\"sk-estimator-id-12\" class=\"sk-toggleable__label sk-toggleable__label-arrow\">LGBMClassifier</label><div class=\"sk-toggleable__content\"><pre>LGBMClassifier(num_class=4, objective=&#x27;multiclass&#x27;, random_state=42)</pre></div></div></div></div></div></div></div></div></div></div></div></div>"
      ],
      "text/plain": [
       "RandomizedSearchCV(cv=5,\n",
       "                   estimator=Pipeline(steps=[('preprocessor',\n",
       "                                              ColumnTransformer(remainder='passthrough',\n",
       "                                                                transformers=[('scaler',\n",
       "                                                                               StandardScaler(),\n",
       "                                                                               ['Age',\n",
       "                                                                                'Work_Experience',\n",
       "                                                                                'Family_Size']),\n",
       "                                                                              ('ohc_encoder',\n",
       "                                                                               OneHotEncoder(),\n",
       "                                                                               ['Gender',\n",
       "                                                                                'Ever_Married',\n",
       "                                                                                'Graduated',\n",
       "                                                                                'Profession']),\n",
       "                                                                              ('ord_encoder',\n",
       "                                                                               OrdinalEncoder(categories=[['Low',\n",
       "                                                                                                           'Average',\n",
       "                                                                                                           'High']]),\n",
       "                                                                               ['Spendi...\n",
       "       154, 155, 156, 157, 158, 159, 160, 161, 162, 163, 164, 165, 166,\n",
       "       167, 168, 169, 170, 171, 172, 173, 174, 175, 176, 177, 178, 179,\n",
       "       180, 181, 182, 183, 184, 185, 186, 187, 188, 189, 190, 191, 192,\n",
       "       193, 194, 195, 196, 197, 198, 199]),\n",
       "                                        'clf__num_leaves': array([20, 21, 22, 23, 24, 25, 26, 27, 28, 29, 30, 31, 32, 33, 34, 35, 36,\n",
       "       37, 38, 39, 40, 41, 42, 43, 44, 45, 46, 47, 48, 49]),\n",
       "                                        'clf__subsample': array([0.6, 0.7, 0.8, 0.9])},\n",
       "                   scoring='f1_macro', verbose=3)"
      ]
     },
     "execution_count": 23,
     "metadata": {},
     "output_type": "execute_result"
    }
   ],
   "source": [
    "# preprocessing\n",
    "from sklearn.preprocessing import StandardScaler \n",
    "from sklearn.preprocessing import OrdinalEncoder, OneHotEncoder\n",
    "\n",
    "# modeling\n",
    "from sklearn.pipeline import Pipeline \n",
    "from sklearn.compose import ColumnTransformer\n",
    "from lightgbm import LGBMClassifier \n",
    "from sklearn.model_selection import RandomizedSearchCV\n",
    "\n",
    "# metrics\n",
    "from sklearn.metrics import f1_score\n",
    "\n",
    "# utils\n",
    "from scipy.stats import loguniform\n",
    "\n",
    "\n",
    "param_grid = {\n",
    "    \"clf__learning_rate\": loguniform(0.001, 0.1), \n",
    "    \"clf__n_estimators\": np.arange(50, 200),\n",
    "    \"clf__max_depth\": np.arange(3, 30, 3), \n",
    "    \"clf__num_leaves\" : np.arange(20, 50), \n",
    "    \"clf__min_split_gain\" : np.arange(0, 1.1, 0.1), ## called gamma\n",
    "    \"clf__subsample\" : np.arange(0.6, 1.0, 0.1)\n",
    "}\n",
    "\n",
    "column_transformer = ColumnTransformer([\n",
    "    (\"scaler\", StandardScaler(), int_cols), \n",
    "    (\"ohc_encoder\", OneHotEncoder(), cat_cols), \n",
    "    (\"ord_encoder\", OrdinalEncoder(categories=[[\"Low\", \"Average\", \"High\"]]), ['Spending_Score'])\n",
    "], remainder = \"passthrough\")\n",
    "\n",
    "pipeline = Pipeline([\n",
    "    (\"preprocessor\", column_transformer), \n",
    "    (\"clf\", LGBMClassifier(random_state=42, objective='multiclass', num_class=4))\n",
    "])\n",
    "\n",
    "\n",
    "random_search = RandomizedSearchCV(\n",
    "    estimator = pipeline, \n",
    "    param_distributions = param_grid, \n",
    "    n_iter = 10, \n",
    "    scoring=\"f1_macro\", \n",
    "    cv=5, \n",
    "    verbose=3, \n",
    "    n_jobs=-1\n",
    ")\n",
    "\n",
    "random_search.fit(X_tr, y_tr)"
   ]
  },
  {
   "cell_type": "code",
   "execution_count": 27,
   "id": "75f40928-d500-4d45-8985-07ac5900ec70",
   "metadata": {},
   "outputs": [],
   "source": [
    "import sklearn\n",
    "from sklearn.metrics._scorer import _SCORERS"
   ]
  },
  {
   "cell_type": "code",
   "execution_count": 32,
   "id": "ae0ddca6-db17-461e-a441-415b7c40263a",
   "metadata": {},
   "outputs": [
    {
     "data": {
      "text/plain": [
       "'train : 0.537, valid : 0.5165'"
      ]
     },
     "execution_count": 32,
     "metadata": {},
     "output_type": "execute_result"
    }
   ],
   "source": [
    "def get_scores(model, X_tr, X_val, y_tr, y_val):\n",
    "    y_tr_pred = model.predict(X_tr)\n",
    "    y_val_pred = model.predict(X_val)\n",
    "    tr_score = f1_score(y_tr, y_tr_pred, average='macro')\n",
    "    val_score = f1_score(y_val, y_val_pred, average='macro')\n",
    "    return f'train : {round(tr_score, 3)}, valid : {round(val_score, 4)}'\n",
    "get_scores(random_search, X_tr, X_val, y_tr, y_val)"
   ]
  },
  {
   "cell_type": "code",
   "execution_count": 33,
   "id": "fa6d6645-1642-4a76-9f86-bdb5e2a0e629",
   "metadata": {},
   "outputs": [
    {
     "name": "stdout",
     "output_type": "stream",
     "text": [
      "Best Parameters: {'clf__learning_rate': 0.048862108743072154, 'clf__max_depth': 3, 'clf__min_split_gain': 0.30000000000000004, 'clf__n_estimators': 69, 'clf__num_leaves': 25, 'clf__subsample': 0.7}\n",
      "Best Score: 0.5113882923017302\n"
     ]
    }
   ],
   "source": [
    "best_params = random_search.best_params_\n",
    "best_score = random_search.best_score_\n",
    "print('Best Parameters:', best_params)\n",
    "print('Best Score:', best_score)"
   ]
  },
  {
   "cell_type": "markdown",
   "id": "25bf9783-c9c3-4148-a0f9-febc7fee1a9d",
   "metadata": {},
   "source": [
    "## 결과 제출"
   ]
  },
  {
   "cell_type": "code",
   "execution_count": 34,
   "id": "d421c54f-d427-493a-86b7-4cbd05d81fb5",
   "metadata": {},
   "outputs": [
    {
     "data": {
      "text/html": [
       "<div>\n",
       "<style scoped>\n",
       "    .dataframe tbody tr th:only-of-type {\n",
       "        vertical-align: middle;\n",
       "    }\n",
       "\n",
       "    .dataframe tbody tr th {\n",
       "        vertical-align: top;\n",
       "    }\n",
       "\n",
       "    .dataframe thead th {\n",
       "        text-align: right;\n",
       "    }\n",
       "</style>\n",
       "<table border=\"1\" class=\"dataframe\">\n",
       "  <thead>\n",
       "    <tr style=\"text-align: right;\">\n",
       "      <th></th>\n",
       "      <th>ID</th>\n",
       "      <th>pred</th>\n",
       "    </tr>\n",
       "  </thead>\n",
       "  <tbody>\n",
       "    <tr>\n",
       "      <th>0</th>\n",
       "      <td>458989</td>\n",
       "      <td>A</td>\n",
       "    </tr>\n",
       "    <tr>\n",
       "      <th>1</th>\n",
       "      <td>458994</td>\n",
       "      <td>C</td>\n",
       "    </tr>\n",
       "    <tr>\n",
       "      <th>2</th>\n",
       "      <td>459000</td>\n",
       "      <td>B</td>\n",
       "    </tr>\n",
       "    <tr>\n",
       "      <th>3</th>\n",
       "      <td>459003</td>\n",
       "      <td>C</td>\n",
       "    </tr>\n",
       "    <tr>\n",
       "      <th>4</th>\n",
       "      <td>459005</td>\n",
       "      <td>B</td>\n",
       "    </tr>\n",
       "  </tbody>\n",
       "</table>\n",
       "</div>"
      ],
      "text/plain": [
       "       ID pred\n",
       "0  458989    A\n",
       "1  458994    C\n",
       "2  459000    B\n",
       "3  459003    C\n",
       "4  459005    B"
      ]
     },
     "execution_count": 34,
     "metadata": {},
     "output_type": "execute_result"
    }
   ],
   "source": [
    "final_preds = random_search.predict(X_test)\n",
    "result = pd.DataFrame({\"ID\" : X_test_id, \"pred\": final_preds})\n",
    "result.head()"
   ]
  },
  {
   "cell_type": "code",
   "execution_count": null,
   "id": "5ca6c8e1-bf21-44d6-a6f5-caec868bf452",
   "metadata": {},
   "outputs": [],
   "source": []
  },
  {
   "cell_type": "code",
   "execution_count": null,
   "id": "01551c62-4de4-4979-85ba-71983160bce5",
   "metadata": {},
   "outputs": [],
   "source": []
  }
 ],
 "metadata": {
  "kernelspec": {
   "display_name": "Python 3 (ipykernel)",
   "language": "python",
   "name": "python3"
  },
  "language_info": {
   "codemirror_mode": {
    "name": "ipython",
    "version": 3
   },
   "file_extension": ".py",
   "mimetype": "text/x-python",
   "name": "python",
   "nbconvert_exporter": "python",
   "pygments_lexer": "ipython3",
   "version": "3.10.13"
  }
 },
 "nbformat": 4,
 "nbformat_minor": 5
}
