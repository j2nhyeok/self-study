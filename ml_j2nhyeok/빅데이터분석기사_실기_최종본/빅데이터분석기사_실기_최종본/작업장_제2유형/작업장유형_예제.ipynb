{
 "cells": [
  {
   "cell_type": "markdown",
   "id": "c85739cc-d2e7-4b83-9bf5-c56c912bb4d7",
   "metadata": {},
   "source": [
    "## 작업형 2 예시\n",
    "- 데이터 가져오기\n",
    "    + [고객지원] - [공지사항] - 제2회 빅데이터분석기사 실기 안내(수정: 체험링크 추가)"
   ]
  },
  {
   "cell_type": "markdown",
   "id": "2320ce9c-b524-40ce-88e3-e4ca490f41d9",
   "metadata": {},
   "source": [
    "## 문제\n",
    "- 아래는 백화점 고객의 1년 간 구매 데이터이다.\n",
    "- 제공 데이터 목록\n",
    "  + y_train.csv : 고객의 성별 데이터(학습용, CSV 형식의 파일)\n",
    "  + X_train.csv, X_test.csv : 고객의 상품구매 속성(학습용 및 평가용), CSV 형식의 파일\n",
    "- 데이터 형식 및 내용\n",
    "  + y_train.csv (3,500명 데이터)\n",
    "    * custid : 고객 ID\n",
    "    * gender: 고객의 성별(0: 여자, 1:남자)\n",
    "- 고객 3,5000명에 대한 학습용 데이터를 이용하여 성별예측 모형을 만드 후, 이를 평가용 데이터에 적용하여 얻은 고객의 성별 예측값(남자일 확률)을 다음과 같은 형식의 CSV 파일로 생성\n",
    "- 제출한 모델의 성능은 ROC-AUC 평가지표에 따라 채점"
   ]
  },
  {
   "cell_type": "code",
   "execution_count": 18,
   "id": "f7f8d3d7-b212-417a-b7c9-1f37c0a01263",
   "metadata": {},
   "outputs": [
    {
     "data": {
      "text/html": [
       "<div>\n",
       "<style scoped>\n",
       "    .dataframe tbody tr th:only-of-type {\n",
       "        vertical-align: middle;\n",
       "    }\n",
       "\n",
       "    .dataframe tbody tr th {\n",
       "        vertical-align: top;\n",
       "    }\n",
       "\n",
       "    .dataframe thead th {\n",
       "        text-align: right;\n",
       "    }\n",
       "</style>\n",
       "<table border=\"1\" class=\"dataframe\">\n",
       "  <thead>\n",
       "    <tr style=\"text-align: right;\">\n",
       "      <th></th>\n",
       "      <th>custid</th>\n",
       "      <th>gender</th>\n",
       "    </tr>\n",
       "  </thead>\n",
       "  <tbody>\n",
       "    <tr>\n",
       "      <th>0</th>\n",
       "      <td>3500</td>\n",
       "      <td>0.267</td>\n",
       "    </tr>\n",
       "    <tr>\n",
       "      <th>1</th>\n",
       "      <td>3501</td>\n",
       "      <td>0.578</td>\n",
       "    </tr>\n",
       "    <tr>\n",
       "      <th>2</th>\n",
       "      <td>3502</td>\n",
       "      <td>0.885</td>\n",
       "    </tr>\n",
       "  </tbody>\n",
       "</table>\n",
       "</div>"
      ],
      "text/plain": [
       "   custid  gender\n",
       "0    3500   0.267\n",
       "1    3501   0.578\n",
       "2    3502   0.885"
      ]
     },
     "execution_count": 18,
     "metadata": {},
     "output_type": "execute_result"
    }
   ],
   "source": [
    "import pandas as pd \n",
    "pd.DataFrame({\n",
    "    'custid' : [3500, 3501, 3502], \n",
    "    'gender' : [0.267, 0.578, 0.885]\n",
    "})"
   ]
  },
  {
   "cell_type": "code",
   "execution_count": 5,
   "id": "97b5f434-7f8b-436e-9608-88f0b360f968",
   "metadata": {},
   "outputs": [],
   "source": [
    "import pandas as pd\n",
    "\n",
    "DATA_PATH = 'data/department_store/'\n",
    "\n",
    "X_test = pd.read_csv(DATA_PATH + \"X_test.csv\", encoding=\"euc-kr\")   # 작업장 환경에서는 불필요\n",
    "X_train = pd.read_csv(DATA_PATH + \"X_train.csv\", encoding=\"euc-kr\")\n",
    "y_train = pd.read_csv(DATA_PATH + \"y_train.csv\", encoding=\"euc-kr\")"
   ]
  },
  {
   "cell_type": "code",
   "execution_count": 6,
   "id": "3e94da6d-bb19-47c8-88d8-39c590fd4ce2",
   "metadata": {},
   "outputs": [
    {
     "data": {
      "text/html": [
       "<div>\n",
       "<style scoped>\n",
       "    .dataframe tbody tr th:only-of-type {\n",
       "        vertical-align: middle;\n",
       "    }\n",
       "\n",
       "    .dataframe tbody tr th {\n",
       "        vertical-align: top;\n",
       "    }\n",
       "\n",
       "    .dataframe thead th {\n",
       "        text-align: right;\n",
       "    }\n",
       "</style>\n",
       "<table border=\"1\" class=\"dataframe\">\n",
       "  <thead>\n",
       "    <tr style=\"text-align: right;\">\n",
       "      <th></th>\n",
       "      <th>cust_id</th>\n",
       "      <th>총구매액</th>\n",
       "      <th>최대구매액</th>\n",
       "      <th>환불금액</th>\n",
       "      <th>주구매상품</th>\n",
       "      <th>주구매지점</th>\n",
       "      <th>내점일수</th>\n",
       "      <th>내점당구매건수</th>\n",
       "      <th>주말방문비율</th>\n",
       "      <th>구매주기</th>\n",
       "    </tr>\n",
       "  </thead>\n",
       "  <tbody>\n",
       "    <tr>\n",
       "      <th>0</th>\n",
       "      <td>3500</td>\n",
       "      <td>70900400</td>\n",
       "      <td>22000000</td>\n",
       "      <td>4050000.0</td>\n",
       "      <td>골프</td>\n",
       "      <td>부산본점</td>\n",
       "      <td>13</td>\n",
       "      <td>1.461538</td>\n",
       "      <td>0.789474</td>\n",
       "      <td>26</td>\n",
       "    </tr>\n",
       "    <tr>\n",
       "      <th>1</th>\n",
       "      <td>3501</td>\n",
       "      <td>310533100</td>\n",
       "      <td>38558000</td>\n",
       "      <td>48034700.0</td>\n",
       "      <td>농산물</td>\n",
       "      <td>잠실점</td>\n",
       "      <td>90</td>\n",
       "      <td>2.433333</td>\n",
       "      <td>0.369863</td>\n",
       "      <td>3</td>\n",
       "    </tr>\n",
       "    <tr>\n",
       "      <th>2</th>\n",
       "      <td>3502</td>\n",
       "      <td>305264140</td>\n",
       "      <td>14825000</td>\n",
       "      <td>30521000.0</td>\n",
       "      <td>가공식품</td>\n",
       "      <td>본  점</td>\n",
       "      <td>101</td>\n",
       "      <td>14.623762</td>\n",
       "      <td>0.083277</td>\n",
       "      <td>3</td>\n",
       "    </tr>\n",
       "    <tr>\n",
       "      <th>3</th>\n",
       "      <td>3503</td>\n",
       "      <td>7594080</td>\n",
       "      <td>5225000</td>\n",
       "      <td>NaN</td>\n",
       "      <td>주방용품</td>\n",
       "      <td>부산본점</td>\n",
       "      <td>5</td>\n",
       "      <td>2.000000</td>\n",
       "      <td>0.000000</td>\n",
       "      <td>47</td>\n",
       "    </tr>\n",
       "    <tr>\n",
       "      <th>4</th>\n",
       "      <td>3504</td>\n",
       "      <td>1795790</td>\n",
       "      <td>1411200</td>\n",
       "      <td>NaN</td>\n",
       "      <td>수산품</td>\n",
       "      <td>청량리점</td>\n",
       "      <td>3</td>\n",
       "      <td>2.666667</td>\n",
       "      <td>0.125000</td>\n",
       "      <td>8</td>\n",
       "    </tr>\n",
       "  </tbody>\n",
       "</table>\n",
       "</div>"
      ],
      "text/plain": [
       "   cust_id       총구매액     최대구매액        환불금액 주구매상품 주구매지점  내점일수    내점당구매건수  \\\n",
       "0     3500   70900400  22000000   4050000.0    골프  부산본점    13   1.461538   \n",
       "1     3501  310533100  38558000  48034700.0   농산물   잠실점    90   2.433333   \n",
       "2     3502  305264140  14825000  30521000.0  가공식품  본  점   101  14.623762   \n",
       "3     3503    7594080   5225000         NaN  주방용품  부산본점     5   2.000000   \n",
       "4     3504    1795790   1411200         NaN   수산품  청량리점     3   2.666667   \n",
       "\n",
       "     주말방문비율  구매주기  \n",
       "0  0.789474    26  \n",
       "1  0.369863     3  \n",
       "2  0.083277     3  \n",
       "3  0.000000    47  \n",
       "4  0.125000     8  "
      ]
     },
     "execution_count": 6,
     "metadata": {},
     "output_type": "execute_result"
    }
   ],
   "source": [
    "X_test.head()"
   ]
  },
  {
   "cell_type": "code",
   "execution_count": 8,
   "id": "6b2081e5-b6cb-43ad-8a0a-fe4a0944824f",
   "metadata": {},
   "outputs": [
    {
     "data": {
      "text/html": [
       "<div>\n",
       "<style scoped>\n",
       "    .dataframe tbody tr th:only-of-type {\n",
       "        vertical-align: middle;\n",
       "    }\n",
       "\n",
       "    .dataframe tbody tr th {\n",
       "        vertical-align: top;\n",
       "    }\n",
       "\n",
       "    .dataframe thead th {\n",
       "        text-align: right;\n",
       "    }\n",
       "</style>\n",
       "<table border=\"1\" class=\"dataframe\">\n",
       "  <thead>\n",
       "    <tr style=\"text-align: right;\">\n",
       "      <th></th>\n",
       "      <th>cust_id</th>\n",
       "      <th>총구매액</th>\n",
       "      <th>최대구매액</th>\n",
       "      <th>환불금액</th>\n",
       "      <th>주구매상품</th>\n",
       "      <th>주구매지점</th>\n",
       "      <th>내점일수</th>\n",
       "      <th>내점당구매건수</th>\n",
       "      <th>주말방문비율</th>\n",
       "      <th>구매주기</th>\n",
       "    </tr>\n",
       "  </thead>\n",
       "  <tbody>\n",
       "    <tr>\n",
       "      <th>0</th>\n",
       "      <td>0</td>\n",
       "      <td>68282840</td>\n",
       "      <td>11264000</td>\n",
       "      <td>6860000.0</td>\n",
       "      <td>기타</td>\n",
       "      <td>강남점</td>\n",
       "      <td>19</td>\n",
       "      <td>3.894737</td>\n",
       "      <td>0.527027</td>\n",
       "      <td>17</td>\n",
       "    </tr>\n",
       "    <tr>\n",
       "      <th>1</th>\n",
       "      <td>1</td>\n",
       "      <td>2136000</td>\n",
       "      <td>2136000</td>\n",
       "      <td>300000.0</td>\n",
       "      <td>스포츠</td>\n",
       "      <td>잠실점</td>\n",
       "      <td>2</td>\n",
       "      <td>1.500000</td>\n",
       "      <td>0.000000</td>\n",
       "      <td>1</td>\n",
       "    </tr>\n",
       "    <tr>\n",
       "      <th>2</th>\n",
       "      <td>2</td>\n",
       "      <td>3197000</td>\n",
       "      <td>1639000</td>\n",
       "      <td>NaN</td>\n",
       "      <td>남성 캐주얼</td>\n",
       "      <td>관악점</td>\n",
       "      <td>2</td>\n",
       "      <td>2.000000</td>\n",
       "      <td>0.000000</td>\n",
       "      <td>1</td>\n",
       "    </tr>\n",
       "    <tr>\n",
       "      <th>3</th>\n",
       "      <td>3</td>\n",
       "      <td>16077620</td>\n",
       "      <td>4935000</td>\n",
       "      <td>NaN</td>\n",
       "      <td>기타</td>\n",
       "      <td>광주점</td>\n",
       "      <td>18</td>\n",
       "      <td>2.444444</td>\n",
       "      <td>0.318182</td>\n",
       "      <td>16</td>\n",
       "    </tr>\n",
       "    <tr>\n",
       "      <th>4</th>\n",
       "      <td>4</td>\n",
       "      <td>29050000</td>\n",
       "      <td>24000000</td>\n",
       "      <td>NaN</td>\n",
       "      <td>보석</td>\n",
       "      <td>본  점</td>\n",
       "      <td>2</td>\n",
       "      <td>1.500000</td>\n",
       "      <td>0.000000</td>\n",
       "      <td>85</td>\n",
       "    </tr>\n",
       "  </tbody>\n",
       "</table>\n",
       "</div>"
      ],
      "text/plain": [
       "   cust_id      총구매액     최대구매액       환불금액   주구매상품 주구매지점  내점일수   내점당구매건수  \\\n",
       "0        0  68282840  11264000  6860000.0      기타   강남점    19  3.894737   \n",
       "1        1   2136000   2136000   300000.0     스포츠   잠실점     2  1.500000   \n",
       "2        2   3197000   1639000        NaN  남성 캐주얼   관악점     2  2.000000   \n",
       "3        3  16077620   4935000        NaN      기타   광주점    18  2.444444   \n",
       "4        4  29050000  24000000        NaN      보석  본  점     2  1.500000   \n",
       "\n",
       "     주말방문비율  구매주기  \n",
       "0  0.527027    17  \n",
       "1  0.000000     1  \n",
       "2  0.000000     1  \n",
       "3  0.318182    16  \n",
       "4  0.000000    85  "
      ]
     },
     "execution_count": 8,
     "metadata": {},
     "output_type": "execute_result"
    }
   ],
   "source": [
    "X_train.head()"
   ]
  },
  {
   "cell_type": "code",
   "execution_count": 9,
   "id": "74bbcd72-211e-4cfd-84ab-b279a02718fd",
   "metadata": {},
   "outputs": [
    {
     "data": {
      "text/html": [
       "<div>\n",
       "<style scoped>\n",
       "    .dataframe tbody tr th:only-of-type {\n",
       "        vertical-align: middle;\n",
       "    }\n",
       "\n",
       "    .dataframe tbody tr th {\n",
       "        vertical-align: top;\n",
       "    }\n",
       "\n",
       "    .dataframe thead th {\n",
       "        text-align: right;\n",
       "    }\n",
       "</style>\n",
       "<table border=\"1\" class=\"dataframe\">\n",
       "  <thead>\n",
       "    <tr style=\"text-align: right;\">\n",
       "      <th></th>\n",
       "      <th>cust_id</th>\n",
       "      <th>gender</th>\n",
       "    </tr>\n",
       "  </thead>\n",
       "  <tbody>\n",
       "    <tr>\n",
       "      <th>0</th>\n",
       "      <td>0</td>\n",
       "      <td>0</td>\n",
       "    </tr>\n",
       "    <tr>\n",
       "      <th>1</th>\n",
       "      <td>1</td>\n",
       "      <td>0</td>\n",
       "    </tr>\n",
       "    <tr>\n",
       "      <th>2</th>\n",
       "      <td>2</td>\n",
       "      <td>1</td>\n",
       "    </tr>\n",
       "    <tr>\n",
       "      <th>3</th>\n",
       "      <td>3</td>\n",
       "      <td>1</td>\n",
       "    </tr>\n",
       "    <tr>\n",
       "      <th>4</th>\n",
       "      <td>4</td>\n",
       "      <td>0</td>\n",
       "    </tr>\n",
       "  </tbody>\n",
       "</table>\n",
       "</div>"
      ],
      "text/plain": [
       "   cust_id  gender\n",
       "0        0       0\n",
       "1        1       0\n",
       "2        2       1\n",
       "3        3       1\n",
       "4        4       0"
      ]
     },
     "execution_count": 9,
     "metadata": {},
     "output_type": "execute_result"
    }
   ],
   "source": [
    "y_train.head()"
   ]
  },
  {
   "cell_type": "markdown",
   "id": "bae82b3a-0c66-4ca9-aa55-014fc6507cc8",
   "metadata": {},
   "source": [
    "## step 01. 데이터 처리"
   ]
  },
  {
   "cell_type": "code",
   "execution_count": 11,
   "id": "c9dff40b-dbbe-4e63-a922-70796ebcb149",
   "metadata": {},
   "outputs": [
    {
     "data": {
      "text/plain": [
       "cust_id       0\n",
       "총구매액          0\n",
       "최대구매액         0\n",
       "환불금액       2295\n",
       "주구매상품         0\n",
       "주구매지점         0\n",
       "내점일수          0\n",
       "내점당구매건수       0\n",
       "주말방문비율        0\n",
       "구매주기          0\n",
       "dtype: int64"
      ]
     },
     "execution_count": 11,
     "metadata": {},
     "output_type": "execute_result"
    }
   ],
   "source": [
    "X_train.isnull().sum()"
   ]
  },
  {
   "cell_type": "code",
   "execution_count": 13,
   "id": "41913152-a709-4a7f-baed-485cc1ced969",
   "metadata": {},
   "outputs": [
    {
     "data": {
      "text/plain": [
       "cust_id       0\n",
       "총구매액          0\n",
       "최대구매액         0\n",
       "환불금액       1611\n",
       "주구매상품         0\n",
       "주구매지점         0\n",
       "내점일수          0\n",
       "내점당구매건수       0\n",
       "주말방문비율        0\n",
       "구매주기          0\n",
       "dtype: int64"
      ]
     },
     "execution_count": 13,
     "metadata": {},
     "output_type": "execute_result"
    }
   ],
   "source": [
    "X_test.isnull().sum()"
   ]
  },
  {
   "cell_type": "code",
   "execution_count": 15,
   "id": "39cd7bb3-cb24-4939-8e70-9eef9f77e377",
   "metadata": {},
   "outputs": [
    {
     "data": {
      "text/plain": [
       "cust_id    0\n",
       "gender     0\n",
       "dtype: int64"
      ]
     },
     "execution_count": 15,
     "metadata": {},
     "output_type": "execute_result"
    }
   ],
   "source": [
    "y_train.isnull().sum()"
   ]
  },
  {
   "cell_type": "markdown",
   "id": "095149ad-b57c-442d-86fb-5645b825d2a3",
   "metadata": {},
   "source": [
    "- 결측치 처리 할 것\n",
    "- 환불금액이기 때문에 평균, 중간값 이런 것보다는 0원으로 처리하는 것이 합리적임. "
   ]
  },
  {
   "cell_type": "code",
   "execution_count": 16,
   "id": "bb305962-ffde-414d-a41b-c0c30e7f3d6f",
   "metadata": {},
   "outputs": [
    {
     "data": {
      "text/plain": [
       "cust_id    0\n",
       "총구매액       0\n",
       "최대구매액      0\n",
       "환불금액       0\n",
       "주구매상품      0\n",
       "주구매지점      0\n",
       "내점일수       0\n",
       "내점당구매건수    0\n",
       "주말방문비율     0\n",
       "구매주기       0\n",
       "dtype: int64"
      ]
     },
     "execution_count": 16,
     "metadata": {},
     "output_type": "execute_result"
    }
   ],
   "source": [
    "X_train['환불금액'] = X_train['환불금액'].fillna(0)\n",
    "X_train.isnull().sum()"
   ]
  },
  {
   "cell_type": "code",
   "execution_count": 17,
   "id": "00e6ae56-6a9d-4b0a-82d2-6295b168966a",
   "metadata": {},
   "outputs": [
    {
     "data": {
      "text/plain": [
       "cust_id    0\n",
       "총구매액       0\n",
       "최대구매액      0\n",
       "환불금액       0\n",
       "주구매상품      0\n",
       "주구매지점      0\n",
       "내점일수       0\n",
       "내점당구매건수    0\n",
       "주말방문비율     0\n",
       "구매주기       0\n",
       "dtype: int64"
      ]
     },
     "execution_count": 17,
     "metadata": {},
     "output_type": "execute_result"
    }
   ],
   "source": [
    "X_test['환불금액'] = X_test['환불금액'].fillna(0)\n",
    "X_test.isnull().sum()"
   ]
  },
  {
   "cell_type": "markdown",
   "id": "73a1da8c-d384-489b-894f-2357f4f18913",
   "metadata": {},
   "source": [
    "## 데이터 확인"
   ]
  },
  {
   "cell_type": "code",
   "execution_count": 24,
   "id": "24ce176e-e2de-4ae1-b8f3-6c7ecf151d2a",
   "metadata": {},
   "outputs": [
    {
     "data": {
      "text/plain": [
       "기타        595\n",
       "가공식품      546\n",
       "농산물       339\n",
       "화장품       264\n",
       "시티웨어      213\n",
       "디자이너      193\n",
       "수산품       153\n",
       "캐주얼       101\n",
       "명품        100\n",
       "섬유잡화       98\n",
       "골프         82\n",
       "스포츠        69\n",
       "일용잡화       64\n",
       "모피/피혁      57\n",
       "육류         57\n",
       "남성 캐주얼     55\n",
       "구두         54\n",
       "건강식품       47\n",
       "차/커피       44\n",
       "피혁잡화       40\n",
       "아동         40\n",
       "축산가공       35\n",
       "주방용품       32\n",
       "셔츠         30\n",
       "젓갈/반찬      29\n",
       "주방가전       26\n",
       "트래디셔널      23\n",
       "남성정장       22\n",
       "생활잡화       15\n",
       "주류         14\n",
       "가구         10\n",
       "커리어         9\n",
       "대형가전        8\n",
       "란제리/내의      8\n",
       "식기          7\n",
       "액세서리        5\n",
       "침구/수예       4\n",
       "통신/컴퓨터      3\n",
       "보석          3\n",
       "남성 트랜디      2\n",
       "소형가전        2\n",
       "악기          2\n",
       "Name: 주구매상품, dtype: int64"
      ]
     },
     "execution_count": 24,
     "metadata": {},
     "output_type": "execute_result"
    }
   ],
   "source": [
    "X_train['주구매상품'].value_counts()"
   ]
  },
  {
   "cell_type": "code",
   "execution_count": 25,
   "id": "f7b137bb-95cc-4378-a868-3e3c11e7af84",
   "metadata": {},
   "outputs": [
    {
     "data": {
      "text/plain": [
       "기타        465\n",
       "가공식품      395\n",
       "농산물       235\n",
       "화장품       177\n",
       "시티웨어      168\n",
       "디자이너      123\n",
       "수산품        86\n",
       "섬유잡화       72\n",
       "캐주얼        65\n",
       "명품         60\n",
       "차/커피       55\n",
       "골프         47\n",
       "모피/피혁      47\n",
       "남성 캐주얼     46\n",
       "구두         44\n",
       "스포츠        43\n",
       "육류         38\n",
       "건강식품       36\n",
       "일용잡화       30\n",
       "축산가공       28\n",
       "남성정장       25\n",
       "셔츠         25\n",
       "아동         24\n",
       "주방용품       21\n",
       "젓갈/반찬      18\n",
       "피혁잡화       16\n",
       "주방가전       10\n",
       "주류         10\n",
       "란제리/내의     10\n",
       "트래디셔널       9\n",
       "식기          8\n",
       "생활잡화        8\n",
       "가구          7\n",
       "액세서리        7\n",
       "커리어         6\n",
       "대형가전        6\n",
       "남성 트랜디      4\n",
       "통신/컴퓨터      3\n",
       "침구/수예       3\n",
       "보석          1\n",
       "악기          1\n",
       "Name: 주구매상품, dtype: int64"
      ]
     },
     "execution_count": 25,
     "metadata": {},
     "output_type": "execute_result"
    }
   ],
   "source": [
    "X_test['주구매상품'].value_counts()"
   ]
  },
  {
   "cell_type": "code",
   "execution_count": 20,
   "id": "4874cf6e-c11b-43a3-80e0-57178da63e9e",
   "metadata": {},
   "outputs": [
    {
     "data": {
      "text/plain": [
       "본  점     1077\n",
       "잠실점       474\n",
       "분당점       436\n",
       "부산본점      245\n",
       "영등포점      241\n",
       "일산점       198\n",
       "강남점       145\n",
       "광주점       114\n",
       "노원점        90\n",
       "청량리점       86\n",
       "대전점        70\n",
       "미아점        69\n",
       "부평점        57\n",
       "동래점        49\n",
       "관악점        46\n",
       "인천점        34\n",
       "안양점        29\n",
       "포항점        11\n",
       "대구점         7\n",
       "센텀시티점       6\n",
       "울산점         6\n",
       "전주점         5\n",
       "창원점         4\n",
       "상인점         1\n",
       "Name: 주구매지점, dtype: int64"
      ]
     },
     "execution_count": 20,
     "metadata": {},
     "output_type": "execute_result"
    }
   ],
   "source": [
    "X_train['주구매지점'].value_counts()"
   ]
  },
  {
   "cell_type": "code",
   "execution_count": 26,
   "id": "52c7026a-cd5c-445f-b282-c8c9719fcdaf",
   "metadata": {},
   "outputs": [
    {
     "name": "stdout",
     "output_type": "stream",
     "text": [
      "<class 'pandas.core.frame.DataFrame'>\n",
      "RangeIndex: 3500 entries, 0 to 3499\n",
      "Data columns (total 10 columns):\n",
      " #   Column   Non-Null Count  Dtype  \n",
      "---  ------   --------------  -----  \n",
      " 0   cust_id  3500 non-null   int64  \n",
      " 1   총구매액     3500 non-null   int64  \n",
      " 2   최대구매액    3500 non-null   int64  \n",
      " 3   환불금액     3500 non-null   float64\n",
      " 4   주구매상품    3500 non-null   object \n",
      " 5   주구매지점    3500 non-null   object \n",
      " 6   내점일수     3500 non-null   int64  \n",
      " 7   내점당구매건수  3500 non-null   float64\n",
      " 8   주말방문비율   3500 non-null   float64\n",
      " 9   구매주기     3500 non-null   int64  \n",
      "dtypes: float64(3), int64(5), object(2)\n",
      "memory usage: 273.6+ KB\n"
     ]
    }
   ],
   "source": [
    "X_train.info()"
   ]
  },
  {
   "cell_type": "code",
   "execution_count": 28,
   "id": "48e220eb-84b4-4f28-9b53-a4221851b26c",
   "metadata": {
    "scrolled": true
   },
   "outputs": [
    {
     "data": {
      "text/plain": [
       "['기타',\n",
       " '가공식품',\n",
       " '농산물',\n",
       " '화장품',\n",
       " '시티웨어',\n",
       " '디자이너',\n",
       " '수산품',\n",
       " '캐주얼',\n",
       " '명품',\n",
       " '섬유잡화',\n",
       " '골프',\n",
       " '스포츠',\n",
       " '일용잡화',\n",
       " '모피/피혁',\n",
       " '육류',\n",
       " '남성 캐주얼',\n",
       " '구두',\n",
       " '건강식품',\n",
       " '차/커피',\n",
       " '피혁잡화',\n",
       " '아동',\n",
       " '축산가공',\n",
       " '주방용품',\n",
       " '셔츠',\n",
       " '젓갈/반찬',\n",
       " '주방가전',\n",
       " '트래디셔널',\n",
       " '남성정장',\n",
       " '생활잡화',\n",
       " '주류',\n",
       " '가구',\n",
       " '커리어',\n",
       " '대형가전',\n",
       " '란제리/내의',\n",
       " '식기',\n",
       " '액세서리',\n",
       " '침구/수예',\n",
       " '통신/컴퓨터',\n",
       " '보석',\n",
       " '남성 트랜디',\n",
       " '소형가전',\n",
       " '악기']"
      ]
     },
     "execution_count": 28,
     "metadata": {},
     "output_type": "execute_result"
    }
   ],
   "source": [
    "list(X_train['주구매상품'].value_counts().index)"
   ]
  },
  {
   "cell_type": "markdown",
   "id": "9d5ad6c0-49e3-4baf-ab50-37efb71f3dc7",
   "metadata": {},
   "source": [
    "## ID값 제거"
   ]
  },
  {
   "cell_type": "code",
   "execution_count": 35,
   "id": "4e7a17c6-abaa-40ce-b3db-e9e2308bab5d",
   "metadata": {},
   "outputs": [],
   "source": [
    "X_train = X_train.drop(['cust_id'], axis = 1)\n",
    "cust_id = X_test.pop('cust_id')"
   ]
  },
  {
   "cell_type": "code",
   "execution_count": 37,
   "id": "bc89fc54-3a01-4b7c-8420-1aa100af98cc",
   "metadata": {},
   "outputs": [
    {
     "data": {
      "text/html": [
       "<div>\n",
       "<style scoped>\n",
       "    .dataframe tbody tr th:only-of-type {\n",
       "        vertical-align: middle;\n",
       "    }\n",
       "\n",
       "    .dataframe tbody tr th {\n",
       "        vertical-align: top;\n",
       "    }\n",
       "\n",
       "    .dataframe thead th {\n",
       "        text-align: right;\n",
       "    }\n",
       "</style>\n",
       "<table border=\"1\" class=\"dataframe\">\n",
       "  <thead>\n",
       "    <tr style=\"text-align: right;\">\n",
       "      <th></th>\n",
       "      <th>총구매액</th>\n",
       "      <th>최대구매액</th>\n",
       "      <th>환불금액</th>\n",
       "      <th>주구매상품</th>\n",
       "      <th>주구매지점</th>\n",
       "      <th>내점일수</th>\n",
       "      <th>내점당구매건수</th>\n",
       "      <th>주말방문비율</th>\n",
       "      <th>구매주기</th>\n",
       "    </tr>\n",
       "  </thead>\n",
       "  <tbody>\n",
       "    <tr>\n",
       "      <th>0</th>\n",
       "      <td>68282840</td>\n",
       "      <td>11264000</td>\n",
       "      <td>6860000.0</td>\n",
       "      <td>기타</td>\n",
       "      <td>강남점</td>\n",
       "      <td>19</td>\n",
       "      <td>3.894737</td>\n",
       "      <td>0.527027</td>\n",
       "      <td>17</td>\n",
       "    </tr>\n",
       "  </tbody>\n",
       "</table>\n",
       "</div>"
      ],
      "text/plain": [
       "       총구매액     최대구매액       환불금액 주구매상품 주구매지점  내점일수   내점당구매건수    주말방문비율  구매주기\n",
       "0  68282840  11264000  6860000.0    기타   강남점    19  3.894737  0.527027    17"
      ]
     },
     "execution_count": 37,
     "metadata": {},
     "output_type": "execute_result"
    }
   ],
   "source": [
    "X_train.head(1)"
   ]
  },
  {
   "cell_type": "code",
   "execution_count": 38,
   "id": "70f5d2f6-4e75-4512-a41d-99da964508b3",
   "metadata": {},
   "outputs": [
    {
     "data": {
      "text/html": [
       "<div>\n",
       "<style scoped>\n",
       "    .dataframe tbody tr th:only-of-type {\n",
       "        vertical-align: middle;\n",
       "    }\n",
       "\n",
       "    .dataframe tbody tr th {\n",
       "        vertical-align: top;\n",
       "    }\n",
       "\n",
       "    .dataframe thead th {\n",
       "        text-align: right;\n",
       "    }\n",
       "</style>\n",
       "<table border=\"1\" class=\"dataframe\">\n",
       "  <thead>\n",
       "    <tr style=\"text-align: right;\">\n",
       "      <th></th>\n",
       "      <th>총구매액</th>\n",
       "      <th>최대구매액</th>\n",
       "      <th>환불금액</th>\n",
       "      <th>주구매상품</th>\n",
       "      <th>주구매지점</th>\n",
       "      <th>내점일수</th>\n",
       "      <th>내점당구매건수</th>\n",
       "      <th>주말방문비율</th>\n",
       "      <th>구매주기</th>\n",
       "    </tr>\n",
       "  </thead>\n",
       "  <tbody>\n",
       "    <tr>\n",
       "      <th>0</th>\n",
       "      <td>70900400</td>\n",
       "      <td>22000000</td>\n",
       "      <td>4050000.0</td>\n",
       "      <td>골프</td>\n",
       "      <td>부산본점</td>\n",
       "      <td>13</td>\n",
       "      <td>1.461538</td>\n",
       "      <td>0.789474</td>\n",
       "      <td>26</td>\n",
       "    </tr>\n",
       "  </tbody>\n",
       "</table>\n",
       "</div>"
      ],
      "text/plain": [
       "       총구매액     최대구매액       환불금액 주구매상품 주구매지점  내점일수   내점당구매건수    주말방문비율  구매주기\n",
       "0  70900400  22000000  4050000.0    골프  부산본점    13  1.461538  0.789474    26"
      ]
     },
     "execution_count": 38,
     "metadata": {},
     "output_type": "execute_result"
    }
   ],
   "source": [
    "X_test.head(1)"
   ]
  },
  {
   "cell_type": "markdown",
   "id": "57c7eac4-cdcd-407f-a208-483f73e3f0e7",
   "metadata": {},
   "source": [
    "## 모델 학습 (Pipeline 사용)"
   ]
  },
  {
   "cell_type": "code",
   "execution_count": 32,
   "id": "a44cf8dc-07d7-4583-bce8-2949df4e8418",
   "metadata": {},
   "outputs": [],
   "source": [
    "from sklearn import set_config\n",
    "\n",
    "set_config(display='diagram')"
   ]
  },
  {
   "cell_type": "code",
   "execution_count": 72,
   "id": "ff79a634-99ab-424a-9281-e52ad7c95576",
   "metadata": {
    "scrolled": true
   },
   "outputs": [
    {
     "data": {
      "text/html": [
       "<style>#sk-55703183-f341-4eb0-b940-260f44517b1d {color: black;background-color: white;}#sk-55703183-f341-4eb0-b940-260f44517b1d pre{padding: 0;}#sk-55703183-f341-4eb0-b940-260f44517b1d div.sk-toggleable {background-color: white;}#sk-55703183-f341-4eb0-b940-260f44517b1d label.sk-toggleable__label {cursor: pointer;display: block;width: 100%;margin-bottom: 0;padding: 0.2em 0.3em;box-sizing: border-box;text-align: center;}#sk-55703183-f341-4eb0-b940-260f44517b1d div.sk-toggleable__content {max-height: 0;max-width: 0;overflow: hidden;text-align: left;background-color: #f0f8ff;}#sk-55703183-f341-4eb0-b940-260f44517b1d div.sk-toggleable__content pre {margin: 0.2em;color: black;border-radius: 0.25em;background-color: #f0f8ff;}#sk-55703183-f341-4eb0-b940-260f44517b1d input.sk-toggleable__control:checked~div.sk-toggleable__content {max-height: 200px;max-width: 100%;overflow: auto;}#sk-55703183-f341-4eb0-b940-260f44517b1d div.sk-estimator input.sk-toggleable__control:checked~label.sk-toggleable__label {background-color: #d4ebff;}#sk-55703183-f341-4eb0-b940-260f44517b1d div.sk-label input.sk-toggleable__control:checked~label.sk-toggleable__label {background-color: #d4ebff;}#sk-55703183-f341-4eb0-b940-260f44517b1d input.sk-hidden--visually {border: 0;clip: rect(1px 1px 1px 1px);clip: rect(1px, 1px, 1px, 1px);height: 1px;margin: -1px;overflow: hidden;padding: 0;position: absolute;width: 1px;}#sk-55703183-f341-4eb0-b940-260f44517b1d div.sk-estimator {font-family: monospace;background-color: #f0f8ff;margin: 0.25em 0.25em;border: 1px dotted black;border-radius: 0.25em;box-sizing: border-box;}#sk-55703183-f341-4eb0-b940-260f44517b1d div.sk-estimator:hover {background-color: #d4ebff;}#sk-55703183-f341-4eb0-b940-260f44517b1d div.sk-parallel-item::after {content: \"\";width: 100%;border-bottom: 1px solid gray;flex-grow: 1;}#sk-55703183-f341-4eb0-b940-260f44517b1d div.sk-label:hover label.sk-toggleable__label {background-color: #d4ebff;}#sk-55703183-f341-4eb0-b940-260f44517b1d div.sk-serial::before {content: \"\";position: absolute;border-left: 1px solid gray;box-sizing: border-box;top: 2em;bottom: 0;left: 50%;}#sk-55703183-f341-4eb0-b940-260f44517b1d div.sk-serial {display: flex;flex-direction: column;align-items: center;background-color: white;}#sk-55703183-f341-4eb0-b940-260f44517b1d div.sk-item {z-index: 1;}#sk-55703183-f341-4eb0-b940-260f44517b1d div.sk-parallel {display: flex;align-items: stretch;justify-content: center;background-color: white;}#sk-55703183-f341-4eb0-b940-260f44517b1d div.sk-parallel-item {display: flex;flex-direction: column;position: relative;background-color: white;}#sk-55703183-f341-4eb0-b940-260f44517b1d div.sk-parallel-item:first-child::after {align-self: flex-end;width: 50%;}#sk-55703183-f341-4eb0-b940-260f44517b1d div.sk-parallel-item:last-child::after {align-self: flex-start;width: 50%;}#sk-55703183-f341-4eb0-b940-260f44517b1d div.sk-parallel-item:only-child::after {width: 0;}#sk-55703183-f341-4eb0-b940-260f44517b1d div.sk-dashed-wrapped {border: 1px dashed gray;margin: 0.2em;box-sizing: border-box;padding-bottom: 0.1em;background-color: white;position: relative;}#sk-55703183-f341-4eb0-b940-260f44517b1d div.sk-label label {font-family: monospace;font-weight: bold;background-color: white;display: inline-block;line-height: 1.2em;}#sk-55703183-f341-4eb0-b940-260f44517b1d div.sk-label-container {position: relative;z-index: 2;text-align: center;}#sk-55703183-f341-4eb0-b940-260f44517b1d div.sk-container {display: inline-block;position: relative;}</style><div id=\"sk-55703183-f341-4eb0-b940-260f44517b1d\" class\"sk-top-container\"><div class=\"sk-container\"><div class=\"sk-item sk-dashed-wrapped\"><div class=\"sk-label-container\"><div class=\"sk-label sk-toggleable\"><input class=\"sk-toggleable__control sk-hidden--visually\" id=\"226ddb44-6f51-4a78-b387-e6493404bdf1\" type=\"checkbox\" ><label class=\"sk-toggleable__label\" for=\"226ddb44-6f51-4a78-b387-e6493404bdf1\">Pipeline</label><div class=\"sk-toggleable__content\"><pre>Pipeline(steps=[('preprocessor',\n",
       "                 ColumnTransformer(remainder='passthrough',\n",
       "                                   transformers=[('robust_scaler',\n",
       "                                                  RobustScaler(),\n",
       "                                                  ['총구매액', '최대구매액', '환불금액',\n",
       "                                                   '내점일수', '내점당구매건수', '주말방문비율',\n",
       "                                                   '구매주기']),\n",
       "                                                 ('cut_encoder',\n",
       "                                                  OrdinalEncoder(categories=[['기타',\n",
       "                                                                              '가공식품',\n",
       "                                                                              '농산물',\n",
       "                                                                              '화장품',\n",
       "                                                                              '시티웨어',\n",
       "                                                                              '디자이너',\n",
       "                                                                              '수산품',\n",
       "                                                                              '캐주얼',\n",
       "                                                                              '명품',\n",
       "                                                                              '섬유잡화',\n",
       "                                                                              '골프',\n",
       "                                                                              '스포츠',\n",
       "                                                                              '일용잡화',\n",
       "                                                                              '모피/피혁',\n",
       "                                                                              '육류',\n",
       "                                                                              '남성 '\n",
       "                                                                              '캐주얼',\n",
       "                                                                              '구두',\n",
       "                                                                              '건강식품',\n",
       "                                                                              '차/커피',\n",
       "                                                                              '피혁잡화',\n",
       "                                                                              '아동',\n",
       "                                                                              '축산가공',\n",
       "                                                                              '주방용품',\n",
       "                                                                              '셔츠',\n",
       "                                                                              '젓갈/반찬',\n",
       "                                                                              '주방가전',\n",
       "                                                                              '트래디셔널',\n",
       "                                                                              '남성정장',\n",
       "                                                                              '생활잡화',\n",
       "                                                                              '주류', ...]]),\n",
       "                                                  ['주구매상품']),\n",
       "                                                 ('clarity_encoder',\n",
       "                                                  OrdinalEncoder(categories=[['본  '\n",
       "                                                                              '점',\n",
       "                                                                              '잠실점',\n",
       "                                                                              '분당점',\n",
       "                                                                              '부산본점',\n",
       "                                                                              '영등포점',\n",
       "                                                                              '일산점',\n",
       "                                                                              '강남점',\n",
       "                                                                              '광주점',\n",
       "                                                                              '노원점',\n",
       "                                                                              '청량리점',\n",
       "                                                                              '대전점',\n",
       "                                                                              '미아점',\n",
       "                                                                              '부평점',\n",
       "                                                                              '동래점',\n",
       "                                                                              '관악점',\n",
       "                                                                              '인천점',\n",
       "                                                                              '안양점',\n",
       "                                                                              '포항점',\n",
       "                                                                              '대구점',\n",
       "                                                                              '센텀시티점',\n",
       "                                                                              '울산점',\n",
       "                                                                              '전주점',\n",
       "                                                                              '창원점',\n",
       "                                                                              '상인점']]),\n",
       "                                                  ['주구매지점'])])),\n",
       "                ('regressor', LGBMClassifier(random_state=42))])</pre></div></div></div><div class=\"sk-serial\"><div class=\"sk-item sk-dashed-wrapped\"><div class=\"sk-label-container\"><div class=\"sk-label sk-toggleable\"><input class=\"sk-toggleable__control sk-hidden--visually\" id=\"38c9e688-7a56-4ea3-a7c3-89b60470c77e\" type=\"checkbox\" ><label class=\"sk-toggleable__label\" for=\"38c9e688-7a56-4ea3-a7c3-89b60470c77e\">preprocessor: ColumnTransformer</label><div class=\"sk-toggleable__content\"><pre>ColumnTransformer(remainder='passthrough',\n",
       "                  transformers=[('robust_scaler', RobustScaler(),\n",
       "                                 ['총구매액', '최대구매액', '환불금액', '내점일수', '내점당구매건수',\n",
       "                                  '주말방문비율', '구매주기']),\n",
       "                                ('cut_encoder',\n",
       "                                 OrdinalEncoder(categories=[['기타', '가공식품',\n",
       "                                                             '농산물', '화장품',\n",
       "                                                             '시티웨어', '디자이너',\n",
       "                                                             '수산품', '캐주얼', '명품',\n",
       "                                                             '섬유잡화', '골프',\n",
       "                                                             '스포츠', '일용잡화',\n",
       "                                                             '모피/피혁', '육류',\n",
       "                                                             '남성 캐주얼', '구두',\n",
       "                                                             '건강식품', '차/커피',\n",
       "                                                             '피혁잡화', '아동',\n",
       "                                                             '축산가공', '주방용품',\n",
       "                                                             '셔츠', '젓갈/반찬',\n",
       "                                                             '주방가전', '트래디셔널',\n",
       "                                                             '남성정장', '생활잡화',\n",
       "                                                             '주류', ...]]),\n",
       "                                 ['주구매상품']),\n",
       "                                ('clarity_encoder',\n",
       "                                 OrdinalEncoder(categories=[['본  점', '잠실점',\n",
       "                                                             '분당점', '부산본점',\n",
       "                                                             '영등포점', '일산점',\n",
       "                                                             '강남점', '광주점',\n",
       "                                                             '노원점', '청량리점',\n",
       "                                                             '대전점', '미아점',\n",
       "                                                             '부평점', '동래점',\n",
       "                                                             '관악점', '인천점',\n",
       "                                                             '안양점', '포항점',\n",
       "                                                             '대구점', '센텀시티점',\n",
       "                                                             '울산점', '전주점',\n",
       "                                                             '창원점', '상인점']]),\n",
       "                                 ['주구매지점'])])</pre></div></div></div><div class=\"sk-parallel\"><div class=\"sk-parallel-item\"><div class=\"sk-item\"><div class=\"sk-label-container\"><div class=\"sk-label sk-toggleable\"><input class=\"sk-toggleable__control sk-hidden--visually\" id=\"c6cbeb11-f5ee-40b2-aebf-66aa199f5568\" type=\"checkbox\" ><label class=\"sk-toggleable__label\" for=\"c6cbeb11-f5ee-40b2-aebf-66aa199f5568\">robust_scaler</label><div class=\"sk-toggleable__content\"><pre>['총구매액', '최대구매액', '환불금액', '내점일수', '내점당구매건수', '주말방문비율', '구매주기']</pre></div></div></div><div class=\"sk-serial\"><div class=\"sk-item\"><div class=\"sk-estimator sk-toggleable\"><input class=\"sk-toggleable__control sk-hidden--visually\" id=\"7fbd6411-4b0f-4eb0-81de-4e457f2a64d4\" type=\"checkbox\" ><label class=\"sk-toggleable__label\" for=\"7fbd6411-4b0f-4eb0-81de-4e457f2a64d4\">RobustScaler</label><div class=\"sk-toggleable__content\"><pre>RobustScaler()</pre></div></div></div></div></div></div><div class=\"sk-parallel-item\"><div class=\"sk-item\"><div class=\"sk-label-container\"><div class=\"sk-label sk-toggleable\"><input class=\"sk-toggleable__control sk-hidden--visually\" id=\"91d810ba-805b-4d42-807a-444ed1129478\" type=\"checkbox\" ><label class=\"sk-toggleable__label\" for=\"91d810ba-805b-4d42-807a-444ed1129478\">cut_encoder</label><div class=\"sk-toggleable__content\"><pre>['주구매상품']</pre></div></div></div><div class=\"sk-serial\"><div class=\"sk-item\"><div class=\"sk-estimator sk-toggleable\"><input class=\"sk-toggleable__control sk-hidden--visually\" id=\"491bdaaf-0cc6-4089-8fe1-7d64a7e279da\" type=\"checkbox\" ><label class=\"sk-toggleable__label\" for=\"491bdaaf-0cc6-4089-8fe1-7d64a7e279da\">OrdinalEncoder</label><div class=\"sk-toggleable__content\"><pre>OrdinalEncoder(categories=[['기타', '가공식품', '농산물', '화장품', '시티웨어', '디자이너', '수산품',\n",
       "                            '캐주얼', '명품', '섬유잡화', '골프', '스포츠', '일용잡화', '모피/피혁',\n",
       "                            '육류', '남성 캐주얼', '구두', '건강식품', '차/커피', '피혁잡화', '아동',\n",
       "                            '축산가공', '주방용품', '셔츠', '젓갈/반찬', '주방가전', '트래디셔널',\n",
       "                            '남성정장', '생활잡화', '주류', ...]])</pre></div></div></div></div></div></div><div class=\"sk-parallel-item\"><div class=\"sk-item\"><div class=\"sk-label-container\"><div class=\"sk-label sk-toggleable\"><input class=\"sk-toggleable__control sk-hidden--visually\" id=\"c77f33bd-ef9b-4478-9ccf-7c8417f972bf\" type=\"checkbox\" ><label class=\"sk-toggleable__label\" for=\"c77f33bd-ef9b-4478-9ccf-7c8417f972bf\">clarity_encoder</label><div class=\"sk-toggleable__content\"><pre>['주구매지점']</pre></div></div></div><div class=\"sk-serial\"><div class=\"sk-item\"><div class=\"sk-estimator sk-toggleable\"><input class=\"sk-toggleable__control sk-hidden--visually\" id=\"29cc37a7-58d2-4873-b726-6ed2104fd18a\" type=\"checkbox\" ><label class=\"sk-toggleable__label\" for=\"29cc37a7-58d2-4873-b726-6ed2104fd18a\">OrdinalEncoder</label><div class=\"sk-toggleable__content\"><pre>OrdinalEncoder(categories=[['본  점', '잠실점', '분당점', '부산본점', '영등포점', '일산점', '강남점',\n",
       "                            '광주점', '노원점', '청량리점', '대전점', '미아점', '부평점', '동래점',\n",
       "                            '관악점', '인천점', '안양점', '포항점', '대구점', '센텀시티점', '울산점',\n",
       "                            '전주점', '창원점', '상인점']])</pre></div></div></div></div></div></div><div class=\"sk-parallel-item\"><div class=\"sk-item\"><div class=\"sk-label-container\"><div class=\"sk-label sk-toggleable\"><input class=\"sk-toggleable__control sk-hidden--visually\" id=\"3f2f0ff7-434b-43ea-8bb0-d92d3bf541d6\" type=\"checkbox\" ><label class=\"sk-toggleable__label\" for=\"3f2f0ff7-434b-43ea-8bb0-d92d3bf541d6\">remainder</label><div class=\"sk-toggleable__content\"><pre></pre></div></div></div><div class=\"sk-serial\"><div class=\"sk-item\"><div class=\"sk-estimator sk-toggleable\"><input class=\"sk-toggleable__control sk-hidden--visually\" id=\"22021f81-b6ac-4e44-8987-d20e6bd43e43\" type=\"checkbox\" ><label class=\"sk-toggleable__label\" for=\"22021f81-b6ac-4e44-8987-d20e6bd43e43\">passthrough</label><div class=\"sk-toggleable__content\"><pre>passthrough</pre></div></div></div></div></div></div></div></div><div class=\"sk-item\"><div class=\"sk-estimator sk-toggleable\"><input class=\"sk-toggleable__control sk-hidden--visually\" id=\"3014532b-f831-462d-b161-5e894891bfad\" type=\"checkbox\" ><label class=\"sk-toggleable__label\" for=\"3014532b-f831-462d-b161-5e894891bfad\">LGBMClassifier</label><div class=\"sk-toggleable__content\"><pre>LGBMClassifier(random_state=42)</pre></div></div></div></div></div></div></div>"
      ],
      "text/plain": [
       "Pipeline(steps=[('preprocessor',\n",
       "                 ColumnTransformer(remainder='passthrough',\n",
       "                                   transformers=[('robust_scaler',\n",
       "                                                  RobustScaler(),\n",
       "                                                  ['총구매액', '최대구매액', '환불금액',\n",
       "                                                   '내점일수', '내점당구매건수', '주말방문비율',\n",
       "                                                   '구매주기']),\n",
       "                                                 ('cut_encoder',\n",
       "                                                  OrdinalEncoder(categories=[['기타',\n",
       "                                                                              '가공식품',\n",
       "                                                                              '농산물',\n",
       "                                                                              '화장품',\n",
       "                                                                              '시티웨어',\n",
       "                                                                              '디자이너',\n",
       "                                                                              '수산품',\n",
       "                                                                              '캐주얼',\n",
       "                                                                              '명품',\n",
       "                                                                              '섬유잡화',\n",
       "                                                                              '골프',\n",
       "                                                                              '스포츠',\n",
       "                                                                              '일용잡화',\n",
       "                                                                              '모피/피혁',\n",
       "                                                                              '육류',\n",
       "                                                                              '남성 '\n",
       "                                                                              '캐주얼',\n",
       "                                                                              '구두',\n",
       "                                                                              '건강식품',\n",
       "                                                                              '차/커피',\n",
       "                                                                              '피혁잡화',\n",
       "                                                                              '아동',\n",
       "                                                                              '축산가공',\n",
       "                                                                              '주방용품',\n",
       "                                                                              '셔츠',\n",
       "                                                                              '젓갈/반찬',\n",
       "                                                                              '주방가전',\n",
       "                                                                              '트래디셔널',\n",
       "                                                                              '남성정장',\n",
       "                                                                              '생활잡화',\n",
       "                                                                              '주류', ...]]),\n",
       "                                                  ['주구매상품']),\n",
       "                                                 ('clarity_encoder',\n",
       "                                                  OrdinalEncoder(categories=[['본  '\n",
       "                                                                              '점',\n",
       "                                                                              '잠실점',\n",
       "                                                                              '분당점',\n",
       "                                                                              '부산본점',\n",
       "                                                                              '영등포점',\n",
       "                                                                              '일산점',\n",
       "                                                                              '강남점',\n",
       "                                                                              '광주점',\n",
       "                                                                              '노원점',\n",
       "                                                                              '청량리점',\n",
       "                                                                              '대전점',\n",
       "                                                                              '미아점',\n",
       "                                                                              '부평점',\n",
       "                                                                              '동래점',\n",
       "                                                                              '관악점',\n",
       "                                                                              '인천점',\n",
       "                                                                              '안양점',\n",
       "                                                                              '포항점',\n",
       "                                                                              '대구점',\n",
       "                                                                              '센텀시티점',\n",
       "                                                                              '울산점',\n",
       "                                                                              '전주점',\n",
       "                                                                              '창원점',\n",
       "                                                                              '상인점']]),\n",
       "                                                  ['주구매지점'])])),\n",
       "                ('regressor', LGBMClassifier(random_state=42))])"
      ]
     },
     "execution_count": 72,
     "metadata": {},
     "output_type": "execute_result"
    }
   ],
   "source": [
    "from sklearn.compose import ColumnTransformer\n",
    "from sklearn.pipeline import Pipeline\n",
    "from sklearn.preprocessing import RobustScaler, OrdinalEncoder\n",
    "from lightgbm import LGBMClassifier\n",
    "from sklearn.ensemble import RandomForestClassifier\n",
    "\n",
    "column_transformer = ColumnTransformer([\n",
    "    (\"robust_scaler\", RobustScaler(), [\"총구매액\", \"최대구매액\", \"환불금액\", \"내점일수\", \"내점당구매건수\", \"주말방문비율\", \"구매주기\"]),\n",
    "    (\"cut_encoder\", OrdinalEncoder(categories=[list(X_train['주구매상품'].value_counts().index)]), [\"주구매상품\"]),\n",
    "    (\"clarity_encoder\", OrdinalEncoder(categories=[list(X_train['주구매지점'].value_counts().index)]), [\"주구매지점\"]),\n",
    "], remainder=\"passthrough\")\n",
    "\n",
    "pipeline = Pipeline([\n",
    "    (\"preprocessor\", column_transformer),\n",
    "    (\"regressor\", LGBMClassifier(random_state=42))\n",
    "])\n",
    "\n",
    "pipeline"
   ]
  },
  {
   "cell_type": "code",
   "execution_count": 73,
   "id": "32d4eb98-17c2-4b2f-97f6-dfefc6c51e26",
   "metadata": {},
   "outputs": [
    {
     "name": "stderr",
     "output_type": "stream",
     "text": [
      "C:\\Users\\j2hoo\\OneDrive\\Documents\\2023\\ds-certification\\venv\\lib\\site-packages\\sklearn\\compose\\_column_transformer.py:610: FutureWarning: Support for multi-dimensional indexing (e.g. `obj[:, None]`) is deprecated and will be removed in a future version.  Convert to a numpy array before indexing instead.\n",
      "  self._df_columns[remainder_columns].tolist()\n"
     ]
    },
    {
     "data": {
      "text/html": [
       "<style>#sk-d165930a-c483-4a7d-8946-3714e7e91780 {color: black;background-color: white;}#sk-d165930a-c483-4a7d-8946-3714e7e91780 pre{padding: 0;}#sk-d165930a-c483-4a7d-8946-3714e7e91780 div.sk-toggleable {background-color: white;}#sk-d165930a-c483-4a7d-8946-3714e7e91780 label.sk-toggleable__label {cursor: pointer;display: block;width: 100%;margin-bottom: 0;padding: 0.2em 0.3em;box-sizing: border-box;text-align: center;}#sk-d165930a-c483-4a7d-8946-3714e7e91780 div.sk-toggleable__content {max-height: 0;max-width: 0;overflow: hidden;text-align: left;background-color: #f0f8ff;}#sk-d165930a-c483-4a7d-8946-3714e7e91780 div.sk-toggleable__content pre {margin: 0.2em;color: black;border-radius: 0.25em;background-color: #f0f8ff;}#sk-d165930a-c483-4a7d-8946-3714e7e91780 input.sk-toggleable__control:checked~div.sk-toggleable__content {max-height: 200px;max-width: 100%;overflow: auto;}#sk-d165930a-c483-4a7d-8946-3714e7e91780 div.sk-estimator input.sk-toggleable__control:checked~label.sk-toggleable__label {background-color: #d4ebff;}#sk-d165930a-c483-4a7d-8946-3714e7e91780 div.sk-label input.sk-toggleable__control:checked~label.sk-toggleable__label {background-color: #d4ebff;}#sk-d165930a-c483-4a7d-8946-3714e7e91780 input.sk-hidden--visually {border: 0;clip: rect(1px 1px 1px 1px);clip: rect(1px, 1px, 1px, 1px);height: 1px;margin: -1px;overflow: hidden;padding: 0;position: absolute;width: 1px;}#sk-d165930a-c483-4a7d-8946-3714e7e91780 div.sk-estimator {font-family: monospace;background-color: #f0f8ff;margin: 0.25em 0.25em;border: 1px dotted black;border-radius: 0.25em;box-sizing: border-box;}#sk-d165930a-c483-4a7d-8946-3714e7e91780 div.sk-estimator:hover {background-color: #d4ebff;}#sk-d165930a-c483-4a7d-8946-3714e7e91780 div.sk-parallel-item::after {content: \"\";width: 100%;border-bottom: 1px solid gray;flex-grow: 1;}#sk-d165930a-c483-4a7d-8946-3714e7e91780 div.sk-label:hover label.sk-toggleable__label {background-color: #d4ebff;}#sk-d165930a-c483-4a7d-8946-3714e7e91780 div.sk-serial::before {content: \"\";position: absolute;border-left: 1px solid gray;box-sizing: border-box;top: 2em;bottom: 0;left: 50%;}#sk-d165930a-c483-4a7d-8946-3714e7e91780 div.sk-serial {display: flex;flex-direction: column;align-items: center;background-color: white;}#sk-d165930a-c483-4a7d-8946-3714e7e91780 div.sk-item {z-index: 1;}#sk-d165930a-c483-4a7d-8946-3714e7e91780 div.sk-parallel {display: flex;align-items: stretch;justify-content: center;background-color: white;}#sk-d165930a-c483-4a7d-8946-3714e7e91780 div.sk-parallel-item {display: flex;flex-direction: column;position: relative;background-color: white;}#sk-d165930a-c483-4a7d-8946-3714e7e91780 div.sk-parallel-item:first-child::after {align-self: flex-end;width: 50%;}#sk-d165930a-c483-4a7d-8946-3714e7e91780 div.sk-parallel-item:last-child::after {align-self: flex-start;width: 50%;}#sk-d165930a-c483-4a7d-8946-3714e7e91780 div.sk-parallel-item:only-child::after {width: 0;}#sk-d165930a-c483-4a7d-8946-3714e7e91780 div.sk-dashed-wrapped {border: 1px dashed gray;margin: 0.2em;box-sizing: border-box;padding-bottom: 0.1em;background-color: white;position: relative;}#sk-d165930a-c483-4a7d-8946-3714e7e91780 div.sk-label label {font-family: monospace;font-weight: bold;background-color: white;display: inline-block;line-height: 1.2em;}#sk-d165930a-c483-4a7d-8946-3714e7e91780 div.sk-label-container {position: relative;z-index: 2;text-align: center;}#sk-d165930a-c483-4a7d-8946-3714e7e91780 div.sk-container {display: inline-block;position: relative;}</style><div id=\"sk-d165930a-c483-4a7d-8946-3714e7e91780\" class\"sk-top-container\"><div class=\"sk-container\"><div class=\"sk-item sk-dashed-wrapped\"><div class=\"sk-label-container\"><div class=\"sk-label sk-toggleable\"><input class=\"sk-toggleable__control sk-hidden--visually\" id=\"0f6c1452-f469-42d6-a8c1-ed33f5142df6\" type=\"checkbox\" ><label class=\"sk-toggleable__label\" for=\"0f6c1452-f469-42d6-a8c1-ed33f5142df6\">Pipeline</label><div class=\"sk-toggleable__content\"><pre>Pipeline(steps=[('preprocessor',\n",
       "                 ColumnTransformer(remainder='passthrough',\n",
       "                                   transformers=[('robust_scaler',\n",
       "                                                  RobustScaler(),\n",
       "                                                  ['총구매액', '최대구매액', '환불금액',\n",
       "                                                   '내점일수', '내점당구매건수', '주말방문비율',\n",
       "                                                   '구매주기']),\n",
       "                                                 ('cut_encoder',\n",
       "                                                  OrdinalEncoder(categories=[['기타',\n",
       "                                                                              '가공식품',\n",
       "                                                                              '농산물',\n",
       "                                                                              '화장품',\n",
       "                                                                              '시티웨어',\n",
       "                                                                              '디자이너',\n",
       "                                                                              '수산품',\n",
       "                                                                              '캐주얼',\n",
       "                                                                              '명품',\n",
       "                                                                              '섬유잡화',\n",
       "                                                                              '골프',\n",
       "                                                                              '스포츠',\n",
       "                                                                              '일용잡화',\n",
       "                                                                              '모피/피혁',\n",
       "                                                                              '육류',\n",
       "                                                                              '남성 '\n",
       "                                                                              '캐주얼',\n",
       "                                                                              '구두',\n",
       "                                                                              '건강식품',\n",
       "                                                                              '차/커피',\n",
       "                                                                              '피혁잡화',\n",
       "                                                                              '아동',\n",
       "                                                                              '축산가공',\n",
       "                                                                              '주방용품',\n",
       "                                                                              '셔츠',\n",
       "                                                                              '젓갈/반찬',\n",
       "                                                                              '주방가전',\n",
       "                                                                              '트래디셔널',\n",
       "                                                                              '남성정장',\n",
       "                                                                              '생활잡화',\n",
       "                                                                              '주류', ...]]),\n",
       "                                                  ['주구매상품']),\n",
       "                                                 ('clarity_encoder',\n",
       "                                                  OrdinalEncoder(categories=[['본  '\n",
       "                                                                              '점',\n",
       "                                                                              '잠실점',\n",
       "                                                                              '분당점',\n",
       "                                                                              '부산본점',\n",
       "                                                                              '영등포점',\n",
       "                                                                              '일산점',\n",
       "                                                                              '강남점',\n",
       "                                                                              '광주점',\n",
       "                                                                              '노원점',\n",
       "                                                                              '청량리점',\n",
       "                                                                              '대전점',\n",
       "                                                                              '미아점',\n",
       "                                                                              '부평점',\n",
       "                                                                              '동래점',\n",
       "                                                                              '관악점',\n",
       "                                                                              '인천점',\n",
       "                                                                              '안양점',\n",
       "                                                                              '포항점',\n",
       "                                                                              '대구점',\n",
       "                                                                              '센텀시티점',\n",
       "                                                                              '울산점',\n",
       "                                                                              '전주점',\n",
       "                                                                              '창원점',\n",
       "                                                                              '상인점']]),\n",
       "                                                  ['주구매지점'])])),\n",
       "                ('regressor', LGBMClassifier(random_state=42))])</pre></div></div></div><div class=\"sk-serial\"><div class=\"sk-item sk-dashed-wrapped\"><div class=\"sk-label-container\"><div class=\"sk-label sk-toggleable\"><input class=\"sk-toggleable__control sk-hidden--visually\" id=\"fcc4639f-4d38-4191-9403-cf10f8665dab\" type=\"checkbox\" ><label class=\"sk-toggleable__label\" for=\"fcc4639f-4d38-4191-9403-cf10f8665dab\">preprocessor: ColumnTransformer</label><div class=\"sk-toggleable__content\"><pre>ColumnTransformer(remainder='passthrough',\n",
       "                  transformers=[('robust_scaler', RobustScaler(),\n",
       "                                 ['총구매액', '최대구매액', '환불금액', '내점일수', '내점당구매건수',\n",
       "                                  '주말방문비율', '구매주기']),\n",
       "                                ('cut_encoder',\n",
       "                                 OrdinalEncoder(categories=[['기타', '가공식품',\n",
       "                                                             '농산물', '화장품',\n",
       "                                                             '시티웨어', '디자이너',\n",
       "                                                             '수산품', '캐주얼', '명품',\n",
       "                                                             '섬유잡화', '골프',\n",
       "                                                             '스포츠', '일용잡화',\n",
       "                                                             '모피/피혁', '육류',\n",
       "                                                             '남성 캐주얼', '구두',\n",
       "                                                             '건강식품', '차/커피',\n",
       "                                                             '피혁잡화', '아동',\n",
       "                                                             '축산가공', '주방용품',\n",
       "                                                             '셔츠', '젓갈/반찬',\n",
       "                                                             '주방가전', '트래디셔널',\n",
       "                                                             '남성정장', '생활잡화',\n",
       "                                                             '주류', ...]]),\n",
       "                                 ['주구매상품']),\n",
       "                                ('clarity_encoder',\n",
       "                                 OrdinalEncoder(categories=[['본  점', '잠실점',\n",
       "                                                             '분당점', '부산본점',\n",
       "                                                             '영등포점', '일산점',\n",
       "                                                             '강남점', '광주점',\n",
       "                                                             '노원점', '청량리점',\n",
       "                                                             '대전점', '미아점',\n",
       "                                                             '부평점', '동래점',\n",
       "                                                             '관악점', '인천점',\n",
       "                                                             '안양점', '포항점',\n",
       "                                                             '대구점', '센텀시티점',\n",
       "                                                             '울산점', '전주점',\n",
       "                                                             '창원점', '상인점']]),\n",
       "                                 ['주구매지점'])])</pre></div></div></div><div class=\"sk-parallel\"><div class=\"sk-parallel-item\"><div class=\"sk-item\"><div class=\"sk-label-container\"><div class=\"sk-label sk-toggleable\"><input class=\"sk-toggleable__control sk-hidden--visually\" id=\"4074d68f-0e0c-43e4-a0ee-3bdfeca0e58f\" type=\"checkbox\" ><label class=\"sk-toggleable__label\" for=\"4074d68f-0e0c-43e4-a0ee-3bdfeca0e58f\">robust_scaler</label><div class=\"sk-toggleable__content\"><pre>['총구매액', '최대구매액', '환불금액', '내점일수', '내점당구매건수', '주말방문비율', '구매주기']</pre></div></div></div><div class=\"sk-serial\"><div class=\"sk-item\"><div class=\"sk-estimator sk-toggleable\"><input class=\"sk-toggleable__control sk-hidden--visually\" id=\"7c9bceec-4b61-40e3-87ce-58a49f2b696a\" type=\"checkbox\" ><label class=\"sk-toggleable__label\" for=\"7c9bceec-4b61-40e3-87ce-58a49f2b696a\">RobustScaler</label><div class=\"sk-toggleable__content\"><pre>RobustScaler()</pre></div></div></div></div></div></div><div class=\"sk-parallel-item\"><div class=\"sk-item\"><div class=\"sk-label-container\"><div class=\"sk-label sk-toggleable\"><input class=\"sk-toggleable__control sk-hidden--visually\" id=\"d3c4469a-b77e-4ef8-a346-c219f58bde39\" type=\"checkbox\" ><label class=\"sk-toggleable__label\" for=\"d3c4469a-b77e-4ef8-a346-c219f58bde39\">cut_encoder</label><div class=\"sk-toggleable__content\"><pre>['주구매상품']</pre></div></div></div><div class=\"sk-serial\"><div class=\"sk-item\"><div class=\"sk-estimator sk-toggleable\"><input class=\"sk-toggleable__control sk-hidden--visually\" id=\"c0c657af-85a4-42d5-bf82-47d992d77d13\" type=\"checkbox\" ><label class=\"sk-toggleable__label\" for=\"c0c657af-85a4-42d5-bf82-47d992d77d13\">OrdinalEncoder</label><div class=\"sk-toggleable__content\"><pre>OrdinalEncoder(categories=[['기타', '가공식품', '농산물', '화장품', '시티웨어', '디자이너', '수산품',\n",
       "                            '캐주얼', '명품', '섬유잡화', '골프', '스포츠', '일용잡화', '모피/피혁',\n",
       "                            '육류', '남성 캐주얼', '구두', '건강식품', '차/커피', '피혁잡화', '아동',\n",
       "                            '축산가공', '주방용품', '셔츠', '젓갈/반찬', '주방가전', '트래디셔널',\n",
       "                            '남성정장', '생활잡화', '주류', ...]])</pre></div></div></div></div></div></div><div class=\"sk-parallel-item\"><div class=\"sk-item\"><div class=\"sk-label-container\"><div class=\"sk-label sk-toggleable\"><input class=\"sk-toggleable__control sk-hidden--visually\" id=\"cd5995fa-a257-41ce-b7f1-658769964ec5\" type=\"checkbox\" ><label class=\"sk-toggleable__label\" for=\"cd5995fa-a257-41ce-b7f1-658769964ec5\">clarity_encoder</label><div class=\"sk-toggleable__content\"><pre>['주구매지점']</pre></div></div></div><div class=\"sk-serial\"><div class=\"sk-item\"><div class=\"sk-estimator sk-toggleable\"><input class=\"sk-toggleable__control sk-hidden--visually\" id=\"01ffd013-733f-4740-9397-21eddfb82a1b\" type=\"checkbox\" ><label class=\"sk-toggleable__label\" for=\"01ffd013-733f-4740-9397-21eddfb82a1b\">OrdinalEncoder</label><div class=\"sk-toggleable__content\"><pre>OrdinalEncoder(categories=[['본  점', '잠실점', '분당점', '부산본점', '영등포점', '일산점', '강남점',\n",
       "                            '광주점', '노원점', '청량리점', '대전점', '미아점', '부평점', '동래점',\n",
       "                            '관악점', '인천점', '안양점', '포항점', '대구점', '센텀시티점', '울산점',\n",
       "                            '전주점', '창원점', '상인점']])</pre></div></div></div></div></div></div><div class=\"sk-parallel-item\"><div class=\"sk-item\"><div class=\"sk-label-container\"><div class=\"sk-label sk-toggleable\"><input class=\"sk-toggleable__control sk-hidden--visually\" id=\"9a04efd5-ffad-4eda-b0e4-1f2439f00e15\" type=\"checkbox\" ><label class=\"sk-toggleable__label\" for=\"9a04efd5-ffad-4eda-b0e4-1f2439f00e15\">remainder</label><div class=\"sk-toggleable__content\"><pre>[['총구매액', '최대구매액', '환불금액', '주구매상품', '주구매지점', '내점일수', '내점당구매건수', '주말방문비율', '구매주기']]</pre></div></div></div><div class=\"sk-serial\"><div class=\"sk-item\"><div class=\"sk-estimator sk-toggleable\"><input class=\"sk-toggleable__control sk-hidden--visually\" id=\"3a84a26b-280a-4c57-a44b-40ed41d529a7\" type=\"checkbox\" ><label class=\"sk-toggleable__label\" for=\"3a84a26b-280a-4c57-a44b-40ed41d529a7\">passthrough</label><div class=\"sk-toggleable__content\"><pre>passthrough</pre></div></div></div></div></div></div></div></div><div class=\"sk-item\"><div class=\"sk-estimator sk-toggleable\"><input class=\"sk-toggleable__control sk-hidden--visually\" id=\"666083c4-eff8-45ff-bb8a-12520f0c6b1d\" type=\"checkbox\" ><label class=\"sk-toggleable__label\" for=\"666083c4-eff8-45ff-bb8a-12520f0c6b1d\">LGBMClassifier</label><div class=\"sk-toggleable__content\"><pre>LGBMClassifier(random_state=42)</pre></div></div></div></div></div></div></div>"
      ],
      "text/plain": [
       "Pipeline(steps=[('preprocessor',\n",
       "                 ColumnTransformer(remainder='passthrough',\n",
       "                                   transformers=[('robust_scaler',\n",
       "                                                  RobustScaler(),\n",
       "                                                  ['총구매액', '최대구매액', '환불금액',\n",
       "                                                   '내점일수', '내점당구매건수', '주말방문비율',\n",
       "                                                   '구매주기']),\n",
       "                                                 ('cut_encoder',\n",
       "                                                  OrdinalEncoder(categories=[['기타',\n",
       "                                                                              '가공식품',\n",
       "                                                                              '농산물',\n",
       "                                                                              '화장품',\n",
       "                                                                              '시티웨어',\n",
       "                                                                              '디자이너',\n",
       "                                                                              '수산품',\n",
       "                                                                              '캐주얼',\n",
       "                                                                              '명품',\n",
       "                                                                              '섬유잡화',\n",
       "                                                                              '골프',\n",
       "                                                                              '스포츠',\n",
       "                                                                              '일용잡화',\n",
       "                                                                              '모피/피혁',\n",
       "                                                                              '육류',\n",
       "                                                                              '남성 '\n",
       "                                                                              '캐주얼',\n",
       "                                                                              '구두',\n",
       "                                                                              '건강식품',\n",
       "                                                                              '차/커피',\n",
       "                                                                              '피혁잡화',\n",
       "                                                                              '아동',\n",
       "                                                                              '축산가공',\n",
       "                                                                              '주방용품',\n",
       "                                                                              '셔츠',\n",
       "                                                                              '젓갈/반찬',\n",
       "                                                                              '주방가전',\n",
       "                                                                              '트래디셔널',\n",
       "                                                                              '남성정장',\n",
       "                                                                              '생활잡화',\n",
       "                                                                              '주류', ...]]),\n",
       "                                                  ['주구매상품']),\n",
       "                                                 ('clarity_encoder',\n",
       "                                                  OrdinalEncoder(categories=[['본  '\n",
       "                                                                              '점',\n",
       "                                                                              '잠실점',\n",
       "                                                                              '분당점',\n",
       "                                                                              '부산본점',\n",
       "                                                                              '영등포점',\n",
       "                                                                              '일산점',\n",
       "                                                                              '강남점',\n",
       "                                                                              '광주점',\n",
       "                                                                              '노원점',\n",
       "                                                                              '청량리점',\n",
       "                                                                              '대전점',\n",
       "                                                                              '미아점',\n",
       "                                                                              '부평점',\n",
       "                                                                              '동래점',\n",
       "                                                                              '관악점',\n",
       "                                                                              '인천점',\n",
       "                                                                              '안양점',\n",
       "                                                                              '포항점',\n",
       "                                                                              '대구점',\n",
       "                                                                              '센텀시티점',\n",
       "                                                                              '울산점',\n",
       "                                                                              '전주점',\n",
       "                                                                              '창원점',\n",
       "                                                                              '상인점']]),\n",
       "                                                  ['주구매지점'])])),\n",
       "                ('regressor', LGBMClassifier(random_state=42))])"
      ]
     },
     "execution_count": 73,
     "metadata": {},
     "output_type": "execute_result"
    }
   ],
   "source": [
    "import numpy as np \n",
    "\n",
    "pipeline.fit(X_train, y_train['gender'].values)"
   ]
  },
  {
   "cell_type": "markdown",
   "id": "3aa6dfee-4117-499f-89d9-0501b0696602",
   "metadata": {},
   "source": [
    "## 모형 평가\n",
    "- 정확도를 계산한다. "
   ]
  },
  {
   "cell_type": "code",
   "execution_count": 74,
   "id": "6d21c572-fa28-46e9-af54-2f1176cb221e",
   "metadata": {},
   "outputs": [
    {
     "data": {
      "text/plain": [
       "0.8897142857142857"
      ]
     },
     "execution_count": 74,
     "metadata": {},
     "output_type": "execute_result"
    }
   ],
   "source": [
    "pipeline.score(X_train, y_train['gender'])"
   ]
  },
  {
   "cell_type": "code",
   "execution_count": 75,
   "id": "efe548b2-4016-4c47-89b0-f53fef288526",
   "metadata": {},
   "outputs": [
    {
     "data": {
      "text/plain": [
       "array([0.48938383, 0.09836715, 0.09363401, ..., 0.34992229, 0.61846457,\n",
       "       0.63511339])"
      ]
     },
     "execution_count": 75,
     "metadata": {},
     "output_type": "execute_result"
    }
   ],
   "source": [
    "predictions = pipeline.predict_proba(X_test)\n",
    "predictions[:, 1]"
   ]
  },
  {
   "cell_type": "markdown",
   "id": "dc694ac3-6eef-476f-bd4c-9a22b69ad5d1",
   "metadata": {},
   "source": [
    "## 제출"
   ]
  },
  {
   "cell_type": "code",
   "execution_count": 76,
   "id": "4c5b14b0-e861-4aeb-943b-bddc92e31dbd",
   "metadata": {},
   "outputs": [],
   "source": [
    "pd.DataFrame({'cust_id': cust_id, 'gender': predictions[:, 1]}).to_csv('003000000.csv', index=False)"
   ]
  }
 ],
 "metadata": {
  "kernelspec": {
   "display_name": "Python 3 (ipykernel)",
   "language": "python",
   "name": "python3"
  },
  "language_info": {
   "codemirror_mode": {
    "name": "ipython",
    "version": 3
   },
   "file_extension": ".py",
   "mimetype": "text/x-python",
   "name": "python",
   "nbconvert_exporter": "python",
   "pygments_lexer": "ipython3",
   "version": "3.9.13"
  }
 },
 "nbformat": 4,
 "nbformat_minor": 5
}
