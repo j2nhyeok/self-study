{
 "cells": [
  {
   "cell_type": "markdown",
   "id": "7ae9de36-f027-4951-af3e-45eaabe14f74",
   "metadata": {},
   "source": [
    "## 문제 1. \n",
    "- 다음은 E-Commerce Shipping 데이터 세트이다. 주어진 훈련 데이터 세트를 활용하여 고객이 주문한 물품의 정시 도착 여부를 예측하고 해당 예측 결과를 csv 파일로 제출하시오.\n",
    "- 결과 예측 양식 : 제출한 예측값의 ROC_AUC 점수 결과를 통해 영역별 배점에 따라 최종 점수가 반영될 예정"
   ]
  },
  {
   "cell_type": "code",
   "execution_count": 1,
   "id": "6cc5e026-b580-4eb6-b736-dba7466efc76",
   "metadata": {},
   "outputs": [
    {
     "data": {
      "text/html": [
       "<div>\n",
       "<style scoped>\n",
       "    .dataframe tbody tr th:only-of-type {\n",
       "        vertical-align: middle;\n",
       "    }\n",
       "\n",
       "    .dataframe tbody tr th {\n",
       "        vertical-align: top;\n",
       "    }\n",
       "\n",
       "    .dataframe thead th {\n",
       "        text-align: right;\n",
       "    }\n",
       "</style>\n",
       "<table border=\"1\" class=\"dataframe\">\n",
       "  <thead>\n",
       "    <tr style=\"text-align: right;\">\n",
       "      <th></th>\n",
       "      <th>ID</th>\n",
       "      <th>y_pred</th>\n",
       "    </tr>\n",
       "  </thead>\n",
       "  <tbody>\n",
       "    <tr>\n",
       "      <th>0</th>\n",
       "      <td>0</td>\n",
       "      <td>0.2543</td>\n",
       "    </tr>\n",
       "    <tr>\n",
       "      <th>1</th>\n",
       "      <td>1</td>\n",
       "      <td>0.1324</td>\n",
       "    </tr>\n",
       "    <tr>\n",
       "      <th>2</th>\n",
       "      <td>2</td>\n",
       "      <td>0.5892</td>\n",
       "    </tr>\n",
       "  </tbody>\n",
       "</table>\n",
       "</div>"
      ],
      "text/plain": [
       "   ID  y_pred\n",
       "0   0  0.2543\n",
       "1   1  0.1324\n",
       "2   2  0.5892"
      ]
     },
     "execution_count": 1,
     "metadata": {},
     "output_type": "execute_result"
    }
   ],
   "source": [
    "import pandas as pd \n",
    "pd.DataFrame({\n",
    "    \"ID\"  : [0, 1, 2], \n",
    "    \"y_pred\" : [0.2543, 0.1324, 0.5892]\n",
    "})"
   ]
  },
  {
   "cell_type": "markdown",
   "id": "08823c72-8617-418a-ba54-263082740f80",
   "metadata": {},
   "source": [
    "## 데이터 불러오기"
   ]
  },
  {
   "cell_type": "code",
   "execution_count": 2,
   "id": "890a4b01-c211-4a9a-9792-6b578f1f3d01",
   "metadata": {},
   "outputs": [],
   "source": [
    "import pandas as pd \n",
    "X_test = pd.read_csv(\"data/2회/204_x_test.csv\")\n",
    "X_train = pd.read_csv(\"data/2회/204_x_train.csv\")\n",
    "y_train = pd.read_csv(\"data/2회/204_y_train.csv\")"
   ]
  },
  {
   "cell_type": "code",
   "execution_count": 3,
   "id": "7e6b7714-c36b-41d3-a424-8f4b00d1581d",
   "metadata": {},
   "outputs": [
    {
     "name": "stdout",
     "output_type": "stream",
     "text": [
      "<class 'pandas.core.frame.DataFrame'>\n",
      "RangeIndex: 6599 entries, 0 to 6598\n",
      "Data columns (total 2 columns):\n",
      " #   Column               Non-Null Count  Dtype\n",
      "---  ------               --------------  -----\n",
      " 0   ID                   6599 non-null   int64\n",
      " 1   Reached.on.Time_Y.N  6599 non-null   int64\n",
      "dtypes: int64(2)\n",
      "memory usage: 103.2 KB\n"
     ]
    }
   ],
   "source": [
    "y_train.info()"
   ]
  },
  {
   "cell_type": "markdown",
   "id": "4fe34222-4ae2-41d9-8304-1aa45f084bdc",
   "metadata": {},
   "source": [
    "## 데이터 정보"
   ]
  },
  {
   "cell_type": "code",
   "execution_count": 4,
   "id": "6a5c38f4-e8fa-4bc5-a0ab-47a17822249a",
   "metadata": {},
   "outputs": [
    {
     "data": {
      "text/html": [
       "<div>\n",
       "<style scoped>\n",
       "    .dataframe tbody tr th:only-of-type {\n",
       "        vertical-align: middle;\n",
       "    }\n",
       "\n",
       "    .dataframe tbody tr th {\n",
       "        vertical-align: top;\n",
       "    }\n",
       "\n",
       "    .dataframe thead th {\n",
       "        text-align: right;\n",
       "    }\n",
       "</style>\n",
       "<table border=\"1\" class=\"dataframe\">\n",
       "  <thead>\n",
       "    <tr style=\"text-align: right;\">\n",
       "      <th></th>\n",
       "      <th>변수</th>\n",
       "      <th>설명</th>\n",
       "    </tr>\n",
       "  </thead>\n",
       "  <tbody>\n",
       "    <tr>\n",
       "      <th>0</th>\n",
       "      <td>ID</td>\n",
       "      <td>고객 ID 번호</td>\n",
       "    </tr>\n",
       "    <tr>\n",
       "      <th>1</th>\n",
       "      <td>Warehouse_block</td>\n",
       "      <td>창고의 블록 단위 구역(A, B, C, D, F)</td>\n",
       "    </tr>\n",
       "    <tr>\n",
       "      <th>2</th>\n",
       "      <td>Mode_of_Shipment</td>\n",
       "      <td>제품 배송 방법</td>\n",
       "    </tr>\n",
       "    <tr>\n",
       "      <th>3</th>\n",
       "      <td>Customer_care_calls</td>\n",
       "      <td>문의 전화 수</td>\n",
       "    </tr>\n",
       "    <tr>\n",
       "      <th>4</th>\n",
       "      <td>Customer_rating</td>\n",
       "      <td>고객의 등급(1: 가장 낮음, 5: 가장 높음)</td>\n",
       "    </tr>\n",
       "    <tr>\n",
       "      <th>5</th>\n",
       "      <td>Cost_of_the_Product</td>\n",
       "      <td>제품의 비용(달러 기준)</td>\n",
       "    </tr>\n",
       "    <tr>\n",
       "      <th>6</th>\n",
       "      <td>Prior_purchases</td>\n",
       "      <td>사전 구매 수량</td>\n",
       "    </tr>\n",
       "    <tr>\n",
       "      <th>7</th>\n",
       "      <td>Product_importance</td>\n",
       "      <td>제품의 중요도</td>\n",
       "    </tr>\n",
       "    <tr>\n",
       "      <th>8</th>\n",
       "      <td>Gender</td>\n",
       "      <td>성별(F: 여성, M: 남성)</td>\n",
       "    </tr>\n",
       "    <tr>\n",
       "      <th>9</th>\n",
       "      <td>Discount_offered</td>\n",
       "      <td>할인혜택</td>\n",
       "    </tr>\n",
       "    <tr>\n",
       "      <th>10</th>\n",
       "      <td>Weight_in_gms</td>\n",
       "      <td>그램 단위 무게</td>\n",
       "    </tr>\n",
       "    <tr>\n",
       "      <th>11</th>\n",
       "      <td>Reached.on.Time_Y.N</td>\n",
       "      <td>정시 도착 여부(1: 도착하지 않음, 0: 정시 도착)</td>\n",
       "    </tr>\n",
       "  </tbody>\n",
       "</table>\n",
       "</div>"
      ],
      "text/plain": [
       "                     변수                              설명\n",
       "0                    ID                        고객 ID 번호\n",
       "1       Warehouse_block     창고의 블록 단위 구역(A, B, C, D, F)\n",
       "2      Mode_of_Shipment                        제품 배송 방법\n",
       "3   Customer_care_calls                         문의 전화 수\n",
       "4       Customer_rating      고객의 등급(1: 가장 낮음, 5: 가장 높음)\n",
       "5   Cost_of_the_Product                   제품의 비용(달러 기준)\n",
       "6       Prior_purchases                        사전 구매 수량\n",
       "7    Product_importance                         제품의 중요도\n",
       "8                Gender                성별(F: 여성, M: 남성)\n",
       "9      Discount_offered                            할인혜택\n",
       "10        Weight_in_gms                        그램 단위 무게\n",
       "11  Reached.on.Time_Y.N  정시 도착 여부(1: 도착하지 않음, 0: 정시 도착)"
      ]
     },
     "execution_count": 4,
     "metadata": {},
     "output_type": "execute_result"
    }
   ],
   "source": [
    "import pandas as pd \n",
    "pd.DataFrame({\n",
    "    \"변수\" : list(X_train.columns) + [\"Reached.on.Time_Y.N\"], \n",
    "    \"설명\" : [\n",
    "        \"고객 ID 번호\", \n",
    "        \"창고의 블록 단위 구역(A, B, C, D, F)\", \n",
    "        \"제품 배송 방법\", \n",
    "        \"문의 전화 수\", \n",
    "        \"고객의 등급(1: 가장 낮음, 5: 가장 높음)\", \n",
    "        \"제품의 비용(달러 기준)\",\n",
    "        \"사전 구매 수량\", \n",
    "        \"제품의 중요도\", \n",
    "        \"성별(F: 여성, M: 남성)\", \n",
    "        \"할인혜택\", \n",
    "        \"그램 단위 무게\", \n",
    "        \"정시 도착 여부(1: 도착하지 않음, 0: 정시 도착)\"\n",
    "    ]\n",
    "})"
   ]
  },
  {
   "cell_type": "code",
   "execution_count": 20,
   "id": "74d64c3b-0c4a-4f0f-9fd9-3ba57c95d596",
   "metadata": {},
   "outputs": [],
   "source": [
    "import pandas as pd \n",
    "X_test = pd.read_csv(\"data/2회/204_x_test.csv\")\n",
    "X_train = pd.read_csv(\"data/2회/204_x_train.csv\")\n",
    "y_train = pd.read_csv(\"data/2회/204_y_train.csv\")\n",
    "# 코드 작성, 암기를 못하면 끝!\n",
    "# 데이터 확인\n",
    "#print(X_train.head(1))\n",
    "#print(y_train.head(2))\n",
    "\n",
    "# 결측치 확인\n",
    "# print(X_train.isnull().sum()) #결측치 없음\n",
    "# print(X_test.isnull().sum()) #결측치 없음\n",
    "\n",
    "# 불필요한 컬럼 삭제\n",
    "X_train_id = X_train.pop('ID') # X_train_id는 저장, X_train.pop('ID') # ID 컬럼은 제거 된 채로 DataFrame 저장\n",
    "X_test_id = X_test.pop('ID')\n",
    "# print(y_train['Reached.on.Time_Y.N'].value_counts()) # 비율의 차이가 나오니까, stratify 옵션 사용해야 하는 것을 깨닮음\n",
    "\n",
    "#print(X_train.describe()) # 피처 엔지니어링은 RobustScaler 사용 해야지 결정.\n",
    "\n",
    "# pipeline 사용 시, 사용하고자 하는 컬럼명을 추출하는 것이 중요\n",
    "# 숫자형 컬럼 추출\n",
    "import numpy as np \n",
    "numbers_df = X_train.select_dtypes(include=np.number)\n",
    "# 문자형 컬럼 추출\n",
    "object_df = X_train.select_dtypes(exclude=np.number) # OrdinalEncoder, One-Hot Encoder분리\n",
    "\n",
    "from sklearn.model_selection import train_test_split\n",
    "X_tr, X_te, y_tr, y_te = train_test_split(X_train, y_train['Reached.on.Time_Y.N'], test_size =0.25, stratify = y_train['Reached.on.Time_Y.N'], random_state=42)"
   ]
  },
  {
   "cell_type": "code",
   "execution_count": 27,
   "id": "b8dba8ea-bfa4-4924-9ff1-53aba6f91377",
   "metadata": {},
   "outputs": [
    {
     "name": "stdout",
     "output_type": "stream",
     "text": [
      "Fitting 3 folds for each of 3 candidates, totalling 9 fits\n"
     ]
    },
    {
     "name": "stderr",
     "output_type": "stream",
     "text": [
      "C:\\Users\\chlwl\\anaconda3\\envs\\ml_j2nhyeok\\lib\\site-packages\\sklearn\\model_selection\\_validation.py:425: FitFailedWarning: \n",
      "6 fits failed out of a total of 9.\n",
      "The score on these train-test partitions for these parameters will be set to nan.\n",
      "If these failures are not expected, you can try to debug them by setting error_score='raise'.\n",
      "\n",
      "Below are more details about the failures:\n",
      "--------------------------------------------------------------------------------\n",
      "4 fits failed with the following error:\n",
      "Traceback (most recent call last):\n",
      "  File \"C:\\Users\\chlwl\\anaconda3\\envs\\ml_j2nhyeok\\lib\\site-packages\\sklearn\\model_selection\\_validation.py\", line 732, in _fit_and_score\n",
      "    estimator.fit(X_train, y_train, **fit_params)\n",
      "  File \"C:\\Users\\chlwl\\anaconda3\\envs\\ml_j2nhyeok\\lib\\site-packages\\sklearn\\base.py\", line 1151, in wrapper\n",
      "    return fit_method(estimator, *args, **kwargs)\n",
      "  File \"C:\\Users\\chlwl\\anaconda3\\envs\\ml_j2nhyeok\\lib\\site-packages\\sklearn\\pipeline.py\", line 420, in fit\n",
      "    self._final_estimator.fit(Xt, y, **fit_params_last_step)\n",
      "  File \"C:\\Users\\chlwl\\anaconda3\\envs\\ml_j2nhyeok\\lib\\site-packages\\sklearn\\base.py\", line 1144, in wrapper\n",
      "    estimator._validate_params()\n",
      "  File \"C:\\Users\\chlwl\\anaconda3\\envs\\ml_j2nhyeok\\lib\\site-packages\\sklearn\\base.py\", line 637, in _validate_params\n",
      "    validate_parameter_constraints(\n",
      "  File \"C:\\Users\\chlwl\\anaconda3\\envs\\ml_j2nhyeok\\lib\\site-packages\\sklearn\\utils\\_param_validation.py\", line 95, in validate_parameter_constraints\n",
      "    raise InvalidParameterError(\n",
      "sklearn.utils._param_validation.InvalidParameterError: The 'max_features' parameter of RandomForestClassifier must be an int in the range [1, inf), a float in the range (0.0, 1.0], a str among {'sqrt', 'log2'} or None. Got 'auto' instead.\n",
      "\n",
      "--------------------------------------------------------------------------------\n",
      "2 fits failed with the following error:\n",
      "Traceback (most recent call last):\n",
      "  File \"C:\\Users\\chlwl\\anaconda3\\envs\\ml_j2nhyeok\\lib\\site-packages\\sklearn\\model_selection\\_validation.py\", line 732, in _fit_and_score\n",
      "    estimator.fit(X_train, y_train, **fit_params)\n",
      "  File \"C:\\Users\\chlwl\\anaconda3\\envs\\ml_j2nhyeok\\lib\\site-packages\\sklearn\\base.py\", line 1151, in wrapper\n",
      "    return fit_method(estimator, *args, **kwargs)\n",
      "  File \"C:\\Users\\chlwl\\anaconda3\\envs\\ml_j2nhyeok\\lib\\site-packages\\sklearn\\pipeline.py\", line 420, in fit\n",
      "    self._final_estimator.fit(Xt, y, **fit_params_last_step)\n",
      "  File \"C:\\Users\\chlwl\\anaconda3\\envs\\ml_j2nhyeok\\lib\\site-packages\\sklearn\\base.py\", line 1144, in wrapper\n",
      "    estimator._validate_params()\n",
      "  File \"C:\\Users\\chlwl\\anaconda3\\envs\\ml_j2nhyeok\\lib\\site-packages\\sklearn\\base.py\", line 637, in _validate_params\n",
      "    validate_parameter_constraints(\n",
      "  File \"C:\\Users\\chlwl\\anaconda3\\envs\\ml_j2nhyeok\\lib\\site-packages\\sklearn\\utils\\_param_validation.py\", line 95, in validate_parameter_constraints\n",
      "    raise InvalidParameterError(\n",
      "sklearn.utils._param_validation.InvalidParameterError: The 'max_features' parameter of RandomForestClassifier must be an int in the range [1, inf), a float in the range (0.0, 1.0], a str among {'log2', 'sqrt'} or None. Got 'auto' instead.\n",
      "\n",
      "  warnings.warn(some_fits_failed_message, FitFailedWarning)\n",
      "C:\\Users\\chlwl\\anaconda3\\envs\\ml_j2nhyeok\\lib\\site-packages\\sklearn\\model_selection\\_search.py:976: UserWarning: One or more of the test scores are non-finite: [0.74000011        nan        nan]\n",
      "  warnings.warn(\n"
     ]
    },
    {
     "data": {
      "text/plain": [
       "0.7343200641196901"
      ]
     },
     "execution_count": 27,
     "metadata": {},
     "output_type": "execute_result"
    }
   ],
   "source": [
    "from sklearn.preprocessing import OrdinalEncoder, OneHotEncoder, RobustScaler, MinMaxScaler, StandardScaler\n",
    "from sklearn.compose import ColumnTransformer\n",
    "from sklearn.pipeline import Pipeline\n",
    "from sklearn.ensemble import RandomForestClassifier\n",
    "from sklearn.model_selection import RandomizedSearchCV\n",
    "from sklearn.metrics import roc_auc_score\n",
    "from lightgbm import LGBMClassifier\n",
    "import numpy as np\n",
    "\n",
    "# RandomizedSearchCV() 에 대입\n",
    "param_grid = {\n",
    "    'classifier__n_estimators' : np.arange(30, 1000, 100), # 필수 \n",
    "    'classifier__max_depth' : [None] + list(np.arange(5, 30, 5)), # 필수\n",
    "    'classifier__min_samples_split': [2, 5, 10], # 옵션\n",
    "    'classifier__min_samples_leaf': [1, 2, 4], # 옵션 \n",
    "    'classifier__max_features': ['auto', 'sqrt', 'log2'], # 옵션\n",
    "} \n",
    "\n",
    "# ColumnTransformer\n",
    "column_transformer = ColumnTransformer([\n",
    "    (\"scaler\", RobustScaler(), numbers_df.columns), # scaler\n",
    "    (\"ohc_encoder\", OneHotEncoder(), ['Warehouse_block', 'Mode_of_Shipment', 'Gender']), # 명목척도 처리\n",
    "    (\"pd_imp_encoder\", OrdinalEncoder(categories=[['low', 'medium', 'high']]), ['Product_importance']), # 서열척도 처리\n",
    "], remainder = 'passthrough')\n",
    "\n",
    "pipeline = Pipeline([\n",
    "    ('preprocessor', column_transformer), \n",
    "    ('classifier', RandomForestClassifier(random_state=42))\n",
    "])\n",
    "\n",
    "# Grid Search 코드 스타일은 비슷(99% 비슷)\n",
    "random_search = RandomizedSearchCV(\n",
    "    estimator = pipeline, \n",
    "    param_distributions = param_grid, \n",
    "    n_iter = 3, \n",
    "    scoring = 'roc_auc', # 잘 모르겠다. 시험장에서는 디폴트 값으로 accuracy\n",
    "    cv = 3, \n",
    "    verbose=3, \n",
    "    n_jobs = -1 # CPU cores 모두 사용하겠다는 뜻\n",
    ")\n",
    "\n",
    "# 모형학습\n",
    "random_search.fit(X_tr, y_tr)\n",
    "# 예측값 산출\n",
    "predictions = random_search.predict_proba(X_te)\n",
    "\n",
    "# 모형평가\n",
    "roc_auc_score(y_te, predictions[:, 1])"
   ]
  },
  {
   "cell_type": "code",
   "execution_count": null,
   "id": "026a37f7-5925-4702-8cf5-500a7e63483b",
   "metadata": {},
   "outputs": [],
   "source": []
  }
 ],
 "metadata": {
  "kernelspec": {
   "display_name": "Python 3 (ipykernel)",
   "language": "python",
   "name": "python3"
  },
  "language_info": {
   "codemirror_mode": {
    "name": "ipython",
    "version": 3
   },
   "file_extension": ".py",
   "mimetype": "text/x-python",
   "name": "python",
   "nbconvert_exporter": "python",
   "pygments_lexer": "ipython3",
   "version": "3.10.13"
  }
 },
 "nbformat": 4,
 "nbformat_minor": 5
}
