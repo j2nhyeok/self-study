{
  "nbformat": 4,
  "nbformat_minor": 0,
  "metadata": {
    "colab": {
      "provenance": []
    },
    "kernelspec": {
      "name": "python3",
      "display_name": "Python 3"
    },
    "language_info": {
      "name": "python"
    }
  },
  "cells": [
    {
      "cell_type": "markdown",
      "source": [
        "# 작업형2\n",
        "- 빅데이터 분석기사 2회 실기\n",
        "- 데이터 다운로드 : https://www.kaggle.com/prachi13/customer-analytics\n",
        "- 데이터 파일 명 : Train.csv (파일명이 다를 경우 파일명을 수정해주세요)\n",
        "- (데이터가 삭제될 시 수업노트에 유사 데이터 셋을 올려두겠습니다)\n",
        "\n",
        "\n",
        "## 제품 배송 시간에 맞춰 배송되었는지 예측모델 만들기\n",
        "- 제공된 데이터\n",
        "    - X_train.csv\n",
        "    - y_train.csv\n",
        "    - X_test.csv\n",
        "\n",
        "- 학습용 데이터 (X_train, y_train)을 이용하여 배송 예측 모형을 만든 후, 이를 평가용 데이터(X_test)에 적용하여 얻은 예측(시간에 맞춰 도착하지 않을 확률)값을 다음과 같은 형식의 CSV파일로 생성하시오(제출한 모델의 성능은 ROC-AUC 평가지표에 따라 채점)\n",
        "- 0 정시 도착, 1 정시 도착하지 않음\n",
        "\n",
        "```\n",
        "ID,Reached.on.Time_Y.N\n",
        "3500,0.267\n",
        "3501,0.578\n",
        "3502,0.123\n",
        "\n",
        "```\n",
        "\n",
        "- 출력을 원하실 경우 print() 함수 활용\n",
        "- 예시) print(df.head())\n",
        "- getcwd(), chdir() 등 작업 폴더 설정 불필요\n",
        "- 파일 경로 상 내부 드라이브 경로(C: 등) 접근 불가\n",
        "\n",
        "- 데이터 파일 읽기 예제\n",
        "\n",
        "```\n",
        "# 데이터 불러오기\n",
        "import pandas as pd\n",
        "X_test = pd.read_csv(\"data/X_test.csv\")\n",
        "X_train = pd.read_csv(\"data/X_train.csv\")\n",
        "y_train = pd.read_csv(\"data/y_train.csv\")\n",
        "```\n",
        "\n",
        "- csv파일 생성 예시\n",
        "\n",
        "```\n",
        "pd.DataFrame({'ID': X_test['cust_id'], 'Reached.on.Time_Y.N': pred}).to_csv('003000000.csv', index=False)\n",
        "```\n"
      ],
      "metadata": {
        "id": "yOX8hBk5gKrW"
      }
    },
    {
      "cell_type": "code",
      "source": [
        "# 시험환경 세팅 3개 파일 생성 (코드 변경 X)\n",
        "import pandas as pd\n",
        "import numpy as np\n",
        "from sklearn.model_selection import train_test_split\n",
        "\n",
        "def exam_data_load(df, target, id_name=\"\", null_name=\"\"):\n",
        "    if id_name == \"\":\n",
        "        df = df.reset_index().rename(columns={\"index\": \"id\"})\n",
        "        id_name = 'id'\n",
        "    else:\n",
        "        id_name = id_name\n",
        "\n",
        "    if null_name != \"\":\n",
        "        df[df == null_name] = np.nan\n",
        "\n",
        "    X_train, X_test = train_test_split(df, test_size=0.2, random_state=2022)\n",
        "    y_train = X_train[[id_name, target]]\n",
        "    X_train = X_train.drop(columns=[target])\n",
        "\n",
        "    y_test = X_test[[id_name, target]]\n",
        "    X_test = X_test.drop(columns=[target])\n",
        "    return X_train, X_test, y_train, y_test\n",
        "\n",
        "df = pd.read_csv(\"Train.csv\") # 파일명이 다를 경우 파일명을 수정해주세요\n",
        "X_train, X_test, y_train, y_test = exam_data_load(df, target='Reached.on.Time_Y.N', id_name='ID')\n",
        "X_train.to_csv(\"X_train.csv\", index=False)\n",
        "y_train.to_csv(\"y_train.csv\", index=False)\n",
        "X_test.to_csv(\"X_test.csv\", index=False)"
      ],
      "metadata": {
        "id": "hyw3NhLlgN0f"
      },
      "execution_count": 1,
      "outputs": []
    },
    {
      "cell_type": "code",
      "source": [
        "# 데이터 불러오기\n",
        "import pandas as pd\n",
        "X_test = pd.read_csv(\"X_test.csv\")\n",
        "X_train = pd.read_csv(\"X_train.csv\")\n",
        "y_train = pd.read_csv(\"y_train.csv\")\n",
        "\n",
        "X_train.shape, y_train.shape, X_test.shape"
      ],
      "metadata": {
        "id": "hZ0y7BQRXkyK",
        "outputId": "27c1b9c5-ce84-49ae-8985-d2d030895c11",
        "colab": {
          "base_uri": "https://localhost:8080/"
        }
      },
      "execution_count": 12,
      "outputs": [
        {
          "output_type": "execute_result",
          "data": {
            "text/plain": [
              "((8799, 11), (8799, 2), (2200, 11))"
            ]
          },
          "metadata": {},
          "execution_count": 12
        }
      ]
    },
    {
      "cell_type": "code",
      "source": [
        "# 데이터 불러오기\n",
        "import pandas as pd\n",
        "X_test = pd.read_csv(\"X_test.csv\")\n",
        "X_train = pd.read_csv(\"X_train.csv\")\n",
        "y_train = pd.read_csv(\"y_train.csv\")\n",
        "\n",
        "X_train.shape, y_train.shape, X_test.shape\n",
        "# EDA\n",
        "# print(X_train.info(), y_train.info())  # null 값 없음. 인코딩 필요('Warehouse_block', 'Mode_of_Shipment', 'Product_importance'), ID 삭제\n",
        "# print(X_train.describe()) # ['Customer_care_calls', 'Customer_rating', 'Prior_purchases'] #=> 숫자형이지만 범주형\n",
        "\n",
        "# 전처리(기타)\n",
        "X_train = X_train.drop(['ID', 'Gender'], axis = 1)\n",
        "X_test = X_test.drop(['ID', 'Gender'], axis = 1)\n",
        "y_train = y_train.drop(['ID'], axis = 1)\n",
        "\n",
        "cols_object = list(X_train.select_dtypes(include='object').columns)\n",
        "cols_numeric = list(X_train.select_dtypes(exclude='object').columns)\n",
        "\n",
        "cols_not_scale = cols_object + ['Customer_care_calls', 'Customer_rating', 'Prior_purchases']\n",
        "\n",
        "# 전처리(인코딩)\n",
        "from sklearn.preprocessing import LabelEncoder\n",
        "\n",
        "for col in cols_object:\n",
        "  le = LabelEncoder()\n",
        "  X_train[col] = le.fit_transform(X_train[col])\n",
        "  X_test[col] = le.transform(X_test[col])\n",
        "\n",
        "# 전처리(스케일링)\n",
        "\n",
        "# 검증 데이터 분리\n",
        "from sklearn.model_selection import train_test_split\n",
        "\n",
        "X_tr, X_val, y_tr, y_val = train_test_split(X_train, y_train, test_size = 0.15, random_state = 2022)\n",
        "\n",
        "# 모델링\n",
        "from sklearn.ensemble import RandomForestClassifier\n",
        "clf = RandomForestClassifier(random_state = 2022, max_depth = 3, n_estimators = 200)\n",
        "clf.fit(X_tr, y_tr)\n",
        "pred = clf.predict_proba(X_val)\n",
        "\n",
        "# 평가\n",
        "from sklearn.metrics import roc_auc_score\n",
        "print(roc_auc_score(y_val, pred[:, 1]))\n",
        "\n",
        "# 제출\n",
        "pred = clf.predict_proba(X_test)\n",
        "submit = pd.DataFrame({\n",
        "    'Reached.on.Time_Y.N' : pred[:, 1]\n",
        "}).to_csv('adsf.csv', index=False)"
      ],
      "metadata": {
        "id": "UDfrJpnBx5ww",
        "outputId": "327cbff1-d808-4852-eaa8-f6abb18eef76",
        "colab": {
          "base_uri": "https://localhost:8080/"
        }
      },
      "execution_count": 34,
      "outputs": [
        {
          "output_type": "stream",
          "name": "stderr",
          "text": [
            "<ipython-input-34-e6e49883587c>:40: DataConversionWarning: A column-vector y was passed when a 1d array was expected. Please change the shape of y to (n_samples,), for example using ravel().\n",
            "  clf.fit(X_tr, y_tr)\n"
          ]
        },
        {
          "output_type": "stream",
          "name": "stdout",
          "text": [
            "0.7602058168101962\n"
          ]
        }
      ]
    },
    {
      "cell_type": "code",
      "source": [],
      "metadata": {
        "id": "dz1tjui8uU0s"
      },
      "execution_count": 3,
      "outputs": []
    }
  ]
}