{
  "nbformat": 4,
  "nbformat_minor": 0,
  "metadata": {
    "colab": {
      "provenance": []
    },
    "kernelspec": {
      "name": "python3",
      "display_name": "Python 3"
    },
    "language_info": {
      "name": "python"
    }
  },
  "cells": [
    {
      "cell_type": "markdown",
      "source": [
        "## 심장마비 확률이 높은사람?\n",
        "- 성별, 나이, 혈압, 콜레스테롤, 공복혈당, 최대 심박수 등의 컬럼이 있음\n",
        "- 평가: ROC-AUC, 정확도(Accuracy), F1 을 구하시오\n",
        "- target : output (1:심장마비 확률 높음, 0:심장마비 확률 낮음)\n",
        "- csv파일 생성 : 수험번호.csv (예시 아래 참조)\n",
        "~~~\n",
        "id,output\n",
        "41,0.633\n",
        "28,0.123\n",
        "222,0.355\n",
        "~~~\n",
        "\n"
      ],
      "metadata": {
        "id": "k5Z7yULvzpsF"
      }
    },
    {
      "cell_type": "code",
      "source": [
        "# 데이터 불러오기\n",
        "import pandas as pd\n",
        "train = pd.read_csv('/content/train.csv')\n",
        "test = pd.read_csv('/content/test.csv')\n",
        "\n",
        "# EDA\n",
        "# print(train.shape, test.shape) # target이 train에 붙어있음\n",
        "# print(train.info(), test.info()) # null 값 없고, all int/float / id 값은 지워야 할 듯.\n",
        "# print(train.nunique()) # 근데 sex, cp, fbs, restecg, exng, slp, caa, thall는 범주형에 가까움.\n",
        "# 전처리(기타)\n",
        "train = train.drop('id', axis = 1)\n",
        "test = test.drop('id', axis = 1)\n",
        "\n",
        "# 전처리(인코딩)\n",
        "\n",
        "# 전처리(스케일링)\n",
        "\n",
        "# 검증 데이터 분리\n",
        "from sklearn.model_selection import train_test_split\n",
        "X_tr, X_val, y_tr, y_val = train_test_split(train.drop('output', axis = 1), train['output'], test_size = 0.15, random_state = 2022)\n",
        "\n",
        "# 모델링\n",
        "from sklearn.ensemble import RandomForestClassifier\n",
        "model = RandomForestClassifier(random_state=2022)\n",
        "model.fit(X_tr, y_tr)\n",
        "pred = model.predict(X_val)\n",
        "pred2 = model.predict_proba(X_val)\n",
        "\n",
        "# 평가\n",
        "from sklearn.metrics import roc_auc_score, f1_score, accuracy_score\n",
        "print(f1_score(y_val, pred))\n",
        "print(accuracy_score(y_val, pred))\n",
        "print(roc_auc_score(y_val, pred2[:, 1]))\n",
        "\n",
        "# 제출\n",
        "pred = model.predict(test)\n",
        "pred2 = model.predict_proba(test)\n",
        "\n",
        "submit = pd.DataFrame({\n",
        "    'output1' : pred,\n",
        "    'output2' : pred2[:, 1]\n",
        "}).to_csv('0000.csv', index=False)"
      ],
      "metadata": {
        "id": "79P4zcpB0CHw",
        "outputId": "73e4601f-812c-4bbb-ca1f-86a3117a7687",
        "colab": {
          "base_uri": "https://localhost:8080/",
          "height": 111
        }
      },
      "execution_count": 10,
      "outputs": [
        {
          "output_type": "error",
          "ename": "SyntaxError",
          "evalue": "invalid syntax (<ipython-input-10-7067c55ec711>, line 39)",
          "traceback": [
            "\u001b[0;36m  File \u001b[0;32m\"<ipython-input-10-7067c55ec711>\"\u001b[0;36m, line \u001b[0;32m39\u001b[0m\n\u001b[0;31m    submit = pd.DataFrame(:)\u001b[0m\n\u001b[0m                          ^\u001b[0m\n\u001b[0;31mSyntaxError\u001b[0m\u001b[0;31m:\u001b[0m invalid syntax\n"
          ]
        }
      ]
    },
    {
      "cell_type": "markdown",
      "source": [
        "##정리"
      ],
      "metadata": {
        "id": "CeJ_BK2KDX6Z"
      }
    },
    {
      "cell_type": "code",
      "source": [
        "# y_test = pd.read_csv(\"y_test.csv\")\n",
        "# print(roc_auc_score(y_test, pred_proba[:,1]))"
      ],
      "metadata": {
        "id": "7VV1wp7zPkUA"
      },
      "execution_count": null,
      "outputs": []
    },
    {
      "cell_type": "code",
      "source": [],
      "metadata": {
        "id": "QF8WtfCMAQn1"
      },
      "execution_count": null,
      "outputs": []
    }
  ]
}