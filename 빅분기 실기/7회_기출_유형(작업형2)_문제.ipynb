{
  "nbformat": 4,
  "nbformat_minor": 0,
  "metadata": {
    "colab": {
      "provenance": []
    },
    "kernelspec": {
      "name": "python3",
      "display_name": "Python 3"
    },
    "language_info": {
      "name": "python"
    }
  },
  "cells": [
    {
      "cell_type": "markdown",
      "source": [
        "### mart 판매 데이터를 기반으로 판매액을 예측하시오.\n",
        "- 제공된 데이터 목록: mart_train.csv (훈련 데이터), mart_test.csv (평가용 데이터)\n",
        "- 예측할 컬럼: total (총 판매액)\n",
        "학습용 데이터(mart_train.csv)를 이용하여 총 판매액을 예측하는 모델을 만든 후, 이를 평가용 데이터(mart_test.csv)에 적용하여 얻은 예측값을 다음과 같은 형식의 CSV 파일로 생성하시오.\n",
        "- 제출 파일은 다음 한 개의 컬럼을 포함해야 합니다.\n",
        "- pred: 예측된 총 판매액\n",
        "- 제출 파일명: 'result.csv'\n",
        "- 제출한 모델의 성능은 RMSE(Root Mean Square Error) 평가지표에 따라 채점한다.\n",
        "- 제출 CSV 파일명 및 형태: result.csv\n",
        "\n",
        "~~~\n",
        "pred\n",
        "10000\n",
        "20000\n",
        "30000\n",
        "40000\n",
        "...\n",
        "~~~\n",
        "\n",
        "### 답안 제출 참고\n",
        "- pd.read_csv('result.csv') 로 제출 코드 확인"
      ],
      "metadata": {
        "id": "KBEr9K-lV_M6"
      }
    },
    {
      "cell_type": "markdown",
      "source": [
        "# 1. 문제정의\n",
        "- RMSE\n",
        "- target: total\n",
        "- 예측 파일명: result.csv\n",
        "- 컬럼 1개(pred)"
      ],
      "metadata": {
        "id": "Ae4v-2ju1mWi"
      }
    },
    {
      "cell_type": "code",
      "source": [
        "# 데이터 불러오기\n",
        "import pandas as pd\n",
        "train = pd.read_csv(\"mart_train.csv\")\n",
        "test = pd.read_csv(\"mart_test.csv\")\n",
        "\n",
        "# EDA\n",
        "pd.set_option('display.max_columns', None)\n",
        "# print(train.shape, test.shape)  # train안에 target('total' 있음)\n",
        "# print(train.info(), test.info()) # 널 값 없음. 인코딩 필요, 스케일링 할 필요는 없는 듯.\n",
        "# print(train.nunique())    # 원핫 인코딩 돌려도 될듯.\n",
        "\n",
        "# 전처리 (기타)\n",
        "cols_object = list(train.select_dtypes(include='object').columns)\n",
        "cols_numeric =['rating']\n",
        "\n",
        "\n",
        "# 전처리 (인코딩)\n",
        "from sklearn.preprocessing import LabelEncoder\n",
        "\n",
        "for col in cols_object:\n",
        "  le = LabelEncoder()\n",
        "  train[col] = le.fit_transform(train[col])\n",
        "  test[col] = le.transform(test[col])\n",
        "# train = pd.get_dummies(train, columns = cols_object)\n",
        "# test = pd.get_dummies(test, columns = cols_object)\n",
        "\n",
        "\n",
        "# 전처리 (스케일링)\n",
        "\n",
        "# 검증 데이터 분리\n",
        "from sklearn.model_selection import train_test_split\n",
        "\n",
        "X_tr, X_val, y_tr, y_val = train_test_split(train.drop('total', axis = 1), train['total'], test_size = 0.2, random_state = 2022)\n",
        "\n",
        "# 모델링\n",
        "from sklearn.ensemble import RandomForestRegressor\n",
        "\n",
        "model = RandomForestRegressor(random_state = 2022, max_depth = 3, n_estimators = 600)\n",
        "model.fit(X_tr, y_tr)\n",
        "pred = model.predict(X_val)\n",
        "# 평가\n",
        "from sklearn.metrics import mean_squared_error\n",
        "import numpy as np\n",
        "def rmse(y_val, pred):\n",
        "  return np.sqrt(mean_squared_error(y_val, pred))\n",
        "\n",
        "print(rmse(y_val, pred))\n",
        "\n",
        "# 제출\n",
        "pred = model.predict(test)\n",
        "submit = pd.DataFrame({\n",
        "    'total' : pred\n",
        "}).to_csv('asdf.csv', index= False)\n",
        "\n"
      ],
      "metadata": {
        "id": "30wq46-FfSt_",
        "outputId": "bd45bb69-ca0b-4fd0-cfb5-06764a9cdb1d",
        "colab": {
          "base_uri": "https://localhost:8080/"
        }
      },
      "execution_count": 35,
      "outputs": [
        {
          "output_type": "stream",
          "name": "stdout",
          "text": [
            "388955.3015582649\n"
          ]
        }
      ]
    },
    {
      "cell_type": "code",
      "source": [],
      "metadata": {
        "id": "Xg6tZKhLBiUE"
      },
      "execution_count": 9,
      "outputs": []
    }
  ]
}