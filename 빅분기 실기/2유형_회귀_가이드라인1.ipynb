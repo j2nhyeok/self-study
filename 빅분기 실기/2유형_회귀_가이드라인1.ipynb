{
  "nbformat": 4,
  "nbformat_minor": 0,
  "metadata": {
    "colab": {
      "provenance": []
    },
    "kernelspec": {
      "name": "python3",
      "display_name": "Python 3"
    },
    "language_info": {
      "name": "python"
    }
  },
  "cells": [
    {
      "cell_type": "markdown",
      "source": [
        "## 에어비엔비 가격?\n",
        "- 평가: R-Squared, MAE, MSE, RMSE, RMSLE, MAPE\n",
        "- target : price(가격)\n",
        "- csv파일 생성 : 수험번호.csv (예시 아래 참조)\n",
        "~~~\n",
        "id,price\n",
        "34323697,238\n",
        "29927138,183\n",
        "120362,234\n",
        "~~~\n",
        "\n"
      ],
      "metadata": {
        "id": "k5Z7yULvzpsF"
      }
    },
    {
      "cell_type": "markdown",
      "source": [
        "## 데이터 불러오기"
      ],
      "metadata": {
        "id": "1qZteLJKC6or"
      }
    },
    {
      "cell_type": "code",
      "source": [
        "# 데이터 불러오기\n",
        "import pandas as pd\n",
        "train = pd.read_csv('/content/train.csv')\n",
        "test = pd.read_csv('/content/test.csv')\n",
        "\n",
        "# EDA\n",
        "# print(train.shape, test.shape) # target이 train에 포함된 것을 확인\n",
        "# print(train.isnull().sum(), test.isnull().sum()) # 2개의 컬럼에서 결측치가 엄청 많은 것을 확인\n",
        "# print(train.info(), test.info()) # 다양한 데이터 유형들이 섞인 것을 확인\n",
        "\n",
        "# 전처리(기타)\n",
        "cols = ['id', 'name', 'host_name', 'last_review', 'host_id', 'reviews_per_month'] # 쓸데없는 칼럼들과, 결측치가 많은 칼럼들 삭제\n",
        "train = train.drop(cols, axis = 1)\n",
        "test = test.drop(cols, axis = 1)\n",
        "\n",
        "# 전처리(인코딩)\n",
        "from sklearn.preprocessing import LabelEncoder\n",
        "cols = ['neighbourhood_group', 'neighbourhood', 'room_type']\n",
        "\n",
        "for col in cols:\n",
        "  le = LabelEncoder()\n",
        "  train[col] = le.fit_transform(train[col])\n",
        "  test[col] = le.transform(test[col])\n",
        "\n",
        "train[cols]\n",
        "\n",
        "# 전처리(스케일링)\n",
        "\n",
        "# 검증 데이터 분리\n",
        "from sklearn.model_selection import train_test_split\n",
        "\n",
        "X_tr, X_val, y_tr, y_val = train_test_split(train.drop('price', axis = 1), train['price'], test_size = 0.15, random_state = 2022)\n",
        "# 모델링\n",
        "from sklearn.ensemble import RandomForestRegressor\n",
        "\n",
        "model = RandomForestRegressor()\n",
        "model.fit(X_tr, y_tr)\n",
        "pred = model.predict(X_val)\n",
        "\n",
        "# 평가\n",
        "import numpy as np\n",
        "from sklearn.metrics import r2_score, mean_absolute_error, mean_squared_error\n",
        "\n",
        "def rmse(y_test, y_pred): #RMSE\n",
        "  return np.sqrt(mean_squared_error(y_test, y_pred))\n",
        "\n",
        "print(\"r2 : \", r2_score(y_val, pred))\n",
        "print(\"mae : \", mean_absolute_error(y_val, pred))\n",
        "print(\"mse : \", mean_squared_error(y_val, pred))\n",
        "print(\"rmse : \", rmse(y_val, pred))\n",
        "\n",
        "# 제출\n",
        "pred = model.predict(test)\n",
        "submit = pd.DataFrame({\n",
        "    'output' : pred\n",
        "}).to_csv(\"0000.csv\", index=False)"
      ],
      "metadata": {
        "id": "79P4zcpB0CHw",
        "outputId": "ae59d56c-fde8-4216-e0da-746ac5542131",
        "colab": {
          "base_uri": "https://localhost:8080/"
        }
      },
      "execution_count": 12,
      "outputs": [
        {
          "output_type": "stream",
          "name": "stdout",
          "text": [
            "r2 :  0.22457022931278037\n",
            "mae :  65.80636304249035\n",
            "mse :  37958.043242026906\n",
            "rmse :  194.82824036064923\n"
          ]
        }
      ]
    },
    {
      "cell_type": "markdown",
      "source": [
        "##EDA"
      ],
      "metadata": {
        "id": "ziiQ-hrGqm5C"
      }
    },
    {
      "cell_type": "code",
      "source": [],
      "metadata": {
        "id": "HrbG49RDXBXh"
      },
      "execution_count": null,
      "outputs": []
    },
    {
      "cell_type": "code",
      "source": [],
      "metadata": {
        "id": "Rk4hiVXHXBaD"
      },
      "execution_count": null,
      "outputs": []
    },
    {
      "cell_type": "code",
      "source": [],
      "metadata": {
        "id": "WCVf___rXBcr"
      },
      "execution_count": null,
      "outputs": []
    },
    {
      "cell_type": "code",
      "source": [],
      "metadata": {
        "id": "fmVmeQweXBfd"
      },
      "execution_count": null,
      "outputs": []
    },
    {
      "cell_type": "code",
      "source": [],
      "metadata": {
        "id": "E4DsLbbVXBiC"
      },
      "execution_count": null,
      "outputs": []
    },
    {
      "cell_type": "code",
      "source": [],
      "metadata": {
        "id": "sIwHTD3vXBka"
      },
      "execution_count": null,
      "outputs": []
    },
    {
      "cell_type": "code",
      "source": [],
      "metadata": {
        "id": "t719hBwYXCIX"
      },
      "execution_count": null,
      "outputs": []
    },
    {
      "cell_type": "code",
      "source": [],
      "metadata": {
        "id": "RJY4YPcRXCKr"
      },
      "execution_count": null,
      "outputs": []
    },
    {
      "cell_type": "markdown",
      "source": [
        "## 데이터 전처리 & 피처엔지니어링"
      ],
      "metadata": {
        "id": "DiUkXUO16g-G"
      }
    },
    {
      "cell_type": "code",
      "source": [],
      "metadata": {
        "id": "LTt0bg85XHGI"
      },
      "execution_count": null,
      "outputs": []
    },
    {
      "cell_type": "code",
      "source": [],
      "metadata": {
        "id": "2LBrRTC4XHIo"
      },
      "execution_count": null,
      "outputs": []
    },
    {
      "cell_type": "code",
      "source": [],
      "metadata": {
        "id": "YFK5yYcEXHLa"
      },
      "execution_count": null,
      "outputs": []
    },
    {
      "cell_type": "code",
      "source": [],
      "metadata": {
        "id": "LhDmnkjeXHN_"
      },
      "execution_count": null,
      "outputs": []
    },
    {
      "cell_type": "code",
      "source": [],
      "metadata": {
        "id": "dH7YtgZOXHQk"
      },
      "execution_count": null,
      "outputs": []
    },
    {
      "cell_type": "code",
      "source": [],
      "metadata": {
        "id": "-VgRESe7aWSs"
      },
      "execution_count": null,
      "outputs": []
    },
    {
      "cell_type": "code",
      "source": [],
      "metadata": {
        "id": "mtJREZqcaWY_"
      },
      "execution_count": null,
      "outputs": []
    },
    {
      "cell_type": "markdown",
      "source": [
        "## 검증 데이터 분리"
      ],
      "metadata": {
        "id": "2wXHbPi9DEwb"
      }
    },
    {
      "cell_type": "code",
      "source": [],
      "metadata": {
        "id": "NLf2OsLc38wm"
      },
      "execution_count": null,
      "outputs": []
    },
    {
      "cell_type": "code",
      "source": [],
      "metadata": {
        "id": "cTr_t52X6w_Z"
      },
      "execution_count": null,
      "outputs": []
    },
    {
      "cell_type": "markdown",
      "source": [
        "## 모델 & 평가"
      ],
      "metadata": {
        "id": "6zrIYRkcDN4j"
      }
    },
    {
      "cell_type": "code",
      "source": [
        "# 평가\n",
        "import numpy as np\n",
        "from sklearn.metrics import r2_score, mean_absolute_error, mean_squared_error\n",
        "def rmse(y_test, y_pred): #RMSE\n",
        "    return np.sqrt(mean_squared_error(y_test, y_pred))\n",
        "\n",
        "def rmsle(y_test, y_pred): #RMSLE\n",
        "    return np.sqrt(np.mean(np.power(np.log1p(y_test) - np.log1p(y_pred), 2)))\n",
        "\n",
        "def mape(y_test, y_pred): #MAPE\n",
        "    return np.mean(np.abs((y_test - y_pred) / y_test)) * 100"
      ],
      "metadata": {
        "id": "nG0HR27zOkW5"
      },
      "execution_count": null,
      "outputs": []
    },
    {
      "cell_type": "code",
      "source": [],
      "metadata": {
        "id": "UBjzNyKpQY3p"
      },
      "execution_count": null,
      "outputs": []
    },
    {
      "cell_type": "code",
      "source": [],
      "metadata": {
        "id": "wdPc5qIjPAHW"
      },
      "execution_count": null,
      "outputs": []
    },
    {
      "cell_type": "code",
      "source": [],
      "metadata": {
        "id": "VXPpAghtPALJ"
      },
      "execution_count": null,
      "outputs": []
    },
    {
      "cell_type": "code",
      "source": [],
      "metadata": {
        "id": "vGK-shoSPAN4"
      },
      "execution_count": null,
      "outputs": []
    },
    {
      "cell_type": "code",
      "source": [],
      "metadata": {
        "id": "bv73gQjuUyU-"
      },
      "execution_count": null,
      "outputs": []
    },
    {
      "cell_type": "markdown",
      "source": [
        "## 예측 및 csv 제출"
      ],
      "metadata": {
        "id": "vENsjupLDUF9"
      }
    },
    {
      "cell_type": "code",
      "source": [],
      "metadata": {
        "id": "0-ycPId6ni4q"
      },
      "execution_count": null,
      "outputs": []
    },
    {
      "cell_type": "code",
      "source": [],
      "metadata": {
        "id": "mCrS14SE_fS9"
      },
      "execution_count": null,
      "outputs": []
    },
    {
      "cell_type": "code",
      "source": [],
      "metadata": {
        "id": "S33nhYTnTkG2"
      },
      "execution_count": null,
      "outputs": []
    },
    {
      "cell_type": "code",
      "source": [],
      "metadata": {
        "id": "SnYJTfZ__UFR"
      },
      "execution_count": null,
      "outputs": []
    },
    {
      "cell_type": "code",
      "source": [],
      "metadata": {
        "id": "bj6NRM1d_7Rl"
      },
      "execution_count": null,
      "outputs": []
    },
    {
      "cell_type": "markdown",
      "source": [
        "##정리"
      ],
      "metadata": {
        "id": "CeJ_BK2KDX6Z"
      }
    },
    {
      "cell_type": "code",
      "source": [
        "# y_test = pd.read_csv(\"y_test.csv\")\n",
        "# print(r2_score(y_test, pred))"
      ],
      "metadata": {
        "id": "7VV1wp7zPkUA"
      },
      "execution_count": null,
      "outputs": []
    }
  ]
}