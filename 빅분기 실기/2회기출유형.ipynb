{
  "cells": [
    {
      "cell_type": "markdown",
      "id": "8df864b7-ed71-4682-a960-83978a3122a5",
      "metadata": {
        "id": "8df864b7-ed71-4682-a960-83978a3122a5"
      },
      "source": [
        "## 2회 기출 유형\n",
        "- https://www.kaggle.com/datasets/agileteam/bigdatacertificationkr\n",
        "- https://github.com/lovedlim/BigDataCertificationCourses"
      ]
    },
    {
      "cell_type": "code",
      "source": [
        "from google.colab import drive\n",
        "drive.mount('/content/drive')"
      ],
      "metadata": {
        "colab": {
          "base_uri": "https://localhost:8080/"
        },
        "id": "dyD0SOX1rRpY",
        "outputId": "8874ca4d-338d-4e35-f0bd-20d1148e669d"
      },
      "id": "dyD0SOX1rRpY",
      "execution_count": 1,
      "outputs": [
        {
          "output_type": "stream",
          "name": "stdout",
          "text": [
            "Mounted at /content/drive\n"
          ]
        }
      ]
    },
    {
      "cell_type": "markdown",
      "id": "864cb7a7-df26-4b06-9d5e-45981faa1c8c",
      "metadata": {
        "id": "864cb7a7-df26-4b06-9d5e-45981faa1c8c"
      },
      "source": [
        "## 문제 1.\n",
        "- 다음은 Boston Housing 데이터 세트이다. 범죄율 컬럼인 CRIM 항옥의 상위에서 10번째 값(즉, 범죄율을 큰 순서로 내림차순 정렬했을 때 10번째 위치한 값)으로 상위 10개의 값을 변환한 후, age가 80 이상인 데이터를 추출하여 crim의 평균값을 계산하시오."
      ]
    },
    {
      "cell_type": "code",
      "execution_count": null,
      "id": "cd6a9a37-c829-4883-b38a-f8d9a7757cdc",
      "metadata": {
        "id": "cd6a9a37-c829-4883-b38a-f8d9a7757cdc",
        "outputId": "47c7307e-f103-4a7a-8608-4d2b82a411c7"
      },
      "outputs": [
        {
          "data": {
            "text/plain": [
              "'C:\\\\Users\\\\j2hoo\\\\OneDrive\\\\Documents\\\\2023\\\\ds-certification\\\\작업장_제1유형'"
            ]
          },
          "execution_count": 3,
          "metadata": {},
          "output_type": "execute_result"
        }
      ],
      "source": [
        "import os\n",
        "os.getcwd()"
      ]
    },
    {
      "cell_type": "code",
      "execution_count": 10,
      "id": "bb197bd8-c846-4a49-8e21-26972443da70",
      "metadata": {
        "colab": {
          "base_uri": "https://localhost:8080/"
        },
        "id": "bb197bd8-c846-4a49-8e21-26972443da70",
        "outputId": "d7a0468c-9e7f-407f-e5f5-fb9ccec7a46a"
      },
      "outputs": [
        {
          "output_type": "execute_result",
          "data": {
            "text/plain": [
              "5.759386625"
            ]
          },
          "metadata": {},
          "execution_count": 10
        }
      ],
      "source": [
        "import pandas as pd\n",
        "import numpy as np\n",
        "\n",
        "df = pd.read_csv(\"/content/drive/MyDrive/빅분기 실기/빅데이터분석기사_실기_최종본/빅데이터분석기사_실기_최종본/작업장_제1유형/data/2회/201_boston.csv\")\n",
        "df = df.sort_values('CRIM', ascending = False)\n",
        "temp = df.head(10).CRIM.min()\n",
        "df.iloc[:10, 0] = temp\n",
        "\n",
        "cond = df.AGE >= 80\n",
        "df = df[cond]\n",
        "df.CRIM.mean()"
      ]
    },
    {
      "cell_type": "code",
      "execution_count": null,
      "id": "7f23cdf3-89ae-44dc-a422-496667c242ec",
      "metadata": {
        "id": "7f23cdf3-89ae-44dc-a422-496667c242ec",
        "outputId": "02b7bc0d-1fc0-44b0-8f2b-46909f47ea56"
      },
      "outputs": [
        {
          "data": {
            "text/html": [
              "<div>\n",
              "<style scoped>\n",
              "    .dataframe tbody tr th:only-of-type {\n",
              "        vertical-align: middle;\n",
              "    }\n",
              "\n",
              "    .dataframe tbody tr th {\n",
              "        vertical-align: top;\n",
              "    }\n",
              "\n",
              "    .dataframe thead th {\n",
              "        text-align: right;\n",
              "    }\n",
              "</style>\n",
              "<table border=\"1\" class=\"dataframe\">\n",
              "  <thead>\n",
              "    <tr style=\"text-align: right;\">\n",
              "      <th></th>\n",
              "      <th>CRIM</th>\n",
              "      <th>ZN</th>\n",
              "      <th>INDUS</th>\n",
              "      <th>CHAS</th>\n",
              "      <th>NOX</th>\n",
              "      <th>RM</th>\n",
              "      <th>AGE</th>\n",
              "      <th>DIS</th>\n",
              "      <th>RAD</th>\n",
              "      <th>TAX</th>\n",
              "      <th>PTRATIO</th>\n",
              "      <th>B</th>\n",
              "      <th>LSTAT</th>\n",
              "    </tr>\n",
              "  </thead>\n",
              "  <tbody>\n",
              "    <tr>\n",
              "      <th>0</th>\n",
              "      <td>25.9406</td>\n",
              "      <td>0.0</td>\n",
              "      <td>18.1</td>\n",
              "      <td>0.0</td>\n",
              "      <td>0.671</td>\n",
              "      <td>6.968</td>\n",
              "      <td>91.9</td>\n",
              "      <td>1.4165</td>\n",
              "      <td>24.0</td>\n",
              "      <td>666.0</td>\n",
              "      <td>20.2</td>\n",
              "      <td>396.90</td>\n",
              "      <td>17.21</td>\n",
              "    </tr>\n",
              "    <tr>\n",
              "      <th>1</th>\n",
              "      <td>25.9406</td>\n",
              "      <td>0.0</td>\n",
              "      <td>18.1</td>\n",
              "      <td>0.0</td>\n",
              "      <td>0.679</td>\n",
              "      <td>5.957</td>\n",
              "      <td>100.0</td>\n",
              "      <td>1.8026</td>\n",
              "      <td>24.0</td>\n",
              "      <td>666.0</td>\n",
              "      <td>20.2</td>\n",
              "      <td>16.45</td>\n",
              "      <td>20.62</td>\n",
              "    </tr>\n",
              "    <tr>\n",
              "      <th>2</th>\n",
              "      <td>25.9406</td>\n",
              "      <td>0.0</td>\n",
              "      <td>18.1</td>\n",
              "      <td>0.0</td>\n",
              "      <td>0.693</td>\n",
              "      <td>5.683</td>\n",
              "      <td>100.0</td>\n",
              "      <td>1.4254</td>\n",
              "      <td>24.0</td>\n",
              "      <td>666.0</td>\n",
              "      <td>20.2</td>\n",
              "      <td>384.97</td>\n",
              "      <td>22.98</td>\n",
              "    </tr>\n",
              "    <tr>\n",
              "      <th>3</th>\n",
              "      <td>25.9406</td>\n",
              "      <td>0.0</td>\n",
              "      <td>18.1</td>\n",
              "      <td>0.0</td>\n",
              "      <td>0.597</td>\n",
              "      <td>5.757</td>\n",
              "      <td>100.0</td>\n",
              "      <td>1.4130</td>\n",
              "      <td>24.0</td>\n",
              "      <td>666.0</td>\n",
              "      <td>20.2</td>\n",
              "      <td>2.60</td>\n",
              "      <td>10.11</td>\n",
              "    </tr>\n",
              "    <tr>\n",
              "      <th>4</th>\n",
              "      <td>25.9406</td>\n",
              "      <td>0.0</td>\n",
              "      <td>18.1</td>\n",
              "      <td>0.0</td>\n",
              "      <td>0.693</td>\n",
              "      <td>4.519</td>\n",
              "      <td>100.0</td>\n",
              "      <td>1.6582</td>\n",
              "      <td>24.0</td>\n",
              "      <td>666.0</td>\n",
              "      <td>20.2</td>\n",
              "      <td>88.27</td>\n",
              "      <td>36.98</td>\n",
              "    </tr>\n",
              "    <tr>\n",
              "      <th>5</th>\n",
              "      <td>25.9406</td>\n",
              "      <td>0.0</td>\n",
              "      <td>18.1</td>\n",
              "      <td>0.0</td>\n",
              "      <td>0.693</td>\n",
              "      <td>5.531</td>\n",
              "      <td>85.4</td>\n",
              "      <td>1.6074</td>\n",
              "      <td>24.0</td>\n",
              "      <td>666.0</td>\n",
              "      <td>20.2</td>\n",
              "      <td>329.46</td>\n",
              "      <td>27.38</td>\n",
              "    </tr>\n",
              "    <tr>\n",
              "      <th>6</th>\n",
              "      <td>25.9406</td>\n",
              "      <td>0.0</td>\n",
              "      <td>18.1</td>\n",
              "      <td>0.0</td>\n",
              "      <td>0.693</td>\n",
              "      <td>5.453</td>\n",
              "      <td>100.0</td>\n",
              "      <td>1.4896</td>\n",
              "      <td>24.0</td>\n",
              "      <td>666.0</td>\n",
              "      <td>20.2</td>\n",
              "      <td>396.90</td>\n",
              "      <td>30.59</td>\n",
              "    </tr>\n",
              "    <tr>\n",
              "      <th>7</th>\n",
              "      <td>25.9406</td>\n",
              "      <td>0.0</td>\n",
              "      <td>18.1</td>\n",
              "      <td>0.0</td>\n",
              "      <td>0.679</td>\n",
              "      <td>6.202</td>\n",
              "      <td>78.7</td>\n",
              "      <td>1.8629</td>\n",
              "      <td>24.0</td>\n",
              "      <td>666.0</td>\n",
              "      <td>20.2</td>\n",
              "      <td>18.82</td>\n",
              "      <td>14.52</td>\n",
              "    </tr>\n",
              "    <tr>\n",
              "      <th>8</th>\n",
              "      <td>25.9406</td>\n",
              "      <td>0.0</td>\n",
              "      <td>18.1</td>\n",
              "      <td>0.0</td>\n",
              "      <td>0.597</td>\n",
              "      <td>5.155</td>\n",
              "      <td>100.0</td>\n",
              "      <td>1.5894</td>\n",
              "      <td>24.0</td>\n",
              "      <td>666.0</td>\n",
              "      <td>20.2</td>\n",
              "      <td>210.97</td>\n",
              "      <td>20.08</td>\n",
              "    </tr>\n",
              "    <tr>\n",
              "      <th>9</th>\n",
              "      <td>25.9406</td>\n",
              "      <td>0.0</td>\n",
              "      <td>18.1</td>\n",
              "      <td>0.0</td>\n",
              "      <td>0.679</td>\n",
              "      <td>5.304</td>\n",
              "      <td>89.1</td>\n",
              "      <td>1.6475</td>\n",
              "      <td>24.0</td>\n",
              "      <td>666.0</td>\n",
              "      <td>20.2</td>\n",
              "      <td>127.36</td>\n",
              "      <td>26.64</td>\n",
              "    </tr>\n",
              "    <tr>\n",
              "      <th>10</th>\n",
              "      <td>25.0461</td>\n",
              "      <td>0.0</td>\n",
              "      <td>18.1</td>\n",
              "      <td>0.0</td>\n",
              "      <td>0.693</td>\n",
              "      <td>5.987</td>\n",
              "      <td>100.0</td>\n",
              "      <td>1.5888</td>\n",
              "      <td>24.0</td>\n",
              "      <td>666.0</td>\n",
              "      <td>20.2</td>\n",
              "      <td>396.90</td>\n",
              "      <td>26.77</td>\n",
              "    </tr>\n",
              "    <tr>\n",
              "      <th>11</th>\n",
              "      <td>24.8017</td>\n",
              "      <td>0.0</td>\n",
              "      <td>18.1</td>\n",
              "      <td>0.0</td>\n",
              "      <td>0.693</td>\n",
              "      <td>5.349</td>\n",
              "      <td>96.0</td>\n",
              "      <td>1.7028</td>\n",
              "      <td>24.0</td>\n",
              "      <td>666.0</td>\n",
              "      <td>20.2</td>\n",
              "      <td>396.90</td>\n",
              "      <td>19.77</td>\n",
              "    </tr>\n",
              "  </tbody>\n",
              "</table>\n",
              "</div>"
            ],
            "text/plain": [
              "       CRIM   ZN  INDUS  CHAS    NOX     RM    AGE     DIS   RAD    TAX  \\\n",
              "0   25.9406  0.0   18.1   0.0  0.671  6.968   91.9  1.4165  24.0  666.0   \n",
              "1   25.9406  0.0   18.1   0.0  0.679  5.957  100.0  1.8026  24.0  666.0   \n",
              "2   25.9406  0.0   18.1   0.0  0.693  5.683  100.0  1.4254  24.0  666.0   \n",
              "3   25.9406  0.0   18.1   0.0  0.597  5.757  100.0  1.4130  24.0  666.0   \n",
              "4   25.9406  0.0   18.1   0.0  0.693  4.519  100.0  1.6582  24.0  666.0   \n",
              "5   25.9406  0.0   18.1   0.0  0.693  5.531   85.4  1.6074  24.0  666.0   \n",
              "6   25.9406  0.0   18.1   0.0  0.693  5.453  100.0  1.4896  24.0  666.0   \n",
              "7   25.9406  0.0   18.1   0.0  0.679  6.202   78.7  1.8629  24.0  666.0   \n",
              "8   25.9406  0.0   18.1   0.0  0.597  5.155  100.0  1.5894  24.0  666.0   \n",
              "9   25.9406  0.0   18.1   0.0  0.679  5.304   89.1  1.6475  24.0  666.0   \n",
              "10  25.0461  0.0   18.1   0.0  0.693  5.987  100.0  1.5888  24.0  666.0   \n",
              "11  24.8017  0.0   18.1   0.0  0.693  5.349   96.0  1.7028  24.0  666.0   \n",
              "\n",
              "    PTRATIO       B  LSTAT  \n",
              "0      20.2  396.90  17.21  \n",
              "1      20.2   16.45  20.62  \n",
              "2      20.2  384.97  22.98  \n",
              "3      20.2    2.60  10.11  \n",
              "4      20.2   88.27  36.98  \n",
              "5      20.2  329.46  27.38  \n",
              "6      20.2  396.90  30.59  \n",
              "7      20.2   18.82  14.52  \n",
              "8      20.2  210.97  20.08  \n",
              "9      20.2  127.36  26.64  \n",
              "10     20.2  396.90  26.77  \n",
              "11     20.2  396.90  19.77  "
            ]
          },
          "execution_count": 37,
          "metadata": {},
          "output_type": "execute_result"
        }
      ],
      "source": [
        "# 내림차순으로 정렬\n",
        "df2 = df.sort_values(by=['CRIM'], ascending=False).reset_index(drop=True)\n",
        "\n",
        "# 상위 10번째 값 추출\n",
        "crim_value = df2.iloc[9, 0]\n",
        "crim_value\n",
        "\n",
        "# 상위 0-9번째 값을 crim_value로 치환한다.\n",
        "df2.iloc[0:10, 0] = crim_value\n",
        "df2.head(12)"
      ]
    },
    {
      "cell_type": "code",
      "execution_count": null,
      "id": "0b614cf9-c20e-4756-a060-4ea08577b69c",
      "metadata": {
        "id": "0b614cf9-c20e-4756-a060-4ea08577b69c",
        "outputId": "632678cb-8687-48f3-81a9-f218e401e6ba"
      },
      "outputs": [
        {
          "name": "stdout",
          "output_type": "stream",
          "text": [
            "5.759386625\n"
          ]
        }
      ],
      "source": [
        "# AGE 80 이상인 값만 불러오기\n",
        "result_df = df2[df2['AGE'] >= 80]\n",
        "print(result_df['CRIM'].mean())"
      ]
    },
    {
      "cell_type": "markdown",
      "id": "4ffa6f0f-b775-432f-8229-370ebd0b9a0d",
      "metadata": {
        "id": "4ffa6f0f-b775-432f-8229-370ebd0b9a0d"
      },
      "source": [
        "## 문제 2.\n",
        "- 다음은 California Housing 데이터 세트이다. 주어진 데이터의 첫 번째 행부터 순서대로 80%까지의 데이터를 훈련 데이터로 추출 후, 전체 방 갯수 컬럼을 의미하는 'total_bedrooms' 변수의 결측치를 'total_bedrooms' 변수의 중앙값으로 대체하 데이터 세트를 구성한다. 결측치 대체 전의 'total_bedrooms' 변수 표준편차 값과 결측치 대체 후의 'total_bedrooms'  변수 표준편차 값의 차이에 대한 절댓값을 계산하시오."
      ]
    },
    {
      "cell_type": "code",
      "execution_count": 14,
      "id": "e35c8cf1-21fe-41b3-b039-ff6aefd44b51",
      "metadata": {
        "colab": {
          "base_uri": "https://localhost:8080/"
        },
        "id": "e35c8cf1-21fe-41b3-b039-ff6aefd44b51",
        "outputId": "d0f0cf81-84a4-4f2c-b143-18472a7b3c17"
      },
      "outputs": [
        {
          "output_type": "stream",
          "name": "stdout",
          "text": [
            "1.9751472916456692\n"
          ]
        },
        {
          "output_type": "stream",
          "name": "stderr",
          "text": [
            "<ipython-input-14-1bf0a66cc502>:6: SettingWithCopyWarning: \n",
            "A value is trying to be set on a copy of a slice from a DataFrame.\n",
            "Try using .loc[row_indexer,col_indexer] = value instead\n",
            "\n",
            "See the caveats in the documentation: https://pandas.pydata.org/pandas-docs/stable/user_guide/indexing.html#returning-a-view-versus-a-copy\n",
            "  train['total_bedrooms'] = train['total_bedrooms'].fillna(train['total_bedrooms'].median())\n"
          ]
        }
      ],
      "source": [
        "df = pd.read_csv(\"/content/drive/MyDrive/빅분기 실기/빅데이터분석기사_실기_최종본/빅데이터분석기사_실기_최종본/작업장_제1유형/data/2회/202_housing.csv\")\n",
        "df.head()\n",
        "train = df.iloc[:int(len(df) * 0.8) , :]\n",
        "\n",
        "before = train.total_bedrooms.std()\n",
        "train['total_bedrooms'] = train['total_bedrooms'].fillna(train['total_bedrooms'].median())\n",
        "after = train.total_bedrooms.std()\n",
        "\n",
        "print(abs(after - before))"
      ]
    },
    {
      "cell_type": "code",
      "execution_count": null,
      "id": "2fd28d69-9923-42e3-97c2-79f57724be51",
      "metadata": {
        "id": "2fd28d69-9923-42e3-97c2-79f57724be51",
        "outputId": "29f52828-d538-43ab-d158-8ee0209aeb64"
      },
      "outputs": [
        {
          "data": {
            "text/plain": [
              "435.90057705252616"
            ]
          },
          "execution_count": 50,
          "metadata": {},
          "output_type": "execute_result"
        }
      ],
      "source": [
        "train = df.iloc[0:int(len(df) * 0.8), :]\n",
        "before_std = train['total_bedrooms'].std()\n",
        "before_std"
      ]
    },
    {
      "cell_type": "code",
      "execution_count": null,
      "id": "befe7932-441d-4af8-950e-a0fdcc9441b8",
      "metadata": {
        "id": "befe7932-441d-4af8-950e-a0fdcc9441b8",
        "outputId": "fd85b461-b9a8-4e39-cbbb-ded55867d38f"
      },
      "outputs": [
        {
          "data": {
            "text/plain": [
              "1.9751472916456692"
            ]
          },
          "execution_count": 53,
          "metadata": {},
          "output_type": "execute_result"
        }
      ],
      "source": [
        "after_std = train['total_bedrooms'].fillna( train['total_bedrooms'].median()).std()\n",
        "abs(before_std - after_std)"
      ]
    },
    {
      "cell_type": "markdown",
      "id": "224ca457-4332-430d-9198-ce24eadc11ec",
      "metadata": {
        "id": "224ca457-4332-430d-9198-ce24eadc11ec"
      },
      "source": [
        "## 문제 3.\n",
        "- 2번 문항에서 활용한 California Housing 데이터 세트를 그대로 활용한다. 인구 컬럼인 population 항목의 이상값의 합계를 계산하시오.\n",
        "    + *이상값은 평균에서 1.5x표준편차를 초과하거나 미만인 값의 범위로 정한다."
      ]
    },
    {
      "cell_type": "code",
      "execution_count": 16,
      "id": "d303b0ef-2589-4434-9d78-beac3c45373c",
      "metadata": {
        "colab": {
          "base_uri": "https://localhost:8080/"
        },
        "id": "d303b0ef-2589-4434-9d78-beac3c45373c",
        "outputId": "79550c33-4b83-44e5-962a-20f8a0be827c"
      },
      "outputs": [
        {
          "output_type": "execute_result",
          "data": {
            "text/plain": [
              "5607295.0"
            ]
          },
          "metadata": {},
          "execution_count": 16
        }
      ],
      "source": [
        "import pandas as pd\n",
        "import numpy as np\n",
        "\n",
        "df = pd.read_csv(\"/content/drive/MyDrive/빅분기 실기/빅데이터분석기사_실기_최종본/빅데이터분석기사_실기_최종본/작업장_제1유형/data/2회/202_housing.csv\")\n",
        "\n",
        "min_val = df.population.mean() - 1.5 * df.population.std()\n",
        "max_val = df.population.mean() + 1.5 * df.population.std()\n",
        "\n",
        "cond = (df.population < min_val) | (df.population > max_val)\n",
        "df = df[cond]\n",
        "df.population.sum()"
      ]
    },
    {
      "cell_type": "code",
      "execution_count": null,
      "id": "a0e29334-c9c4-4df0-bc52-2427ecbb09f4",
      "metadata": {
        "id": "a0e29334-c9c4-4df0-bc52-2427ecbb09f4",
        "outputId": "8f9d8276-9875-4970-eb1d-61840404c0af"
      },
      "outputs": [
        {
          "data": {
            "text/plain": [
              "(3124.169926834058, -273.2164384619648)"
            ]
          },
          "execution_count": 63,
          "metadata": {},
          "output_type": "execute_result"
        }
      ],
      "source": [
        "upper_value = df['population'].mean() + 1.5 * df['population'].std()\n",
        "lower_value = df['population'].mean() - 1.5 * df['population'].std()\n",
        "\n",
        "upper_value, lower_value"
      ]
    },
    {
      "cell_type": "code",
      "execution_count": null,
      "id": "46b6edda-a81f-4793-b299-1be61e8d435b",
      "metadata": {
        "id": "46b6edda-a81f-4793-b299-1be61e8d435b",
        "outputId": "320fbaea-8d3a-4b7d-ddd5-1bf116b1b4f2"
      },
      "outputs": [
        {
          "name": "stdout",
          "output_type": "stream",
          "text": [
            "5607295.0\n"
          ]
        }
      ],
      "source": [
        "print(df[(df['population'] >= upper_value) | (df['population'] <= lower_value)]['population'].sum())"
      ]
    }
  ],
  "metadata": {
    "kernelspec": {
      "display_name": "Python 3 (ipykernel)",
      "language": "python",
      "name": "python3"
    },
    "language_info": {
      "codemirror_mode": {
        "name": "ipython",
        "version": 3
      },
      "file_extension": ".py",
      "mimetype": "text/x-python",
      "name": "python",
      "nbconvert_exporter": "python",
      "pygments_lexer": "ipython3",
      "version": "3.9.13"
    },
    "colab": {
      "provenance": []
    }
  },
  "nbformat": 4,
  "nbformat_minor": 5
}