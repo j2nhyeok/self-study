{
  "cells": [
    {
      "cell_type": "code",
      "source": [
        "from google.colab import drive\n",
        "drive.mount('/content/drive')"
      ],
      "metadata": {
        "colab": {
          "base_uri": "https://localhost:8080/"
        },
        "id": "9QXOv5SgW1H4",
        "outputId": "fe13a8de-57d0-4c6d-94b8-e6fda6045eae"
      },
      "id": "9QXOv5SgW1H4",
      "execution_count": 2,
      "outputs": [
        {
          "output_type": "stream",
          "name": "stdout",
          "text": [
            "Mounted at /content/drive\n"
          ]
        }
      ]
    },
    {
      "cell_type": "markdown",
      "id": "b2d6302f-b837-4478-82ff-da823e2489ee",
      "metadata": {
        "id": "b2d6302f-b837-4478-82ff-da823e2489ee"
      },
      "source": [
        "## 문제\n",
        "- 주어진 데이터(data/insectsprays.csv)에는 여러 지역에서 스프레이를 뿌리기 전에 측정한 곤충의 수와 스프레이를 뿌린 다음의 곤충의 수가 저장되어 있다. 해당 스프레이가 구제 효과가 있는지(즉, 스프레이를 뿌린 뒤 곤충의 수가 감소했는지) 쌍체표본 t-검정(Paired t-test)을 통해 답하고자 한다.\n",
        "- 가설검정 ($\\overline{\\mu_{d}}$: 살충체를 뿌린 후의 곤충 수 - 살충제를 뿌리기 전의 곤충 수)의 평균\n",
        "    + 귀무가설 : $\\overline{\\mu_{d}}$은 0이다.\n",
        "    + 대립가설 : $\\overline{\\mu_{d}}$은 0이 아니다.\n",
        "- 데이터의 변수\n",
        "    + before_spr : 살충제 뿌리기 전 곤충의 수\n",
        "    + after_spr : 살충제 뿌린 뒤 곤충의 수\n",
        "- 단, $\\overline{\\mu_{d}}$는 정규분포를 만족한다.\n",
        "- 문제 1: 표본평균 $\\overline{\\mu_{d}}$의 표본 평균을 구하시오. (반올림하여 소숫점 둘째 자리까지 계산)\n",
        "- 문제 2: 위의 가설을 검정하기 위한 검정통계량을 구하시오. (반올림하여 소숫점 둘째 자리까지 계산)\n",
        "- 문제 3: 위의 통계량에 대한 p-값을 구하고 (반올림하여 소숫점 넷째 자리까지 계산), 유의수준 0.05하에서 가설검정의 결과를 채택/기각 중 하나로 선택하시오.\n",
        "      "
      ]
    },
    {
      "cell_type": "markdown",
      "id": "53bba55e-b064-43c7-89bf-cee7f1cd0c84",
      "metadata": {
        "id": "53bba55e-b064-43c7-89bf-cee7f1cd0c84"
      },
      "source": [
        "## 데이터 불러오기"
      ]
    },
    {
      "cell_type": "code",
      "execution_count": 9,
      "id": "f30ebbd0-56c8-4081-ab6a-e2e9dbe2c803",
      "metadata": {
        "colab": {
          "base_uri": "https://localhost:8080/"
        },
        "id": "f30ebbd0-56c8-4081-ab6a-e2e9dbe2c803",
        "outputId": "c6dd5e7c-c77e-4573-a306-419aa78e8fea"
      },
      "outputs": [
        {
          "output_type": "stream",
          "name": "stdout",
          "text": [
            "-12.0\n",
            "-14.89\n",
            "0.0\n"
          ]
        }
      ],
      "source": [
        "import pandas as pd\n",
        "df = pd.read_csv(\"/content/drive/MyDrive/빅분기 실기/빅데이터분석기사_실기_최종본/빅데이터분석기사_실기_최종본/작업장_제3유형/data/insectsprays.csv\")\n",
        "df.head()\n",
        "\n",
        "df['diff'] = df['after_spr'] - df['before_spr']\n",
        "\n",
        "from scipy import stats\n",
        "# 1\n",
        "print(round(df['diff'].mean(),2))\n",
        "# 2\n",
        "statistic, pvalue = stats.ttest_rel(df['after_spr'], df['before_spr'], alternative='two-sided')\n",
        "print(round(statistic,2))\n",
        "\n",
        "# 3\n",
        "print(round(pvalue, 4))\n"
      ]
    },
    {
      "cell_type": "markdown",
      "id": "67bea173-8324-458f-98e5-b619fe4dc364",
      "metadata": {
        "id": "67bea173-8324-458f-98e5-b619fe4dc364"
      },
      "source": [
        "## 문제 1\n",
        "- 표본평균 $\\overline{\\mu_{d}}$의 표본 평균을 구하시오. (반올림하여 소숫점 둘째 자리까지 계산)"
      ]
    },
    {
      "cell_type": "code",
      "execution_count": null,
      "id": "6e1064f2-e602-4967-be42-66deabf34256",
      "metadata": {
        "id": "6e1064f2-e602-4967-be42-66deabf34256",
        "outputId": "5f6dddd3-5aee-409c-c1bd-61f9c53076e0"
      },
      "outputs": [
        {
          "name": "stdout",
          "output_type": "stream",
          "text": [
            "-12.0\n"
          ]
        }
      ],
      "source": [
        "diff = df['after_spr'] - df['before_spr']\n",
        "print(round(diff.mean(), 2))"
      ]
    },
    {
      "cell_type": "markdown",
      "id": "88bab335-c823-4c68-9329-4a4ce1b21252",
      "metadata": {
        "id": "88bab335-c823-4c68-9329-4a4ce1b21252"
      },
      "source": [
        "## 문제 2\n",
        "- 위의 가설을 검정하기 위한 검정통계량을 구하시오. (반올림하여 소숫점 둘째 자리까지 계산)"
      ]
    },
    {
      "cell_type": "code",
      "execution_count": null,
      "id": "1174cd55-ed0c-4616-bfe1-0ee413025ea8",
      "metadata": {
        "id": "1174cd55-ed0c-4616-bfe1-0ee413025ea8",
        "outputId": "b307aae0-b471-4c2b-8625-0bf6c797dd14"
      },
      "outputs": [
        {
          "name": "stdout",
          "output_type": "stream",
          "text": [
            "14.8933 0.0\n"
          ]
        }
      ],
      "source": [
        "from scipy.stats import stats\n",
        "from math import sqrt\n",
        "\n",
        "t_score, p_value = stats.ttest_rel(df['before_spr'], df['after_spr'])\n",
        "print(round(t_score, 4), round(p_value, 4))"
      ]
    },
    {
      "cell_type": "markdown",
      "id": "8c825fdc-d795-4fd7-b760-56430e2676f3",
      "metadata": {
        "id": "8c825fdc-d795-4fd7-b760-56430e2676f3"
      },
      "source": [
        "## 문제 3.\n",
        "- 위의 통계량에 대한 p-값을 구하고 (반올림하여 소숫점 넷째 자리까지 계산), 유의수준 0.05하에서 가설검정의 결과를 채택/기각 중 하나로 선택하시오."
      ]
    },
    {
      "cell_type": "code",
      "execution_count": null,
      "id": "d26249ff-f4c4-4314-a73d-5738dfeaeb12",
      "metadata": {
        "id": "d26249ff-f4c4-4314-a73d-5738dfeaeb12",
        "outputId": "90d93e5b-e692-4e64-9e13-0631a55d3a58"
      },
      "outputs": [
        {
          "name": "stdout",
          "output_type": "stream",
          "text": [
            "0.0\n"
          ]
        }
      ],
      "source": [
        "print(round(p_value, 4))"
      ]
    },
    {
      "cell_type": "code",
      "execution_count": null,
      "id": "c8b64c6c-3575-43d1-ae35-b3547bbefb9a",
      "metadata": {
        "id": "c8b64c6c-3575-43d1-ae35-b3547bbefb9a",
        "outputId": "a62ffead-9ca9-4a1c-87e1-6cdcae25b5a7"
      },
      "outputs": [
        {
          "name": "stdout",
          "output_type": "stream",
          "text": [
            "기각\n"
          ]
        }
      ],
      "source": [
        "if p_value >= 0.05:\n",
        "    print(\"채택\")\n",
        "else:\n",
        "    print(\"기각\")"
      ]
    }
  ],
  "metadata": {
    "kernelspec": {
      "display_name": "Python 3 (ipykernel)",
      "language": "python",
      "name": "python3"
    },
    "language_info": {
      "codemirror_mode": {
        "name": "ipython",
        "version": 3
      },
      "file_extension": ".py",
      "mimetype": "text/x-python",
      "name": "python",
      "nbconvert_exporter": "python",
      "pygments_lexer": "ipython3",
      "version": "3.9.13"
    },
    "colab": {
      "provenance": []
    }
  },
  "nbformat": 4,
  "nbformat_minor": 5
}