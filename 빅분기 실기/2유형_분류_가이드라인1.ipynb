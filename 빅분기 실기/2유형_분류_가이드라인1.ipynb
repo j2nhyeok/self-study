{
  "nbformat": 4,
  "nbformat_minor": 0,
  "metadata": {
    "colab": {
      "provenance": []
    },
    "kernelspec": {
      "name": "python3",
      "display_name": "Python 3"
    },
    "language_info": {
      "name": "python"
    }
  },
  "cells": [
    {
      "cell_type": "markdown",
      "source": [
        "## 신용카드서비스를 떠나는 고객을 찾아라\n",
        "- 나이, 급여, 결혼 상태, 신용 카드 한도, 신용 카드 카테고리 등의 컬럼이 있음\n",
        "- 평가: ROC-AUC, 정확도(Accuracy), F1, 정밀도(Precision), 재현율(Recall)을 구하시오\n",
        "- target : Attrition_Flag (1:이탈, 0:유지)\n",
        "- csv파일 생성 : 수험번호.csv (예시 아래 참조)\n",
        "~~~\n",
        "CLIENTNUM,Attrition_Flag\n",
        "788544108,0.633\n",
        "719356008,0.123\n",
        "712142733,0.355\n",
        "~~~\n",
        "\n",
        "\n",
        "### 평가(분류)\n",
        "~~~\n",
        "from sklearn.metrics import accuracy_score, precision_score, recall_score, f1_score, roc_auc_score\n",
        "\n",
        "# 정확도\n",
        "print(accuracy_score(y_test, pred))\n",
        "\n",
        "# 정밀도\n",
        "print(precision_score(y_test, pred))\n",
        "\n",
        "# 재현율 (민감도)\n",
        "print(recall_score(y_test, pred))\n",
        "\n",
        "# F1\n",
        "print(f1_score(y_test , pred))\n",
        "\n",
        "# roc-auc\n",
        "print(roc_auc_score(y_test, pred_proba))\n",
        "~~~"
      ],
      "metadata": {
        "id": "k5Z7yULvzpsF"
      }
    },
    {
      "cell_type": "code",
      "source": [
        "# 데이터 불러오기\n",
        "import pandas as pd\n",
        "train = pd.read_csv(\"/content/train.csv\")\n",
        "test = pd.read_csv(\"/content/test.csv\")\n",
        "\n",
        "# EDA\n",
        "# print(train.shape, test.shape) # train 데이터의 컬럼이 하나 더 많음 => target\n",
        "# print(train.info(), test.info())  # 결측값 없음 / 데이터 유형 다양하게 있음.\n",
        "# print(train.head()) # CLIENTNUM 삭제\n",
        "\n",
        "# 전처리(기타)\n",
        "train = train.drop('CLIENTNUM', axis = 1)\n",
        "test = test.drop('CLIENTNUM', axis = 1)\n",
        "\n",
        "# 전처리(인코딩)\n",
        "cols = train.select_dtypes(include='object').columns\n",
        "\n",
        "from sklearn.preprocessing import LabelEncoder       # 레이블 인코딩\n",
        "\n",
        "for col in cols:\n",
        "  le = LabelEncoder()\n",
        "  train[col] = le.fit_transform(train[col])\n",
        "  test[col] = le.transform(test[col])\n",
        "# train = pd.get_dummies(train, columns = cols)           # 원핫 인코딩\n",
        "# test = pd.get_dummies(test, columns = cols)\n",
        "\n",
        "# 전처리(스케일링)\n",
        "\n",
        "\n",
        "# 데이터 분리\n",
        "from sklearn.model_selection import train_test_split\n",
        "\n",
        "X_tr, X_val, y_tr, y_val = train_test_split(train.drop('Attrition_Flag', axis=1), train['Attrition_Flag'], test_size = 0.2, random_state = 2022)\n",
        "\n",
        "# 모델링\n",
        "from sklearn.ensemble import RandomForestClassifier\n",
        "\n",
        "model = RandomForestClassifier(random_state = 2022)\n",
        "model.fit(X_tr, y_tr)\n",
        "pred = model.predict(X_val)\n",
        "pred2 = model.predict_proba(X_val) # roc_auc_score 일 때 사용.\n",
        "\n",
        "# 평가\n",
        "from sklearn.metrics import accuracy_score, precision_score, recall_score, f1_score, roc_auc_score\n",
        "print(accuracy_score(y_val, pred))\n",
        "print(precision_score(y_val, pred))\n",
        "print(recall_score(y_val, pred))\n",
        "print(f1_score(y_val, pred))\n",
        "print(roc_auc_score(y_val, pred2[:, 1]))\n",
        "\n",
        "# 제출\n",
        "pred = model.predict_proba(test)\n",
        "submit = pd.DataFrame({\n",
        "    'Attrition_Flag': pred[:, 1]\n",
        "}).to_csv('0000.csv', index=False)"
      ],
      "metadata": {
        "id": "79P4zcpB0CHw",
        "outputId": "5cee4623-cbe1-4da9-950a-3b149521afdc",
        "colab": {
          "base_uri": "https://localhost:8080/"
        }
      },
      "execution_count": 21,
      "outputs": [
        {
          "output_type": "stream",
          "name": "stdout",
          "text": [
            "0.9685379395434917\n",
            "0.948936170212766\n",
            "0.851145038167939\n",
            "0.89738430583501\n",
            "0.9899707351049547\n"
          ]
        }
      ]
    },
    {
      "cell_type": "markdown",
      "source": [
        "##정리"
      ],
      "metadata": {
        "id": "CeJ_BK2KDX6Z"
      }
    },
    {
      "cell_type": "code",
      "source": [
        "# 아래 코드는 실제 시험에서는 확인할 수 없는 부분입니다.\n",
        "# y_test = pd.read_csv(\"y_test.csv\")\n",
        "# print(roc_auc_score(y_test, pred[:,1]))"
      ],
      "metadata": {
        "id": "W03-nSpKDae6"
      },
      "execution_count": null,
      "outputs": []
    }
  ]
}