{
  "cells": [
    {
      "cell_type": "markdown",
      "id": "e14b9b73-9b75-4d28-82dc-ae73b7efad21",
      "metadata": {
        "id": "e14b9b73-9b75-4d28-82dc-ae73b7efad21"
      },
      "source": [
        "## 작업형 3유형 최종정리\n",
        "- 작업형1 : 3문제 (30점), 데이터 전처리\n",
        "- 작업형2 : 1문제 (40점), 분류/회귀 예측 모델링\n",
        "- `작업형3 : 2문제 (30점), 가설 검정`"
      ]
    },
    {
      "cell_type": "markdown",
      "id": "a3cf50bf-991b-4c53-99f8-5fc0357ce313",
      "metadata": {
        "id": "a3cf50bf-991b-4c53-99f8-5fc0357ce313"
      },
      "source": [
        "## 라이브러리 확인\n",
        "- 파이썬에서 가설검정을 위한 통계와 관련된 라이브러리는 크게 2가지이다.\n",
        "   + scipy : SciPy는 수치 계산, 최적화, 선형 대수, 신호 및 이미지 처리, 통계 분석 등과 같은 과학적 계산 작업을 수행하는 데 사용됨\n",
        "   + statsmodels : Statsmodels는 통계 분석과 추정을 위한 파이썬 라이브러리로, 선형 회귀, 로지스틱 회귀, 시계열 분석, 비모수적 추정 등 다양한 통계 모델을 지원함.\n",
        "- SciPy와 Statsmodels는 각각의 독립성과 기능을 가지고 있으며, 과학적 계산과 통계 분석을 위한 파이썬 생태계에서 함께 사용되는 보완적인 라이브러리임."
      ]
    },
    {
      "cell_type": "markdown",
      "id": "aa4a07ae-73df-4709-ba8c-998924d853f1",
      "metadata": {
        "id": "aa4a07ae-73df-4709-ba8c-998924d853f1"
      },
      "source": [
        "## 주의\n",
        "- 여기에서는 각 검정의 구체적인 원리 설명은 하지 않는다.\n",
        "- 코드 위주로만 확인을 하도록 한다."
      ]
    },
    {
      "cell_type": "markdown",
      "id": "be8d2106-ffbb-4c58-8bbd-23316bc7d37d",
      "metadata": {
        "id": "be8d2106-ffbb-4c58-8bbd-23316bc7d37d"
      },
      "source": [
        "## One Sample T-Test\n",
        "- 가설검정\n",
        "    + 귀무가설 : 붓꽃의 sepal_length의 평균은 5.5이다.\n",
        "    + 대립가설 : 붓꽃의 sepal_length의 평균은 5.5이 아니다.  "
      ]
    },
    {
      "cell_type": "code",
      "execution_count": 3,
      "id": "2158719c-852c-4b81-ac2a-416b4a904567",
      "metadata": {
        "colab": {
          "base_uri": "https://localhost:8080/"
        },
        "id": "2158719c-852c-4b81-ac2a-416b4a904567",
        "outputId": "06cfdaea-adae-4e7d-a4cb-325727fd9d42"
      },
      "outputs": [
        {
          "output_type": "stream",
          "name": "stdout",
          "text": [
            "ShapiroResult(statistic=0.9760899543762207, pvalue=0.01018026564270258)\n",
            "TtestResult(statistic=5.0780453996425345, pvalue=1.12311195083408e-06, df=149)\n"
          ]
        }
      ],
      "source": [
        "import seaborn as sns\n",
        "import pandas as pd\n",
        "\n",
        "iris_df = sns.load_dataset(\"iris\")\n",
        "\n",
        "from scipy import stats\n",
        "print(stats.shapiro(iris_df['sepal_length']))\n",
        "print(stats.ttest_1samp(iris_df['sepal_length'], 5.5))"
      ]
    },
    {
      "cell_type": "markdown",
      "id": "86dec3b3-5bf6-4ad0-a59e-3e62da004b51",
      "metadata": {
        "id": "86dec3b3-5bf6-4ad0-a59e-3e62da004b51"
      },
      "source": [
        "### 문제 1.\n",
        "- sepal_length의 표본평균 X를 구하시오."
      ]
    },
    {
      "cell_type": "code",
      "source": [
        "print(iris_df['sepal_length'].mean())"
      ],
      "metadata": {
        "colab": {
          "base_uri": "https://localhost:8080/"
        },
        "id": "xFw4HuOwkpEz",
        "outputId": "81e9ef81-e606-46e6-ea76-eb263797eebb"
      },
      "id": "xFw4HuOwkpEz",
      "execution_count": 4,
      "outputs": [
        {
          "output_type": "stream",
          "name": "stdout",
          "text": [
            "5.843333333333334\n"
          ]
        }
      ]
    },
    {
      "cell_type": "code",
      "execution_count": null,
      "id": "e3a8b8a4-6f7f-4dcc-a63b-547abf6d7745",
      "metadata": {
        "id": "e3a8b8a4-6f7f-4dcc-a63b-547abf6d7745",
        "outputId": "f0d8da5f-c034-4734-d49c-612850ff79db"
      },
      "outputs": [
        {
          "data": {
            "text/plain": [
              "5.84"
            ]
          },
          "execution_count": 6,
          "metadata": {},
          "output_type": "execute_result"
        }
      ],
      "source": [
        "mu = iris_df['sepal_length'].mean()\n",
        "round(mu, 2)"
      ]
    },
    {
      "cell_type": "markdown",
      "id": "2af2144a-7222-45e9-aa6b-c8412492b872",
      "metadata": {
        "id": "2af2144a-7222-45e9-aa6b-c8412492b872"
      },
      "source": [
        "### 문제 2.\n",
        "- 위의 가설을 검정하기 위한 검정통계량을 구하시오."
      ]
    },
    {
      "cell_type": "code",
      "execution_count": null,
      "id": "0f097e76-e30a-4217-a487-45f8ab8d9718",
      "metadata": {
        "id": "0f097e76-e30a-4217-a487-45f8ab8d9718",
        "outputId": "9ed89cdf-b3cc-4d18-8d98-5ff53b944f85"
      },
      "outputs": [
        {
          "name": "stdout",
          "output_type": "stream",
          "text": [
            "5.078\n"
          ]
        }
      ],
      "source": [
        "from scipy import stats\n",
        "from math import sqrt\n",
        "\n",
        "t_statistic, p_value = stats.ttest_1samp(iris_df['sepal_length'], popmean=5.5)\n",
        "print(round(t_statistic, 4))"
      ]
    },
    {
      "cell_type": "markdown",
      "id": "2a9e388e-710e-4c9b-a654-91101ba0a3c3",
      "metadata": {
        "id": "2a9e388e-710e-4c9b-a654-91101ba0a3c3"
      },
      "source": [
        "### 문제 3.\n",
        "- 위의 통계량에 대한 p-값을 구하고(반올림하여 소숫점 넷째 자리까지 계산), 유의수준 0.05하에서 가설검정의 결과를 채택/기각 중 하나로 선택하시오."
      ]
    },
    {
      "cell_type": "code",
      "execution_count": null,
      "id": "4cb896ce-3098-4cc2-935b-3dfc21cc10ee",
      "metadata": {
        "id": "4cb896ce-3098-4cc2-935b-3dfc21cc10ee",
        "outputId": "be6cc8e2-da9c-4387-fcaa-a9cdc9a8b4ac"
      },
      "outputs": [
        {
          "name": "stdout",
          "output_type": "stream",
          "text": [
            "기각\n"
          ]
        }
      ],
      "source": [
        "if p_value >= 0.05:\n",
        "    print(\"채택\")\n",
        "else:\n",
        "    print(\"기각\")"
      ]
    },
    {
      "cell_type": "markdown",
      "id": "6c6d2882-01d7-4412-afc6-716421c02a58",
      "metadata": {
        "id": "6c6d2882-01d7-4412-afc6-716421c02a58"
      },
      "source": [
        "## 독립표본 T-검정\n",
        "- 귀무가설 : male tip과 female tip의 평균은 같다.\n",
        "- 대립가설 : male tip과 female tip의 평균은 다르다."
      ]
    },
    {
      "cell_type": "code",
      "execution_count": 5,
      "id": "2e2739b0-d9da-4e32-886f-78acc9629267",
      "metadata": {
        "colab": {
          "base_uri": "https://localhost:8080/",
          "height": 206
        },
        "id": "2e2739b0-d9da-4e32-886f-78acc9629267",
        "outputId": "3f451f8b-abb2-4198-808b-af957243446e"
      },
      "outputs": [
        {
          "output_type": "execute_result",
          "data": {
            "text/plain": [
              "   total_bill   tip     sex smoker  day    time  size\n",
              "0       16.99  1.01  Female     No  Sun  Dinner     2\n",
              "1       10.34  1.66    Male     No  Sun  Dinner     3\n",
              "2       21.01  3.50    Male     No  Sun  Dinner     3\n",
              "3       23.68  3.31    Male     No  Sun  Dinner     2\n",
              "4       24.59  3.61  Female     No  Sun  Dinner     4"
            ],
            "text/html": [
              "\n",
              "  <div id=\"df-c86f7428-4b38-4b79-931d-327d0736a92e\" class=\"colab-df-container\">\n",
              "    <div>\n",
              "<style scoped>\n",
              "    .dataframe tbody tr th:only-of-type {\n",
              "        vertical-align: middle;\n",
              "    }\n",
              "\n",
              "    .dataframe tbody tr th {\n",
              "        vertical-align: top;\n",
              "    }\n",
              "\n",
              "    .dataframe thead th {\n",
              "        text-align: right;\n",
              "    }\n",
              "</style>\n",
              "<table border=\"1\" class=\"dataframe\">\n",
              "  <thead>\n",
              "    <tr style=\"text-align: right;\">\n",
              "      <th></th>\n",
              "      <th>total_bill</th>\n",
              "      <th>tip</th>\n",
              "      <th>sex</th>\n",
              "      <th>smoker</th>\n",
              "      <th>day</th>\n",
              "      <th>time</th>\n",
              "      <th>size</th>\n",
              "    </tr>\n",
              "  </thead>\n",
              "  <tbody>\n",
              "    <tr>\n",
              "      <th>0</th>\n",
              "      <td>16.99</td>\n",
              "      <td>1.01</td>\n",
              "      <td>Female</td>\n",
              "      <td>No</td>\n",
              "      <td>Sun</td>\n",
              "      <td>Dinner</td>\n",
              "      <td>2</td>\n",
              "    </tr>\n",
              "    <tr>\n",
              "      <th>1</th>\n",
              "      <td>10.34</td>\n",
              "      <td>1.66</td>\n",
              "      <td>Male</td>\n",
              "      <td>No</td>\n",
              "      <td>Sun</td>\n",
              "      <td>Dinner</td>\n",
              "      <td>3</td>\n",
              "    </tr>\n",
              "    <tr>\n",
              "      <th>2</th>\n",
              "      <td>21.01</td>\n",
              "      <td>3.50</td>\n",
              "      <td>Male</td>\n",
              "      <td>No</td>\n",
              "      <td>Sun</td>\n",
              "      <td>Dinner</td>\n",
              "      <td>3</td>\n",
              "    </tr>\n",
              "    <tr>\n",
              "      <th>3</th>\n",
              "      <td>23.68</td>\n",
              "      <td>3.31</td>\n",
              "      <td>Male</td>\n",
              "      <td>No</td>\n",
              "      <td>Sun</td>\n",
              "      <td>Dinner</td>\n",
              "      <td>2</td>\n",
              "    </tr>\n",
              "    <tr>\n",
              "      <th>4</th>\n",
              "      <td>24.59</td>\n",
              "      <td>3.61</td>\n",
              "      <td>Female</td>\n",
              "      <td>No</td>\n",
              "      <td>Sun</td>\n",
              "      <td>Dinner</td>\n",
              "      <td>4</td>\n",
              "    </tr>\n",
              "  </tbody>\n",
              "</table>\n",
              "</div>\n",
              "    <div class=\"colab-df-buttons\">\n",
              "\n",
              "  <div class=\"colab-df-container\">\n",
              "    <button class=\"colab-df-convert\" onclick=\"convertToInteractive('df-c86f7428-4b38-4b79-931d-327d0736a92e')\"\n",
              "            title=\"Convert this dataframe to an interactive table.\"\n",
              "            style=\"display:none;\">\n",
              "\n",
              "  <svg xmlns=\"http://www.w3.org/2000/svg\" height=\"24px\" viewBox=\"0 -960 960 960\">\n",
              "    <path d=\"M120-120v-720h720v720H120Zm60-500h600v-160H180v160Zm220 220h160v-160H400v160Zm0 220h160v-160H400v160ZM180-400h160v-160H180v160Zm440 0h160v-160H620v160ZM180-180h160v-160H180v160Zm440 0h160v-160H620v160Z\"/>\n",
              "  </svg>\n",
              "    </button>\n",
              "\n",
              "  <style>\n",
              "    .colab-df-container {\n",
              "      display:flex;\n",
              "      gap: 12px;\n",
              "    }\n",
              "\n",
              "    .colab-df-convert {\n",
              "      background-color: #E8F0FE;\n",
              "      border: none;\n",
              "      border-radius: 50%;\n",
              "      cursor: pointer;\n",
              "      display: none;\n",
              "      fill: #1967D2;\n",
              "      height: 32px;\n",
              "      padding: 0 0 0 0;\n",
              "      width: 32px;\n",
              "    }\n",
              "\n",
              "    .colab-df-convert:hover {\n",
              "      background-color: #E2EBFA;\n",
              "      box-shadow: 0px 1px 2px rgba(60, 64, 67, 0.3), 0px 1px 3px 1px rgba(60, 64, 67, 0.15);\n",
              "      fill: #174EA6;\n",
              "    }\n",
              "\n",
              "    .colab-df-buttons div {\n",
              "      margin-bottom: 4px;\n",
              "    }\n",
              "\n",
              "    [theme=dark] .colab-df-convert {\n",
              "      background-color: #3B4455;\n",
              "      fill: #D2E3FC;\n",
              "    }\n",
              "\n",
              "    [theme=dark] .colab-df-convert:hover {\n",
              "      background-color: #434B5C;\n",
              "      box-shadow: 0px 1px 3px 1px rgba(0, 0, 0, 0.15);\n",
              "      filter: drop-shadow(0px 1px 2px rgba(0, 0, 0, 0.3));\n",
              "      fill: #FFFFFF;\n",
              "    }\n",
              "  </style>\n",
              "\n",
              "    <script>\n",
              "      const buttonEl =\n",
              "        document.querySelector('#df-c86f7428-4b38-4b79-931d-327d0736a92e button.colab-df-convert');\n",
              "      buttonEl.style.display =\n",
              "        google.colab.kernel.accessAllowed ? 'block' : 'none';\n",
              "\n",
              "      async function convertToInteractive(key) {\n",
              "        const element = document.querySelector('#df-c86f7428-4b38-4b79-931d-327d0736a92e');\n",
              "        const dataTable =\n",
              "          await google.colab.kernel.invokeFunction('convertToInteractive',\n",
              "                                                    [key], {});\n",
              "        if (!dataTable) return;\n",
              "\n",
              "        const docLinkHtml = 'Like what you see? Visit the ' +\n",
              "          '<a target=\"_blank\" href=https://colab.research.google.com/notebooks/data_table.ipynb>data table notebook</a>'\n",
              "          + ' to learn more about interactive tables.';\n",
              "        element.innerHTML = '';\n",
              "        dataTable['output_type'] = 'display_data';\n",
              "        await google.colab.output.renderOutput(dataTable, element);\n",
              "        const docLink = document.createElement('div');\n",
              "        docLink.innerHTML = docLinkHtml;\n",
              "        element.appendChild(docLink);\n",
              "      }\n",
              "    </script>\n",
              "  </div>\n",
              "\n",
              "\n",
              "<div id=\"df-e8adae0b-d631-4981-9934-e19cdbf36652\">\n",
              "  <button class=\"colab-df-quickchart\" onclick=\"quickchart('df-e8adae0b-d631-4981-9934-e19cdbf36652')\"\n",
              "            title=\"Suggest charts\"\n",
              "            style=\"display:none;\">\n",
              "\n",
              "<svg xmlns=\"http://www.w3.org/2000/svg\" height=\"24px\"viewBox=\"0 0 24 24\"\n",
              "     width=\"24px\">\n",
              "    <g>\n",
              "        <path d=\"M19 3H5c-1.1 0-2 .9-2 2v14c0 1.1.9 2 2 2h14c1.1 0 2-.9 2-2V5c0-1.1-.9-2-2-2zM9 17H7v-7h2v7zm4 0h-2V7h2v10zm4 0h-2v-4h2v4z\"/>\n",
              "    </g>\n",
              "</svg>\n",
              "  </button>\n",
              "\n",
              "<style>\n",
              "  .colab-df-quickchart {\n",
              "      --bg-color: #E8F0FE;\n",
              "      --fill-color: #1967D2;\n",
              "      --hover-bg-color: #E2EBFA;\n",
              "      --hover-fill-color: #174EA6;\n",
              "      --disabled-fill-color: #AAA;\n",
              "      --disabled-bg-color: #DDD;\n",
              "  }\n",
              "\n",
              "  [theme=dark] .colab-df-quickchart {\n",
              "      --bg-color: #3B4455;\n",
              "      --fill-color: #D2E3FC;\n",
              "      --hover-bg-color: #434B5C;\n",
              "      --hover-fill-color: #FFFFFF;\n",
              "      --disabled-bg-color: #3B4455;\n",
              "      --disabled-fill-color: #666;\n",
              "  }\n",
              "\n",
              "  .colab-df-quickchart {\n",
              "    background-color: var(--bg-color);\n",
              "    border: none;\n",
              "    border-radius: 50%;\n",
              "    cursor: pointer;\n",
              "    display: none;\n",
              "    fill: var(--fill-color);\n",
              "    height: 32px;\n",
              "    padding: 0;\n",
              "    width: 32px;\n",
              "  }\n",
              "\n",
              "  .colab-df-quickchart:hover {\n",
              "    background-color: var(--hover-bg-color);\n",
              "    box-shadow: 0 1px 2px rgba(60, 64, 67, 0.3), 0 1px 3px 1px rgba(60, 64, 67, 0.15);\n",
              "    fill: var(--button-hover-fill-color);\n",
              "  }\n",
              "\n",
              "  .colab-df-quickchart-complete:disabled,\n",
              "  .colab-df-quickchart-complete:disabled:hover {\n",
              "    background-color: var(--disabled-bg-color);\n",
              "    fill: var(--disabled-fill-color);\n",
              "    box-shadow: none;\n",
              "  }\n",
              "\n",
              "  .colab-df-spinner {\n",
              "    border: 2px solid var(--fill-color);\n",
              "    border-color: transparent;\n",
              "    border-bottom-color: var(--fill-color);\n",
              "    animation:\n",
              "      spin 1s steps(1) infinite;\n",
              "  }\n",
              "\n",
              "  @keyframes spin {\n",
              "    0% {\n",
              "      border-color: transparent;\n",
              "      border-bottom-color: var(--fill-color);\n",
              "      border-left-color: var(--fill-color);\n",
              "    }\n",
              "    20% {\n",
              "      border-color: transparent;\n",
              "      border-left-color: var(--fill-color);\n",
              "      border-top-color: var(--fill-color);\n",
              "    }\n",
              "    30% {\n",
              "      border-color: transparent;\n",
              "      border-left-color: var(--fill-color);\n",
              "      border-top-color: var(--fill-color);\n",
              "      border-right-color: var(--fill-color);\n",
              "    }\n",
              "    40% {\n",
              "      border-color: transparent;\n",
              "      border-right-color: var(--fill-color);\n",
              "      border-top-color: var(--fill-color);\n",
              "    }\n",
              "    60% {\n",
              "      border-color: transparent;\n",
              "      border-right-color: var(--fill-color);\n",
              "    }\n",
              "    80% {\n",
              "      border-color: transparent;\n",
              "      border-right-color: var(--fill-color);\n",
              "      border-bottom-color: var(--fill-color);\n",
              "    }\n",
              "    90% {\n",
              "      border-color: transparent;\n",
              "      border-bottom-color: var(--fill-color);\n",
              "    }\n",
              "  }\n",
              "</style>\n",
              "\n",
              "  <script>\n",
              "    async function quickchart(key) {\n",
              "      const quickchartButtonEl =\n",
              "        document.querySelector('#' + key + ' button');\n",
              "      quickchartButtonEl.disabled = true;  // To prevent multiple clicks.\n",
              "      quickchartButtonEl.classList.add('colab-df-spinner');\n",
              "      try {\n",
              "        const charts = await google.colab.kernel.invokeFunction(\n",
              "            'suggestCharts', [key], {});\n",
              "      } catch (error) {\n",
              "        console.error('Error during call to suggestCharts:', error);\n",
              "      }\n",
              "      quickchartButtonEl.classList.remove('colab-df-spinner');\n",
              "      quickchartButtonEl.classList.add('colab-df-quickchart-complete');\n",
              "    }\n",
              "    (() => {\n",
              "      let quickchartButtonEl =\n",
              "        document.querySelector('#df-e8adae0b-d631-4981-9934-e19cdbf36652 button');\n",
              "      quickchartButtonEl.style.display =\n",
              "        google.colab.kernel.accessAllowed ? 'block' : 'none';\n",
              "    })();\n",
              "  </script>\n",
              "</div>\n",
              "\n",
              "    </div>\n",
              "  </div>\n"
            ],
            "application/vnd.google.colaboratory.intrinsic+json": {
              "type": "dataframe",
              "variable_name": "tips",
              "summary": "{\n  \"name\": \"tips\",\n  \"rows\": 244,\n  \"fields\": [\n    {\n      \"column\": \"total_bill\",\n      \"properties\": {\n        \"dtype\": \"number\",\n        \"std\": 8.902411954856856,\n        \"min\": 3.07,\n        \"max\": 50.81,\n        \"num_unique_values\": 229,\n        \"samples\": [\n          22.12,\n          20.23,\n          14.78\n        ],\n        \"semantic_type\": \"\",\n        \"description\": \"\"\n      }\n    },\n    {\n      \"column\": \"tip\",\n      \"properties\": {\n        \"dtype\": \"number\",\n        \"std\": 1.3836381890011822,\n        \"min\": 1.0,\n        \"max\": 10.0,\n        \"num_unique_values\": 123,\n        \"samples\": [\n          3.35,\n          1.5,\n          6.73\n        ],\n        \"semantic_type\": \"\",\n        \"description\": \"\"\n      }\n    },\n    {\n      \"column\": \"sex\",\n      \"properties\": {\n        \"dtype\": \"category\",\n        \"num_unique_values\": 2,\n        \"samples\": [\n          \"Male\",\n          \"Female\"\n        ],\n        \"semantic_type\": \"\",\n        \"description\": \"\"\n      }\n    },\n    {\n      \"column\": \"smoker\",\n      \"properties\": {\n        \"dtype\": \"category\",\n        \"num_unique_values\": 2,\n        \"samples\": [\n          \"Yes\",\n          \"No\"\n        ],\n        \"semantic_type\": \"\",\n        \"description\": \"\"\n      }\n    },\n    {\n      \"column\": \"day\",\n      \"properties\": {\n        \"dtype\": \"category\",\n        \"num_unique_values\": 4,\n        \"samples\": [\n          \"Sat\",\n          \"Fri\"\n        ],\n        \"semantic_type\": \"\",\n        \"description\": \"\"\n      }\n    },\n    {\n      \"column\": \"time\",\n      \"properties\": {\n        \"dtype\": \"category\",\n        \"num_unique_values\": 2,\n        \"samples\": [\n          \"Lunch\",\n          \"Dinner\"\n        ],\n        \"semantic_type\": \"\",\n        \"description\": \"\"\n      }\n    },\n    {\n      \"column\": \"size\",\n      \"properties\": {\n        \"dtype\": \"number\",\n        \"std\": 0,\n        \"min\": 1,\n        \"max\": 6,\n        \"num_unique_values\": 6,\n        \"samples\": [\n          2,\n          3\n        ],\n        \"semantic_type\": \"\",\n        \"description\": \"\"\n      }\n    }\n  ]\n}"
            }
          },
          "metadata": {},
          "execution_count": 5
        }
      ],
      "source": [
        "import seaborn as sns\n",
        "import pandas as pd\n",
        "\n",
        "tips = sns.load_dataset(\"tips\")\n",
        "tips.head()"
      ]
    },
    {
      "cell_type": "markdown",
      "id": "9956b05a-8d44-48aa-a2a1-ba059e749c13",
      "metadata": {
        "id": "9956b05a-8d44-48aa-a2a1-ba059e749c13"
      },
      "source": [
        "### 문제 1.\n",
        "- male group의 표본평균, female group의 표본평균을 구하세요."
      ]
    },
    {
      "cell_type": "code",
      "source": [
        "print(tips[tips['sex'] == 'Female'].tip.mean(), tips[tips['sex'] == 'Male'].tip.mean())"
      ],
      "metadata": {
        "colab": {
          "base_uri": "https://localhost:8080/"
        },
        "id": "vRlxEzK1k8c0",
        "outputId": "52d2c76d-6d2f-44a6-978a-5d18119085ec"
      },
      "id": "vRlxEzK1k8c0",
      "execution_count": 6,
      "outputs": [
        {
          "output_type": "stream",
          "name": "stdout",
          "text": [
            "2.8334482758620685 3.0896178343949043\n"
          ]
        }
      ]
    },
    {
      "cell_type": "code",
      "execution_count": null,
      "id": "37486e9d-3e32-4675-8f48-b106f63b77dd",
      "metadata": {
        "id": "37486e9d-3e32-4675-8f48-b106f63b77dd",
        "outputId": "726bf017-8a66-4999-bb0e-d5a24efe74cd"
      },
      "outputs": [
        {
          "data": {
            "text/plain": [
              "3.09"
            ]
          },
          "execution_count": 16,
          "metadata": {},
          "output_type": "execute_result"
        }
      ],
      "source": [
        "male = tips.loc[tips['sex'] == \"Male\", \"tip\"]\n",
        "round(male.mean(), 2)"
      ]
    },
    {
      "cell_type": "code",
      "execution_count": null,
      "id": "0c63c0c4-bcf1-4333-815a-db6112afb6ed",
      "metadata": {
        "id": "0c63c0c4-bcf1-4333-815a-db6112afb6ed",
        "outputId": "69c74054-d458-4ef4-dac1-d921236fcbe7"
      },
      "outputs": [
        {
          "data": {
            "text/plain": [
              "2.83"
            ]
          },
          "execution_count": 18,
          "metadata": {},
          "output_type": "execute_result"
        }
      ],
      "source": [
        "female = tips.loc[tips['sex'] == \"Female\", \"tip\"]\n",
        "round(female.mean(), 2)"
      ]
    },
    {
      "cell_type": "markdown",
      "id": "3cede521-e52a-4836-b865-2045c4ec9b50",
      "metadata": {
        "id": "3cede521-e52a-4836-b865-2045c4ec9b50"
      },
      "source": [
        "### 문제 2.\n",
        "- 위의 가설을 검정하기 위한 검정통계량을 구하시오. (반올림하여 소숫점 둘째 자리까지 계산)"
      ]
    },
    {
      "cell_type": "code",
      "source": [
        "male = tips[tips['sex'] == 'Male'].tip\n",
        "female = tips[tips['sex'] == 'Female'].tip\n",
        "\n",
        "from scipy import stats\n",
        "print(stats.shapiro(male))\n",
        "print(stats.shapiro(female))\n",
        "\n",
        "print(stats.kruskal(male, female))"
      ],
      "metadata": {
        "colab": {
          "base_uri": "https://localhost:8080/"
        },
        "id": "z0EF_vSnlYu6",
        "outputId": "aca4332f-5b14-4b25-ec57-1fc366c84b65"
      },
      "id": "z0EF_vSnlYu6",
      "execution_count": 8,
      "outputs": [
        {
          "output_type": "stream",
          "name": "stdout",
          "text": [
            "ShapiroResult(statistic=0.8758684396743774, pvalue=3.7082192871906727e-10)\n",
            "ShapiroResult(statistic=0.9567780494689941, pvalue=0.005448668729513884)\n",
            "KruskalResult(statistic=0.7615717066668545, pvalue=0.38283710822789807)\n"
          ]
        }
      ]
    },
    {
      "cell_type": "code",
      "execution_count": null,
      "id": "c1898fcb-ae6b-4fdf-babe-794bc0aa4227",
      "metadata": {
        "id": "c1898fcb-ae6b-4fdf-babe-794bc0aa4227",
        "outputId": "f2fe6443-9512-49a4-ad69-7e223b717445"
      },
      "outputs": [
        {
          "name": "stdout",
          "output_type": "stream",
          "text": [
            "1.39\n",
            "0.17\n"
          ]
        }
      ],
      "source": [
        "from scipy.stats import stats\n",
        "t_statistic, p_value = stats.ttest_ind(male, female, equal_var=True)\n",
        "print(round(t_statistic, 2))\n",
        "print(round(p_value, 2))"
      ]
    },
    {
      "cell_type": "markdown",
      "id": "eb1e40fb-9ad0-4cdf-88da-e44b544750ef",
      "metadata": {
        "id": "eb1e40fb-9ad0-4cdf-88da-e44b544750ef"
      },
      "source": [
        "### 문제 3.\n",
        "- 위의 통계량에 대한 p-값을 구하고 (반올림하여 소숫점 넷째 자리까지 계산), 유의수준 0.05하에서 가설검정의 결과를 채택/기각 중 하나로 선택하시오."
      ]
    },
    {
      "cell_type": "code",
      "execution_count": null,
      "id": "504b7c48-8983-40ce-ad93-392573a48c38",
      "metadata": {
        "id": "504b7c48-8983-40ce-ad93-392573a48c38",
        "outputId": "4fbc3344-13d2-4a14-c4a6-3686738a2f5e"
      },
      "outputs": [
        {
          "name": "stdout",
          "output_type": "stream",
          "text": [
            "채택\n"
          ]
        }
      ],
      "source": [
        "if p_value >= 0.05:\n",
        "    print(\"채택\")\n",
        "else:\n",
        "    print(\"기각\")"
      ]
    },
    {
      "cell_type": "markdown",
      "id": "bf348963-842d-4a37-9d76-190d968733d6",
      "metadata": {
        "id": "bf348963-842d-4a37-9d76-190d968733d6"
      },
      "source": [
        "## 대응표본 t검정\n",
        "- 가상의 데이터를 만든다."
      ]
    },
    {
      "cell_type": "code",
      "execution_count": 9,
      "id": "53448d3a-9a94-4a39-9b7e-e3c3c0989fdb",
      "metadata": {
        "colab": {
          "base_uri": "https://localhost:8080/",
          "height": 206
        },
        "id": "53448d3a-9a94-4a39-9b7e-e3c3c0989fdb",
        "outputId": "9ab7ff3e-a9bc-4a95-c2f4-541fc55101a7"
      },
      "outputs": [
        {
          "output_type": "execute_result",
          "data": {
            "text/plain": [
              "   ID  Before  After\n",
              "0   1      13     15\n",
              "1   2      10     14\n",
              "2   3      11     14\n",
              "3   4      14     16\n",
              "4   5      13     16"
            ],
            "text/html": [
              "\n",
              "  <div id=\"df-89b05d8e-38cc-4b7e-a481-08c22cdb33aa\" class=\"colab-df-container\">\n",
              "    <div>\n",
              "<style scoped>\n",
              "    .dataframe tbody tr th:only-of-type {\n",
              "        vertical-align: middle;\n",
              "    }\n",
              "\n",
              "    .dataframe tbody tr th {\n",
              "        vertical-align: top;\n",
              "    }\n",
              "\n",
              "    .dataframe thead th {\n",
              "        text-align: right;\n",
              "    }\n",
              "</style>\n",
              "<table border=\"1\" class=\"dataframe\">\n",
              "  <thead>\n",
              "    <tr style=\"text-align: right;\">\n",
              "      <th></th>\n",
              "      <th>ID</th>\n",
              "      <th>Before</th>\n",
              "      <th>After</th>\n",
              "    </tr>\n",
              "  </thead>\n",
              "  <tbody>\n",
              "    <tr>\n",
              "      <th>0</th>\n",
              "      <td>1</td>\n",
              "      <td>13</td>\n",
              "      <td>15</td>\n",
              "    </tr>\n",
              "    <tr>\n",
              "      <th>1</th>\n",
              "      <td>2</td>\n",
              "      <td>10</td>\n",
              "      <td>14</td>\n",
              "    </tr>\n",
              "    <tr>\n",
              "      <th>2</th>\n",
              "      <td>3</td>\n",
              "      <td>11</td>\n",
              "      <td>14</td>\n",
              "    </tr>\n",
              "    <tr>\n",
              "      <th>3</th>\n",
              "      <td>4</td>\n",
              "      <td>14</td>\n",
              "      <td>16</td>\n",
              "    </tr>\n",
              "    <tr>\n",
              "      <th>4</th>\n",
              "      <td>5</td>\n",
              "      <td>13</td>\n",
              "      <td>16</td>\n",
              "    </tr>\n",
              "  </tbody>\n",
              "</table>\n",
              "</div>\n",
              "    <div class=\"colab-df-buttons\">\n",
              "\n",
              "  <div class=\"colab-df-container\">\n",
              "    <button class=\"colab-df-convert\" onclick=\"convertToInteractive('df-89b05d8e-38cc-4b7e-a481-08c22cdb33aa')\"\n",
              "            title=\"Convert this dataframe to an interactive table.\"\n",
              "            style=\"display:none;\">\n",
              "\n",
              "  <svg xmlns=\"http://www.w3.org/2000/svg\" height=\"24px\" viewBox=\"0 -960 960 960\">\n",
              "    <path d=\"M120-120v-720h720v720H120Zm60-500h600v-160H180v160Zm220 220h160v-160H400v160Zm0 220h160v-160H400v160ZM180-400h160v-160H180v160Zm440 0h160v-160H620v160ZM180-180h160v-160H180v160Zm440 0h160v-160H620v160Z\"/>\n",
              "  </svg>\n",
              "    </button>\n",
              "\n",
              "  <style>\n",
              "    .colab-df-container {\n",
              "      display:flex;\n",
              "      gap: 12px;\n",
              "    }\n",
              "\n",
              "    .colab-df-convert {\n",
              "      background-color: #E8F0FE;\n",
              "      border: none;\n",
              "      border-radius: 50%;\n",
              "      cursor: pointer;\n",
              "      display: none;\n",
              "      fill: #1967D2;\n",
              "      height: 32px;\n",
              "      padding: 0 0 0 0;\n",
              "      width: 32px;\n",
              "    }\n",
              "\n",
              "    .colab-df-convert:hover {\n",
              "      background-color: #E2EBFA;\n",
              "      box-shadow: 0px 1px 2px rgba(60, 64, 67, 0.3), 0px 1px 3px 1px rgba(60, 64, 67, 0.15);\n",
              "      fill: #174EA6;\n",
              "    }\n",
              "\n",
              "    .colab-df-buttons div {\n",
              "      margin-bottom: 4px;\n",
              "    }\n",
              "\n",
              "    [theme=dark] .colab-df-convert {\n",
              "      background-color: #3B4455;\n",
              "      fill: #D2E3FC;\n",
              "    }\n",
              "\n",
              "    [theme=dark] .colab-df-convert:hover {\n",
              "      background-color: #434B5C;\n",
              "      box-shadow: 0px 1px 3px 1px rgba(0, 0, 0, 0.15);\n",
              "      filter: drop-shadow(0px 1px 2px rgba(0, 0, 0, 0.3));\n",
              "      fill: #FFFFFF;\n",
              "    }\n",
              "  </style>\n",
              "\n",
              "    <script>\n",
              "      const buttonEl =\n",
              "        document.querySelector('#df-89b05d8e-38cc-4b7e-a481-08c22cdb33aa button.colab-df-convert');\n",
              "      buttonEl.style.display =\n",
              "        google.colab.kernel.accessAllowed ? 'block' : 'none';\n",
              "\n",
              "      async function convertToInteractive(key) {\n",
              "        const element = document.querySelector('#df-89b05d8e-38cc-4b7e-a481-08c22cdb33aa');\n",
              "        const dataTable =\n",
              "          await google.colab.kernel.invokeFunction('convertToInteractive',\n",
              "                                                    [key], {});\n",
              "        if (!dataTable) return;\n",
              "\n",
              "        const docLinkHtml = 'Like what you see? Visit the ' +\n",
              "          '<a target=\"_blank\" href=https://colab.research.google.com/notebooks/data_table.ipynb>data table notebook</a>'\n",
              "          + ' to learn more about interactive tables.';\n",
              "        element.innerHTML = '';\n",
              "        dataTable['output_type'] = 'display_data';\n",
              "        await google.colab.output.renderOutput(dataTable, element);\n",
              "        const docLink = document.createElement('div');\n",
              "        docLink.innerHTML = docLinkHtml;\n",
              "        element.appendChild(docLink);\n",
              "      }\n",
              "    </script>\n",
              "  </div>\n",
              "\n",
              "\n",
              "<div id=\"df-6d4f75c7-e508-4964-98b1-b58d3fd0e67e\">\n",
              "  <button class=\"colab-df-quickchart\" onclick=\"quickchart('df-6d4f75c7-e508-4964-98b1-b58d3fd0e67e')\"\n",
              "            title=\"Suggest charts\"\n",
              "            style=\"display:none;\">\n",
              "\n",
              "<svg xmlns=\"http://www.w3.org/2000/svg\" height=\"24px\"viewBox=\"0 0 24 24\"\n",
              "     width=\"24px\">\n",
              "    <g>\n",
              "        <path d=\"M19 3H5c-1.1 0-2 .9-2 2v14c0 1.1.9 2 2 2h14c1.1 0 2-.9 2-2V5c0-1.1-.9-2-2-2zM9 17H7v-7h2v7zm4 0h-2V7h2v10zm4 0h-2v-4h2v4z\"/>\n",
              "    </g>\n",
              "</svg>\n",
              "  </button>\n",
              "\n",
              "<style>\n",
              "  .colab-df-quickchart {\n",
              "      --bg-color: #E8F0FE;\n",
              "      --fill-color: #1967D2;\n",
              "      --hover-bg-color: #E2EBFA;\n",
              "      --hover-fill-color: #174EA6;\n",
              "      --disabled-fill-color: #AAA;\n",
              "      --disabled-bg-color: #DDD;\n",
              "  }\n",
              "\n",
              "  [theme=dark] .colab-df-quickchart {\n",
              "      --bg-color: #3B4455;\n",
              "      --fill-color: #D2E3FC;\n",
              "      --hover-bg-color: #434B5C;\n",
              "      --hover-fill-color: #FFFFFF;\n",
              "      --disabled-bg-color: #3B4455;\n",
              "      --disabled-fill-color: #666;\n",
              "  }\n",
              "\n",
              "  .colab-df-quickchart {\n",
              "    background-color: var(--bg-color);\n",
              "    border: none;\n",
              "    border-radius: 50%;\n",
              "    cursor: pointer;\n",
              "    display: none;\n",
              "    fill: var(--fill-color);\n",
              "    height: 32px;\n",
              "    padding: 0;\n",
              "    width: 32px;\n",
              "  }\n",
              "\n",
              "  .colab-df-quickchart:hover {\n",
              "    background-color: var(--hover-bg-color);\n",
              "    box-shadow: 0 1px 2px rgba(60, 64, 67, 0.3), 0 1px 3px 1px rgba(60, 64, 67, 0.15);\n",
              "    fill: var(--button-hover-fill-color);\n",
              "  }\n",
              "\n",
              "  .colab-df-quickchart-complete:disabled,\n",
              "  .colab-df-quickchart-complete:disabled:hover {\n",
              "    background-color: var(--disabled-bg-color);\n",
              "    fill: var(--disabled-fill-color);\n",
              "    box-shadow: none;\n",
              "  }\n",
              "\n",
              "  .colab-df-spinner {\n",
              "    border: 2px solid var(--fill-color);\n",
              "    border-color: transparent;\n",
              "    border-bottom-color: var(--fill-color);\n",
              "    animation:\n",
              "      spin 1s steps(1) infinite;\n",
              "  }\n",
              "\n",
              "  @keyframes spin {\n",
              "    0% {\n",
              "      border-color: transparent;\n",
              "      border-bottom-color: var(--fill-color);\n",
              "      border-left-color: var(--fill-color);\n",
              "    }\n",
              "    20% {\n",
              "      border-color: transparent;\n",
              "      border-left-color: var(--fill-color);\n",
              "      border-top-color: var(--fill-color);\n",
              "    }\n",
              "    30% {\n",
              "      border-color: transparent;\n",
              "      border-left-color: var(--fill-color);\n",
              "      border-top-color: var(--fill-color);\n",
              "      border-right-color: var(--fill-color);\n",
              "    }\n",
              "    40% {\n",
              "      border-color: transparent;\n",
              "      border-right-color: var(--fill-color);\n",
              "      border-top-color: var(--fill-color);\n",
              "    }\n",
              "    60% {\n",
              "      border-color: transparent;\n",
              "      border-right-color: var(--fill-color);\n",
              "    }\n",
              "    80% {\n",
              "      border-color: transparent;\n",
              "      border-right-color: var(--fill-color);\n",
              "      border-bottom-color: var(--fill-color);\n",
              "    }\n",
              "    90% {\n",
              "      border-color: transparent;\n",
              "      border-bottom-color: var(--fill-color);\n",
              "    }\n",
              "  }\n",
              "</style>\n",
              "\n",
              "  <script>\n",
              "    async function quickchart(key) {\n",
              "      const quickchartButtonEl =\n",
              "        document.querySelector('#' + key + ' button');\n",
              "      quickchartButtonEl.disabled = true;  // To prevent multiple clicks.\n",
              "      quickchartButtonEl.classList.add('colab-df-spinner');\n",
              "      try {\n",
              "        const charts = await google.colab.kernel.invokeFunction(\n",
              "            'suggestCharts', [key], {});\n",
              "      } catch (error) {\n",
              "        console.error('Error during call to suggestCharts:', error);\n",
              "      }\n",
              "      quickchartButtonEl.classList.remove('colab-df-spinner');\n",
              "      quickchartButtonEl.classList.add('colab-df-quickchart-complete');\n",
              "    }\n",
              "    (() => {\n",
              "      let quickchartButtonEl =\n",
              "        document.querySelector('#df-6d4f75c7-e508-4964-98b1-b58d3fd0e67e button');\n",
              "      quickchartButtonEl.style.display =\n",
              "        google.colab.kernel.accessAllowed ? 'block' : 'none';\n",
              "    })();\n",
              "  </script>\n",
              "</div>\n",
              "\n",
              "    </div>\n",
              "  </div>\n"
            ],
            "application/vnd.google.colaboratory.intrinsic+json": {
              "type": "dataframe",
              "variable_name": "data",
              "summary": "{\n  \"name\": \"data\",\n  \"rows\": 50,\n  \"fields\": [\n    {\n      \"column\": \"ID\",\n      \"properties\": {\n        \"dtype\": \"number\",\n        \"std\": 14,\n        \"min\": 1,\n        \"max\": 50,\n        \"num_unique_values\": 50,\n        \"samples\": [\n          14,\n          40,\n          31\n        ],\n        \"semantic_type\": \"\",\n        \"description\": \"\"\n      }\n    },\n    {\n      \"column\": \"Before\",\n      \"properties\": {\n        \"dtype\": \"number\",\n        \"std\": 2,\n        \"min\": 4,\n        \"max\": 14,\n        \"num_unique_values\": 10,\n        \"samples\": [\n          7,\n          10,\n          9\n        ],\n        \"semantic_type\": \"\",\n        \"description\": \"\"\n      }\n    },\n    {\n      \"column\": \"After\",\n      \"properties\": {\n        \"dtype\": \"number\",\n        \"std\": 2,\n        \"min\": 7,\n        \"max\": 17,\n        \"num_unique_values\": 11,\n        \"samples\": [\n          13,\n          15,\n          9\n        ],\n        \"semantic_type\": \"\",\n        \"description\": \"\"\n      }\n    }\n  ]\n}"
            }
          },
          "metadata": {},
          "execution_count": 9
        }
      ],
      "source": [
        "import pandas as pd\n",
        "import numpy as np\n",
        "\n",
        "# Set random seed for reproducibility\n",
        "np.random.seed(0)\n",
        "\n",
        "n = 50  # Sample size\n",
        "before = np.random.normal(loc=10, scale=2, size=n)\n",
        "mean_diff = 3\n",
        "after = before + mean_diff + np.random.normal(loc=0, scale=1, size=n)\n",
        "data = pd.DataFrame({'ID': range(1, n + 1), 'Before': before, 'After': after})\n",
        "data['Before'] = data['Before'].astype(\"int\")\n",
        "data['After'] = data['After'].astype(\"int\")\n",
        "data.head()"
      ]
    },
    {
      "cell_type": "markdown",
      "id": "6ecf85d6-cf91-49c6-8d35-7c29433d81a8",
      "metadata": {
        "id": "6ecf85d6-cf91-49c6-8d35-7c29433d81a8"
      },
      "source": [
        "- 가설설정\n",
        "    + 귀무가설 : $\\overline{\\mu_{d}}$은 0이다.\n",
        "    + 대립가설 : $\\overline{\\mu_{d}}$은 0이 아니다."
      ]
    },
    {
      "cell_type": "markdown",
      "id": "e83ec77d-b70f-41c2-b14b-c64180904ac9",
      "metadata": {
        "id": "e83ec77d-b70f-41c2-b14b-c64180904ac9"
      },
      "source": [
        "### 문제 1.\n",
        "- 표본평균 $\\overline{\\mu_{d}}$의 표본 평균을 구하시오. (반올림하여 소숫점 둘째 자리까지 계산)"
      ]
    },
    {
      "cell_type": "code",
      "source": [
        "data['diff'] = data['After'] - data['Before']\n",
        "data['diff'].mean()"
      ],
      "metadata": {
        "colab": {
          "base_uri": "https://localhost:8080/"
        },
        "id": "gtGZBagFmDvU",
        "outputId": "95a7c2d0-8eee-475f-da2b-06bcbd3a12c2"
      },
      "id": "gtGZBagFmDvU",
      "execution_count": 10,
      "outputs": [
        {
          "output_type": "execute_result",
          "data": {
            "text/plain": [
              "3.0"
            ]
          },
          "metadata": {},
          "execution_count": 10
        }
      ]
    },
    {
      "cell_type": "code",
      "execution_count": null,
      "id": "7ed891dc-e127-4b3e-96c7-68da23afd162",
      "metadata": {
        "id": "7ed891dc-e127-4b3e-96c7-68da23afd162",
        "outputId": "23c97776-5060-4c54-f9db-4e5c44003f89"
      },
      "outputs": [
        {
          "data": {
            "text/plain": [
              "3.0"
            ]
          },
          "execution_count": 43,
          "metadata": {},
          "output_type": "execute_result"
        }
      ],
      "source": [
        "diff = data['After'] - data['Before']\n",
        "diff.mean()"
      ]
    },
    {
      "cell_type": "markdown",
      "id": "06b640d3-b0ea-43e0-9113-0588ff1168b8",
      "metadata": {
        "id": "06b640d3-b0ea-43e0-9113-0588ff1168b8"
      },
      "source": [
        "### 문제 2.\n",
        "- 위의 가설을 검정하기 위한 검정통계량을 구하시오."
      ]
    },
    {
      "cell_type": "code",
      "execution_count": null,
      "id": "f91b5feb-e8bd-42ff-a684-0130bd53e54f",
      "metadata": {
        "id": "f91b5feb-e8bd-42ff-a684-0130bd53e54f",
        "outputId": "5f81d1af-7384-4d2c-c33c-b7ec3b74ae7d"
      },
      "outputs": [
        {
          "name": "stdout",
          "output_type": "stream",
          "text": [
            "-23.48\n",
            "0.0\n"
          ]
        }
      ],
      "source": [
        "from scipy.stats import stats\n",
        "from math import sqrt\n",
        "\n",
        "t_statistic, p_value = stats.ttest_rel(data['Before'], data['After'])\n",
        "print(round(t_statistic, 2))\n",
        "print(round(p_value, 2))"
      ]
    },
    {
      "cell_type": "markdown",
      "id": "a3ab2212-1e0f-425a-8ca7-f5fa96753245",
      "metadata": {
        "id": "a3ab2212-1e0f-425a-8ca7-f5fa96753245"
      },
      "source": [
        "### 문제 3.\n",
        "- 위의 통계량에 대한 p-값을 구하고 (반올림하여 소숫점 넷째 자리까지 계산), 유의수준 0.05하에서 가설검정의 결과를 채택/기각 중 하나로 선택하시오."
      ]
    },
    {
      "cell_type": "code",
      "execution_count": null,
      "id": "e61c77f5-3c98-4299-82f4-b3155e164b0d",
      "metadata": {
        "id": "e61c77f5-3c98-4299-82f4-b3155e164b0d",
        "outputId": "6e7ec0d5-fb73-4c24-9200-171ddb2302d2"
      },
      "outputs": [
        {
          "name": "stdout",
          "output_type": "stream",
          "text": [
            "기각\n"
          ]
        }
      ],
      "source": [
        "if p_value >= 0.05:\n",
        "    print(\"채택\")\n",
        "else:\n",
        "    print(\"기각\")"
      ]
    },
    {
      "cell_type": "markdown",
      "id": "0715bae4-067c-4420-9b97-3e2ca0ba9f2b",
      "metadata": {
        "id": "0715bae4-067c-4420-9b97-3e2ca0ba9f2b"
      },
      "source": [
        "## 일원분산분석\n",
        "- 각 종의 sepal_width 평균길이를 비교 분석 한다.\n",
        "- 가설검정\n",
        "    + 귀무가설 : $\\overline{X_{1}} = \\overline{X_{2}} = \\overline{X_{3}}$ 각 그룹의 평균은 모두 같다.\n",
        "    + 대립가설 : 적어도 한개의 그룹은 평균이 갖지 않다.\n",
        "- 각 그룹의 데이터는 모두 정규성 그리고 등분산성은 만족하는 것으로 가정한다."
      ]
    },
    {
      "cell_type": "code",
      "execution_count": null,
      "id": "b72e81a0-bcfb-455d-8fd7-5c1e5cb6ebd4",
      "metadata": {
        "id": "b72e81a0-bcfb-455d-8fd7-5c1e5cb6ebd4",
        "outputId": "1cfb5b38-bc2d-494c-9049-f91e800f456c"
      },
      "outputs": [
        {
          "data": {
            "text/html": [
              "<div>\n",
              "<style scoped>\n",
              "    .dataframe tbody tr th:only-of-type {\n",
              "        vertical-align: middle;\n",
              "    }\n",
              "\n",
              "    .dataframe tbody tr th {\n",
              "        vertical-align: top;\n",
              "    }\n",
              "\n",
              "    .dataframe thead th {\n",
              "        text-align: right;\n",
              "    }\n",
              "</style>\n",
              "<table border=\"1\" class=\"dataframe\">\n",
              "  <thead>\n",
              "    <tr style=\"text-align: right;\">\n",
              "      <th></th>\n",
              "      <th>sepal_length</th>\n",
              "      <th>sepal_width</th>\n",
              "      <th>petal_length</th>\n",
              "      <th>petal_width</th>\n",
              "      <th>species</th>\n",
              "    </tr>\n",
              "  </thead>\n",
              "  <tbody>\n",
              "    <tr>\n",
              "      <th>0</th>\n",
              "      <td>5.1</td>\n",
              "      <td>3.5</td>\n",
              "      <td>1.4</td>\n",
              "      <td>0.2</td>\n",
              "      <td>setosa</td>\n",
              "    </tr>\n",
              "    <tr>\n",
              "      <th>1</th>\n",
              "      <td>4.9</td>\n",
              "      <td>3.0</td>\n",
              "      <td>1.4</td>\n",
              "      <td>0.2</td>\n",
              "      <td>setosa</td>\n",
              "    </tr>\n",
              "    <tr>\n",
              "      <th>2</th>\n",
              "      <td>4.7</td>\n",
              "      <td>3.2</td>\n",
              "      <td>1.3</td>\n",
              "      <td>0.2</td>\n",
              "      <td>setosa</td>\n",
              "    </tr>\n",
              "    <tr>\n",
              "      <th>3</th>\n",
              "      <td>4.6</td>\n",
              "      <td>3.1</td>\n",
              "      <td>1.5</td>\n",
              "      <td>0.2</td>\n",
              "      <td>setosa</td>\n",
              "    </tr>\n",
              "    <tr>\n",
              "      <th>4</th>\n",
              "      <td>5.0</td>\n",
              "      <td>3.6</td>\n",
              "      <td>1.4</td>\n",
              "      <td>0.2</td>\n",
              "      <td>setosa</td>\n",
              "    </tr>\n",
              "  </tbody>\n",
              "</table>\n",
              "</div>"
            ],
            "text/plain": [
              "   sepal_length  sepal_width  petal_length  petal_width species\n",
              "0           5.1          3.5           1.4          0.2  setosa\n",
              "1           4.9          3.0           1.4          0.2  setosa\n",
              "2           4.7          3.2           1.3          0.2  setosa\n",
              "3           4.6          3.1           1.5          0.2  setosa\n",
              "4           5.0          3.6           1.4          0.2  setosa"
            ]
          },
          "execution_count": 1,
          "metadata": {},
          "output_type": "execute_result"
        }
      ],
      "source": [
        "import seaborn as sns\n",
        "import pandas as pd\n",
        "\n",
        "iris_df = sns.load_dataset(\"iris\")\n",
        "iris_df.head()"
      ]
    },
    {
      "cell_type": "code",
      "execution_count": null,
      "id": "e15c61fd-e1f2-455a-b627-bd0285195bdf",
      "metadata": {
        "id": "e15c61fd-e1f2-455a-b627-bd0285195bdf"
      },
      "outputs": [],
      "source": [
        "x1 = iris_df.loc[iris_df['species'] == \"setosa\", \"sepal_width\"]\n",
        "x2 = iris_df.loc[iris_df['species'] == \"versicolor\", \"sepal_width\"]\n",
        "x3 = iris_df.loc[iris_df['species'] == \"virginica\", \"sepal_width\"]"
      ]
    },
    {
      "cell_type": "markdown",
      "id": "3d03f5c5-62dd-45ac-b279-45e828afd3a8",
      "metadata": {
        "id": "3d03f5c5-62dd-45ac-b279-45e828afd3a8"
      },
      "source": [
        "### 문제 1.\n",
        "- versicolor 종의 평균 꽃받침 너비를 구하시오. (반올림하여 소숫점 둘째 자리까지 계산)"
      ]
    },
    {
      "cell_type": "code",
      "execution_count": null,
      "id": "119541c7-52cd-4df1-bd72-7bd2956e2017",
      "metadata": {
        "id": "119541c7-52cd-4df1-bd72-7bd2956e2017",
        "outputId": "71c9d7b4-0832-4313-85fa-f65ad134306c"
      },
      "outputs": [
        {
          "data": {
            "text/plain": [
              "2.7700000000000005"
            ]
          },
          "execution_count": 52,
          "metadata": {},
          "output_type": "execute_result"
        }
      ],
      "source": [
        "x2.mean()"
      ]
    },
    {
      "cell_type": "markdown",
      "id": "214d8e71-e9e5-4cca-aa91-dc70196e0a5e",
      "metadata": {
        "id": "214d8e71-e9e5-4cca-aa91-dc70196e0a5e"
      },
      "source": [
        "### 문제 2\n",
        "- 위의 가설을 검정하기 위한 검정통계량을 구하시오. (반올림하여 소숫점 둘째 자리까지 계산)"
      ]
    },
    {
      "cell_type": "code",
      "execution_count": null,
      "id": "82146cda-c59b-4b8e-8240-4b2881ae67d1",
      "metadata": {
        "id": "82146cda-c59b-4b8e-8240-4b2881ae67d1",
        "outputId": "7d4f04a4-9251-4cdb-9daf-5f56d82bd25e"
      },
      "outputs": [
        {
          "name": "stdout",
          "output_type": "stream",
          "text": [
            "49.16\n",
            "0.0\n"
          ]
        }
      ],
      "source": [
        "from scipy.stats import stats\n",
        "f_statistic, p_value = stats.f_oneway(x1, x2, x3)\n",
        "print(round(f_statistic, 2))\n",
        "print(round(p_value, 2))"
      ]
    },
    {
      "cell_type": "markdown",
      "id": "0ecaec31-31b7-4db4-8a47-0d349f5d841a",
      "metadata": {
        "id": "0ecaec31-31b7-4db4-8a47-0d349f5d841a"
      },
      "source": [
        "### 문제 3.\n",
        "- 위의 통계량에 대한 p-값을 구하고 (반올림하여 소숫점 넷째 자리까지 계산), 유의수준 0.05하에서 가설검정의 결과를 채택/기각 중 하나로 선택하시오."
      ]
    },
    {
      "cell_type": "code",
      "execution_count": null,
      "id": "eb1fafd9-7970-4743-a5c5-c06e4cb47e53",
      "metadata": {
        "id": "eb1fafd9-7970-4743-a5c5-c06e4cb47e53",
        "outputId": "1c4e2b8d-7802-4246-ac26-69465788027c"
      },
      "outputs": [
        {
          "name": "stdout",
          "output_type": "stream",
          "text": [
            "기각\n"
          ]
        }
      ],
      "source": [
        "if p_value >= 0.05:\n",
        "    print(\"채택\")\n",
        "else:\n",
        "    print(\"기각\")"
      ]
    },
    {
      "cell_type": "markdown",
      "id": "0166dd15-cead-4da9-a411-9e241604c374",
      "metadata": {
        "id": "0166dd15-cead-4da9-a411-9e241604c374"
      },
      "source": [
        "### 사후검정"
      ]
    },
    {
      "cell_type": "code",
      "execution_count": null,
      "id": "85f23a21-244d-44cb-b30d-d110b3f3645b",
      "metadata": {
        "id": "85f23a21-244d-44cb-b30d-d110b3f3645b",
        "outputId": "8bb5291a-149b-4e5e-a1ef-43340dbb15a7"
      },
      "outputs": [
        {
          "data": {
            "text/html": [
              "<table class=\"simpletable\">\n",
              "<caption>Multiple Comparison of Means - Tukey HSD, FWER=0.05</caption>\n",
              "<tr>\n",
              "    <th>group1</th>     <th>group2</th>   <th>meandiff</th>  <th>p-adj</th>  <th>lower</th>   <th>upper</th>  <th>reject</th>\n",
              "</tr>\n",
              "<tr>\n",
              "    <td>setosa</td>   <td>versicolor</td>  <td>-0.658</td>    <td>0.0</td>  <td>-0.8189</td> <td>-0.4971</td>  <td>True</td> \n",
              "</tr>\n",
              "<tr>\n",
              "    <td>setosa</td>    <td>virginica</td>  <td>-0.454</td>    <td>0.0</td>  <td>-0.6149</td> <td>-0.2931</td>  <td>True</td> \n",
              "</tr>\n",
              "<tr>\n",
              "  <td>versicolor</td>  <td>virginica</td>   <td>0.204</td>  <td>0.0088</td> <td>0.0431</td>  <td>0.3649</td>   <td>True</td> \n",
              "</tr>\n",
              "</table>"
            ],
            "text/plain": [
              "<class 'statsmodels.iolib.table.SimpleTable'>"
            ]
          },
          "execution_count": 58,
          "metadata": {},
          "output_type": "execute_result"
        }
      ],
      "source": [
        "from statsmodels.stats.multicomp import pairwise_tukeyhsd\n",
        "posthoc = pairwise_tukeyhsd(iris_df['sepal_width'], iris_df['species'])\n",
        "posthoc.summary()"
      ]
    },
    {
      "cell_type": "markdown",
      "id": "b70f8590-bc97-487b-9bc2-2320cdcec43d",
      "metadata": {
        "id": "b70f8590-bc97-487b-9bc2-2320cdcec43d"
      },
      "source": [
        "## 카이제곱검정 독립성 검정\n",
        "- 가설설정\n",
        "  + 귀무가설 : tips 데이터의 smoker와 day는 서로 관련성이 없다.\n",
        "  + 대립가설 : tips 데이터의 smoker와 day는 서로 관련성이 있다."
      ]
    },
    {
      "cell_type": "code",
      "execution_count": null,
      "id": "f105f696-cb24-4e71-959c-6300effe683d",
      "metadata": {
        "id": "f105f696-cb24-4e71-959c-6300effe683d",
        "outputId": "ecc061a0-6e6b-4245-f21c-4111ca7b43be"
      },
      "outputs": [
        {
          "data": {
            "text/html": [
              "<div>\n",
              "<style scoped>\n",
              "    .dataframe tbody tr th:only-of-type {\n",
              "        vertical-align: middle;\n",
              "    }\n",
              "\n",
              "    .dataframe tbody tr th {\n",
              "        vertical-align: top;\n",
              "    }\n",
              "\n",
              "    .dataframe thead th {\n",
              "        text-align: right;\n",
              "    }\n",
              "</style>\n",
              "<table border=\"1\" class=\"dataframe\">\n",
              "  <thead>\n",
              "    <tr style=\"text-align: right;\">\n",
              "      <th></th>\n",
              "      <th>total_bill</th>\n",
              "      <th>tip</th>\n",
              "      <th>sex</th>\n",
              "      <th>smoker</th>\n",
              "      <th>day</th>\n",
              "      <th>time</th>\n",
              "      <th>size</th>\n",
              "    </tr>\n",
              "  </thead>\n",
              "  <tbody>\n",
              "    <tr>\n",
              "      <th>0</th>\n",
              "      <td>16.99</td>\n",
              "      <td>1.01</td>\n",
              "      <td>Female</td>\n",
              "      <td>No</td>\n",
              "      <td>Sun</td>\n",
              "      <td>Dinner</td>\n",
              "      <td>2</td>\n",
              "    </tr>\n",
              "    <tr>\n",
              "      <th>1</th>\n",
              "      <td>10.34</td>\n",
              "      <td>1.66</td>\n",
              "      <td>Male</td>\n",
              "      <td>No</td>\n",
              "      <td>Sun</td>\n",
              "      <td>Dinner</td>\n",
              "      <td>3</td>\n",
              "    </tr>\n",
              "    <tr>\n",
              "      <th>2</th>\n",
              "      <td>21.01</td>\n",
              "      <td>3.50</td>\n",
              "      <td>Male</td>\n",
              "      <td>No</td>\n",
              "      <td>Sun</td>\n",
              "      <td>Dinner</td>\n",
              "      <td>3</td>\n",
              "    </tr>\n",
              "    <tr>\n",
              "      <th>3</th>\n",
              "      <td>23.68</td>\n",
              "      <td>3.31</td>\n",
              "      <td>Male</td>\n",
              "      <td>No</td>\n",
              "      <td>Sun</td>\n",
              "      <td>Dinner</td>\n",
              "      <td>2</td>\n",
              "    </tr>\n",
              "    <tr>\n",
              "      <th>4</th>\n",
              "      <td>24.59</td>\n",
              "      <td>3.61</td>\n",
              "      <td>Female</td>\n",
              "      <td>No</td>\n",
              "      <td>Sun</td>\n",
              "      <td>Dinner</td>\n",
              "      <td>4</td>\n",
              "    </tr>\n",
              "  </tbody>\n",
              "</table>\n",
              "</div>"
            ],
            "text/plain": [
              "   total_bill   tip     sex smoker  day    time  size\n",
              "0       16.99  1.01  Female     No  Sun  Dinner     2\n",
              "1       10.34  1.66    Male     No  Sun  Dinner     3\n",
              "2       21.01  3.50    Male     No  Sun  Dinner     3\n",
              "3       23.68  3.31    Male     No  Sun  Dinner     2\n",
              "4       24.59  3.61  Female     No  Sun  Dinner     4"
            ]
          },
          "execution_count": 4,
          "metadata": {},
          "output_type": "execute_result"
        }
      ],
      "source": [
        "import seaborn as sns\n",
        "import numpy as np\n",
        "\n",
        "# 데이터 가져오기\n",
        "tips = sns.load_dataset(\"tips\")\n",
        "tips.head()"
      ]
    },
    {
      "cell_type": "markdown",
      "id": "3729d679-c09c-438a-8657-4468d241bd72",
      "metadata": {
        "id": "3729d679-c09c-438a-8657-4468d241bd72"
      },
      "source": [
        "### 분할표 만들기"
      ]
    },
    {
      "cell_type": "code",
      "execution_count": null,
      "id": "cc1c6b5c-1c02-4815-aeea-3e39eba5799a",
      "metadata": {
        "id": "cc1c6b5c-1c02-4815-aeea-3e39eba5799a",
        "outputId": "ae2b4fa4-717d-474e-feb6-29b38b4a404b"
      },
      "outputs": [
        {
          "data": {
            "text/html": [
              "<div>\n",
              "<style scoped>\n",
              "    .dataframe tbody tr th:only-of-type {\n",
              "        vertical-align: middle;\n",
              "    }\n",
              "\n",
              "    .dataframe tbody tr th {\n",
              "        vertical-align: top;\n",
              "    }\n",
              "\n",
              "    .dataframe thead th {\n",
              "        text-align: right;\n",
              "    }\n",
              "</style>\n",
              "<table border=\"1\" class=\"dataframe\">\n",
              "  <thead>\n",
              "    <tr style=\"text-align: right;\">\n",
              "      <th>smoker</th>\n",
              "      <th>Yes</th>\n",
              "      <th>No</th>\n",
              "    </tr>\n",
              "    <tr>\n",
              "      <th>day</th>\n",
              "      <th></th>\n",
              "      <th></th>\n",
              "    </tr>\n",
              "  </thead>\n",
              "  <tbody>\n",
              "    <tr>\n",
              "      <th>Thur</th>\n",
              "      <td>17</td>\n",
              "      <td>45</td>\n",
              "    </tr>\n",
              "    <tr>\n",
              "      <th>Fri</th>\n",
              "      <td>15</td>\n",
              "      <td>4</td>\n",
              "    </tr>\n",
              "    <tr>\n",
              "      <th>Sat</th>\n",
              "      <td>42</td>\n",
              "      <td>45</td>\n",
              "    </tr>\n",
              "    <tr>\n",
              "      <th>Sun</th>\n",
              "      <td>19</td>\n",
              "      <td>57</td>\n",
              "    </tr>\n",
              "  </tbody>\n",
              "</table>\n",
              "</div>"
            ],
            "text/plain": [
              "smoker  Yes  No\n",
              "day            \n",
              "Thur     17  45\n",
              "Fri      15   4\n",
              "Sat      42  45\n",
              "Sun      19  57"
            ]
          },
          "execution_count": 5,
          "metadata": {},
          "output_type": "execute_result"
        }
      ],
      "source": [
        "observed = pd.crosstab(tips['day'], tips['smoker'])\n",
        "observed"
      ]
    },
    {
      "cell_type": "markdown",
      "id": "f1338793-69f7-44f1-9269-3195095479f1",
      "metadata": {
        "id": "f1338793-69f7-44f1-9269-3195095479f1"
      },
      "source": [
        "### 문제 1.\n",
        "- 주어진 데이터로 smoker와 day 분할표를 만들었을 때, yes가 가장 많은 day를 출력하세요."
      ]
    },
    {
      "cell_type": "code",
      "execution_count": null,
      "id": "7d60de7d-0919-42ff-a4fa-b9beb6847979",
      "metadata": {
        "id": "7d60de7d-0919-42ff-a4fa-b9beb6847979",
        "outputId": "95d436f6-3f45-4aac-f2bd-208c8d0ac909"
      },
      "outputs": [
        {
          "data": {
            "text/plain": [
              "'Sat'"
            ]
          },
          "execution_count": 6,
          "metadata": {},
          "output_type": "execute_result"
        }
      ],
      "source": [
        "result = observed.loc[observed['Yes'] == observed['Yes'].max()]\n",
        "result.index[0]"
      ]
    },
    {
      "cell_type": "markdown",
      "id": "e7ecb339-c570-4723-af83-e0f9fce2df11",
      "metadata": {
        "id": "e7ecb339-c570-4723-af83-e0f9fce2df11"
      },
      "source": [
        "### 문제 2.\n",
        "- 위의 가설을 검정하기 위한 검정통계량을 구하시오. (반올림하여 소숫점 둘째 자리까지 계산)"
      ]
    },
    {
      "cell_type": "code",
      "execution_count": null,
      "id": "f23e6576-cab8-43ab-8db6-20a878e2e055",
      "metadata": {
        "id": "f23e6576-cab8-43ab-8db6-20a878e2e055",
        "outputId": "941234f9-2c18-49de-c5c0-8569eac0a1a7"
      },
      "outputs": [
        {
          "name": "stdout",
          "output_type": "stream",
          "text": [
            "25.7872 0.0\n"
          ]
        }
      ],
      "source": [
        "from scipy.stats import chi2_contingency\n",
        "\n",
        "f_statistic, p_value, dof, expected = chi2_contingency(observed)\n",
        "print(round(f_statistic, 4), round(p_value, 4))"
      ]
    },
    {
      "cell_type": "code",
      "execution_count": null,
      "id": "77937e6b-5647-4a86-b069-cc509bcc9f9f",
      "metadata": {
        "id": "77937e6b-5647-4a86-b069-cc509bcc9f9f",
        "outputId": "082091f3-63e3-4606-d922-f8ec36cd6136"
      },
      "outputs": [
        {
          "name": "stdout",
          "output_type": "stream",
          "text": [
            "25.7872 0.0\n"
          ]
        }
      ],
      "source": [
        "X1 = observed.loc['Thur', :]\n",
        "X2 = observed.loc['Fri', :]\n",
        "X3 = observed.loc['Sat', :]\n",
        "X4 = observed.loc['Sun', :]\n",
        "\n",
        "result = chi2_contingency([X1, X2, X3, X4])\n",
        "f_statistic, p_value = result[0], result[1]\n",
        "print(round(f_statistic, 4), round(p_value, 4))"
      ]
    },
    {
      "cell_type": "markdown",
      "id": "d832d9ee-ca84-464f-8601-56eaf2fda2ea",
      "metadata": {
        "id": "d832d9ee-ca84-464f-8601-56eaf2fda2ea"
      },
      "source": [
        "### 문제 3.\n",
        "- 위의 통계량에 대한 p-값을 구하고 (반올림하여 소숫점 넷째 자리까지 계산), 유의수준 0.05하에서 가설검정의 결과를 채택/기각 중 하나로 선택하시오."
      ]
    },
    {
      "cell_type": "code",
      "execution_count": null,
      "id": "94d88b35-c4fa-4dba-a2a2-eea790eabeab",
      "metadata": {
        "id": "94d88b35-c4fa-4dba-a2a2-eea790eabeab",
        "outputId": "a59f5543-8e79-41a3-d03c-dd01088642ef"
      },
      "outputs": [
        {
          "name": "stdout",
          "output_type": "stream",
          "text": [
            "기각\n"
          ]
        }
      ],
      "source": [
        "if p_value >= 0.05:\n",
        "    print(\"채택\")\n",
        "else:\n",
        "    print(\"기각\")"
      ]
    },
    {
      "cell_type": "markdown",
      "id": "b0542d60-9151-4e56-89d7-66f4b63d4fac",
      "metadata": {
        "id": "b0542d60-9151-4e56-89d7-66f4b63d4fac"
      },
      "source": [
        "## 카이제곱검정 적합성 검정\n",
        "- 가설설정\n",
        "  + 귀무가설 : tips 데이터의 day 분포는 목요일 30%, 금요일 5%, 토요일 35%, 일요일 30%를 따른다.\n",
        "  + 대립가설 : tips 데이터의 day 분포는 목요일 30%, 금요일 5%, 토요일 35%, 일요일 30%를 따르지 않는다."
      ]
    },
    {
      "cell_type": "code",
      "execution_count": null,
      "id": "067dee5c-2e55-4e4d-8434-503b36ca9948",
      "metadata": {
        "id": "067dee5c-2e55-4e4d-8434-503b36ca9948",
        "outputId": "3feccd70-3b91-47b8-dc75-b89f60c05914"
      },
      "outputs": [
        {
          "data": {
            "text/html": [
              "<div>\n",
              "<style scoped>\n",
              "    .dataframe tbody tr th:only-of-type {\n",
              "        vertical-align: middle;\n",
              "    }\n",
              "\n",
              "    .dataframe tbody tr th {\n",
              "        vertical-align: top;\n",
              "    }\n",
              "\n",
              "    .dataframe thead th {\n",
              "        text-align: right;\n",
              "    }\n",
              "</style>\n",
              "<table border=\"1\" class=\"dataframe\">\n",
              "  <thead>\n",
              "    <tr style=\"text-align: right;\">\n",
              "      <th></th>\n",
              "      <th>total_bill</th>\n",
              "      <th>tip</th>\n",
              "      <th>sex</th>\n",
              "      <th>smoker</th>\n",
              "      <th>day</th>\n",
              "      <th>time</th>\n",
              "      <th>size</th>\n",
              "    </tr>\n",
              "  </thead>\n",
              "  <tbody>\n",
              "    <tr>\n",
              "      <th>0</th>\n",
              "      <td>16.99</td>\n",
              "      <td>1.01</td>\n",
              "      <td>Female</td>\n",
              "      <td>No</td>\n",
              "      <td>Sun</td>\n",
              "      <td>Dinner</td>\n",
              "      <td>2</td>\n",
              "    </tr>\n",
              "    <tr>\n",
              "      <th>1</th>\n",
              "      <td>10.34</td>\n",
              "      <td>1.66</td>\n",
              "      <td>Male</td>\n",
              "      <td>No</td>\n",
              "      <td>Sun</td>\n",
              "      <td>Dinner</td>\n",
              "      <td>3</td>\n",
              "    </tr>\n",
              "    <tr>\n",
              "      <th>2</th>\n",
              "      <td>21.01</td>\n",
              "      <td>3.50</td>\n",
              "      <td>Male</td>\n",
              "      <td>No</td>\n",
              "      <td>Sun</td>\n",
              "      <td>Dinner</td>\n",
              "      <td>3</td>\n",
              "    </tr>\n",
              "    <tr>\n",
              "      <th>3</th>\n",
              "      <td>23.68</td>\n",
              "      <td>3.31</td>\n",
              "      <td>Male</td>\n",
              "      <td>No</td>\n",
              "      <td>Sun</td>\n",
              "      <td>Dinner</td>\n",
              "      <td>2</td>\n",
              "    </tr>\n",
              "    <tr>\n",
              "      <th>4</th>\n",
              "      <td>24.59</td>\n",
              "      <td>3.61</td>\n",
              "      <td>Female</td>\n",
              "      <td>No</td>\n",
              "      <td>Sun</td>\n",
              "      <td>Dinner</td>\n",
              "      <td>4</td>\n",
              "    </tr>\n",
              "  </tbody>\n",
              "</table>\n",
              "</div>"
            ],
            "text/plain": [
              "   total_bill   tip     sex smoker  day    time  size\n",
              "0       16.99  1.01  Female     No  Sun  Dinner     2\n",
              "1       10.34  1.66    Male     No  Sun  Dinner     3\n",
              "2       21.01  3.50    Male     No  Sun  Dinner     3\n",
              "3       23.68  3.31    Male     No  Sun  Dinner     2\n",
              "4       24.59  3.61  Female     No  Sun  Dinner     4"
            ]
          },
          "execution_count": 84,
          "metadata": {},
          "output_type": "execute_result"
        }
      ],
      "source": [
        "import seaborn as sns\n",
        "import pandas as pd\n",
        "\n",
        "tips = sns.load_dataset(\"tips\")\n",
        "tips.head()"
      ]
    },
    {
      "cell_type": "markdown",
      "id": "31dfa112-ac0b-4ed8-b5b0-3d00e11dc2d7",
      "metadata": {
        "id": "31dfa112-ac0b-4ed8-b5b0-3d00e11dc2d7"
      },
      "source": [
        "### 문제 1\n",
        "- day Sun의 분포에서 day Fri 분포 수를 뺀 값을 정수로 출력하시오."
      ]
    },
    {
      "cell_type": "code",
      "execution_count": null,
      "id": "53f0bbf0-b52f-4501-9bd9-1a1c93a3b9ff",
      "metadata": {
        "id": "53f0bbf0-b52f-4501-9bd9-1a1c93a3b9ff",
        "outputId": "19219879-ee5f-4e69-8e21-40a4a18cd69d"
      },
      "outputs": [
        {
          "data": {
            "text/html": [
              "<div>\n",
              "<style scoped>\n",
              "    .dataframe tbody tr th:only-of-type {\n",
              "        vertical-align: middle;\n",
              "    }\n",
              "\n",
              "    .dataframe tbody tr th {\n",
              "        vertical-align: top;\n",
              "    }\n",
              "\n",
              "    .dataframe thead th {\n",
              "        text-align: right;\n",
              "    }\n",
              "</style>\n",
              "<table border=\"1\" class=\"dataframe\">\n",
              "  <thead>\n",
              "    <tr style=\"text-align: right;\">\n",
              "      <th></th>\n",
              "      <th>total_bill</th>\n",
              "      <th>tip</th>\n",
              "      <th>sex</th>\n",
              "      <th>smoker</th>\n",
              "      <th>time</th>\n",
              "      <th>size</th>\n",
              "    </tr>\n",
              "    <tr>\n",
              "      <th>day</th>\n",
              "      <th></th>\n",
              "      <th></th>\n",
              "      <th></th>\n",
              "      <th></th>\n",
              "      <th></th>\n",
              "      <th></th>\n",
              "    </tr>\n",
              "  </thead>\n",
              "  <tbody>\n",
              "    <tr>\n",
              "      <th>Thur</th>\n",
              "      <td>62</td>\n",
              "      <td>62</td>\n",
              "      <td>62</td>\n",
              "      <td>62</td>\n",
              "      <td>62</td>\n",
              "      <td>62</td>\n",
              "    </tr>\n",
              "    <tr>\n",
              "      <th>Fri</th>\n",
              "      <td>19</td>\n",
              "      <td>19</td>\n",
              "      <td>19</td>\n",
              "      <td>19</td>\n",
              "      <td>19</td>\n",
              "      <td>19</td>\n",
              "    </tr>\n",
              "    <tr>\n",
              "      <th>Sat</th>\n",
              "      <td>87</td>\n",
              "      <td>87</td>\n",
              "      <td>87</td>\n",
              "      <td>87</td>\n",
              "      <td>87</td>\n",
              "      <td>87</td>\n",
              "    </tr>\n",
              "    <tr>\n",
              "      <th>Sun</th>\n",
              "      <td>76</td>\n",
              "      <td>76</td>\n",
              "      <td>76</td>\n",
              "      <td>76</td>\n",
              "      <td>76</td>\n",
              "      <td>76</td>\n",
              "    </tr>\n",
              "  </tbody>\n",
              "</table>\n",
              "</div>"
            ],
            "text/plain": [
              "      total_bill  tip  sex  smoker  time  size\n",
              "day                                           \n",
              "Thur          62   62   62      62    62    62\n",
              "Fri           19   19   19      19    19    19\n",
              "Sat           87   87   87      87    87    87\n",
              "Sun           76   76   76      76    76    76"
            ]
          },
          "execution_count": 86,
          "metadata": {},
          "output_type": "execute_result"
        }
      ],
      "source": [
        "count_df = tips.groupby(\"day\").count()\n",
        "count_df"
      ]
    },
    {
      "cell_type": "code",
      "execution_count": null,
      "id": "f2bc6e79-d448-437c-983e-6ce7a8c834df",
      "metadata": {
        "id": "f2bc6e79-d448-437c-983e-6ce7a8c834df",
        "outputId": "881544bd-c4de-4e69-aebf-0313cf453103"
      },
      "outputs": [
        {
          "data": {
            "text/plain": [
              "57"
            ]
          },
          "execution_count": 88,
          "metadata": {},
          "output_type": "execute_result"
        }
      ],
      "source": [
        "result = count_df.loc['Sun', \"total_bill\"] - count_df.loc['Fri', \"total_bill\"]\n",
        "result"
      ]
    },
    {
      "cell_type": "markdown",
      "id": "54dfe79f-c350-43af-9b46-df6edc6c229e",
      "metadata": {
        "id": "54dfe79f-c350-43af-9b46-df6edc6c229e"
      },
      "source": [
        "### 문제 2\n",
        "- 귀무가설에서 제시된 day 분포를 이용하여 기대 빈도를 계산하고, 위의 가설을 검정하기 위한 검정통계량을 구하시오. (반올림하여 소숫점 둘째 자리까지 계산)"
      ]
    },
    {
      "cell_type": "code",
      "execution_count": null,
      "id": "97c76d40-9ec0-4778-b07f-474894ebc7dc",
      "metadata": {
        "id": "97c76d40-9ec0-4778-b07f-474894ebc7dc",
        "outputId": "a3d8173c-0ef1-4b71-e0c7-2e5ca4e5dc83"
      },
      "outputs": [
        {
          "name": "stdout",
          "output_type": "stream",
          "text": [
            "[73.2, 12.200000000000001, 85.39999999999999, 73.2]\n"
          ]
        }
      ],
      "source": [
        "total_sum = len(tips)\n",
        "expected = [int(total_sum) * 0.3,  # 목요일\n",
        "            int(total_sum) * 0.05, # 금요일\n",
        "            int(total_sum) * 0.35, # 토요일\n",
        "            int(total_sum) * 0.30  # 일요일\n",
        "           ]\n",
        "# 기대빈도 구하기\n",
        "print(expected)"
      ]
    },
    {
      "cell_type": "code",
      "execution_count": null,
      "id": "e40140ed-b3ce-4c82-943d-42f2738912bc",
      "metadata": {
        "id": "e40140ed-b3ce-4c82-943d-42f2738912bc",
        "outputId": "410f0ec3-2fc9-4870-aa0b-ca4191f076e7"
      },
      "outputs": [
        {
          "name": "stdout",
          "output_type": "stream",
          "text": [
            "5.64 0.13\n"
          ]
        }
      ],
      "source": [
        "from scipy import stats\n",
        "\n",
        "observed = count_df['total_bill'].values\n",
        "f_score, p_value = stats.chisquare(observed, f_exp = expected)\n",
        "\n",
        "print(round(f_score, 2), round(p_value, 2))"
      ]
    },
    {
      "cell_type": "markdown",
      "id": "6079202f-da27-4884-9a4b-8c5b11eb08c8",
      "metadata": {
        "id": "6079202f-da27-4884-9a4b-8c5b11eb08c8"
      },
      "source": [
        "### 문제 3.\n",
        "- 위의 통계량에 대한 p-값을 구하고 (반올림하여 소숫점 넷째 자리까지 계산), 유의수준 0.05하에서 가설검정의 결과를 채택/기각 중 하나로 선택하시오."
      ]
    },
    {
      "cell_type": "code",
      "execution_count": null,
      "id": "18ee2c65-1def-430f-badf-0004d954be00",
      "metadata": {
        "id": "18ee2c65-1def-430f-badf-0004d954be00",
        "outputId": "3fe72bcd-7500-42ec-e017-1b4e9597d6ff"
      },
      "outputs": [
        {
          "name": "stdout",
          "output_type": "stream",
          "text": [
            "채택\n"
          ]
        }
      ],
      "source": [
        "if p_value >= 0.05:\n",
        "    print(\"채택\")\n",
        "else:\n",
        "    print(\"기각\")"
      ]
    }
  ],
  "metadata": {
    "kernelspec": {
      "display_name": "Python 3 (ipykernel)",
      "language": "python",
      "name": "python3"
    },
    "language_info": {
      "codemirror_mode": {
        "name": "ipython",
        "version": 3
      },
      "file_extension": ".py",
      "mimetype": "text/x-python",
      "name": "python",
      "nbconvert_exporter": "python",
      "pygments_lexer": "ipython3",
      "version": "3.9.13"
    },
    "colab": {
      "provenance": []
    }
  },
  "nbformat": 4,
  "nbformat_minor": 5
}