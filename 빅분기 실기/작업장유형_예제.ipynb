{
  "cells": [
    {
      "cell_type": "markdown",
      "id": "a3237a08-c30f-4462-bfe0-596994a7c4e4",
      "metadata": {
        "id": "a3237a08-c30f-4462-bfe0-596994a7c4e4"
      },
      "source": [
        "## 문제 1.\n",
        "- mtcars 데이터셋(data/mtcars.csv)의 qsec 컬럼을 최소최대 척도(Min-Max Scale)로 변환한 후, 0.5보다 큰 값을 가지는 레코드 수를 구하시오."
      ]
    },
    {
      "cell_type": "code",
      "execution_count": 7,
      "id": "21f81fe9-aed4-45d1-8dc4-cdcb272b7e4a",
      "metadata": {
        "id": "21f81fe9-aed4-45d1-8dc4-cdcb272b7e4a"
      },
      "outputs": [],
      "source": [
        "import pandas as pd\n",
        "df= pd.read_csv('/content/drive/MyDrive/빅분기 실기/빅데이터분석기사_실기_최종본/빅데이터분석기사_실기_최종본/작업장_제1유형/data/작업장예제/mtcars.csv', index_col=0)"
      ]
    },
    {
      "cell_type": "code",
      "source": [
        "from sklearn.preprocessing import MinMaxScaler\n",
        "scale = MinMaxScaler()\n",
        "\n",
        "df['qsec'] = scale.fit_transform(df[['qsec']])\n",
        "cond = df['qsec'] > 0.5\n",
        "df = df[cond]\n",
        "print(len(df))"
      ],
      "metadata": {
        "colab": {
          "base_uri": "https://localhost:8080/"
        },
        "id": "1b4uaqvYqXep",
        "outputId": "7d2dd734-36f0-4fe2-dc19-66c6e36c262f"
      },
      "id": "1b4uaqvYqXep",
      "execution_count": 10,
      "outputs": [
        {
          "output_type": "stream",
          "name": "stdout",
          "text": [
            "9\n"
          ]
        }
      ]
    },
    {
      "cell_type": "code",
      "source": [
        "from google.colab import drive\n",
        "drive.mount('/content/drive')"
      ],
      "metadata": {
        "colab": {
          "base_uri": "https://localhost:8080/"
        },
        "id": "cc02GMJMqcim",
        "outputId": "6124c3ca-8915-442d-8758-1884ce70a38c"
      },
      "id": "cc02GMJMqcim",
      "execution_count": 2,
      "outputs": [
        {
          "output_type": "stream",
          "name": "stdout",
          "text": [
            "Mounted at /content/drive\n"
          ]
        }
      ]
    },
    {
      "cell_type": "code",
      "source": [],
      "metadata": {
        "id": "FW3wg2IZqXXH"
      },
      "id": "FW3wg2IZqXXH",
      "execution_count": null,
      "outputs": []
    },
    {
      "cell_type": "code",
      "execution_count": null,
      "id": "5d1684dc-3e53-451d-be49-b460fa257cdd",
      "metadata": {
        "id": "5d1684dc-3e53-451d-be49-b460fa257cdd",
        "outputId": "b7d084ff-7dda-47ba-9bd2-7071489eb13e"
      },
      "outputs": [
        {
          "data": {
            "text/plain": [
              "9"
            ]
          },
          "execution_count": 12,
          "metadata": {},
          "output_type": "execute_result"
        }
      ],
      "source": [
        "from sklearn.preprocessing import MinMaxScaler\n",
        "scaler = MinMaxScaler()\n",
        "scaler.fit(a[['qsec']])\n",
        "a[['qsec']] = scaler.transform(a[['qsec']])\n",
        "result = a[a['qsec'] > 0.5]\n",
        "len(result)"
      ]
    },
    {
      "cell_type": "code",
      "execution_count": null,
      "id": "9da23e4e-3eb6-4e3f-90cc-e818bf26c315",
      "metadata": {
        "id": "9da23e4e-3eb6-4e3f-90cc-e818bf26c315",
        "outputId": "d577e38f-a7ea-4a5c-a18e-cacd74d3c35a"
      },
      "outputs": [
        {
          "name": "stdout",
          "output_type": "stream",
          "text": [
            "9\n"
          ]
        }
      ],
      "source": [
        "from sklearn.preprocessing import MinMaxScaler\n",
        "scaler = MinMaxScaler()\n",
        "scaler.fit(a[['qsec']])\n",
        "a[['qsec']] = scaler.transform(a[['qsec']])\n",
        "result = a[a['qsec'] > 0.5]\n",
        "print(len(result))"
      ]
    }
  ],
  "metadata": {
    "kernelspec": {
      "display_name": "Python 3 (ipykernel)",
      "language": "python",
      "name": "python3"
    },
    "language_info": {
      "codemirror_mode": {
        "name": "ipython",
        "version": 3
      },
      "file_extension": ".py",
      "mimetype": "text/x-python",
      "name": "python",
      "nbconvert_exporter": "python",
      "pygments_lexer": "ipython3",
      "version": "3.9.13"
    },
    "colab": {
      "provenance": []
    }
  },
  "nbformat": 4,
  "nbformat_minor": 5
}