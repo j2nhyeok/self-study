{
  "nbformat": 4,
  "nbformat_minor": 0,
  "metadata": {
    "colab": {
      "provenance": [],
      "include_colab_link": true
    },
    "kernelspec": {
      "name": "python3",
      "display_name": "Python 3"
    },
    "language_info": {
      "name": "python"
    }
  },
  "cells": [
    {
      "cell_type": "markdown",
      "metadata": {
        "id": "view-in-github",
        "colab_type": "text"
      },
      "source": [
        "<a href=\"https://colab.research.google.com/github/j2nhyeok/self-study/blob/main/4_1_type1.ipynb\" target=\"_parent\"><img src=\"https://colab.research.google.com/assets/colab-badge.svg\" alt=\"Open In Colab\"/></a>"
      ]
    },
    {
      "cell_type": "markdown",
      "source": [
        "# 작업형1 모의문제1\n",
        "- data : members.csv\n",
        "- 한 개의 셀만 사용해서 문제를 풀어주세요"
      ],
      "metadata": {
        "id": "jvuNsPAY41yZ"
      }
    },
    {
      "cell_type": "code",
      "source": [
        "from google.colab import drive\n",
        "drive.mount('/content/drive')"
      ],
      "metadata": {
        "colab": {
          "base_uri": "https://localhost:8080/"
        },
        "id": "GfSQ6K5Cy9Nq",
        "outputId": "49c9d85f-0274-4938-f8ae-97ae89e6a80b"
      },
      "execution_count": 1,
      "outputs": [
        {
          "output_type": "stream",
          "name": "stdout",
          "text": [
            "Mounted at /content/drive\n"
          ]
        }
      ]
    },
    {
      "cell_type": "markdown",
      "source": [
        "## 문제1\n",
        "- f1컬럼의 결측치는 중앙 값으로 대체하고\n",
        "- 나머지 결측치가 있는 데이터(행)을 모두 제거하고,\n",
        "- 앞에서부터 70% 데이터 중 views 컬럼의 3사분위 수에서 1사분위 수를 뺀 값을 구하시오\n",
        "- (단, 데이터 70% 지점은 정수형(int) 변환)"
      ],
      "metadata": {
        "id": "PVBhS3mWQOJp"
      }
    },
    {
      "cell_type": "code",
      "source": [
        "# your code\n",
        "import pandas as pd\n",
        "df = pd.read_csv('/content/drive/MyDrive/빅분기 실기/인프런_data/members.csv')\n",
        "\n",
        "# df.describe()\n",
        "f1_median = df['f1'].median()\n",
        "df['f1'] = df['f1'].fillna(f1_median)\n",
        "# print(df.shape)\n",
        "df = df.dropna()\n",
        "# print(df.shape)\n",
        "\n",
        "df = df[:int(len(df) * 0.7)]\n",
        "r3 = df['views'].quantile(.75)\n",
        "r1 = df['views'].quantile(.25)\n",
        "\n",
        "print(r3 - r1)"
      ],
      "metadata": {
        "id": "d9UC9l2OQQ4m",
        "colab": {
          "base_uri": "https://localhost:8080/"
        },
        "outputId": "1f110dbc-0a4d-4386-f203-958b6a65b18f"
      },
      "execution_count": 14,
      "outputs": [
        {
          "output_type": "stream",
          "name": "stdout",
          "text": [
            "3261.0\n"
          ]
        }
      ]
    },
    {
      "cell_type": "markdown",
      "source": [
        "## 문제2\n",
        "- 주어진 데이터에서 결측치가 30%이상 되는 컬럼을 찾고 해당 컬럼에 결측치가 있는 데이터(행)를 삭제 함.\n",
        "- 그리고 30% 미만, 20% 이상인 결측치가 있는 컬럼은 최빈값으로 값을 대체하고\n",
        "- 'f3'컬럼의 'gold' 값을 가진 데이터 수를 출력하세요!"
      ],
      "metadata": {
        "id": "h2IXr3A_QRWS"
      }
    },
    {
      "cell_type": "code",
      "source": [
        "# your code\n",
        "import pandas as pd\n",
        "df = pd.read_csv('/content/drive/MyDrive/빅분기 실기/인프런_data/members.csv')\n",
        "\n",
        "# df.isnull().sum()\n",
        "\n",
        "# f1 삭제\n",
        "# print(df.shape)\n",
        "df = df.dropna(subset=['f1'])\n",
        "# print(df.shape)\n",
        "\n",
        "# f3 최빈값\n",
        "f3_mode = df['f3'].mode()[0]\n",
        "# print(f3_mode)\n",
        "df['f3'] = df['f3'].fillna(f3_mode)\n",
        "# df['f3'].value_counts()\n",
        "\n",
        "ans = len(df[df['f3'] == 'gold'])\n",
        "print(ans)"
      ],
      "metadata": {
        "id": "SNMu1ew0QTnD",
        "colab": {
          "base_uri": "https://localhost:8080/"
        },
        "outputId": "52c99d75-9726-46e2-bb4a-98b57bdee977"
      },
      "execution_count": 32,
      "outputs": [
        {
          "output_type": "stream",
          "name": "stdout",
          "text": [
            "56\n"
          ]
        }
      ]
    },
    {
      "cell_type": "markdown",
      "source": [
        "## 문제3\n",
        "- views 컬럼에 결측치가 있는 데이터(행)을 삭제하고,\n",
        "- f3 컬럼의 결측치는 0, silver는 1, gold는 2, vip는 3 으로 변환한 후 총 합을 정수형으로 출력하시오"
      ],
      "metadata": {
        "id": "gV-W-F2wQTuw"
      }
    },
    {
      "cell_type": "code",
      "source": [
        "# your code\n",
        "import pandas as pd\n",
        "import numpy as np\n",
        "df = pd.read_csv('/content/drive/MyDrive/빅분기 실기/인프런_data/members.csv')\n",
        "\n",
        "# df.isnull().sum()\n",
        "# print(df.shape)\n",
        "df = df.dropna(subset=['views'])\n",
        "# print(df.shape)\n",
        "df['f3'] = df['f3'].replace(np.nan, 0).replace('silver', 1).replace('gold', 2).replace('vip', 3)\n",
        "\n",
        "print(df['f3'].sum())"
      ],
      "metadata": {
        "colab": {
          "base_uri": "https://localhost:8080/"
        },
        "id": "YVPVNOKg_r29",
        "outputId": "7b89a197-f105-452b-8418-1b1e27972e69"
      },
      "execution_count": 40,
      "outputs": [
        {
          "output_type": "stream",
          "name": "stdout",
          "text": [
            "133\n"
          ]
        }
      ]
    },
    {
      "cell_type": "code",
      "source": [
        "import pandas as pd\n",
        "import numpy as np\n",
        "df = pd.read_csv('/content/drive/MyDrive/빅분기 실기/인프런_data/members.csv')\n",
        "\n",
        "dict_list = {np.nan : 0, 'silver' : 1, 'gold' : 2, 'vip' : 3}\n",
        "df['f3'] = df['f3'].map(dict_list)\n",
        "print(df['f3'].sum())"
      ],
      "metadata": {
        "colab": {
          "base_uri": "https://localhost:8080/"
        },
        "id": "WLtTW-oVDhIT",
        "outputId": "0db32f92-0e0d-41e4-ba82-a3752c9f597d"
      },
      "execution_count": 46,
      "outputs": [
        {
          "output_type": "stream",
          "name": "stdout",
          "text": [
            "133\n"
          ]
        }
      ]
    },
    {
      "cell_type": "markdown",
      "source": [
        "# 풀이"
      ],
      "metadata": {
        "id": "7wXaul1WQZth"
      }
    },
    {
      "cell_type": "markdown",
      "source": [
        "## 문제1\n",
        "- f1컬럼의 결측치는 중앙 값으로 대체하고\n",
        "- 나머지 결측치가 있는 데이터(행)을 모두 제거하고,\n",
        "- 앞에서부터 70% 데이터 중 views 컬럼의 3사분위 수에서 1사분위 수를 뺀 값을 구하시오\n",
        "- (단, 데이터 70% 지점은 정수형(int) 변환)"
      ],
      "metadata": {
        "id": "oz7POiFg5BbF"
      }
    },
    {
      "cell_type": "code",
      "execution_count": null,
      "metadata": {
        "id": "T0JqOyc24q9O",
        "colab": {
          "base_uri": "https://localhost:8080/"
        },
        "outputId": "437720bb-6b8a-4ab6-f14c-01b17e2e926e"
      },
      "outputs": [
        {
          "output_type": "stream",
          "name": "stdout",
          "text": [
            "3261.0\n"
          ]
        }
      ],
      "source": [
        "# 풀이\n",
        "import pandas as pd\n",
        "df = pd.read_csv(\"members.csv\")\n",
        "\n",
        "df['f1'] = df['f1'].fillna(df['f1'].median())\n",
        "# print(df.isnull().sum())\n",
        "\n",
        "# print(df.shape)\n",
        "df = df.dropna()\n",
        "# print(df.shape)\n",
        "\n",
        "df = df[:int(len(df) * 0.7)]\n",
        "\n",
        "r1 = df['views'].quantile(.75)\n",
        "r2 = df['views'].quantile(.25)\n",
        "\n",
        "print(r1 - r2)"
      ]
    },
    {
      "cell_type": "markdown",
      "source": [
        "## 문제2\n",
        "- 주어진 데이터에서 결측치가 30%이상 되는 컬럼을 찾고 해당 컬럼에 결측치가 있는 데이터(행)를 삭제 함.\n",
        "- 그리고 30% 미만, 20% 이상인 결측치가 있는 컬럼은 최빈값으로 값을 대체하고\n",
        "- 'f3'컬럼의 'gold' 값을 가진 데이터 수를 출력하세요!\n"
      ],
      "metadata": {
        "id": "s8s-g51Z5EA7"
      }
    },
    {
      "cell_type": "code",
      "source": [
        "# 풀이\n",
        "import pandas as pd\n",
        "df = pd.read_csv(\"members.csv\")\n",
        "\n",
        "# print(df.isnull().sum())\n",
        "\n",
        "# print(len(df) * 0.3)\n",
        "# f1 삭제\n",
        "# f3 최빈값\n",
        "\n",
        "# print(df.shape)\n",
        "df = df.dropna(subset=['f1'])\n",
        "# print(df.shape)\n",
        "\n",
        "# print(df.head())\n",
        "df['f3'] = df['f3'].fillna(df['f3'].mode()[0])\n",
        "# print(df.head())\n",
        "\n",
        "# df.isnull().sum()\n",
        "\n",
        "print(sum(df['f3'] == 'gold'))"
      ],
      "metadata": {
        "id": "9mpdqGoJD_zM",
        "colab": {
          "base_uri": "https://localhost:8080/"
        },
        "outputId": "14d2a67b-2a13-4def-e5e4-a253014632b2"
      },
      "execution_count": null,
      "outputs": [
        {
          "output_type": "stream",
          "name": "stdout",
          "text": [
            "56\n"
          ]
        }
      ]
    },
    {
      "cell_type": "markdown",
      "source": [
        "## 문제3\n",
        "- views 컬럼에 결측치가 있는 데이터(행)을 삭제하고,\n",
        "- f3 컬럼의 결측치는 0, silver는 1, gold는 2, vip는 3 으로 변환한 후 f3 컬럼의 총 합을 정수형으로 출력하시오"
      ],
      "metadata": {
        "id": "b2cZLPY75WQZ"
      }
    },
    {
      "cell_type": "code",
      "source": [
        "# 풀이\n",
        "import pandas as pd\n",
        "df = pd.read_csv(\"members.csv\")"
      ],
      "metadata": {
        "id": "oXJk9xEd5XRN"
      },
      "execution_count": null,
      "outputs": []
    },
    {
      "cell_type": "code",
      "source": [
        "#replace\n",
        "import pandas as pd\n",
        "df = pd.read_csv(\"members.csv\")\n",
        "# print(df.shape)\n",
        "df = df.dropna(subset=['views'])\n",
        "# print(df.shape)\n",
        "\n",
        "# print(df.head(7))\n",
        "import numpy as np\n",
        "df['f3'] = df['f3'].replace(np.nan,0).replace('silver',1).replace('gold',2).replace('vip',3)\n",
        "# df['f3'] = df['f3'].replace('silver',1)\n",
        "# df['f3'] = df['f3'].replace('gold',2)\n",
        "# df['f3'] = df['f3'].replace('vip',3)\n",
        "# print(df.head(7))\n",
        "\n",
        "print(df['f3'].sum())"
      ],
      "metadata": {
        "id": "sxBinjrCrEhE",
        "colab": {
          "base_uri": "https://localhost:8080/"
        },
        "outputId": "7bc70724-ebc9-433a-c714-39a7310eba25"
      },
      "execution_count": null,
      "outputs": [
        {
          "output_type": "stream",
          "name": "stdout",
          "text": [
            "133\n"
          ]
        }
      ]
    },
    {
      "cell_type": "code",
      "source": [
        "#map\n",
        "import pandas as pd\n",
        "df = pd.read_csv(\"members.csv\")\n",
        "df = df.dropna(subset=['views'])\n",
        "\n",
        "dict_list = {np.nan:0, 'silver':1, 'gold':2, 'vip':3}\n",
        "df['f3'] = df['f3'].map(dict_list)\n",
        "\n",
        "print(df['f3'].sum())"
      ],
      "metadata": {
        "id": "zvQPlDj4rEmD",
        "colab": {
          "base_uri": "https://localhost:8080/"
        },
        "outputId": "3e79bf46-ba1c-42d9-bbcd-eec4c3f7dc30"
      },
      "execution_count": null,
      "outputs": [
        {
          "output_type": "stream",
          "name": "stdout",
          "text": [
            "133\n"
          ]
        }
      ]
    },
    {
      "cell_type": "code",
      "source": [
        "# 조건\n",
        "import pandas as pd\n",
        "df = pd.read_csv(\"members.csv\")\n",
        "df = df.dropna(subset=['views'])\n",
        "\n",
        "r1 = sum(df['f3'] == 'silver') * 1\n",
        "r2 = sum(df['f3'] == 'gold') * 2\n",
        "r3 = sum(df['f3'] == 'vip') * 3\n",
        "print(r1 + r2 + r3)"
      ],
      "metadata": {
        "id": "nwd_BJuZrEv9",
        "colab": {
          "base_uri": "https://localhost:8080/"
        },
        "outputId": "50e8ee93-5bb6-48f2-ba76-7504d4801348"
      },
      "execution_count": null,
      "outputs": [
        {
          "output_type": "stream",
          "name": "stdout",
          "text": [
            "133\n"
          ]
        }
      ]
    },
    {
      "cell_type": "code",
      "source": [],
      "metadata": {
        "id": "X2yb_subZq9h"
      },
      "execution_count": null,
      "outputs": []
    }
  ]
}