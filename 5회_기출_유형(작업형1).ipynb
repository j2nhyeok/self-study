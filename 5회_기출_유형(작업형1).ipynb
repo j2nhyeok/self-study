{
  "nbformat": 4,
  "nbformat_minor": 0,
  "metadata": {
    "colab": {
      "provenance": [],
      "include_colab_link": true
    },
    "kernelspec": {
      "name": "python3",
      "display_name": "Python 3"
    },
    "language_info": {
      "name": "python"
    }
  },
  "cells": [
    {
      "cell_type": "markdown",
      "metadata": {
        "id": "view-in-github",
        "colab_type": "text"
      },
      "source": [
        "<a href=\"https://colab.research.google.com/github/j2nhyeok/self-study/blob/main/5%ED%9A%8C_%EA%B8%B0%EC%B6%9C_%EC%9C%A0%ED%98%95(%EC%9E%91%EC%97%85%ED%98%951).ipynb\" target=\"_parent\"><img src=\"https://colab.research.google.com/assets/colab-badge.svg\" alt=\"Open In Colab\"/></a>"
      ]
    },
    {
      "cell_type": "markdown",
      "source": [
        "## 작업형1 문제"
      ],
      "metadata": {
        "id": "uO07g2QeKprH"
      }
    },
    {
      "cell_type": "markdown",
      "source": [
        "1. 종량제 봉투 종류가 '규격봉투'이고, 종량제 봉투 용도가 '음식물쓰레기'인 2L가격 평균을 출력하시오 (단, 가격0 제외, 반올림 후 정수 출력)"
      ],
      "metadata": {
        "id": "6f9i0g9dKvQQ"
      }
    },
    {
      "cell_type": "code",
      "source": [
        "import pandas as pd\n",
        "df = pd.read_csv(\"5-1price.csv\")\n",
        "\n",
        "# your code\n",
        "\n",
        "df.head()\n",
        "cond1 = df['종량제봉투종류'] == '규격봉투'\n",
        "cond2 = df['종량제봉투용도'] == '음식물쓰레기'\n",
        "cond3 = df['2ℓ가격'] != 0\n",
        "print(round(df[cond1 & cond2 & cond3]['2ℓ가격'].mean()))\n",
        "\n",
        "\n"
      ],
      "metadata": {
        "id": "6m6SDQ46Kwda",
        "outputId": "fdccbf9f-1135-4da4-dc1d-04be31347907",
        "colab": {
          "base_uri": "https://localhost:8080/"
        }
      },
      "execution_count": 7,
      "outputs": [
        {
          "output_type": "stream",
          "name": "stdout",
          "text": [
            "118\n"
          ]
        }
      ]
    },
    {
      "cell_type": "markdown",
      "source": [
        "2. bmi를 계산하고, 수치가 정상인 사람 수와 위험체중인 사람 수의 차이를 절대값으로 구하시오 (정수로 출력)\n",
        " - bmi(체질량지수): 몸무게(kg) / 키(m)의 제곱\n",
        "단위\n",
        "- Height: cm\n",
        "- Weight: kg\n",
        "\n",
        "\n",
        "- 저체중: BMI 18.5미만\n",
        "- 정상체중: BMI 18.5이상 ~ 23미만\n",
        "- 과체중 또는 위험체중: BMI 23 이상 ~ 25미만\n",
        "- 비만체중: 25이상"
      ],
      "metadata": {
        "id": "ccvjEw-aKy39"
      }
    },
    {
      "cell_type": "code",
      "source": [
        "import pandas as pd\n",
        "df = pd.read_csv(\"5-2bmi.csv\")\n",
        "# your code\n",
        "\n",
        "df['Bmi'] = df['Weight']/((df['Height']/100)**2)\n",
        "cond1 = 18.5 <= df['Bmi']\n",
        "cond2 = df['Bmi'] < 23\n",
        "cond3 = 23 <= df['Bmi']\n",
        "cond4 = df['Bmi'] < 25\n",
        "\n",
        "a = len(df[cond1 & cond2])\n",
        "b = len(df[cond3 & cond4])\n",
        "print(abs(a-b))\n",
        "\n"
      ],
      "metadata": {
        "id": "PEDukWLFKyT6",
        "outputId": "445105c8-d372-41a9-83ca-6ed5fcae7499",
        "colab": {
          "base_uri": "https://localhost:8080/"
        }
      },
      "execution_count": 16,
      "outputs": [
        {
          "output_type": "stream",
          "name": "stdout",
          "text": [
            "144\n"
          ]
        }
      ]
    },
    {
      "cell_type": "markdown",
      "source": [
        "3. 순전입학생(순전입 학생 = 전입 학생 - 전출 학생)이 가장 많은 학교의 전체학생수를 정수로 출력하시오"
      ],
      "metadata": {
        "id": "U2rmG2jaK_v3"
      }
    },
    {
      "cell_type": "code",
      "source": [
        "import pandas as pd\n",
        "df = pd.read_csv(\"5-3student.csv\")\n",
        "\n",
        "# your code\n",
        "\n",
        "df['순전입학생수(계)'] = df['전입학생수(계)'] - df['전출학생수(계)']\n",
        "df = df.sort_values('순전입학생수(계)', ascending=False)\n",
        "print(int(df.iloc[0, -2]))\n",
        "\n",
        "\n"
      ],
      "metadata": {
        "id": "p_oHq0I6KyY9",
        "outputId": "0076d2e0-52ea-4b19-eb44-35efc90c4de6",
        "colab": {
          "base_uri": "https://localhost:8080/"
        }
      },
      "execution_count": 22,
      "outputs": [
        {
          "output_type": "stream",
          "name": "stdout",
          "text": [
            "230\n"
          ]
        }
      ]
    },
    {
      "cell_type": "markdown",
      "source": [
        "## 작업형1 풀이"
      ],
      "metadata": {
        "id": "HO9Cncas6GE1"
      }
    },
    {
      "cell_type": "markdown",
      "source": [
        "1. 종량제 봉투 종류가 '규격봉투'이고, 종량제 봉투 용도가 '음식물쓰레기'인 2L가격 평균 (단, 가격0 제외, 반올림 후 정수 출력)"
      ],
      "metadata": {
        "id": "dpx8dwl9CkQO"
      }
    },
    {
      "cell_type": "code",
      "execution_count": null,
      "metadata": {
        "id": "ShDssNLn6Dw8",
        "colab": {
          "base_uri": "https://localhost:8080/"
        },
        "outputId": "32f6eb17-2b19-4288-f9e4-ae517a1dba93"
      },
      "outputs": [
        {
          "output_type": "stream",
          "name": "stdout",
          "text": [
            "118\n"
          ]
        }
      ],
      "source": [
        "import pandas as pd\n",
        "df = pd.read_csv(\"5-1price.csv\")\n",
        "cond1 = df['2ℓ가격'] != 0\n",
        "cond2 = df['종량제봉투종류'] == \"규격봉투\"\n",
        "cond3 = df['종량제봉투용도'] == \"음식물쓰레기\"\n",
        "df = df[cond1 & cond2 & cond3]\n",
        "df\n",
        "print(round(df['2ℓ가격'].mean()))"
      ]
    },
    {
      "cell_type": "markdown",
      "source": [
        "2. bmi를 계산하고, 수치가 정상인 사람 수와 위험체중인 사람 수의 차이를 절대값으로 구하시오 (정수로 출력)\n",
        " - bmi(체질량지수): 몸무게(kg) / 키(m)의 제곱\n",
        "단위\n",
        "- Height: cm\n",
        "- Weight: kg\n",
        "\n",
        "\n",
        "- 저체중: BMI 18.5미만\n",
        "- 정상체중: BMI 18.5이상 ~ 23미만\n",
        "- 과체중 또는 위험체중: BMI 23 이상 ~ 25미만\n",
        "- 비만체중: 25이상"
      ],
      "metadata": {
        "id": "IrnG6JMQH-Lp"
      }
    },
    {
      "cell_type": "code",
      "source": [
        "import pandas as pd\n",
        "df = pd.read_csv(\"5-2bmi.csv\")\n",
        "\n",
        "df['bmi'] = df['Weight'] / (df['Height']/100)**2\n",
        "cond1 = (df['bmi'] >= 18.5) & (df['bmi'] < 23)\n",
        "cond2 = (df['bmi'] >= 23) & (df['bmi'] < 25)\n",
        "print(abs(len(df[cond1]) - len(df[cond2])))"
      ],
      "metadata": {
        "colab": {
          "base_uri": "https://localhost:8080/"
        },
        "id": "-3VwHCDKKjRl",
        "outputId": "2fbecdce-48df-49d1-cb05-be934372ea7f"
      },
      "execution_count": null,
      "outputs": [
        {
          "output_type": "stream",
          "name": "stdout",
          "text": [
            "144\n"
          ]
        }
      ]
    },
    {
      "cell_type": "markdown",
      "source": [
        "3. 순전입학생이 가장 많은 학교의 전체학생수 (순전입 학생 = 전입 학생 - 전출 학생)"
      ],
      "metadata": {
        "id": "g3z9MbO2FEN-"
      }
    },
    {
      "cell_type": "code",
      "source": [
        "import pandas as pd\n",
        "df = pd.read_csv(\"5-3student.csv\")\n",
        "df['순전입'] = df['전입학생수(계)'] - df['전출학생수(계)']\n",
        "df = df.sort_values('순전입', ascending=False)\n",
        "print(int(df.iloc[0,-2]))"
      ],
      "metadata": {
        "id": "WgzH-3yB6I26",
        "colab": {
          "base_uri": "https://localhost:8080/"
        },
        "outputId": "8e19494a-f407-4c32-e265-23bc5741436f"
      },
      "execution_count": null,
      "outputs": [
        {
          "output_type": "stream",
          "name": "stdout",
          "text": [
            "230\n"
          ]
        }
      ]
    },
    {
      "cell_type": "code",
      "source": [
        "df"
      ],
      "metadata": {
        "colab": {
          "base_uri": "https://localhost:8080/",
          "height": 1000
        },
        "id": "vjbPq_XE6Z7o",
        "outputId": "7c0d7b5b-57f9-4386-c07b-34ae1fdb61c4"
      },
      "execution_count": null,
      "outputs": [
        {
          "output_type": "execute_result",
          "data": {
            "text/plain": [
              "           시도교육청         지역교육청               지역   정보공시 학교코드       학교명  학교급코드  \\\n",
              "1880  세종특별자치시교육청    세종특별자치시교육청  세종특별자치시 세종특별자치시  S080000206    나성초등학교      2   \n",
              "1382    인천광역시교육청  인천광역시서부교육지원청         인천광역시 서구  S040002035  인천한별초등학교      2   \n",
              "6190     경상남도교육청       창원교육지원청   경상남도 창원시 마산합포구  S160004071  마산고운초등학교      2   \n",
              "3214      경기도교육청    경기도성남교육지원청      경기도 성남시 분당구  S090007517  판교대장초등학교      2   \n",
              "1407    인천광역시교육청  인천광역시동부교육지원청        인천광역시 연수구  S040002304  인천송담초등학교      2   \n",
              "...          ...           ...              ...         ...       ...    ...   \n",
              "3594      강원도교육청    강원도원주교육지원청          강원도 원주시  S100003975    섬강초등학교      2   \n",
              "5682     경상남도교육청       거제교육지원청         경상남도 거제시  S160000820    아주초등학교      2   \n",
              "1994      경기도교육청  경기도광주하남교육지원청          경기도 광주시  S090001284  광주광명초등학교      2   \n",
              "1140    대구광역시교육청  대구광역시서부교육지원청         대구광역시 북구  S030002150  대구국우초등학교      2   \n",
              "6189     경상남도교육청       진주교육지원청         경상남도 진주시  S160004032   은하수초등학교      2   \n",
              "\n",
              "     설립구분 제외여부                           제외사유  1학년 전입학생수  ...  5학년 전입학생수  \\\n",
              "1880   공립    N                            NaN      159.0  ...      180.0   \n",
              "1382   공립    N                            NaN      179.0  ...      127.0   \n",
              "6190   공립    N                            NaN       37.0  ...      139.0   \n",
              "3214   공립    N                            NaN      150.0  ...       97.0   \n",
              "1407   공립    N                            NaN       10.0  ...      139.0   \n",
              "...   ...  ...                            ...        ...  ...        ...   \n",
              "3594   공립    N                            NaN       16.0  ...       18.0   \n",
              "5682   공립    N                            NaN        5.0  ...        6.0   \n",
              "1994   공립    N                            NaN        9.0  ...       13.0   \n",
              "1140   공립    Y  본교는 해당항목에 대해서 통계자료가 없으므로 제외함.        NaN  ...        NaN   \n",
              "6189   공립    Y  본교는 해당항목에 대해서 통계자료가 없으므로 제외함.        NaN  ...        NaN   \n",
              "\n",
              "      5학년 전출학생수  5학년 전체학생수  6학년 전입학생수  6학년 전출학생수  6학년 전체 학생수  전입학생수(계)  \\\n",
              "1880        0.0       41.0       89.0        0.0        31.0     923.0   \n",
              "1382        0.0        0.0       93.0        0.0         0.0     857.0   \n",
              "6190        1.0      110.0      115.0        1.0        97.0     856.0   \n",
              "3214        0.0        0.0       72.0        1.0         0.0     688.0   \n",
              "1407        3.0      134.0       85.0        1.0        70.0     712.0   \n",
              "...         ...        ...        ...        ...         ...       ...   \n",
              "3594       82.0      188.0        9.0       72.0       193.0     100.0   \n",
              "5682       70.0      110.0        1.0       41.0       110.0      32.0   \n",
              "1994       81.0      196.0       18.0       68.0       181.0      91.0   \n",
              "1140        NaN        NaN        NaN        NaN         NaN       NaN   \n",
              "6189        NaN        NaN        NaN        NaN         NaN       NaN   \n",
              "\n",
              "      전출학생수(계)  전체학생수(계)    순전입  \n",
              "1880       0.0     230.0  923.0  \n",
              "1382       4.0       0.0  853.0  \n",
              "6190      13.0     894.0  843.0  \n",
              "3214       2.0       0.0  686.0  \n",
              "1407      30.0     835.0  682.0  \n",
              "...        ...       ...    ...  \n",
              "3594     488.0    1242.0 -388.0  \n",
              "5682     422.0     689.0 -390.0  \n",
              "1994     552.0    1425.0 -461.0  \n",
              "1140       NaN       NaN    NaN  \n",
              "6189       NaN       NaN    NaN  \n",
              "\n",
              "[6309 rows x 31 columns]"
            ],
            "text/html": [
              "\n",
              "  <div id=\"df-2e6318c4-7775-4d3d-8d31-cba4b8e6824f\">\n",
              "    <div class=\"colab-df-container\">\n",
              "      <div>\n",
              "<style scoped>\n",
              "    .dataframe tbody tr th:only-of-type {\n",
              "        vertical-align: middle;\n",
              "    }\n",
              "\n",
              "    .dataframe tbody tr th {\n",
              "        vertical-align: top;\n",
              "    }\n",
              "\n",
              "    .dataframe thead th {\n",
              "        text-align: right;\n",
              "    }\n",
              "</style>\n",
              "<table border=\"1\" class=\"dataframe\">\n",
              "  <thead>\n",
              "    <tr style=\"text-align: right;\">\n",
              "      <th></th>\n",
              "      <th>시도교육청</th>\n",
              "      <th>지역교육청</th>\n",
              "      <th>지역</th>\n",
              "      <th>정보공시 학교코드</th>\n",
              "      <th>학교명</th>\n",
              "      <th>학교급코드</th>\n",
              "      <th>설립구분</th>\n",
              "      <th>제외여부</th>\n",
              "      <th>제외사유</th>\n",
              "      <th>1학년 전입학생수</th>\n",
              "      <th>...</th>\n",
              "      <th>5학년 전입학생수</th>\n",
              "      <th>5학년 전출학생수</th>\n",
              "      <th>5학년 전체학생수</th>\n",
              "      <th>6학년 전입학생수</th>\n",
              "      <th>6학년 전출학생수</th>\n",
              "      <th>6학년 전체 학생수</th>\n",
              "      <th>전입학생수(계)</th>\n",
              "      <th>전출학생수(계)</th>\n",
              "      <th>전체학생수(계)</th>\n",
              "      <th>순전입</th>\n",
              "    </tr>\n",
              "  </thead>\n",
              "  <tbody>\n",
              "    <tr>\n",
              "      <th>1880</th>\n",
              "      <td>세종특별자치시교육청</td>\n",
              "      <td>세종특별자치시교육청</td>\n",
              "      <td>세종특별자치시 세종특별자치시</td>\n",
              "      <td>S080000206</td>\n",
              "      <td>나성초등학교</td>\n",
              "      <td>2</td>\n",
              "      <td>공립</td>\n",
              "      <td>N</td>\n",
              "      <td>NaN</td>\n",
              "      <td>159.0</td>\n",
              "      <td>...</td>\n",
              "      <td>180.0</td>\n",
              "      <td>0.0</td>\n",
              "      <td>41.0</td>\n",
              "      <td>89.0</td>\n",
              "      <td>0.0</td>\n",
              "      <td>31.0</td>\n",
              "      <td>923.0</td>\n",
              "      <td>0.0</td>\n",
              "      <td>230.0</td>\n",
              "      <td>923.0</td>\n",
              "    </tr>\n",
              "    <tr>\n",
              "      <th>1382</th>\n",
              "      <td>인천광역시교육청</td>\n",
              "      <td>인천광역시서부교육지원청</td>\n",
              "      <td>인천광역시 서구</td>\n",
              "      <td>S040002035</td>\n",
              "      <td>인천한별초등학교</td>\n",
              "      <td>2</td>\n",
              "      <td>공립</td>\n",
              "      <td>N</td>\n",
              "      <td>NaN</td>\n",
              "      <td>179.0</td>\n",
              "      <td>...</td>\n",
              "      <td>127.0</td>\n",
              "      <td>0.0</td>\n",
              "      <td>0.0</td>\n",
              "      <td>93.0</td>\n",
              "      <td>0.0</td>\n",
              "      <td>0.0</td>\n",
              "      <td>857.0</td>\n",
              "      <td>4.0</td>\n",
              "      <td>0.0</td>\n",
              "      <td>853.0</td>\n",
              "    </tr>\n",
              "    <tr>\n",
              "      <th>6190</th>\n",
              "      <td>경상남도교육청</td>\n",
              "      <td>창원교육지원청</td>\n",
              "      <td>경상남도 창원시 마산합포구</td>\n",
              "      <td>S160004071</td>\n",
              "      <td>마산고운초등학교</td>\n",
              "      <td>2</td>\n",
              "      <td>공립</td>\n",
              "      <td>N</td>\n",
              "      <td>NaN</td>\n",
              "      <td>37.0</td>\n",
              "      <td>...</td>\n",
              "      <td>139.0</td>\n",
              "      <td>1.0</td>\n",
              "      <td>110.0</td>\n",
              "      <td>115.0</td>\n",
              "      <td>1.0</td>\n",
              "      <td>97.0</td>\n",
              "      <td>856.0</td>\n",
              "      <td>13.0</td>\n",
              "      <td>894.0</td>\n",
              "      <td>843.0</td>\n",
              "    </tr>\n",
              "    <tr>\n",
              "      <th>3214</th>\n",
              "      <td>경기도교육청</td>\n",
              "      <td>경기도성남교육지원청</td>\n",
              "      <td>경기도 성남시 분당구</td>\n",
              "      <td>S090007517</td>\n",
              "      <td>판교대장초등학교</td>\n",
              "      <td>2</td>\n",
              "      <td>공립</td>\n",
              "      <td>N</td>\n",
              "      <td>NaN</td>\n",
              "      <td>150.0</td>\n",
              "      <td>...</td>\n",
              "      <td>97.0</td>\n",
              "      <td>0.0</td>\n",
              "      <td>0.0</td>\n",
              "      <td>72.0</td>\n",
              "      <td>1.0</td>\n",
              "      <td>0.0</td>\n",
              "      <td>688.0</td>\n",
              "      <td>2.0</td>\n",
              "      <td>0.0</td>\n",
              "      <td>686.0</td>\n",
              "    </tr>\n",
              "    <tr>\n",
              "      <th>1407</th>\n",
              "      <td>인천광역시교육청</td>\n",
              "      <td>인천광역시동부교육지원청</td>\n",
              "      <td>인천광역시 연수구</td>\n",
              "      <td>S040002304</td>\n",
              "      <td>인천송담초등학교</td>\n",
              "      <td>2</td>\n",
              "      <td>공립</td>\n",
              "      <td>N</td>\n",
              "      <td>NaN</td>\n",
              "      <td>10.0</td>\n",
              "      <td>...</td>\n",
              "      <td>139.0</td>\n",
              "      <td>3.0</td>\n",
              "      <td>134.0</td>\n",
              "      <td>85.0</td>\n",
              "      <td>1.0</td>\n",
              "      <td>70.0</td>\n",
              "      <td>712.0</td>\n",
              "      <td>30.0</td>\n",
              "      <td>835.0</td>\n",
              "      <td>682.0</td>\n",
              "    </tr>\n",
              "    <tr>\n",
              "      <th>...</th>\n",
              "      <td>...</td>\n",
              "      <td>...</td>\n",
              "      <td>...</td>\n",
              "      <td>...</td>\n",
              "      <td>...</td>\n",
              "      <td>...</td>\n",
              "      <td>...</td>\n",
              "      <td>...</td>\n",
              "      <td>...</td>\n",
              "      <td>...</td>\n",
              "      <td>...</td>\n",
              "      <td>...</td>\n",
              "      <td>...</td>\n",
              "      <td>...</td>\n",
              "      <td>...</td>\n",
              "      <td>...</td>\n",
              "      <td>...</td>\n",
              "      <td>...</td>\n",
              "      <td>...</td>\n",
              "      <td>...</td>\n",
              "      <td>...</td>\n",
              "    </tr>\n",
              "    <tr>\n",
              "      <th>3594</th>\n",
              "      <td>강원도교육청</td>\n",
              "      <td>강원도원주교육지원청</td>\n",
              "      <td>강원도 원주시</td>\n",
              "      <td>S100003975</td>\n",
              "      <td>섬강초등학교</td>\n",
              "      <td>2</td>\n",
              "      <td>공립</td>\n",
              "      <td>N</td>\n",
              "      <td>NaN</td>\n",
              "      <td>16.0</td>\n",
              "      <td>...</td>\n",
              "      <td>18.0</td>\n",
              "      <td>82.0</td>\n",
              "      <td>188.0</td>\n",
              "      <td>9.0</td>\n",
              "      <td>72.0</td>\n",
              "      <td>193.0</td>\n",
              "      <td>100.0</td>\n",
              "      <td>488.0</td>\n",
              "      <td>1242.0</td>\n",
              "      <td>-388.0</td>\n",
              "    </tr>\n",
              "    <tr>\n",
              "      <th>5682</th>\n",
              "      <td>경상남도교육청</td>\n",
              "      <td>거제교육지원청</td>\n",
              "      <td>경상남도 거제시</td>\n",
              "      <td>S160000820</td>\n",
              "      <td>아주초등학교</td>\n",
              "      <td>2</td>\n",
              "      <td>공립</td>\n",
              "      <td>N</td>\n",
              "      <td>NaN</td>\n",
              "      <td>5.0</td>\n",
              "      <td>...</td>\n",
              "      <td>6.0</td>\n",
              "      <td>70.0</td>\n",
              "      <td>110.0</td>\n",
              "      <td>1.0</td>\n",
              "      <td>41.0</td>\n",
              "      <td>110.0</td>\n",
              "      <td>32.0</td>\n",
              "      <td>422.0</td>\n",
              "      <td>689.0</td>\n",
              "      <td>-390.0</td>\n",
              "    </tr>\n",
              "    <tr>\n",
              "      <th>1994</th>\n",
              "      <td>경기도교육청</td>\n",
              "      <td>경기도광주하남교육지원청</td>\n",
              "      <td>경기도 광주시</td>\n",
              "      <td>S090001284</td>\n",
              "      <td>광주광명초등학교</td>\n",
              "      <td>2</td>\n",
              "      <td>공립</td>\n",
              "      <td>N</td>\n",
              "      <td>NaN</td>\n",
              "      <td>9.0</td>\n",
              "      <td>...</td>\n",
              "      <td>13.0</td>\n",
              "      <td>81.0</td>\n",
              "      <td>196.0</td>\n",
              "      <td>18.0</td>\n",
              "      <td>68.0</td>\n",
              "      <td>181.0</td>\n",
              "      <td>91.0</td>\n",
              "      <td>552.0</td>\n",
              "      <td>1425.0</td>\n",
              "      <td>-461.0</td>\n",
              "    </tr>\n",
              "    <tr>\n",
              "      <th>1140</th>\n",
              "      <td>대구광역시교육청</td>\n",
              "      <td>대구광역시서부교육지원청</td>\n",
              "      <td>대구광역시 북구</td>\n",
              "      <td>S030002150</td>\n",
              "      <td>대구국우초등학교</td>\n",
              "      <td>2</td>\n",
              "      <td>공립</td>\n",
              "      <td>Y</td>\n",
              "      <td>본교는 해당항목에 대해서 통계자료가 없으므로 제외함.</td>\n",
              "      <td>NaN</td>\n",
              "      <td>...</td>\n",
              "      <td>NaN</td>\n",
              "      <td>NaN</td>\n",
              "      <td>NaN</td>\n",
              "      <td>NaN</td>\n",
              "      <td>NaN</td>\n",
              "      <td>NaN</td>\n",
              "      <td>NaN</td>\n",
              "      <td>NaN</td>\n",
              "      <td>NaN</td>\n",
              "      <td>NaN</td>\n",
              "    </tr>\n",
              "    <tr>\n",
              "      <th>6189</th>\n",
              "      <td>경상남도교육청</td>\n",
              "      <td>진주교육지원청</td>\n",
              "      <td>경상남도 진주시</td>\n",
              "      <td>S160004032</td>\n",
              "      <td>은하수초등학교</td>\n",
              "      <td>2</td>\n",
              "      <td>공립</td>\n",
              "      <td>Y</td>\n",
              "      <td>본교는 해당항목에 대해서 통계자료가 없으므로 제외함.</td>\n",
              "      <td>NaN</td>\n",
              "      <td>...</td>\n",
              "      <td>NaN</td>\n",
              "      <td>NaN</td>\n",
              "      <td>NaN</td>\n",
              "      <td>NaN</td>\n",
              "      <td>NaN</td>\n",
              "      <td>NaN</td>\n",
              "      <td>NaN</td>\n",
              "      <td>NaN</td>\n",
              "      <td>NaN</td>\n",
              "      <td>NaN</td>\n",
              "    </tr>\n",
              "  </tbody>\n",
              "</table>\n",
              "<p>6309 rows × 31 columns</p>\n",
              "</div>\n",
              "      <button class=\"colab-df-convert\" onclick=\"convertToInteractive('df-2e6318c4-7775-4d3d-8d31-cba4b8e6824f')\"\n",
              "              title=\"Convert this dataframe to an interactive table.\"\n",
              "              style=\"display:none;\">\n",
              "        \n",
              "  <svg xmlns=\"http://www.w3.org/2000/svg\" height=\"24px\"viewBox=\"0 0 24 24\"\n",
              "       width=\"24px\">\n",
              "    <path d=\"M0 0h24v24H0V0z\" fill=\"none\"/>\n",
              "    <path d=\"M18.56 5.44l.94 2.06.94-2.06 2.06-.94-2.06-.94-.94-2.06-.94 2.06-2.06.94zm-11 1L8.5 8.5l.94-2.06 2.06-.94-2.06-.94L8.5 2.5l-.94 2.06-2.06.94zm10 10l.94 2.06.94-2.06 2.06-.94-2.06-.94-.94-2.06-.94 2.06-2.06.94z\"/><path d=\"M17.41 7.96l-1.37-1.37c-.4-.4-.92-.59-1.43-.59-.52 0-1.04.2-1.43.59L10.3 9.45l-7.72 7.72c-.78.78-.78 2.05 0 2.83L4 21.41c.39.39.9.59 1.41.59.51 0 1.02-.2 1.41-.59l7.78-7.78 2.81-2.81c.8-.78.8-2.07 0-2.86zM5.41 20L4 18.59l7.72-7.72 1.47 1.35L5.41 20z\"/>\n",
              "  </svg>\n",
              "      </button>\n",
              "      \n",
              "  <style>\n",
              "    .colab-df-container {\n",
              "      display:flex;\n",
              "      flex-wrap:wrap;\n",
              "      gap: 12px;\n",
              "    }\n",
              "\n",
              "    .colab-df-convert {\n",
              "      background-color: #E8F0FE;\n",
              "      border: none;\n",
              "      border-radius: 50%;\n",
              "      cursor: pointer;\n",
              "      display: none;\n",
              "      fill: #1967D2;\n",
              "      height: 32px;\n",
              "      padding: 0 0 0 0;\n",
              "      width: 32px;\n",
              "    }\n",
              "\n",
              "    .colab-df-convert:hover {\n",
              "      background-color: #E2EBFA;\n",
              "      box-shadow: 0px 1px 2px rgba(60, 64, 67, 0.3), 0px 1px 3px 1px rgba(60, 64, 67, 0.15);\n",
              "      fill: #174EA6;\n",
              "    }\n",
              "\n",
              "    [theme=dark] .colab-df-convert {\n",
              "      background-color: #3B4455;\n",
              "      fill: #D2E3FC;\n",
              "    }\n",
              "\n",
              "    [theme=dark] .colab-df-convert:hover {\n",
              "      background-color: #434B5C;\n",
              "      box-shadow: 0px 1px 3px 1px rgba(0, 0, 0, 0.15);\n",
              "      filter: drop-shadow(0px 1px 2px rgba(0, 0, 0, 0.3));\n",
              "      fill: #FFFFFF;\n",
              "    }\n",
              "  </style>\n",
              "\n",
              "      <script>\n",
              "        const buttonEl =\n",
              "          document.querySelector('#df-2e6318c4-7775-4d3d-8d31-cba4b8e6824f button.colab-df-convert');\n",
              "        buttonEl.style.display =\n",
              "          google.colab.kernel.accessAllowed ? 'block' : 'none';\n",
              "\n",
              "        async function convertToInteractive(key) {\n",
              "          const element = document.querySelector('#df-2e6318c4-7775-4d3d-8d31-cba4b8e6824f');\n",
              "          const dataTable =\n",
              "            await google.colab.kernel.invokeFunction('convertToInteractive',\n",
              "                                                     [key], {});\n",
              "          if (!dataTable) return;\n",
              "\n",
              "          const docLinkHtml = 'Like what you see? Visit the ' +\n",
              "            '<a target=\"_blank\" href=https://colab.research.google.com/notebooks/data_table.ipynb>data table notebook</a>'\n",
              "            + ' to learn more about interactive tables.';\n",
              "          element.innerHTML = '';\n",
              "          dataTable['output_type'] = 'display_data';\n",
              "          await google.colab.output.renderOutput(dataTable, element);\n",
              "          const docLink = document.createElement('div');\n",
              "          docLink.innerHTML = docLinkHtml;\n",
              "          element.appendChild(docLink);\n",
              "        }\n",
              "      </script>\n",
              "    </div>\n",
              "  </div>\n",
              "  "
            ]
          },
          "metadata": {},
          "execution_count": 3
        }
      ]
    },
    {
      "cell_type": "code",
      "source": [],
      "metadata": {
        "id": "40Y0MBd66bGm"
      },
      "execution_count": null,
      "outputs": []
    }
  ]
}