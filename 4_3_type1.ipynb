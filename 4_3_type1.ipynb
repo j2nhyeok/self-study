{
  "nbformat": 4,
  "nbformat_minor": 0,
  "metadata": {
    "colab": {
      "provenance": [],
      "include_colab_link": true
    },
    "kernelspec": {
      "name": "python3",
      "display_name": "Python 3"
    },
    "language_info": {
      "name": "python"
    }
  },
  "cells": [
    {
      "cell_type": "markdown",
      "metadata": {
        "id": "view-in-github",
        "colab_type": "text"
      },
      "source": [
        "<a href=\"https://colab.research.google.com/github/j2nhyeok/self-study/blob/main/4_3_type1.ipynb\" target=\"_parent\"><img src=\"https://colab.research.google.com/assets/colab-badge.svg\" alt=\"Open In Colab\"/></a>"
      ]
    },
    {
      "cell_type": "markdown",
      "source": [
        "# 작업형1 모의문제3\n",
        "- data : members.csv"
      ],
      "metadata": {
        "id": "jvuNsPAY41yZ"
      }
    },
    {
      "cell_type": "markdown",
      "source": [
        "## 문제7\n",
        "- index '2001' 데이터(행)의 평균보다 큰 값의 수와\n",
        "- index '2003' 데이터(행)의 평균보다 작은 값의 수를 더하시오\n",
        "\n",
        "[참고]\n",
        "- 데이터가 랜덤으로 생성되어 결과값이 다를 수 있습니다. 🙏\n",
        "- 혹, 랜덤 결과값을 고정하기 위해서는 seed값을 넣어 주면 됩니다.\n",
        "- import random 이후 random.seed(2022) 입력\n",
        "- 정답: 202 (영상에서 seed값을 고정하지 못해 동일한 데이터 구현을 못했습니다. 202가 정답입니다.)"
      ],
      "metadata": {
        "id": "PVBhS3mWQOJp"
      }
    },
    {
      "cell_type": "code",
      "source": [
        "# 데이터 생성(먼저 실행해 주세요)\n",
        "import pandas as pd\n",
        "import random\n",
        "random.seed(2022)\n",
        "df = pd.DataFrame()\n",
        "for i in range(0, 5):\n",
        "    list_box = []\n",
        "    for k in range(0, 200):\n",
        "        ran_num = random.randint(1,200)\n",
        "        list_box.append(ran_num)\n",
        "    df[i+2000] = list_box\n",
        "df = df.T\n",
        "df.to_csv(\"data.csv\", index=True)"
      ],
      "metadata": {
        "id": "D62uzCgSedAM"
      },
      "execution_count": 27,
      "outputs": []
    },
    {
      "cell_type": "code",
      "source": [
        "df = pd.read_csv(\"data.csv\", index_col=\"Unnamed: 0\")\n",
        "# your code\n",
        "df\n",
        "\n",
        "m2001 = df.loc[2001, :].mean()\n",
        "cond = df.loc[2001, :] > m2001\n",
        "r1 = sum(cond)\n",
        "m2003 = df.loc[2003, :].mean()\n",
        "cond2 = df.loc[2003, :] < m2003\n",
        "r2 = sum(cond2)\n",
        "print(r1 + r2)\n"
      ],
      "metadata": {
        "id": "d9UC9l2OQQ4m",
        "colab": {
          "base_uri": "https://localhost:8080/"
        },
        "outputId": "7daa99b7-acbb-4a0a-97e2-b55adc893a1d"
      },
      "execution_count": 28,
      "outputs": [
        {
          "output_type": "stream",
          "name": "stdout",
          "text": [
            "202\n"
          ]
        }
      ]
    },
    {
      "cell_type": "markdown",
      "source": [
        "## 문제8\n",
        "- 결측 값을 가진 데이터는 바로 뒤에 있는 값으로 대체한 후 (바로 뒤가 결측값이라면 뒤에 있는 데이터 중 가장 가까운 값)\n",
        "- city와 f2 컬럼 기준으로 그룹합을 계산한 뒤\n",
        "- views가 세번째로 큰 city(도시) 이름은?"
      ],
      "metadata": {
        "id": "h2IXr3A_QRWS"
      }
    },
    {
      "cell_type": "code",
      "source": [
        "# your code\n",
        "import pandas as pd\n",
        "import numpy as np\n",
        "df = pd.read_csv('/content/drive/MyDrive/빅분기 실기/인프런_data/members.csv')\n",
        "df = df.fillna(method='bfill')\n",
        "df = df.groupby(['city', 'f2']).sum().reset_index()\n",
        "df = df.sort_values('views', ascending=False)\n",
        "print(df.iloc[2, 0])\n"
      ],
      "metadata": {
        "id": "SNMu1ew0QTnD",
        "colab": {
          "base_uri": "https://localhost:8080/"
        },
        "outputId": "2b4de567-a80d-4429-8a02-874734d45e09"
      },
      "execution_count": 42,
      "outputs": [
        {
          "output_type": "stream",
          "name": "stdout",
          "text": [
            "대구\n"
          ]
        },
        {
          "output_type": "stream",
          "name": "stderr",
          "text": [
            "<ipython-input-42-164431905bb0>:6: FutureWarning: The default value of numeric_only in DataFrameGroupBy.sum is deprecated. In a future version, numeric_only will default to False. Either specify numeric_only or select only columns which should be valid for the function.\n",
            "  df = df.groupby(['city', 'f2']).sum().reset_index()\n"
          ]
        }
      ]
    },
    {
      "cell_type": "markdown",
      "source": [
        "## 문제9\n",
        "- 구독(subscribed) 월별로 데이터 개수를 구한 뒤\n",
        "- 가장 작은 구독 수가 있는 월을 구하시오"
      ],
      "metadata": {
        "id": "gV-W-F2wQTuw"
      }
    },
    {
      "cell_type": "code",
      "source": [
        "from google.colab import drive\n",
        "drive.mount('/content/drive')"
      ],
      "metadata": {
        "colab": {
          "base_uri": "https://localhost:8080/"
        },
        "id": "UHryb7kdOUpt",
        "outputId": "49cbd32a-ea71-49ab-e948-8fe09b8852e0"
      },
      "execution_count": 32,
      "outputs": [
        {
          "output_type": "stream",
          "name": "stdout",
          "text": [
            "Mounted at /content/drive\n"
          ]
        }
      ]
    },
    {
      "cell_type": "code",
      "source": [
        "# your code\n",
        "import pandas as pd\n",
        "import numpy as np\n",
        "df = pd.read_csv('/content/drive/MyDrive/빅분기 실기/인프런_data/members.csv')\n",
        "\n",
        "df['subscribed'] = pd.to_datetime(df['subscribed'])\n",
        "\n",
        "df['subscribed'] = df['subscribed'].dt.month\n",
        "\n",
        "df = df.groupby('subscribed').count()\n",
        "df = df.sort_values('views')\n",
        "print(df.index[0])"
      ],
      "metadata": {
        "id": "TAP8aeX0QW3L",
        "colab": {
          "base_uri": "https://localhost:8080/"
        },
        "outputId": "b8d8ee66-feab-483c-dd78-d5a70475df58"
      },
      "execution_count": 57,
      "outputs": [
        {
          "output_type": "stream",
          "name": "stdout",
          "text": [
            "11\n"
          ]
        }
      ]
    },
    {
      "cell_type": "markdown",
      "source": [
        "# 풀이"
      ],
      "metadata": {
        "id": "7wXaul1WQZth"
      }
    },
    {
      "cell_type": "markdown",
      "source": [
        "## 문제7\n",
        "- index '2001' 데이터(행)의 평균보다 큰 값의 수와\n",
        "- index '2003' 데이터(행)의 평균보다 작은 값의 수를 더하시오"
      ],
      "metadata": {
        "id": "xZSeADoX9iEQ"
      }
    },
    {
      "cell_type": "code",
      "source": [
        "# 데이터 생성\n",
        "import pandas as pd\n",
        "import random\n",
        "random.seed(2022)\n",
        "df = pd.DataFrame()\n",
        "for i in range(0, 5):\n",
        "    list_box = []\n",
        "    for k in range(0, 200):\n",
        "        ran_num = random.randint(1,200)\n",
        "        list_box.append(ran_num)\n",
        "    df[i+2000] = list_box\n",
        "df = df.T\n",
        "df.to_csv(\"data.csv\", index=True)"
      ],
      "metadata": {
        "id": "-Knnz-hm95Zc"
      },
      "execution_count": null,
      "outputs": []
    },
    {
      "cell_type": "code",
      "source": [
        "# 풀이\n",
        "df = pd.read_csv(\"data.csv\", index_col=\"Unnamed: 0\")\n",
        "# print(df.head(2))\n",
        "\n",
        "m2001 = df.loc[2001].mean()\n",
        "# print(m2001)\n",
        "cond = df.loc[2001] > m2001\n",
        "r1 = sum(cond)\n",
        "\n",
        "m2003 = df.loc[2003].mean()\n",
        "cond = df.loc[2003] < m2003\n",
        "r2 = sum(cond)\n",
        "\n",
        "print(r1+r2)"
      ],
      "metadata": {
        "id": "IvJ_vQcv95fH",
        "colab": {
          "base_uri": "https://localhost:8080/"
        },
        "outputId": "2eb715e3-0b71-4012-acdd-fb135658d6b4"
      },
      "execution_count": null,
      "outputs": [
        {
          "output_type": "stream",
          "name": "stdout",
          "text": [
            "202\n"
          ]
        }
      ]
    },
    {
      "cell_type": "markdown",
      "source": [
        "## 문제8\n",
        "- 결측 값을 가진 데이터는 바로 뒤에 있는 값으로 대체한 후 (바로 뒤가 결측값이라면 뒤에 있는 데이터 중 가장 가까운 값)\n",
        "- city와 f2 컬럼 기준으로 그룹합을 계산한 뒤\n",
        "- views가 세번째로 큰 city(도시) 이름은?\n"
      ],
      "metadata": {
        "id": "oz7POiFg5BbF"
      }
    },
    {
      "cell_type": "code",
      "execution_count": null,
      "metadata": {
        "colab": {
          "base_uri": "https://localhost:8080/"
        },
        "id": "T0JqOyc24q9O",
        "outputId": "12e67646-ba80-4e06-85a8-8f7c7ced56f3"
      },
      "outputs": [
        {
          "output_type": "stream",
          "name": "stdout",
          "text": [
            "대구\n"
          ]
        }
      ],
      "source": [
        "# 풀이\n",
        "import pandas as pd\n",
        "df = pd.read_csv(\"members.csv\")\n",
        "# df.isnull().sum()\n",
        "# display(df.head(7))\n",
        "df = df.fillna(method='bfill')\n",
        "# display(df.head(7))\n",
        "\n",
        "df = df.groupby(['city','f2']).sum().reset_index()\n",
        "df = df.sort_values('views', ascending=False)\n",
        "print(df.iloc[2,0])"
      ]
    },
    {
      "cell_type": "markdown",
      "source": [
        "추가 설명\n",
        "- numeric_only관련 워닝이 발생되면 sum() mean() corr() 등 함수 괄호 안에 numeric_only=True를 넣어주세요\n",
        "\n",
        "- 코랩 판다스 버전이 업데이트 되면서 워닝이 발생하고 있어요. 시험 환경은 아직 이전 버전이라 해당 워닝이 발생하지 않고 numeric_only파라미터도 없습니다. 업데이트 될 수도 있으니 알아두는 것이 좋을 것 같아요!\n",
        "\n",
        "- 원인은 수치형 데이터 외에 범주형 데이터도 함께 있어서 워닝(경고)가 발생했어요"
      ],
      "metadata": {
        "id": "iTuhvfxEfPiH"
      }
    },
    {
      "cell_type": "markdown",
      "source": [
        "## 문제9\n",
        "- 구독(subscribed) 월별로 데이터 개수를 구한 뒤\n",
        "- 가장 작은 구독 수가 있는 월을 구하시오"
      ],
      "metadata": {
        "id": "s8s-g51Z5EA7"
      }
    },
    {
      "cell_type": "code",
      "source": [
        "# 풀이\n",
        "import pandas as pd\n",
        "df = pd.read_csv(\"members.csv\")\n",
        "\n",
        "df['subscribed'] = pd.to_datetime(df['subscribed'])\n",
        "df['year'] = df['subscribed'].dt.year\n",
        "df['month'] = df['subscribed'].dt.month\n",
        "df['day'] = df['subscribed'].dt.day\n",
        "\n",
        "df = df.groupby('month').count()\n",
        "df.sort_values('subscribed').index[0]"
      ],
      "metadata": {
        "colab": {
          "base_uri": "https://localhost:8080/"
        },
        "id": "9mpdqGoJD_zM",
        "outputId": "4891da9c-41ab-4047-8ee9-5ca391619703"
      },
      "execution_count": null,
      "outputs": [
        {
          "output_type": "execute_result",
          "data": {
            "text/plain": [
              "11"
            ]
          },
          "metadata": {},
          "execution_count": 51
        }
      ]
    }
  ]
}