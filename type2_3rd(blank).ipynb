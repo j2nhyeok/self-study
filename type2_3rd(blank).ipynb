{
  "nbformat": 4,
  "nbformat_minor": 0,
  "metadata": {
    "colab": {
      "provenance": [],
      "include_colab_link": true
    },
    "kernelspec": {
      "name": "python3",
      "display_name": "Python 3"
    },
    "language_info": {
      "name": "python"
    }
  },
  "cells": [
    {
      "cell_type": "markdown",
      "metadata": {
        "id": "view-in-github",
        "colab_type": "text"
      },
      "source": [
        "<a href=\"https://colab.research.google.com/github/j2nhyeok/self-study/blob/main/type2_3rd(blank).ipynb\" target=\"_parent\"><img src=\"https://colab.research.google.com/assets/colab-badge.svg\" alt=\"Open In Colab\"/></a>"
      ]
    },
    {
      "cell_type": "markdown",
      "source": [
        "# 작업형2\n",
        "- 빅데이터 분석기사 3회 실기\n",
        "- 제공된 데이터\n",
        "    - train.csv\n",
        "    - test.csv\n",
        "- 예측할 컬럼 : TravelInsurance\n",
        "\n",
        "### 시험에서 제공된 코드\n",
        "~~~\n",
        "import pandas as pd\n",
        "a = pd.read_csv(\"train.csv\")\n",
        "b = pd.read_csv('test.csv')\n",
        "\n",
        "pd.DataFrame(변수).to_csv('000000000.csv')\n",
        "~~~\n",
        "\n",
        "\n",
        "### 보험가입 확률을 묻는 문제\n",
        "~~~\n",
        "# csv 형태\n",
        "# index,y_pred\n",
        "# 0,0.152467\n",
        "# 1,0.961511\n",
        "# 2,0.151313\n",
        "# 3,0.236632\n",
        "...\n",
        "# 494,0.121372\n",
        "# 495,0.965155\n",
        "# 496,0.986405\n",
        "\n",
        "~~~\n"
      ],
      "metadata": {
        "id": "yOX8hBk5gKrW"
      }
    },
    {
      "cell_type": "markdown",
      "source": [
        "## 데이터 불러오기"
      ],
      "metadata": {
        "id": "R9ZoHIuwayfL"
      }
    },
    {
      "cell_type": "code",
      "source": [
        "import pandas as pd\n",
        "train = pd.read_csv(\"train.csv\")\n",
        "test = pd.read_csv(\"test.csv\")"
      ],
      "metadata": {
        "id": "aLTgo8rZYtxs"
      },
      "execution_count": 16,
      "outputs": []
    },
    {
      "cell_type": "markdown",
      "source": [
        "## EDA"
      ],
      "metadata": {
        "id": "-dVefrwPjPFJ"
      }
    },
    {
      "cell_type": "code",
      "source": [
        "# 크기 확인\n",
        "print(train.shape, test.shape)"
      ],
      "metadata": {
        "id": "PWyD54YKgo2W",
        "outputId": "c9f0d164-22c7-4239-e929-f0f58ee6879a",
        "colab": {
          "base_uri": "https://localhost:8080/"
        }
      },
      "execution_count": 17,
      "outputs": [
        {
          "output_type": "stream",
          "name": "stdout",
          "text": [
            "(1490, 10) (497, 9)\n"
          ]
        }
      ]
    },
    {
      "cell_type": "code",
      "source": [
        "# 샘플 확인\n",
        "train.head()"
      ],
      "metadata": {
        "id": "e8nOHgTbULpH",
        "outputId": "be3735d5-230f-4a5c-99ac-2a6c1b3faacf",
        "colab": {
          "base_uri": "https://localhost:8080/",
          "height": 206
        }
      },
      "execution_count": 18,
      "outputs": [
        {
          "output_type": "execute_result",
          "data": {
            "text/plain": [
              "   Unnamed: 0  Age               Employment Type GraduateOrNot  AnnualIncome  \\\n",
              "0         888   28  Private Sector/Self Employed           Yes       1250000   \n",
              "1        1308   31  Private Sector/Self Employed           Yes       1250000   \n",
              "2         151   29  Private Sector/Self Employed           Yes       1200000   \n",
              "3         396   33             Government Sector           Yes        650000   \n",
              "4         135   28  Private Sector/Self Employed           Yes        800000   \n",
              "\n",
              "   FamilyMembers  ChronicDiseases FrequentFlyer EverTravelledAbroad  \\\n",
              "0              6                1            No                  No   \n",
              "1              7                1            No                  No   \n",
              "2              7                0            No                  No   \n",
              "3              6                1            No                  No   \n",
              "4              6                0            No                 Yes   \n",
              "\n",
              "   TravelInsurance  \n",
              "0                0  \n",
              "1                0  \n",
              "2                1  \n",
              "3                1  \n",
              "4                1  "
            ],
            "text/html": [
              "\n",
              "  <div id=\"df-5e797b43-659b-4d1c-a5fb-9d6211bdb8eb\" class=\"colab-df-container\">\n",
              "    <div>\n",
              "<style scoped>\n",
              "    .dataframe tbody tr th:only-of-type {\n",
              "        vertical-align: middle;\n",
              "    }\n",
              "\n",
              "    .dataframe tbody tr th {\n",
              "        vertical-align: top;\n",
              "    }\n",
              "\n",
              "    .dataframe thead th {\n",
              "        text-align: right;\n",
              "    }\n",
              "</style>\n",
              "<table border=\"1\" class=\"dataframe\">\n",
              "  <thead>\n",
              "    <tr style=\"text-align: right;\">\n",
              "      <th></th>\n",
              "      <th>Unnamed: 0</th>\n",
              "      <th>Age</th>\n",
              "      <th>Employment Type</th>\n",
              "      <th>GraduateOrNot</th>\n",
              "      <th>AnnualIncome</th>\n",
              "      <th>FamilyMembers</th>\n",
              "      <th>ChronicDiseases</th>\n",
              "      <th>FrequentFlyer</th>\n",
              "      <th>EverTravelledAbroad</th>\n",
              "      <th>TravelInsurance</th>\n",
              "    </tr>\n",
              "  </thead>\n",
              "  <tbody>\n",
              "    <tr>\n",
              "      <th>0</th>\n",
              "      <td>888</td>\n",
              "      <td>28</td>\n",
              "      <td>Private Sector/Self Employed</td>\n",
              "      <td>Yes</td>\n",
              "      <td>1250000</td>\n",
              "      <td>6</td>\n",
              "      <td>1</td>\n",
              "      <td>No</td>\n",
              "      <td>No</td>\n",
              "      <td>0</td>\n",
              "    </tr>\n",
              "    <tr>\n",
              "      <th>1</th>\n",
              "      <td>1308</td>\n",
              "      <td>31</td>\n",
              "      <td>Private Sector/Self Employed</td>\n",
              "      <td>Yes</td>\n",
              "      <td>1250000</td>\n",
              "      <td>7</td>\n",
              "      <td>1</td>\n",
              "      <td>No</td>\n",
              "      <td>No</td>\n",
              "      <td>0</td>\n",
              "    </tr>\n",
              "    <tr>\n",
              "      <th>2</th>\n",
              "      <td>151</td>\n",
              "      <td>29</td>\n",
              "      <td>Private Sector/Self Employed</td>\n",
              "      <td>Yes</td>\n",
              "      <td>1200000</td>\n",
              "      <td>7</td>\n",
              "      <td>0</td>\n",
              "      <td>No</td>\n",
              "      <td>No</td>\n",
              "      <td>1</td>\n",
              "    </tr>\n",
              "    <tr>\n",
              "      <th>3</th>\n",
              "      <td>396</td>\n",
              "      <td>33</td>\n",
              "      <td>Government Sector</td>\n",
              "      <td>Yes</td>\n",
              "      <td>650000</td>\n",
              "      <td>6</td>\n",
              "      <td>1</td>\n",
              "      <td>No</td>\n",
              "      <td>No</td>\n",
              "      <td>1</td>\n",
              "    </tr>\n",
              "    <tr>\n",
              "      <th>4</th>\n",
              "      <td>135</td>\n",
              "      <td>28</td>\n",
              "      <td>Private Sector/Self Employed</td>\n",
              "      <td>Yes</td>\n",
              "      <td>800000</td>\n",
              "      <td>6</td>\n",
              "      <td>0</td>\n",
              "      <td>No</td>\n",
              "      <td>Yes</td>\n",
              "      <td>1</td>\n",
              "    </tr>\n",
              "  </tbody>\n",
              "</table>\n",
              "</div>\n",
              "    <div class=\"colab-df-buttons\">\n",
              "\n",
              "  <div class=\"colab-df-container\">\n",
              "    <button class=\"colab-df-convert\" onclick=\"convertToInteractive('df-5e797b43-659b-4d1c-a5fb-9d6211bdb8eb')\"\n",
              "            title=\"Convert this dataframe to an interactive table.\"\n",
              "            style=\"display:none;\">\n",
              "\n",
              "  <svg xmlns=\"http://www.w3.org/2000/svg\" height=\"24px\" viewBox=\"0 -960 960 960\">\n",
              "    <path d=\"M120-120v-720h720v720H120Zm60-500h600v-160H180v160Zm220 220h160v-160H400v160Zm0 220h160v-160H400v160ZM180-400h160v-160H180v160Zm440 0h160v-160H620v160ZM180-180h160v-160H180v160Zm440 0h160v-160H620v160Z\"/>\n",
              "  </svg>\n",
              "    </button>\n",
              "\n",
              "  <style>\n",
              "    .colab-df-container {\n",
              "      display:flex;\n",
              "      gap: 12px;\n",
              "    }\n",
              "\n",
              "    .colab-df-convert {\n",
              "      background-color: #E8F0FE;\n",
              "      border: none;\n",
              "      border-radius: 50%;\n",
              "      cursor: pointer;\n",
              "      display: none;\n",
              "      fill: #1967D2;\n",
              "      height: 32px;\n",
              "      padding: 0 0 0 0;\n",
              "      width: 32px;\n",
              "    }\n",
              "\n",
              "    .colab-df-convert:hover {\n",
              "      background-color: #E2EBFA;\n",
              "      box-shadow: 0px 1px 2px rgba(60, 64, 67, 0.3), 0px 1px 3px 1px rgba(60, 64, 67, 0.15);\n",
              "      fill: #174EA6;\n",
              "    }\n",
              "\n",
              "    .colab-df-buttons div {\n",
              "      margin-bottom: 4px;\n",
              "    }\n",
              "\n",
              "    [theme=dark] .colab-df-convert {\n",
              "      background-color: #3B4455;\n",
              "      fill: #D2E3FC;\n",
              "    }\n",
              "\n",
              "    [theme=dark] .colab-df-convert:hover {\n",
              "      background-color: #434B5C;\n",
              "      box-shadow: 0px 1px 3px 1px rgba(0, 0, 0, 0.15);\n",
              "      filter: drop-shadow(0px 1px 2px rgba(0, 0, 0, 0.3));\n",
              "      fill: #FFFFFF;\n",
              "    }\n",
              "  </style>\n",
              "\n",
              "    <script>\n",
              "      const buttonEl =\n",
              "        document.querySelector('#df-5e797b43-659b-4d1c-a5fb-9d6211bdb8eb button.colab-df-convert');\n",
              "      buttonEl.style.display =\n",
              "        google.colab.kernel.accessAllowed ? 'block' : 'none';\n",
              "\n",
              "      async function convertToInteractive(key) {\n",
              "        const element = document.querySelector('#df-5e797b43-659b-4d1c-a5fb-9d6211bdb8eb');\n",
              "        const dataTable =\n",
              "          await google.colab.kernel.invokeFunction('convertToInteractive',\n",
              "                                                    [key], {});\n",
              "        if (!dataTable) return;\n",
              "\n",
              "        const docLinkHtml = 'Like what you see? Visit the ' +\n",
              "          '<a target=\"_blank\" href=https://colab.research.google.com/notebooks/data_table.ipynb>data table notebook</a>'\n",
              "          + ' to learn more about interactive tables.';\n",
              "        element.innerHTML = '';\n",
              "        dataTable['output_type'] = 'display_data';\n",
              "        await google.colab.output.renderOutput(dataTable, element);\n",
              "        const docLink = document.createElement('div');\n",
              "        docLink.innerHTML = docLinkHtml;\n",
              "        element.appendChild(docLink);\n",
              "      }\n",
              "    </script>\n",
              "  </div>\n",
              "\n",
              "\n",
              "<div id=\"df-fe761ca2-cc5b-41f3-82d8-e52ec78c7485\">\n",
              "  <button class=\"colab-df-quickchart\" onclick=\"quickchart('df-fe761ca2-cc5b-41f3-82d8-e52ec78c7485')\"\n",
              "            title=\"Suggest charts\"\n",
              "            style=\"display:none;\">\n",
              "\n",
              "<svg xmlns=\"http://www.w3.org/2000/svg\" height=\"24px\"viewBox=\"0 0 24 24\"\n",
              "     width=\"24px\">\n",
              "    <g>\n",
              "        <path d=\"M19 3H5c-1.1 0-2 .9-2 2v14c0 1.1.9 2 2 2h14c1.1 0 2-.9 2-2V5c0-1.1-.9-2-2-2zM9 17H7v-7h2v7zm4 0h-2V7h2v10zm4 0h-2v-4h2v4z\"/>\n",
              "    </g>\n",
              "</svg>\n",
              "  </button>\n",
              "\n",
              "<style>\n",
              "  .colab-df-quickchart {\n",
              "      --bg-color: #E8F0FE;\n",
              "      --fill-color: #1967D2;\n",
              "      --hover-bg-color: #E2EBFA;\n",
              "      --hover-fill-color: #174EA6;\n",
              "      --disabled-fill-color: #AAA;\n",
              "      --disabled-bg-color: #DDD;\n",
              "  }\n",
              "\n",
              "  [theme=dark] .colab-df-quickchart {\n",
              "      --bg-color: #3B4455;\n",
              "      --fill-color: #D2E3FC;\n",
              "      --hover-bg-color: #434B5C;\n",
              "      --hover-fill-color: #FFFFFF;\n",
              "      --disabled-bg-color: #3B4455;\n",
              "      --disabled-fill-color: #666;\n",
              "  }\n",
              "\n",
              "  .colab-df-quickchart {\n",
              "    background-color: var(--bg-color);\n",
              "    border: none;\n",
              "    border-radius: 50%;\n",
              "    cursor: pointer;\n",
              "    display: none;\n",
              "    fill: var(--fill-color);\n",
              "    height: 32px;\n",
              "    padding: 0;\n",
              "    width: 32px;\n",
              "  }\n",
              "\n",
              "  .colab-df-quickchart:hover {\n",
              "    background-color: var(--hover-bg-color);\n",
              "    box-shadow: 0 1px 2px rgba(60, 64, 67, 0.3), 0 1px 3px 1px rgba(60, 64, 67, 0.15);\n",
              "    fill: var(--button-hover-fill-color);\n",
              "  }\n",
              "\n",
              "  .colab-df-quickchart-complete:disabled,\n",
              "  .colab-df-quickchart-complete:disabled:hover {\n",
              "    background-color: var(--disabled-bg-color);\n",
              "    fill: var(--disabled-fill-color);\n",
              "    box-shadow: none;\n",
              "  }\n",
              "\n",
              "  .colab-df-spinner {\n",
              "    border: 2px solid var(--fill-color);\n",
              "    border-color: transparent;\n",
              "    border-bottom-color: var(--fill-color);\n",
              "    animation:\n",
              "      spin 1s steps(1) infinite;\n",
              "  }\n",
              "\n",
              "  @keyframes spin {\n",
              "    0% {\n",
              "      border-color: transparent;\n",
              "      border-bottom-color: var(--fill-color);\n",
              "      border-left-color: var(--fill-color);\n",
              "    }\n",
              "    20% {\n",
              "      border-color: transparent;\n",
              "      border-left-color: var(--fill-color);\n",
              "      border-top-color: var(--fill-color);\n",
              "    }\n",
              "    30% {\n",
              "      border-color: transparent;\n",
              "      border-left-color: var(--fill-color);\n",
              "      border-top-color: var(--fill-color);\n",
              "      border-right-color: var(--fill-color);\n",
              "    }\n",
              "    40% {\n",
              "      border-color: transparent;\n",
              "      border-right-color: var(--fill-color);\n",
              "      border-top-color: var(--fill-color);\n",
              "    }\n",
              "    60% {\n",
              "      border-color: transparent;\n",
              "      border-right-color: var(--fill-color);\n",
              "    }\n",
              "    80% {\n",
              "      border-color: transparent;\n",
              "      border-right-color: var(--fill-color);\n",
              "      border-bottom-color: var(--fill-color);\n",
              "    }\n",
              "    90% {\n",
              "      border-color: transparent;\n",
              "      border-bottom-color: var(--fill-color);\n",
              "    }\n",
              "  }\n",
              "</style>\n",
              "\n",
              "  <script>\n",
              "    async function quickchart(key) {\n",
              "      const quickchartButtonEl =\n",
              "        document.querySelector('#' + key + ' button');\n",
              "      quickchartButtonEl.disabled = true;  // To prevent multiple clicks.\n",
              "      quickchartButtonEl.classList.add('colab-df-spinner');\n",
              "      try {\n",
              "        const charts = await google.colab.kernel.invokeFunction(\n",
              "            'suggestCharts', [key], {});\n",
              "      } catch (error) {\n",
              "        console.error('Error during call to suggestCharts:', error);\n",
              "      }\n",
              "      quickchartButtonEl.classList.remove('colab-df-spinner');\n",
              "      quickchartButtonEl.classList.add('colab-df-quickchart-complete');\n",
              "    }\n",
              "    (() => {\n",
              "      let quickchartButtonEl =\n",
              "        document.querySelector('#df-fe761ca2-cc5b-41f3-82d8-e52ec78c7485 button');\n",
              "      quickchartButtonEl.style.display =\n",
              "        google.colab.kernel.accessAllowed ? 'block' : 'none';\n",
              "    })();\n",
              "  </script>\n",
              "</div>\n",
              "\n",
              "    </div>\n",
              "  </div>\n"
            ],
            "application/vnd.google.colaboratory.intrinsic+json": {
              "type": "dataframe",
              "variable_name": "train",
              "summary": "{\n  \"name\": \"train\",\n  \"rows\": 1490,\n  \"fields\": [\n    {\n      \"column\": \"Unnamed: 0\",\n      \"properties\": {\n        \"dtype\": \"number\",\n        \"std\": 566,\n        \"min\": 0,\n        \"max\": 1983,\n        \"num_unique_values\": 1490,\n        \"samples\": [\n          1287,\n          1050,\n          346\n        ],\n        \"semantic_type\": \"\",\n        \"description\": \"\"\n      }\n    },\n    {\n      \"column\": \"Age\",\n      \"properties\": {\n        \"dtype\": \"number\",\n        \"std\": 2,\n        \"min\": 25,\n        \"max\": 35,\n        \"num_unique_values\": 11,\n        \"samples\": [\n          26,\n          28,\n          32\n        ],\n        \"semantic_type\": \"\",\n        \"description\": \"\"\n      }\n    },\n    {\n      \"column\": \"Employment Type\",\n      \"properties\": {\n        \"dtype\": \"category\",\n        \"num_unique_values\": 2,\n        \"samples\": [\n          \"Government Sector\",\n          \"Private Sector/Self Employed\"\n        ],\n        \"semantic_type\": \"\",\n        \"description\": \"\"\n      }\n    },\n    {\n      \"column\": \"GraduateOrNot\",\n      \"properties\": {\n        \"dtype\": \"category\",\n        \"num_unique_values\": 2,\n        \"samples\": [\n          \"No\",\n          \"Yes\"\n        ],\n        \"semantic_type\": \"\",\n        \"description\": \"\"\n      }\n    },\n    {\n      \"column\": \"AnnualIncome\",\n      \"properties\": {\n        \"dtype\": \"number\",\n        \"std\": 376305,\n        \"min\": 300000,\n        \"max\": 1800000,\n        \"num_unique_values\": 30,\n        \"samples\": [\n          1800000,\n          600000\n        ],\n        \"semantic_type\": \"\",\n        \"description\": \"\"\n      }\n    },\n    {\n      \"column\": \"FamilyMembers\",\n      \"properties\": {\n        \"dtype\": \"number\",\n        \"std\": 1,\n        \"min\": 2,\n        \"max\": 9,\n        \"num_unique_values\": 8,\n        \"samples\": [\n          7,\n          3\n        ],\n        \"semantic_type\": \"\",\n        \"description\": \"\"\n      }\n    },\n    {\n      \"column\": \"ChronicDiseases\",\n      \"properties\": {\n        \"dtype\": \"number\",\n        \"std\": 0,\n        \"min\": 0,\n        \"max\": 1,\n        \"num_unique_values\": 2,\n        \"samples\": [\n          0,\n          1\n        ],\n        \"semantic_type\": \"\",\n        \"description\": \"\"\n      }\n    },\n    {\n      \"column\": \"FrequentFlyer\",\n      \"properties\": {\n        \"dtype\": \"category\",\n        \"num_unique_values\": 2,\n        \"samples\": [\n          \"Yes\",\n          \"No\"\n        ],\n        \"semantic_type\": \"\",\n        \"description\": \"\"\n      }\n    },\n    {\n      \"column\": \"EverTravelledAbroad\",\n      \"properties\": {\n        \"dtype\": \"category\",\n        \"num_unique_values\": 2,\n        \"samples\": [\n          \"Yes\",\n          \"No\"\n        ],\n        \"semantic_type\": \"\",\n        \"description\": \"\"\n      }\n    },\n    {\n      \"column\": \"TravelInsurance\",\n      \"properties\": {\n        \"dtype\": \"number\",\n        \"std\": 0,\n        \"min\": 0,\n        \"max\": 1,\n        \"num_unique_values\": 2,\n        \"samples\": [\n          1,\n          0\n        ],\n        \"semantic_type\": \"\",\n        \"description\": \"\"\n      }\n    }\n  ]\n}"
            }
          },
          "metadata": {},
          "execution_count": 18
        }
      ]
    },
    {
      "cell_type": "code",
      "source": [
        "# 타입 확인\n",
        "train.nunique()"
      ],
      "metadata": {
        "id": "_ds65WrHhuL0",
        "outputId": "373b9b5b-8cb1-44fe-d633-197e3d3523f9",
        "colab": {
          "base_uri": "https://localhost:8080/"
        }
      },
      "execution_count": 19,
      "outputs": [
        {
          "output_type": "execute_result",
          "data": {
            "text/plain": [
              "Unnamed: 0             1490\n",
              "Age                      11\n",
              "Employment Type           2\n",
              "GraduateOrNot             2\n",
              "AnnualIncome             30\n",
              "FamilyMembers             8\n",
              "ChronicDiseases           2\n",
              "FrequentFlyer             2\n",
              "EverTravelledAbroad       2\n",
              "TravelInsurance           2\n",
              "dtype: int64"
            ]
          },
          "metadata": {},
          "execution_count": 19
        }
      ]
    },
    {
      "cell_type": "code",
      "source": [
        "# 결측치 확인 train\n",
        "print(train.isnull().sum())"
      ],
      "metadata": {
        "id": "A1b58WRMhwcv",
        "outputId": "07214ac7-67e0-48d2-a3ac-75400b67e3ab",
        "colab": {
          "base_uri": "https://localhost:8080/"
        }
      },
      "execution_count": 20,
      "outputs": [
        {
          "output_type": "stream",
          "name": "stdout",
          "text": [
            "Unnamed: 0             0\n",
            "Age                    0\n",
            "Employment Type        0\n",
            "GraduateOrNot          0\n",
            "AnnualIncome           0\n",
            "FamilyMembers          0\n",
            "ChronicDiseases        0\n",
            "FrequentFlyer          0\n",
            "EverTravelledAbroad    0\n",
            "TravelInsurance        0\n",
            "dtype: int64\n"
          ]
        }
      ]
    },
    {
      "cell_type": "code",
      "source": [
        "# 결측치 확인 test\n",
        "print(test.isnull().sum())"
      ],
      "metadata": {
        "id": "AqBK3RjVjdML",
        "outputId": "db87fc03-abb9-4d29-86a3-1ef1f5367969",
        "colab": {
          "base_uri": "https://localhost:8080/"
        }
      },
      "execution_count": 21,
      "outputs": [
        {
          "output_type": "stream",
          "name": "stdout",
          "text": [
            "Unnamed: 0             0\n",
            "Age                    0\n",
            "Employment Type        0\n",
            "GraduateOrNot          0\n",
            "AnnualIncome           0\n",
            "FamilyMembers          0\n",
            "ChronicDiseases        0\n",
            "FrequentFlyer          0\n",
            "EverTravelledAbroad    0\n",
            "dtype: int64\n"
          ]
        }
      ]
    },
    {
      "cell_type": "code",
      "source": [
        "# 기초 통계 획인\n",
        "print(train.describe())"
      ],
      "metadata": {
        "id": "f_NXrYdojgAa",
        "outputId": "a5af36e6-cf66-49b6-a5b8-6ce2ac717d84",
        "colab": {
          "base_uri": "https://localhost:8080/"
        }
      },
      "execution_count": 22,
      "outputs": [
        {
          "output_type": "stream",
          "name": "stdout",
          "text": [
            "        Unnamed: 0          Age  AnnualIncome  FamilyMembers  ChronicDiseases  \\\n",
            "count  1490.000000  1490.000000  1.490000e+03    1490.000000      1490.000000   \n",
            "mean    992.277181    29.600000  9.310738e+05       4.755705         0.280537   \n",
            "std     566.637006     2.887829  3.763057e+05       1.603613         0.449412   \n",
            "min       0.000000    25.000000  3.000000e+05       2.000000         0.000000   \n",
            "25%     502.250000    28.000000  6.000000e+05       4.000000         0.000000   \n",
            "50%     994.500000    29.000000  9.000000e+05       5.000000         0.000000   \n",
            "75%    1479.750000    32.000000  1.250000e+06       6.000000         1.000000   \n",
            "max    1983.000000    35.000000  1.800000e+06       9.000000         1.000000   \n",
            "\n",
            "       TravelInsurance  \n",
            "count      1490.000000  \n",
            "mean          0.352349  \n",
            "std           0.477862  \n",
            "min           0.000000  \n",
            "25%           0.000000  \n",
            "50%           0.000000  \n",
            "75%           1.000000  \n",
            "max           1.000000  \n"
          ]
        }
      ]
    },
    {
      "cell_type": "code",
      "source": [
        "# 기초 통계 획인 object\n",
        "print(train.describe(include='O'))"
      ],
      "metadata": {
        "id": "MHCAKNAEjqGq",
        "outputId": "8a3ad50f-8c9d-45d4-b8dd-98ff7defb472",
        "colab": {
          "base_uri": "https://localhost:8080/"
        }
      },
      "execution_count": 23,
      "outputs": [
        {
          "output_type": "stream",
          "name": "stdout",
          "text": [
            "                     Employment Type GraduateOrNot FrequentFlyer  \\\n",
            "count                           1490          1490          1490   \n",
            "unique                             2             2             2   \n",
            "top     Private Sector/Self Employed           Yes            No   \n",
            "freq                            1056          1270          1175   \n",
            "\n",
            "       EverTravelledAbroad  \n",
            "count                 1490  \n",
            "unique                   2  \n",
            "top                     No  \n",
            "freq                  1209  \n"
          ]
        }
      ]
    },
    {
      "cell_type": "code",
      "source": [
        "# 타겟(레이블)\n",
        "target = train.pop('TravelInsurance')\n",
        "target.head()"
      ],
      "metadata": {
        "id": "2kppEcMPjVAE",
        "outputId": "755d020f-d6ae-4bf0-9b0d-e8f7140decd5",
        "colab": {
          "base_uri": "https://localhost:8080/"
        }
      },
      "execution_count": 24,
      "outputs": [
        {
          "output_type": "execute_result",
          "data": {
            "text/plain": [
              "0    0\n",
              "1    0\n",
              "2    1\n",
              "3    1\n",
              "4    1\n",
              "Name: TravelInsurance, dtype: int64"
            ]
          },
          "metadata": {},
          "execution_count": 24
        }
      ]
    },
    {
      "cell_type": "markdown",
      "source": [
        "\n",
        "## 데이터 전처리 및 피처엔지니어링"
      ],
      "metadata": {
        "id": "KnNu9bH3kJfD"
      }
    },
    {
      "cell_type": "code",
      "source": [],
      "metadata": {
        "id": "y0EnCqYxjcob"
      },
      "execution_count": 24,
      "outputs": []
    },
    {
      "cell_type": "code",
      "source": [
        "train.info()"
      ],
      "metadata": {
        "id": "aEYfevCbjX-A",
        "outputId": "b2cf05d9-ba87-4aeb-fcf6-e90915ff06ac",
        "colab": {
          "base_uri": "https://localhost:8080/"
        }
      },
      "execution_count": 25,
      "outputs": [
        {
          "output_type": "stream",
          "name": "stdout",
          "text": [
            "<class 'pandas.core.frame.DataFrame'>\n",
            "RangeIndex: 1490 entries, 0 to 1489\n",
            "Data columns (total 9 columns):\n",
            " #   Column               Non-Null Count  Dtype \n",
            "---  ------               --------------  ----- \n",
            " 0   Unnamed: 0           1490 non-null   int64 \n",
            " 1   Age                  1490 non-null   int64 \n",
            " 2   Employment Type      1490 non-null   object\n",
            " 3   GraduateOrNot        1490 non-null   object\n",
            " 4   AnnualIncome         1490 non-null   int64 \n",
            " 5   FamilyMembers        1490 non-null   int64 \n",
            " 6   ChronicDiseases      1490 non-null   int64 \n",
            " 7   FrequentFlyer        1490 non-null   object\n",
            " 8   EverTravelledAbroad  1490 non-null   object\n",
            "dtypes: int64(5), object(4)\n",
            "memory usage: 104.9+ KB\n"
          ]
        }
      ]
    },
    {
      "cell_type": "code",
      "source": [
        "# 수치형 데이터와 범주형 데이터 분리\n",
        "train_numeric = train.select_dtypes(exclude = 'object')\n",
        "train_categoric = train.select_dtypes(include = 'object')\n",
        "test_numeric = test.select_dtypes(exclude = 'object')\n",
        "test_categoric = test.select_dtypes(include = 'object')\n",
        "\n",
        "print(train_numeric.shape, train_categoric.shape, test_numeric.shape, test_numeric.shape)\n",
        "print(train_numeric.head())\n",
        "print(test_numeric.head())"
      ],
      "metadata": {
        "id": "JAglZ4dipalH",
        "outputId": "f7a9e98e-9903-46c9-9f9a-954a81dad1a9",
        "colab": {
          "base_uri": "https://localhost:8080/"
        }
      },
      "execution_count": 26,
      "outputs": [
        {
          "output_type": "stream",
          "name": "stdout",
          "text": [
            "(1490, 5) (1490, 4) (497, 5) (497, 5)\n",
            "   Unnamed: 0  Age  AnnualIncome  FamilyMembers  ChronicDiseases\n",
            "0         888   28       1250000              6                1\n",
            "1        1308   31       1250000              7                1\n",
            "2         151   29       1200000              7                0\n",
            "3         396   33        650000              6                1\n",
            "4         135   28        800000              6                0\n",
            "   Unnamed: 0  Age  AnnualIncome  FamilyMembers  ChronicDiseases\n",
            "0         920   32        650000              5                0\n",
            "1         777   27        500000              5                0\n",
            "2         696   32        350000              2                0\n",
            "3         907   26       1400000              6                0\n",
            "4         675   27        350000              3                0\n"
          ]
        }
      ]
    },
    {
      "cell_type": "code",
      "source": [
        "# 수치형 변수 스케일링\n",
        "from sklearn.preprocessing import StandardScaler\n",
        "cols = ['Age', 'AnnualIncome', 'FamilyMembers', 'ChronicDiseases']\n",
        "scale = StandardScaler()\n",
        "train_numeric[cols] = scale.fit_transform(train_numeric[cols])\n",
        "test_numeric[cols] = scale.transform(test_numeric[cols])"
      ],
      "metadata": {
        "id": "Q5n67S9isN2r"
      },
      "execution_count": 27,
      "outputs": []
    },
    {
      "cell_type": "code",
      "source": [
        "# 범주형 변수 인코딩\n",
        "\n",
        "train_categoric = pd.get_dummies(train_categoric)\n",
        "test_categoric = pd.get_dummies(test_categoric)\n"
      ],
      "metadata": {
        "id": "58MMwhWvWK6m"
      },
      "execution_count": 28,
      "outputs": []
    },
    {
      "cell_type": "code",
      "source": [
        "# 분리한 데이터 다시 합침\n",
        "train = pd.concat([train_numeric, train_categoric], axis = 1)\n",
        "test = pd.concat([test_numeric, test_categoric], axis = 1)\n",
        "print(train.head())"
      ],
      "metadata": {
        "id": "4u8sKvxvWK9C",
        "outputId": "6490a477-83d3-486d-b473-16796fe95635",
        "colab": {
          "base_uri": "https://localhost:8080/"
        }
      },
      "execution_count": 29,
      "outputs": [
        {
          "output_type": "stream",
          "name": "stdout",
          "text": [
            "   Unnamed: 0       Age  AnnualIncome  FamilyMembers  ChronicDiseases  \\\n",
            "0         888 -0.554235      0.847803       0.776193         1.601435   \n",
            "1        1308  0.484956      0.847803       1.399994         1.601435   \n",
            "2         151 -0.207838      0.714888       1.399994        -0.624440   \n",
            "3         396  1.177750     -0.747180       0.776193         1.601435   \n",
            "4         135 -0.554235     -0.348434       0.776193        -0.624440   \n",
            "\n",
            "   Employment Type_Government Sector  \\\n",
            "0                                  0   \n",
            "1                                  0   \n",
            "2                                  0   \n",
            "3                                  1   \n",
            "4                                  0   \n",
            "\n",
            "   Employment Type_Private Sector/Self Employed  GraduateOrNot_No  \\\n",
            "0                                             1                 0   \n",
            "1                                             1                 0   \n",
            "2                                             1                 0   \n",
            "3                                             0                 0   \n",
            "4                                             1                 0   \n",
            "\n",
            "   GraduateOrNot_Yes  FrequentFlyer_No  FrequentFlyer_Yes  \\\n",
            "0                  1                 1                  0   \n",
            "1                  1                 1                  0   \n",
            "2                  1                 1                  0   \n",
            "3                  1                 1                  0   \n",
            "4                  1                 1                  0   \n",
            "\n",
            "   EverTravelledAbroad_No  EverTravelledAbroad_Yes  \n",
            "0                       1                        0  \n",
            "1                       1                        0  \n",
            "2                       1                        0  \n",
            "3                       1                        0  \n",
            "4                       0                        1  \n"
          ]
        }
      ]
    },
    {
      "cell_type": "markdown",
      "source": [
        "## 검증데이터 분리"
      ],
      "metadata": {
        "id": "6xji7dInWPIt"
      }
    },
    {
      "cell_type": "code",
      "source": [
        "# 검증데이터 분리\n",
        "from sklearn.model_selection import train_test_split\n",
        "train = train.drop('Unnamed: 0', axis = 1)\n",
        "test = test.drop('Unnamed: 0', axis = 1)\n",
        "X_tr, X_val, y_tr, y_val = train_test_split(train, target, test_size =0.1, random_state= 1204)\n",
        "print(X_tr.shape, X_val.shape, y_tr.shape, y_val.shape)"
      ],
      "metadata": {
        "id": "5Tm50rN8WLCC",
        "outputId": "b3644422-ce2f-4b26-c2ba-7b5c9a5d86f7",
        "colab": {
          "base_uri": "https://localhost:8080/"
        }
      },
      "execution_count": 41,
      "outputs": [
        {
          "output_type": "stream",
          "name": "stdout",
          "text": [
            "(1341, 12) (149, 12) (1341,) (149,)\n"
          ]
        }
      ]
    },
    {
      "cell_type": "markdown",
      "source": [
        "## 모델 학습 및 예측"
      ],
      "metadata": {
        "id": "LyQpOqabwezg"
      }
    },
    {
      "cell_type": "code",
      "source": [
        "# 랜덤포레스트\n",
        "from sklearn.ensemble import RandomForestClassifier\n",
        "\n",
        "clf = RandomForestClassifier(n_estimators=1000, max_depth=4 ,random_state=2022)\n",
        "clf = clf.fit(X_tr, y_tr)\n",
        "pred = clf.predict_proba(X_val)\n",
        "print(pred[:, 1])"
      ],
      "metadata": {
        "id": "CCcKbm3YWRqq",
        "outputId": "918826b6-a713-4a41-d922-31e11fa6f2fb",
        "colab": {
          "base_uri": "https://localhost:8080/"
        }
      },
      "execution_count": 62,
      "outputs": [
        {
          "output_type": "stream",
          "name": "stdout",
          "text": [
            "[0.80001091 0.24291917 0.20547688 0.24833221 0.27741143 0.21112211\n",
            " 0.23606833 0.17961994 0.92205025 0.85329297 0.14581007 0.29869787\n",
            " 0.85818716 0.263949   0.26579701 0.91843723 0.24965668 0.91031089\n",
            " 0.23230363 0.25626608 0.2051374  0.84744144 0.24466346 0.30365845\n",
            " 0.23014094 0.29249932 0.88874823 0.21403419 0.19555836 0.20243348\n",
            " 0.23889535 0.20567809 0.89233846 0.91858754 0.27579416 0.24392721\n",
            " 0.27039762 0.24411427 0.26462411 0.2165319  0.21147759 0.21147752\n",
            " 0.2150766  0.21713976 0.10824018 0.20954442 0.207353   0.22148849\n",
            " 0.20946633 0.94223588 0.20957248 0.20887089 0.50787011 0.20549046\n",
            " 0.45438643 0.20744278 0.21737216 0.24580521 0.2093782  0.22632365\n",
            " 0.18458596 0.24427386 0.2509559  0.44520203 0.21387132 0.20565741\n",
            " 0.22286234 0.88713517 0.18461529 0.9130476  0.87558596 0.88826854\n",
            " 0.20822527 0.21002172 0.20285964 0.40443515 0.47672035 0.24730181\n",
            " 0.21640218 0.77827142 0.17865142 0.20985297 0.22926185 0.2076092\n",
            " 0.27803126 0.21625063 0.26530425 0.2399182  0.461228   0.2059346\n",
            " 0.22828355 0.23014094 0.14858405 0.2306697  0.276957   0.27704053\n",
            " 0.87389062 0.18177715 0.45548208 0.27547027 0.24237873 0.47890483\n",
            " 0.49165142 0.23106268 0.21739244 0.2076092  0.20928411 0.27227775\n",
            " 0.20733244 0.86505258 0.4035297  0.29449283 0.18245477 0.86529996\n",
            " 0.21625063 0.91843723 0.21790606 0.27227775 0.27334075 0.21120011\n",
            " 0.19048008 0.44683193 0.21739244 0.20888213 0.22712417 0.92284834\n",
            " 0.26530425 0.43884927 0.18738743 0.24094288 0.27560312 0.2379494\n",
            " 0.24580521 0.21085842 0.21309248 0.33059441 0.25078111 0.92511936\n",
            " 0.24018769 0.22010667 0.18055248 0.25030482 0.46513551 0.41862157\n",
            " 0.22528618 0.41134502 0.20549046 0.265103   0.14377415]\n"
          ]
        }
      ]
    },
    {
      "cell_type": "code",
      "source": [
        "# 평가\n",
        "from sklearn.metrics import roc_auc_score\n",
        "\n",
        "score = roc_auc_score(y_val, pred[:, 1])\n",
        "print(score)"
      ],
      "metadata": {
        "id": "eRtHFtY3WRvD",
        "outputId": "3bd2f033-b2a0-4f75-e1bc-d48b9934e85b",
        "colab": {
          "base_uri": "https://localhost:8080/"
        }
      },
      "execution_count": 63,
      "outputs": [
        {
          "output_type": "stream",
          "name": "stdout",
          "text": [
            "0.8233673469387754\n"
          ]
        }
      ]
    },
    {
      "cell_type": "markdown",
      "source": [
        "## 예측"
      ],
      "metadata": {
        "id": "uzcaytQFWbEg"
      }
    },
    {
      "cell_type": "code",
      "source": [
        "# test 예측\n",
        "pred = clf.predict_proba(test)\n",
        "\n",
        "submit = pd.DataFrame({\n",
        "    'index' : test.index,\n",
        "    'y_pred' : pred[:, 1]\n",
        "})"
      ],
      "metadata": {
        "id": "3cdDgmw4Wh9e"
      },
      "execution_count": 71,
      "outputs": []
    },
    {
      "cell_type": "code",
      "source": [
        "# csv 파일1 생성 (예시와 다른 형태)\n",
        "submit.to_csv('123.csv', index= False)"
      ],
      "metadata": {
        "id": "J_wOL-yWWYu9"
      },
      "execution_count": 79,
      "outputs": []
    },
    {
      "cell_type": "code",
      "source": [
        "# csv 파일2 생성\n"
      ],
      "metadata": {
        "id": "1QLrPD6iWYxc"
      },
      "execution_count": 80,
      "outputs": []
    },
    {
      "cell_type": "code",
      "source": [
        "# csv 파일1 확인\n",
        "temp = pd.read_csv('123.csv')\n",
        "temp"
      ],
      "metadata": {
        "id": "e_E1YQSjWmvD",
        "outputId": "bee6047b-aa26-480e-8d91-4668888c36d3",
        "colab": {
          "base_uri": "https://localhost:8080/",
          "height": 423
        }
      },
      "execution_count": 81,
      "outputs": [
        {
          "output_type": "execute_result",
          "data": {
            "text/plain": [
              "     index    y_pred\n",
              "0        0  0.187724\n",
              "1        1  0.174257\n",
              "2        2  0.149831\n",
              "3        3  0.932704\n",
              "4        4  0.182883\n",
              "..     ...       ...\n",
              "492    492  0.252332\n",
              "493    493  0.915646\n",
              "494    494  0.243556\n",
              "495    495  0.935334\n",
              "496    496  0.928053\n",
              "\n",
              "[497 rows x 2 columns]"
            ],
            "text/html": [
              "\n",
              "  <div id=\"df-57cf4b13-5b0e-4b5a-98e5-99f5f587381b\" class=\"colab-df-container\">\n",
              "    <div>\n",
              "<style scoped>\n",
              "    .dataframe tbody tr th:only-of-type {\n",
              "        vertical-align: middle;\n",
              "    }\n",
              "\n",
              "    .dataframe tbody tr th {\n",
              "        vertical-align: top;\n",
              "    }\n",
              "\n",
              "    .dataframe thead th {\n",
              "        text-align: right;\n",
              "    }\n",
              "</style>\n",
              "<table border=\"1\" class=\"dataframe\">\n",
              "  <thead>\n",
              "    <tr style=\"text-align: right;\">\n",
              "      <th></th>\n",
              "      <th>index</th>\n",
              "      <th>y_pred</th>\n",
              "    </tr>\n",
              "  </thead>\n",
              "  <tbody>\n",
              "    <tr>\n",
              "      <th>0</th>\n",
              "      <td>0</td>\n",
              "      <td>0.187724</td>\n",
              "    </tr>\n",
              "    <tr>\n",
              "      <th>1</th>\n",
              "      <td>1</td>\n",
              "      <td>0.174257</td>\n",
              "    </tr>\n",
              "    <tr>\n",
              "      <th>2</th>\n",
              "      <td>2</td>\n",
              "      <td>0.149831</td>\n",
              "    </tr>\n",
              "    <tr>\n",
              "      <th>3</th>\n",
              "      <td>3</td>\n",
              "      <td>0.932704</td>\n",
              "    </tr>\n",
              "    <tr>\n",
              "      <th>4</th>\n",
              "      <td>4</td>\n",
              "      <td>0.182883</td>\n",
              "    </tr>\n",
              "    <tr>\n",
              "      <th>...</th>\n",
              "      <td>...</td>\n",
              "      <td>...</td>\n",
              "    </tr>\n",
              "    <tr>\n",
              "      <th>492</th>\n",
              "      <td>492</td>\n",
              "      <td>0.252332</td>\n",
              "    </tr>\n",
              "    <tr>\n",
              "      <th>493</th>\n",
              "      <td>493</td>\n",
              "      <td>0.915646</td>\n",
              "    </tr>\n",
              "    <tr>\n",
              "      <th>494</th>\n",
              "      <td>494</td>\n",
              "      <td>0.243556</td>\n",
              "    </tr>\n",
              "    <tr>\n",
              "      <th>495</th>\n",
              "      <td>495</td>\n",
              "      <td>0.935334</td>\n",
              "    </tr>\n",
              "    <tr>\n",
              "      <th>496</th>\n",
              "      <td>496</td>\n",
              "      <td>0.928053</td>\n",
              "    </tr>\n",
              "  </tbody>\n",
              "</table>\n",
              "<p>497 rows × 2 columns</p>\n",
              "</div>\n",
              "    <div class=\"colab-df-buttons\">\n",
              "\n",
              "  <div class=\"colab-df-container\">\n",
              "    <button class=\"colab-df-convert\" onclick=\"convertToInteractive('df-57cf4b13-5b0e-4b5a-98e5-99f5f587381b')\"\n",
              "            title=\"Convert this dataframe to an interactive table.\"\n",
              "            style=\"display:none;\">\n",
              "\n",
              "  <svg xmlns=\"http://www.w3.org/2000/svg\" height=\"24px\" viewBox=\"0 -960 960 960\">\n",
              "    <path d=\"M120-120v-720h720v720H120Zm60-500h600v-160H180v160Zm220 220h160v-160H400v160Zm0 220h160v-160H400v160ZM180-400h160v-160H180v160Zm440 0h160v-160H620v160ZM180-180h160v-160H180v160Zm440 0h160v-160H620v160Z\"/>\n",
              "  </svg>\n",
              "    </button>\n",
              "\n",
              "  <style>\n",
              "    .colab-df-container {\n",
              "      display:flex;\n",
              "      gap: 12px;\n",
              "    }\n",
              "\n",
              "    .colab-df-convert {\n",
              "      background-color: #E8F0FE;\n",
              "      border: none;\n",
              "      border-radius: 50%;\n",
              "      cursor: pointer;\n",
              "      display: none;\n",
              "      fill: #1967D2;\n",
              "      height: 32px;\n",
              "      padding: 0 0 0 0;\n",
              "      width: 32px;\n",
              "    }\n",
              "\n",
              "    .colab-df-convert:hover {\n",
              "      background-color: #E2EBFA;\n",
              "      box-shadow: 0px 1px 2px rgba(60, 64, 67, 0.3), 0px 1px 3px 1px rgba(60, 64, 67, 0.15);\n",
              "      fill: #174EA6;\n",
              "    }\n",
              "\n",
              "    .colab-df-buttons div {\n",
              "      margin-bottom: 4px;\n",
              "    }\n",
              "\n",
              "    [theme=dark] .colab-df-convert {\n",
              "      background-color: #3B4455;\n",
              "      fill: #D2E3FC;\n",
              "    }\n",
              "\n",
              "    [theme=dark] .colab-df-convert:hover {\n",
              "      background-color: #434B5C;\n",
              "      box-shadow: 0px 1px 3px 1px rgba(0, 0, 0, 0.15);\n",
              "      filter: drop-shadow(0px 1px 2px rgba(0, 0, 0, 0.3));\n",
              "      fill: #FFFFFF;\n",
              "    }\n",
              "  </style>\n",
              "\n",
              "    <script>\n",
              "      const buttonEl =\n",
              "        document.querySelector('#df-57cf4b13-5b0e-4b5a-98e5-99f5f587381b button.colab-df-convert');\n",
              "      buttonEl.style.display =\n",
              "        google.colab.kernel.accessAllowed ? 'block' : 'none';\n",
              "\n",
              "      async function convertToInteractive(key) {\n",
              "        const element = document.querySelector('#df-57cf4b13-5b0e-4b5a-98e5-99f5f587381b');\n",
              "        const dataTable =\n",
              "          await google.colab.kernel.invokeFunction('convertToInteractive',\n",
              "                                                    [key], {});\n",
              "        if (!dataTable) return;\n",
              "\n",
              "        const docLinkHtml = 'Like what you see? Visit the ' +\n",
              "          '<a target=\"_blank\" href=https://colab.research.google.com/notebooks/data_table.ipynb>data table notebook</a>'\n",
              "          + ' to learn more about interactive tables.';\n",
              "        element.innerHTML = '';\n",
              "        dataTable['output_type'] = 'display_data';\n",
              "        await google.colab.output.renderOutput(dataTable, element);\n",
              "        const docLink = document.createElement('div');\n",
              "        docLink.innerHTML = docLinkHtml;\n",
              "        element.appendChild(docLink);\n",
              "      }\n",
              "    </script>\n",
              "  </div>\n",
              "\n",
              "\n",
              "<div id=\"df-25f4c8af-1e64-4901-88c3-ed11c0222689\">\n",
              "  <button class=\"colab-df-quickchart\" onclick=\"quickchart('df-25f4c8af-1e64-4901-88c3-ed11c0222689')\"\n",
              "            title=\"Suggest charts\"\n",
              "            style=\"display:none;\">\n",
              "\n",
              "<svg xmlns=\"http://www.w3.org/2000/svg\" height=\"24px\"viewBox=\"0 0 24 24\"\n",
              "     width=\"24px\">\n",
              "    <g>\n",
              "        <path d=\"M19 3H5c-1.1 0-2 .9-2 2v14c0 1.1.9 2 2 2h14c1.1 0 2-.9 2-2V5c0-1.1-.9-2-2-2zM9 17H7v-7h2v7zm4 0h-2V7h2v10zm4 0h-2v-4h2v4z\"/>\n",
              "    </g>\n",
              "</svg>\n",
              "  </button>\n",
              "\n",
              "<style>\n",
              "  .colab-df-quickchart {\n",
              "      --bg-color: #E8F0FE;\n",
              "      --fill-color: #1967D2;\n",
              "      --hover-bg-color: #E2EBFA;\n",
              "      --hover-fill-color: #174EA6;\n",
              "      --disabled-fill-color: #AAA;\n",
              "      --disabled-bg-color: #DDD;\n",
              "  }\n",
              "\n",
              "  [theme=dark] .colab-df-quickchart {\n",
              "      --bg-color: #3B4455;\n",
              "      --fill-color: #D2E3FC;\n",
              "      --hover-bg-color: #434B5C;\n",
              "      --hover-fill-color: #FFFFFF;\n",
              "      --disabled-bg-color: #3B4455;\n",
              "      --disabled-fill-color: #666;\n",
              "  }\n",
              "\n",
              "  .colab-df-quickchart {\n",
              "    background-color: var(--bg-color);\n",
              "    border: none;\n",
              "    border-radius: 50%;\n",
              "    cursor: pointer;\n",
              "    display: none;\n",
              "    fill: var(--fill-color);\n",
              "    height: 32px;\n",
              "    padding: 0;\n",
              "    width: 32px;\n",
              "  }\n",
              "\n",
              "  .colab-df-quickchart:hover {\n",
              "    background-color: var(--hover-bg-color);\n",
              "    box-shadow: 0 1px 2px rgba(60, 64, 67, 0.3), 0 1px 3px 1px rgba(60, 64, 67, 0.15);\n",
              "    fill: var(--button-hover-fill-color);\n",
              "  }\n",
              "\n",
              "  .colab-df-quickchart-complete:disabled,\n",
              "  .colab-df-quickchart-complete:disabled:hover {\n",
              "    background-color: var(--disabled-bg-color);\n",
              "    fill: var(--disabled-fill-color);\n",
              "    box-shadow: none;\n",
              "  }\n",
              "\n",
              "  .colab-df-spinner {\n",
              "    border: 2px solid var(--fill-color);\n",
              "    border-color: transparent;\n",
              "    border-bottom-color: var(--fill-color);\n",
              "    animation:\n",
              "      spin 1s steps(1) infinite;\n",
              "  }\n",
              "\n",
              "  @keyframes spin {\n",
              "    0% {\n",
              "      border-color: transparent;\n",
              "      border-bottom-color: var(--fill-color);\n",
              "      border-left-color: var(--fill-color);\n",
              "    }\n",
              "    20% {\n",
              "      border-color: transparent;\n",
              "      border-left-color: var(--fill-color);\n",
              "      border-top-color: var(--fill-color);\n",
              "    }\n",
              "    30% {\n",
              "      border-color: transparent;\n",
              "      border-left-color: var(--fill-color);\n",
              "      border-top-color: var(--fill-color);\n",
              "      border-right-color: var(--fill-color);\n",
              "    }\n",
              "    40% {\n",
              "      border-color: transparent;\n",
              "      border-right-color: var(--fill-color);\n",
              "      border-top-color: var(--fill-color);\n",
              "    }\n",
              "    60% {\n",
              "      border-color: transparent;\n",
              "      border-right-color: var(--fill-color);\n",
              "    }\n",
              "    80% {\n",
              "      border-color: transparent;\n",
              "      border-right-color: var(--fill-color);\n",
              "      border-bottom-color: var(--fill-color);\n",
              "    }\n",
              "    90% {\n",
              "      border-color: transparent;\n",
              "      border-bottom-color: var(--fill-color);\n",
              "    }\n",
              "  }\n",
              "</style>\n",
              "\n",
              "  <script>\n",
              "    async function quickchart(key) {\n",
              "      const quickchartButtonEl =\n",
              "        document.querySelector('#' + key + ' button');\n",
              "      quickchartButtonEl.disabled = true;  // To prevent multiple clicks.\n",
              "      quickchartButtonEl.classList.add('colab-df-spinner');\n",
              "      try {\n",
              "        const charts = await google.colab.kernel.invokeFunction(\n",
              "            'suggestCharts', [key], {});\n",
              "      } catch (error) {\n",
              "        console.error('Error during call to suggestCharts:', error);\n",
              "      }\n",
              "      quickchartButtonEl.classList.remove('colab-df-spinner');\n",
              "      quickchartButtonEl.classList.add('colab-df-quickchart-complete');\n",
              "    }\n",
              "    (() => {\n",
              "      let quickchartButtonEl =\n",
              "        document.querySelector('#df-25f4c8af-1e64-4901-88c3-ed11c0222689 button');\n",
              "      quickchartButtonEl.style.display =\n",
              "        google.colab.kernel.accessAllowed ? 'block' : 'none';\n",
              "    })();\n",
              "  </script>\n",
              "</div>\n",
              "\n",
              "  <div id=\"id_c7e76560-603d-4e9b-acd9-648d9f3e2ee5\">\n",
              "    <style>\n",
              "      .colab-df-generate {\n",
              "        background-color: #E8F0FE;\n",
              "        border: none;\n",
              "        border-radius: 50%;\n",
              "        cursor: pointer;\n",
              "        display: none;\n",
              "        fill: #1967D2;\n",
              "        height: 32px;\n",
              "        padding: 0 0 0 0;\n",
              "        width: 32px;\n",
              "      }\n",
              "\n",
              "      .colab-df-generate:hover {\n",
              "        background-color: #E2EBFA;\n",
              "        box-shadow: 0px 1px 2px rgba(60, 64, 67, 0.3), 0px 1px 3px 1px rgba(60, 64, 67, 0.15);\n",
              "        fill: #174EA6;\n",
              "      }\n",
              "\n",
              "      [theme=dark] .colab-df-generate {\n",
              "        background-color: #3B4455;\n",
              "        fill: #D2E3FC;\n",
              "      }\n",
              "\n",
              "      [theme=dark] .colab-df-generate:hover {\n",
              "        background-color: #434B5C;\n",
              "        box-shadow: 0px 1px 3px 1px rgba(0, 0, 0, 0.15);\n",
              "        filter: drop-shadow(0px 1px 2px rgba(0, 0, 0, 0.3));\n",
              "        fill: #FFFFFF;\n",
              "      }\n",
              "    </style>\n",
              "    <button class=\"colab-df-generate\" onclick=\"generateWithVariable('temp')\"\n",
              "            title=\"Generate code using this dataframe.\"\n",
              "            style=\"display:none;\">\n",
              "\n",
              "  <svg xmlns=\"http://www.w3.org/2000/svg\" height=\"24px\"viewBox=\"0 0 24 24\"\n",
              "       width=\"24px\">\n",
              "    <path d=\"M7,19H8.4L18.45,9,17,7.55,7,17.6ZM5,21V16.75L18.45,3.32a2,2,0,0,1,2.83,0l1.4,1.43a1.91,1.91,0,0,1,.58,1.4,1.91,1.91,0,0,1-.58,1.4L9.25,21ZM18.45,9,17,7.55Zm-12,3A5.31,5.31,0,0,0,4.9,8.1,5.31,5.31,0,0,0,1,6.5,5.31,5.31,0,0,0,4.9,4.9,5.31,5.31,0,0,0,6.5,1,5.31,5.31,0,0,0,8.1,4.9,5.31,5.31,0,0,0,12,6.5,5.46,5.46,0,0,0,6.5,12Z\"/>\n",
              "  </svg>\n",
              "    </button>\n",
              "    <script>\n",
              "      (() => {\n",
              "      const buttonEl =\n",
              "        document.querySelector('#id_c7e76560-603d-4e9b-acd9-648d9f3e2ee5 button.colab-df-generate');\n",
              "      buttonEl.style.display =\n",
              "        google.colab.kernel.accessAllowed ? 'block' : 'none';\n",
              "\n",
              "      buttonEl.onclick = () => {\n",
              "        google.colab.notebook.generateWithVariable('temp');\n",
              "      }\n",
              "      })();\n",
              "    </script>\n",
              "  </div>\n",
              "\n",
              "    </div>\n",
              "  </div>\n"
            ],
            "application/vnd.google.colaboratory.intrinsic+json": {
              "type": "dataframe",
              "variable_name": "temp",
              "summary": "{\n  \"name\": \"temp\",\n  \"rows\": 497,\n  \"fields\": [\n    {\n      \"column\": \"index\",\n      \"properties\": {\n        \"dtype\": \"number\",\n        \"std\": 143,\n        \"min\": 0,\n        \"max\": 496,\n        \"num_unique_values\": 497,\n        \"samples\": [\n          483,\n          73,\n          231\n        ],\n        \"semantic_type\": \"\",\n        \"description\": \"\"\n      }\n    },\n    {\n      \"column\": \"y_pred\",\n      \"properties\": {\n        \"dtype\": \"number\",\n        \"std\": 0.2522460748769537,\n        \"min\": 0.1075238606106898,\n        \"max\": 0.9422358779481628,\n        \"num_unique_values\": 384,\n        \"samples\": [\n          0.2747873081126012,\n          0.2074427803324033,\n          0.3576779189852117\n        ],\n        \"semantic_type\": \"\",\n        \"description\": \"\"\n      }\n    }\n  ]\n}"
            }
          },
          "metadata": {},
          "execution_count": 81
        }
      ]
    },
    {
      "cell_type": "code",
      "source": [
        "# csv 파일2 확인\n"
      ],
      "metadata": {
        "id": "zWqTvd9OWmxw"
      },
      "execution_count": 82,
      "outputs": []
    },
    {
      "cell_type": "markdown",
      "source": [
        "## 체점\n",
        "- 수험자는 알 수 없는 부분임"
      ],
      "metadata": {
        "id": "9-zAKxt2uzFa"
      }
    },
    {
      "cell_type": "code",
      "source": [
        "y_test = pd.read_csv(\"y_test.csv\")\n",
        "roc_auc_score(y_test, pred[:, 1])"
      ],
      "metadata": {
        "id": "ofAnKoNVu0At",
        "outputId": "95ee576f-c2eb-4f94-b384-71407a7c57a6",
        "colab": {
          "base_uri": "https://localhost:8080/"
        }
      },
      "execution_count": 69,
      "outputs": [
        {
          "output_type": "execute_result",
          "data": {
            "text/plain": [
              "0.7875346500346501"
            ]
          },
          "metadata": {},
          "execution_count": 69
        }
      ]
    },
    {
      "cell_type": "code",
      "source": [
        "# 당신의 score는?: 0.7875693000693"
      ],
      "metadata": {
        "id": "r-L5ToHOvqWX"
      },
      "execution_count": 39,
      "outputs": []
    }
  ]
}