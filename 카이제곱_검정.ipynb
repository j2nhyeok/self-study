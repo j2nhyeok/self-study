{
  "nbformat": 4,
  "nbformat_minor": 0,
  "metadata": {
    "colab": {
      "provenance": [],
      "authorship_tag": "ABX9TyPBu1xiwANAAuvqSptM6yHt",
      "include_colab_link": true
    },
    "kernelspec": {
      "name": "python3",
      "display_name": "Python 3"
    },
    "language_info": {
      "name": "python"
    }
  },
  "cells": [
    {
      "cell_type": "markdown",
      "metadata": {
        "id": "view-in-github",
        "colab_type": "text"
      },
      "source": [
        "<a href=\"https://colab.research.google.com/github/j2nhyeok/self-study/blob/main/%EC%B9%B4%EC%9D%B4%EC%A0%9C%EA%B3%B1_%EA%B2%80%EC%A0%95.ipynb\" target=\"_parent\"><img src=\"https://colab.research.google.com/assets/colab-badge.svg\" alt=\"Open In Colab\"/></a>"
      ]
    },
    {
      "cell_type": "code",
      "source": [
        "pip install scipy"
      ],
      "metadata": {
        "colab": {
          "base_uri": "https://localhost:8080/"
        },
        "id": "pCBMPzu6zDiY",
        "outputId": "25211646-e221-41ef-8515-41777b636008"
      },
      "execution_count": null,
      "outputs": [
        {
          "output_type": "stream",
          "name": "stdout",
          "text": [
            "Requirement already satisfied: scipy in /usr/local/lib/python3.10/dist-packages (1.11.4)\n",
            "Requirement already satisfied: numpy<1.28.0,>=1.21.6 in /usr/local/lib/python3.10/dist-packages (from scipy) (1.23.5)\n"
          ]
        }
      ]
    },
    {
      "cell_type": "code",
      "source": [
        "import numpy as np\n",
        "from scipy.stats import chisquare\n",
        "\n",
        "# 관찰된 빈도\n",
        "observed_counts = np.array([20, 10, 60])\n",
        "\n",
        "# 기대되는 빈도\n",
        "expected_counts = np.array([30, 30, 30])\n",
        "\n",
        "# 카이제곱 적합도 검정\n",
        "chi2_stat, p_value = chisquare(f_obs=observed_counts, f_exp=expected_counts)\n",
        "\n",
        "# 유의수준 설정\n",
        "alpha = 0.05\n",
        "\n",
        "# 검정 결과 출력\n",
        "print(f\"카이제곱 통계량 : {chi2_stat}\")\n",
        "print(f\"p-값 : {p_value}\")\n",
        "\n",
        "if p_value < alpha :\n",
        "  print(\"귀무가설 기각 : 변수 x의 관측 분포와 기대 분포가 통계적으로 다르다.\")\n",
        "else :\n",
        "  print(\"귀무가설 채택 : 변수 x의 관측 분포와 기대 분포가 통계적으로 같다.\")"
      ],
      "metadata": {
        "colab": {
          "base_uri": "https://localhost:8080/"
        },
        "id": "iu4lDnF8zG2z",
        "outputId": "19636ad5-3252-47d8-9921-3b7f6b8b994f"
      },
      "execution_count": null,
      "outputs": [
        {
          "output_type": "stream",
          "name": "stdout",
          "text": [
            "카이제곱 통계량 : 46.66666666666667\n",
            "p-값 : 7.352958061453824e-11\n",
            "귀무가설 기각 : 변수 x의 관측 분포와 기대 분포가 통계적으로 다르다.\n"
          ]
        }
      ]
    },
    {
      "cell_type": "code",
      "source": [
        "import numpy as np\n",
        "from scipy.stats import chi2_contingency\n",
        "\n",
        "# 주어진 데이터\n",
        "observed = np.array([[44,156], [62, 138]])\n",
        "\n",
        "# 카이제곱 독립성 검정 수행\n",
        "chi2, p_value, dof, expected = chi2_contingency(observed)\n",
        "\n",
        "print(f\"카이제곱 통계량: {chi2}\")\n",
        "print(f\"p_value: {p_value}\")\n",
        "print(f\"dof: {dof}\")\n",
        "print(f\"expected: {expected}\")\n",
        "\n",
        "# 유의수준 설정\n",
        "alpha = 0.05\n",
        "\n",
        "if p_value < alpha :\n",
        "  print(\"귀무가설 기각 : 변수 X와 Y는 서로 독립이 아니다.\")\n",
        "else :\n",
        "  print(\"귀무가설 채택 : 변수 X와 Y는 서로 독립이다.\")"
      ],
      "metadata": {
        "id": "1qzXLytnzjId",
        "colab": {
          "base_uri": "https://localhost:8080/"
        },
        "outputId": "648c61a7-f423-442d-f8a7-cdc5eea91e94"
      },
      "execution_count": null,
      "outputs": [
        {
          "output_type": "stream",
          "name": "stdout",
          "text": [
            "카이제곱 통계량: 3.7094082916185345\n",
            "p_value: 0.05410656868624693\n",
            "dof: 1\n",
            "expected: [[ 53. 147.]\n",
            " [ 53. 147.]]\n",
            "귀무가설 채택 : 변수 X와 Y는 서로 독립이다.\n"
          ]
        }
      ]
    },
    {
      "cell_type": "code",
      "source": [
        "from scipy.stats import chi2_contingency\n",
        "\n",
        "row1 = [44, 156]\n",
        "row2 = [62, 138]\n",
        "\n",
        "chi2, p, dof, expected = chi2_contingency([row1, row2], correction=False)\n",
        "msg = 'Statistic: {}\\np value: {}\\ndof: {}'\n",
        "print(msg.format(chi2, p, dof))\n",
        "print(expected)\n",
        "\n",
        "if p_value < alpha :\n",
        "  print(\"귀무가설 기각 : 각 그룹의 확률분포가 동일하지 않다. (남자와 여자 그룹 간의 흡연 여부 분포가 동일하지 않다.)\")\n",
        "else :\n",
        "  print(\"귀무가설 채택 : 각 그룹의 확률분포가 동일하다. (남자와 여자 그룹 간의 흡연 여부 분포가 동일하다.）\")"
      ],
      "metadata": {
        "colab": {
          "base_uri": "https://localhost:8080/"
        },
        "id": "l6dtyxJWlsin",
        "outputId": "8dd60734-13c5-4a54-e2fa-15b2070f0e77"
      },
      "execution_count": null,
      "outputs": [
        {
          "output_type": "stream",
          "name": "stdout",
          "text": [
            "Statistic: 4.158644589911436\n",
            "p value: 0.04142253879330136\n",
            "dof: 1\n",
            "[[ 53. 147.]\n",
            " [ 53. 147.]]\n",
            "귀무가설 채택 : 각 그룹의 확률분포가 동일하다. (남자와 여자 그룹 간의 흡연 여부 분포가 동일하다.）\n"
          ]
        }
      ]
    },
    {
      "cell_type": "markdown",
      "source": [],
      "metadata": {
        "id": "dQPF-65llvTT"
      }
    },
    {
      "cell_type": "code",
      "source": [],
      "metadata": {
        "id": "8h2rCQxnjDlO"
      },
      "execution_count": null,
      "outputs": []
    }
  ]
}