{
  "nbformat": 4,
  "nbformat_minor": 0,
  "metadata": {
    "colab": {
      "provenance": []
    },
    "kernelspec": {
      "name": "python3",
      "display_name": "Python 3"
    },
    "language_info": {
      "name": "python"
    }
  },
  "cells": [
    {
      "cell_type": "markdown",
      "source": [
        "## Google Drive 연동"
      ],
      "metadata": {
        "id": "_SQdsOoEpHuw"
      }
    },
    {
      "cell_type": "code",
      "execution_count": null,
      "metadata": {
        "colab": {
          "base_uri": "https://localhost:8080/"
        },
        "id": "rGjr66RepFgV",
        "outputId": "54f08e21-9ea8-4acb-8ff7-ac449caa312f"
      },
      "outputs": [
        {
          "output_type": "stream",
          "name": "stdout",
          "text": [
            "Drive already mounted at /content/drive; to attempt to forcibly remount, call drive.mount(\"/content/drive\", force_remount=True).\n"
          ]
        }
      ],
      "source": [
        "from google.colab import drive\n",
        "drive.mount(\"/content/drive\")"
      ]
    },
    {
      "cell_type": "markdown",
      "source": [
        "## Spark 설치"
      ],
      "metadata": {
        "id": "NWmov29tpc_5"
      }
    },
    {
      "cell_type": "code",
      "source": [
        "!apt-get install openjdk-8-jdk-headless\n",
        "!wget -q https://dlcdn.apache.org/spark/spark-3.5.1/spark-3.5.1-bin-hadoop3.tgz\n",
        "!tar -zxf spark-3.5.1-bin-hadoop3.tgz\n",
        "\n",
        "import os\n",
        "import findspark\n",
        "import pyspark\n",
        "\n",
        "os.environ[\"JAVA_HOME\"] = \"/usr/lib/jvm/java-8-openjdk-amd64\"\n",
        "os.environ[\"SPARK_HOME\"] = \"/content/spark-3.5.1-bin-hadoop3\"\n",
        "\n",
        "!pip install findspark -q\n",
        "\n",
        "findspark.init()\n",
        "\n",
        "spark_version = pyspark.__version__\n",
        "print(\"Apache Spark 버전 확인: \" + spark_version)"
      ],
      "metadata": {
        "id": "KGbAwhqxgz6K"
      },
      "execution_count": null,
      "outputs": []
    },
    {
      "cell_type": "markdown",
      "source": [
        "## Spark\n",
        "- RDD : 다수의 서버에 분산 방식으로 저장함"
      ],
      "metadata": {
        "id": "Mi9EDDMssvin"
      }
    },
    {
      "cell_type": "code",
      "source": [
        "from pyspark.sql import SparkSession\n",
        "\n",
        "# Spark 세션 활성화\n",
        "my_spark = SparkSession.builder.getOrCreate()\n",
        "my_spark"
      ],
      "metadata": {
        "colab": {
          "base_uri": "https://localhost:8080/",
          "height": 222
        },
        "id": "DdMVLeS6s4zY",
        "outputId": "e3ed30fd-d4c4-468a-9848-59c68d8922c8"
      },
      "execution_count": null,
      "outputs": [
        {
          "output_type": "execute_result",
          "data": {
            "text/plain": [
              "<pyspark.sql.session.SparkSession at 0x7af7e0724e20>"
            ],
            "text/html": [
              "\n",
              "            <div>\n",
              "                <p><b>SparkSession - in-memory</b></p>\n",
              "                \n",
              "        <div>\n",
              "            <p><b>SparkContext</b></p>\n",
              "\n",
              "            <p><a href=\"http://1b5a1f42241a:4040\">Spark UI</a></p>\n",
              "\n",
              "            <dl>\n",
              "              <dt>Version</dt>\n",
              "                <dd><code>v3.5.1</code></dd>\n",
              "              <dt>Master</dt>\n",
              "                <dd><code>local[1]</code></dd>\n",
              "              <dt>AppName</dt>\n",
              "                <dd><code>SampleTutorial</code></dd>\n",
              "            </dl>\n",
              "        </div>\n",
              "        \n",
              "            </div>\n",
              "        "
            ]
          },
          "metadata": {},
          "execution_count": 17
        }
      ]
    },
    {
      "cell_type": "markdown",
      "source": [
        "- 데이터베이스 확인"
      ],
      "metadata": {
        "id": "03sHwPLttzIe"
      }
    },
    {
      "cell_type": "code",
      "source": [
        "my_spark.catalog.listDatabases()"
      ],
      "metadata": {
        "colab": {
          "base_uri": "https://localhost:8080/"
        },
        "id": "GTfIz9t6t_Wm",
        "outputId": "d41db3e9-d99a-4757-8a34-e788293bcba7"
      },
      "execution_count": null,
      "outputs": [
        {
          "output_type": "execute_result",
          "data": {
            "text/plain": [
              "[Database(name='default', catalog='spark_catalog', description='default database', locationUri='file:/content/spark-warehouse')]"
            ]
          },
          "metadata": {},
          "execution_count": 9
        }
      ]
    },
    {
      "cell_type": "markdown",
      "source": [
        "- Spark SQL 쿼리 실행 (Database 보여주기)"
      ],
      "metadata": {
        "id": "qdOmIG1auan9"
      }
    },
    {
      "cell_type": "code",
      "source": [
        "my_spark.sql('show databases').show()"
      ],
      "metadata": {
        "colab": {
          "base_uri": "https://localhost:8080/"
        },
        "id": "TYGXifeMuf5q",
        "outputId": "3f19dfdd-8618-41f9-a23e-c4635657e37d"
      },
      "execution_count": null,
      "outputs": [
        {
          "output_type": "stream",
          "name": "stdout",
          "text": [
            "+---------+\n",
            "|namespace|\n",
            "+---------+\n",
            "|  default|\n",
            "+---------+\n",
            "\n"
          ]
        }
      ]
    },
    {
      "cell_type": "code",
      "source": [
        "my_spark.catalog.currentDatabase()"
      ],
      "metadata": {
        "colab": {
          "base_uri": "https://localhost:8080/",
          "height": 35
        },
        "id": "w1LFKL21u7V5",
        "outputId": "37e233ff-5aeb-4f30-8a63-bcbb9f448221"
      },
      "execution_count": null,
      "outputs": [
        {
          "output_type": "execute_result",
          "data": {
            "text/plain": [
              "'default'"
            ],
            "application/vnd.google.colaboratory.intrinsic+json": {
              "type": "string"
            }
          },
          "metadata": {},
          "execution_count": 12
        }
      ]
    },
    {
      "cell_type": "code",
      "source": [
        "# 기존 Spark 세션 종료\n",
        "my_spark.stop()"
      ],
      "metadata": {
        "id": "KqN4IoSOvegk"
      },
      "execution_count": null,
      "outputs": []
    },
    {
      "cell_type": "code",
      "source": [
        "# 새로운 Spark 세션 시작\n",
        "my_spark = SparkSession.builder.master(\"local[1]\").appName(\"SampleTutorial\").getOrCreate()\n",
        "rdd_sample = my_spark.sparkContext.parallelize([1, 2, 3, 4, 5])\n",
        "print(type(rdd_sample))"
      ],
      "metadata": {
        "colab": {
          "base_uri": "https://localhost:8080/"
        },
        "id": "6_6ejEn6vQWY",
        "outputId": "b6316a7e-e8e4-4dc6-d2c1-619125d375ca"
      },
      "execution_count": null,
      "outputs": [
        {
          "output_type": "stream",
          "name": "stdout",
          "text": [
            "<class 'pyspark.rdd.RDD'>\n"
          ]
        }
      ]
    },
    {
      "cell_type": "code",
      "source": [
        "rdd_sample.take(num=2)"
      ],
      "metadata": {
        "colab": {
          "base_uri": "https://localhost:8080/"
        },
        "id": "nYwtLEBawq71",
        "outputId": "f840e1c9-30c4-4ac0-b5d3-7cbbb36c3044"
      },
      "execution_count": null,
      "outputs": [
        {
          "output_type": "execute_result",
          "data": {
            "text/plain": [
              "[1, 2]"
            ]
          },
          "metadata": {},
          "execution_count": 22
        }
      ]
    },
    {
      "cell_type": "markdown",
      "source": [
        "## CSV 파일 불러오기"
      ],
      "metadata": {
        "id": "NcIhGLyF04Aq"
      }
    },
    {
      "cell_type": "code",
      "source": [
        "DATA_PATH = '/content/drive/MyDrive/Colab Notebooks/data/flight_small.csv'\n",
        "flights = my_spark.read.option('header', 'true').csv(DATA_PATH)\n",
        "flights.show(2)"
      ],
      "metadata": {
        "colab": {
          "base_uri": "https://localhost:8080/"
        },
        "id": "FerWUNnn05e-",
        "outputId": "0de770a0-8d53-40ba-9e81-ad8a36a5b97c"
      },
      "execution_count": null,
      "outputs": [
        {
          "output_type": "stream",
          "name": "stdout",
          "text": [
            "+----+-----+---+--------+---------+--------+---------+-------+-------+------+------+----+--------+--------+----+------+\n",
            "|year|month|day|dep_time|dep_delay|arr_time|arr_delay|carrier|tailnum|flight|origin|dest|air_time|distance|hour|minute|\n",
            "+----+-----+---+--------+---------+--------+---------+-------+-------+------+------+----+--------+--------+----+------+\n",
            "|2014|   12|  8|     658|       -7|     935|       -5|     VX| N846VA|  1780|   SEA| LAX|     132|     954|   6|    58|\n",
            "|2014|    1| 22|    1040|        5|    1505|        5|     AS| N559AS|   851|   SEA| HNL|     360|    2677|  10|    40|\n",
            "+----+-----+---+--------+---------+--------+---------+-------+-------+------+------+----+--------+--------+----+------+\n",
            "only showing top 2 rows\n",
            "\n"
          ]
        }
      ]
    },
    {
      "cell_type": "markdown",
      "source": [
        "- flights 데이터프레임을 default 데이터베이스에 추가"
      ],
      "metadata": {
        "id": "qlWTSpDa2bLB"
      }
    },
    {
      "cell_type": "code",
      "source": [
        "flights.createOrReplaceTempView('flights')"
      ],
      "metadata": {
        "id": "Jbte7zE-2qFP"
      },
      "execution_count": null,
      "outputs": []
    },
    {
      "cell_type": "markdown",
      "source": [
        "- default 데이터베이스에 데이터가 추가가 되었는지 확인"
      ],
      "metadata": {
        "id": "LhMtYhdU2wIf"
      }
    },
    {
      "cell_type": "code",
      "source": [
        "my_spark.catalog.listTables('default')"
      ],
      "metadata": {
        "colab": {
          "base_uri": "https://localhost:8080/"
        },
        "id": "K-FQ3_rc2vJg",
        "outputId": "ae883b64-39b5-4daf-9c32-e08421de346e"
      },
      "execution_count": null,
      "outputs": [
        {
          "output_type": "execute_result",
          "data": {
            "text/plain": [
              "[Table(name='flights', catalog=None, namespace=[], description=None, tableType='TEMPORARY', isTemporary=True),\n",
              " Table(name='temp', catalog=None, namespace=[], description=None, tableType='TEMPORARY', isTemporary=True)]"
            ]
          },
          "metadata": {},
          "execution_count": 48
        }
      ]
    },
    {
      "cell_type": "markdown",
      "source": [
        "- 데이터 조회할 때, SQL을 통해서 조회가 가능하다.\n"
      ],
      "metadata": {
        "id": "1xowqR-K299H"
      }
    },
    {
      "cell_type": "code",
      "source": [
        "my_spark.sql('SHOW TABLES FROM default').show()"
      ],
      "metadata": {
        "colab": {
          "base_uri": "https://localhost:8080/"
        },
        "id": "jmWHR9PD3U5i",
        "outputId": "d2ab7ca4-6ceb-4b00-ecc6-cdaf0d929ccb"
      },
      "execution_count": null,
      "outputs": [
        {
          "output_type": "stream",
          "name": "stdout",
          "text": [
            "+---------+---------+-----------+\n",
            "|namespace|tableName|isTemporary|\n",
            "+---------+---------+-----------+\n",
            "|         |  flights|       true|\n",
            "|         |     temp|       true|\n",
            "+---------+---------+-----------+\n",
            "\n"
          ]
        }
      ]
    },
    {
      "cell_type": "code",
      "source": [
        "query = 'SELECT * FROM flights LIMIT 10'\n",
        "# my_spark.sql(query).show()\n",
        "\n",
        "flights10 = my_spark.sql(query)\n",
        "flights10.show()"
      ],
      "metadata": {
        "colab": {
          "base_uri": "https://localhost:8080/"
        },
        "id": "T26YbvNU3eiM",
        "outputId": "affac312-5fed-445c-c628-8605e456054c"
      },
      "execution_count": 18,
      "outputs": [
        {
          "output_type": "stream",
          "name": "stdout",
          "text": [
            "+----+-----+---+--------+---------+--------+---------+-------+-------+------+------+----+--------+--------+----+------+\n",
            "|year|month|day|dep_time|dep_delay|arr_time|arr_delay|carrier|tailnum|flight|origin|dest|air_time|distance|hour|minute|\n",
            "+----+-----+---+--------+---------+--------+---------+-------+-------+------+------+----+--------+--------+----+------+\n",
            "|2014|   12|  8|     658|       -7|     935|       -5|     VX| N846VA|  1780|   SEA| LAX|     132|     954|   6|    58|\n",
            "|2014|    1| 22|    1040|        5|    1505|        5|     AS| N559AS|   851|   SEA| HNL|     360|    2677|  10|    40|\n",
            "|2014|    3|  9|    1443|       -2|    1652|        2|     VX| N847VA|   755|   SEA| SFO|     111|     679|  14|    43|\n",
            "|2014|    4|  9|    1705|       45|    1839|       34|     WN| N360SW|   344|   PDX| SJC|      83|     569|  17|     5|\n",
            "|2014|    3|  9|     754|       -1|    1015|        1|     AS| N612AS|   522|   SEA| BUR|     127|     937|   7|    54|\n",
            "|2014|    1| 15|    1037|        7|    1352|        2|     WN| N646SW|    48|   PDX| DEN|     121|     991|  10|    37|\n",
            "|2014|    7|  2|     847|       42|    1041|       51|     WN| N422WN|  1520|   PDX| OAK|      90|     543|   8|    47|\n",
            "|2014|    5| 12|    1655|       -5|    1842|      -18|     VX| N361VA|   755|   SEA| SFO|      98|     679|  16|    55|\n",
            "|2014|    4| 19|    1236|       -4|    1508|       -7|     AS| N309AS|   490|   SEA| SAN|     135|    1050|  12|    36|\n",
            "|2014|   11| 19|    1812|       -3|    2352|       -4|     AS| N564AS|    26|   SEA| ORD|     198|    1721|  18|    12|\n",
            "+----+-----+---+--------+---------+--------+---------+-------+-------+------+------+----+--------+--------+----+------+\n",
            "\n"
          ]
        }
      ]
    },
    {
      "cell_type": "markdown",
      "source": [
        "- origin, dest GroupBy 연산 데이터갯수 확인\n",
        "- pandas 데이터프레임으로 변환 (메서드 찾아보기)\n",
        "- (~10:25)"
      ],
      "metadata": {
        "id": "QfP-fpfY4cz2"
      }
    },
    {
      "cell_type": "code",
      "source": [
        "query = \"\"\"\n",
        "  SELECT origin, dest, COUNT(*) AS CNT\n",
        "  FROM flights\n",
        "  GROUP BY origin, dest\n",
        "\"\"\"\n",
        "\n",
        "result_spark = my_spark.sql(query)\n",
        "# result.show()\n",
        "\n",
        "# pandas 데이터프레임으로 변환\n",
        "result_pd = result_spark.toPandas()\n",
        "result_pd.head()"
      ],
      "metadata": {
        "colab": {
          "base_uri": "https://localhost:8080/",
          "height": 206
        },
        "id": "svM-61oy4xjf",
        "outputId": "58148205-beb8-4bc2-d3d9-5f7ba2ae6f19"
      },
      "execution_count": 19,
      "outputs": [
        {
          "output_type": "execute_result",
          "data": {
            "text/plain": [
              "  origin dest  CNT\n",
              "0    SEA  RNO    8\n",
              "1    SEA  DTW   98\n",
              "2    SEA  CLE    2\n",
              "3    SEA  LAX  450\n",
              "4    PDX  SEA  144"
            ],
            "text/html": [
              "\n",
              "  <div id=\"df-d1f2825e-98d1-49a6-9639-d407c5b77322\" class=\"colab-df-container\">\n",
              "    <div>\n",
              "<style scoped>\n",
              "    .dataframe tbody tr th:only-of-type {\n",
              "        vertical-align: middle;\n",
              "    }\n",
              "\n",
              "    .dataframe tbody tr th {\n",
              "        vertical-align: top;\n",
              "    }\n",
              "\n",
              "    .dataframe thead th {\n",
              "        text-align: right;\n",
              "    }\n",
              "</style>\n",
              "<table border=\"1\" class=\"dataframe\">\n",
              "  <thead>\n",
              "    <tr style=\"text-align: right;\">\n",
              "      <th></th>\n",
              "      <th>origin</th>\n",
              "      <th>dest</th>\n",
              "      <th>CNT</th>\n",
              "    </tr>\n",
              "  </thead>\n",
              "  <tbody>\n",
              "    <tr>\n",
              "      <th>0</th>\n",
              "      <td>SEA</td>\n",
              "      <td>RNO</td>\n",
              "      <td>8</td>\n",
              "    </tr>\n",
              "    <tr>\n",
              "      <th>1</th>\n",
              "      <td>SEA</td>\n",
              "      <td>DTW</td>\n",
              "      <td>98</td>\n",
              "    </tr>\n",
              "    <tr>\n",
              "      <th>2</th>\n",
              "      <td>SEA</td>\n",
              "      <td>CLE</td>\n",
              "      <td>2</td>\n",
              "    </tr>\n",
              "    <tr>\n",
              "      <th>3</th>\n",
              "      <td>SEA</td>\n",
              "      <td>LAX</td>\n",
              "      <td>450</td>\n",
              "    </tr>\n",
              "    <tr>\n",
              "      <th>4</th>\n",
              "      <td>PDX</td>\n",
              "      <td>SEA</td>\n",
              "      <td>144</td>\n",
              "    </tr>\n",
              "  </tbody>\n",
              "</table>\n",
              "</div>\n",
              "    <div class=\"colab-df-buttons\">\n",
              "\n",
              "  <div class=\"colab-df-container\">\n",
              "    <button class=\"colab-df-convert\" onclick=\"convertToInteractive('df-d1f2825e-98d1-49a6-9639-d407c5b77322')\"\n",
              "            title=\"Convert this dataframe to an interactive table.\"\n",
              "            style=\"display:none;\">\n",
              "\n",
              "  <svg xmlns=\"http://www.w3.org/2000/svg\" height=\"24px\" viewBox=\"0 -960 960 960\">\n",
              "    <path d=\"M120-120v-720h720v720H120Zm60-500h600v-160H180v160Zm220 220h160v-160H400v160Zm0 220h160v-160H400v160ZM180-400h160v-160H180v160Zm440 0h160v-160H620v160ZM180-180h160v-160H180v160Zm440 0h160v-160H620v160Z\"/>\n",
              "  </svg>\n",
              "    </button>\n",
              "\n",
              "  <style>\n",
              "    .colab-df-container {\n",
              "      display:flex;\n",
              "      gap: 12px;\n",
              "    }\n",
              "\n",
              "    .colab-df-convert {\n",
              "      background-color: #E8F0FE;\n",
              "      border: none;\n",
              "      border-radius: 50%;\n",
              "      cursor: pointer;\n",
              "      display: none;\n",
              "      fill: #1967D2;\n",
              "      height: 32px;\n",
              "      padding: 0 0 0 0;\n",
              "      width: 32px;\n",
              "    }\n",
              "\n",
              "    .colab-df-convert:hover {\n",
              "      background-color: #E2EBFA;\n",
              "      box-shadow: 0px 1px 2px rgba(60, 64, 67, 0.3), 0px 1px 3px 1px rgba(60, 64, 67, 0.15);\n",
              "      fill: #174EA6;\n",
              "    }\n",
              "\n",
              "    .colab-df-buttons div {\n",
              "      margin-bottom: 4px;\n",
              "    }\n",
              "\n",
              "    [theme=dark] .colab-df-convert {\n",
              "      background-color: #3B4455;\n",
              "      fill: #D2E3FC;\n",
              "    }\n",
              "\n",
              "    [theme=dark] .colab-df-convert:hover {\n",
              "      background-color: #434B5C;\n",
              "      box-shadow: 0px 1px 3px 1px rgba(0, 0, 0, 0.15);\n",
              "      filter: drop-shadow(0px 1px 2px rgba(0, 0, 0, 0.3));\n",
              "      fill: #FFFFFF;\n",
              "    }\n",
              "  </style>\n",
              "\n",
              "    <script>\n",
              "      const buttonEl =\n",
              "        document.querySelector('#df-d1f2825e-98d1-49a6-9639-d407c5b77322 button.colab-df-convert');\n",
              "      buttonEl.style.display =\n",
              "        google.colab.kernel.accessAllowed ? 'block' : 'none';\n",
              "\n",
              "      async function convertToInteractive(key) {\n",
              "        const element = document.querySelector('#df-d1f2825e-98d1-49a6-9639-d407c5b77322');\n",
              "        const dataTable =\n",
              "          await google.colab.kernel.invokeFunction('convertToInteractive',\n",
              "                                                    [key], {});\n",
              "        if (!dataTable) return;\n",
              "\n",
              "        const docLinkHtml = 'Like what you see? Visit the ' +\n",
              "          '<a target=\"_blank\" href=https://colab.research.google.com/notebooks/data_table.ipynb>data table notebook</a>'\n",
              "          + ' to learn more about interactive tables.';\n",
              "        element.innerHTML = '';\n",
              "        dataTable['output_type'] = 'display_data';\n",
              "        await google.colab.output.renderOutput(dataTable, element);\n",
              "        const docLink = document.createElement('div');\n",
              "        docLink.innerHTML = docLinkHtml;\n",
              "        element.appendChild(docLink);\n",
              "      }\n",
              "    </script>\n",
              "  </div>\n",
              "\n",
              "\n",
              "<div id=\"df-a1677878-324d-40af-b978-80be0e8bf8ef\">\n",
              "  <button class=\"colab-df-quickchart\" onclick=\"quickchart('df-a1677878-324d-40af-b978-80be0e8bf8ef')\"\n",
              "            title=\"Suggest charts\"\n",
              "            style=\"display:none;\">\n",
              "\n",
              "<svg xmlns=\"http://www.w3.org/2000/svg\" height=\"24px\"viewBox=\"0 0 24 24\"\n",
              "     width=\"24px\">\n",
              "    <g>\n",
              "        <path d=\"M19 3H5c-1.1 0-2 .9-2 2v14c0 1.1.9 2 2 2h14c1.1 0 2-.9 2-2V5c0-1.1-.9-2-2-2zM9 17H7v-7h2v7zm4 0h-2V7h2v10zm4 0h-2v-4h2v4z\"/>\n",
              "    </g>\n",
              "</svg>\n",
              "  </button>\n",
              "\n",
              "<style>\n",
              "  .colab-df-quickchart {\n",
              "      --bg-color: #E8F0FE;\n",
              "      --fill-color: #1967D2;\n",
              "      --hover-bg-color: #E2EBFA;\n",
              "      --hover-fill-color: #174EA6;\n",
              "      --disabled-fill-color: #AAA;\n",
              "      --disabled-bg-color: #DDD;\n",
              "  }\n",
              "\n",
              "  [theme=dark] .colab-df-quickchart {\n",
              "      --bg-color: #3B4455;\n",
              "      --fill-color: #D2E3FC;\n",
              "      --hover-bg-color: #434B5C;\n",
              "      --hover-fill-color: #FFFFFF;\n",
              "      --disabled-bg-color: #3B4455;\n",
              "      --disabled-fill-color: #666;\n",
              "  }\n",
              "\n",
              "  .colab-df-quickchart {\n",
              "    background-color: var(--bg-color);\n",
              "    border: none;\n",
              "    border-radius: 50%;\n",
              "    cursor: pointer;\n",
              "    display: none;\n",
              "    fill: var(--fill-color);\n",
              "    height: 32px;\n",
              "    padding: 0;\n",
              "    width: 32px;\n",
              "  }\n",
              "\n",
              "  .colab-df-quickchart:hover {\n",
              "    background-color: var(--hover-bg-color);\n",
              "    box-shadow: 0 1px 2px rgba(60, 64, 67, 0.3), 0 1px 3px 1px rgba(60, 64, 67, 0.15);\n",
              "    fill: var(--button-hover-fill-color);\n",
              "  }\n",
              "\n",
              "  .colab-df-quickchart-complete:disabled,\n",
              "  .colab-df-quickchart-complete:disabled:hover {\n",
              "    background-color: var(--disabled-bg-color);\n",
              "    fill: var(--disabled-fill-color);\n",
              "    box-shadow: none;\n",
              "  }\n",
              "\n",
              "  .colab-df-spinner {\n",
              "    border: 2px solid var(--fill-color);\n",
              "    border-color: transparent;\n",
              "    border-bottom-color: var(--fill-color);\n",
              "    animation:\n",
              "      spin 1s steps(1) infinite;\n",
              "  }\n",
              "\n",
              "  @keyframes spin {\n",
              "    0% {\n",
              "      border-color: transparent;\n",
              "      border-bottom-color: var(--fill-color);\n",
              "      border-left-color: var(--fill-color);\n",
              "    }\n",
              "    20% {\n",
              "      border-color: transparent;\n",
              "      border-left-color: var(--fill-color);\n",
              "      border-top-color: var(--fill-color);\n",
              "    }\n",
              "    30% {\n",
              "      border-color: transparent;\n",
              "      border-left-color: var(--fill-color);\n",
              "      border-top-color: var(--fill-color);\n",
              "      border-right-color: var(--fill-color);\n",
              "    }\n",
              "    40% {\n",
              "      border-color: transparent;\n",
              "      border-right-color: var(--fill-color);\n",
              "      border-top-color: var(--fill-color);\n",
              "    }\n",
              "    60% {\n",
              "      border-color: transparent;\n",
              "      border-right-color: var(--fill-color);\n",
              "    }\n",
              "    80% {\n",
              "      border-color: transparent;\n",
              "      border-right-color: var(--fill-color);\n",
              "      border-bottom-color: var(--fill-color);\n",
              "    }\n",
              "    90% {\n",
              "      border-color: transparent;\n",
              "      border-bottom-color: var(--fill-color);\n",
              "    }\n",
              "  }\n",
              "</style>\n",
              "\n",
              "  <script>\n",
              "    async function quickchart(key) {\n",
              "      const quickchartButtonEl =\n",
              "        document.querySelector('#' + key + ' button');\n",
              "      quickchartButtonEl.disabled = true;  // To prevent multiple clicks.\n",
              "      quickchartButtonEl.classList.add('colab-df-spinner');\n",
              "      try {\n",
              "        const charts = await google.colab.kernel.invokeFunction(\n",
              "            'suggestCharts', [key], {});\n",
              "      } catch (error) {\n",
              "        console.error('Error during call to suggestCharts:', error);\n",
              "      }\n",
              "      quickchartButtonEl.classList.remove('colab-df-spinner');\n",
              "      quickchartButtonEl.classList.add('colab-df-quickchart-complete');\n",
              "    }\n",
              "    (() => {\n",
              "      let quickchartButtonEl =\n",
              "        document.querySelector('#df-a1677878-324d-40af-b978-80be0e8bf8ef button');\n",
              "      quickchartButtonEl.style.display =\n",
              "        google.colab.kernel.accessAllowed ? 'block' : 'none';\n",
              "    })();\n",
              "  </script>\n",
              "</div>\n",
              "\n",
              "    </div>\n",
              "  </div>\n"
            ],
            "application/vnd.google.colaboratory.intrinsic+json": {
              "type": "dataframe",
              "variable_name": "result_pd",
              "summary": "{\n  \"name\": \"result_pd\",\n  \"rows\": 113,\n  \"fields\": [\n    {\n      \"column\": \"origin\",\n      \"properties\": {\n        \"dtype\": \"category\",\n        \"num_unique_values\": 2,\n        \"samples\": [\n          \"PDX\",\n          \"SEA\"\n        ],\n        \"semantic_type\": \"\",\n        \"description\": \"\"\n      }\n    },\n    {\n      \"column\": \"dest\",\n      \"properties\": {\n        \"dtype\": \"string\",\n        \"num_unique_values\": 69,\n        \"samples\": [\n          \"DEN\",\n          \"RNO\"\n        ],\n        \"semantic_type\": \"\",\n        \"description\": \"\"\n      }\n    },\n    {\n      \"column\": \"CNT\",\n      \"properties\": {\n        \"dtype\": \"number\",\n        \"std\": 100,\n        \"min\": 2,\n        \"max\": 482,\n        \"num_unique_values\": 81,\n        \"samples\": [\n          166,\n          8\n        ],\n        \"semantic_type\": \"\",\n        \"description\": \"\"\n      }\n    }\n  ]\n}"
            }
          },
          "metadata": {},
          "execution_count": 19
        }
      ]
    },
    {
      "cell_type": "code",
      "source": [
        "# Pandas 데이터프레임에서 Spark로 변환\n",
        "import pandas as pd\n",
        "import numpy as np\n",
        "\n",
        "# Generate a pandas DataFrame\n",
        "pdf = pd.DataFrame(np.random.rand(100, 3))\n",
        "\n",
        "# Create a Spark DataFrame from a pandas DataFrame using Arrow\n",
        "df = my_spark.createDataFrame(pdf)\n",
        "df.show()"
      ],
      "metadata": {
        "colab": {
          "base_uri": "https://localhost:8080/"
        },
        "id": "crnDUkC869LF",
        "outputId": "45ab0691-10f7-4378-894b-c32607697638"
      },
      "execution_count": 20,
      "outputs": [
        {
          "output_type": "stream",
          "name": "stdout",
          "text": [
            "+--------------------+-------------------+-------------------+\n",
            "|                   0|                  1|                  2|\n",
            "+--------------------+-------------------+-------------------+\n",
            "| 0.27734755961853164| 0.3956112790786591|0.05169411004881819|\n",
            "|  0.3372387974757679| 0.5017772610973991| 0.5476887903185194|\n",
            "|  0.9846146619844656|   0.97052033763838| 0.8104730249627128|\n",
            "|  0.2707138148851289| 0.3698957252856986| 0.3895376386703415|\n",
            "|     0.5057316383234| 0.9975817529549396|0.21861919530041607|\n",
            "|  0.6104085369687174| 0.2099185880684873| 0.5198351939057642|\n",
            "|  0.8978474700673802|0.36523817192570507| 0.5748198919545531|\n",
            "|  0.9202300527236342| 0.6546306869588676| 0.8146743989595295|\n",
            "|  0.0527512456399315| 0.7006347404501069| 0.5475826460323931|\n",
            "|  0.5277527124001207| 0.8561268418961051| 0.7135403132597933|\n",
            "| 0.09976788304717799| 0.5111740448214537| 0.5918618049835165|\n",
            "| 0.04438974367656401| 0.9386347058168836| 0.8480077131000381|\n",
            "|  0.8407083705831392| 0.8688729591996885|0.45963404010819886|\n",
            "|  0.5547516322546607| 0.5720332236566683| 0.3601468677141225|\n",
            "| 0.41205961995919227|  0.322033302428021|0.48301695849898085|\n",
            "| 0.02866651676497456| 0.8272731115847874|0.08322341423852397|\n",
            "|  0.5595475545065843| 0.4890662818603144|0.33845887468992575|\n",
            "|0.020331936247551696| 0.7887957702071628| 0.5068020077849114|\n",
            "|  0.6673309138388798|0.37388209916066184| 0.3093770291123126|\n",
            "|  0.1263121942102634|0.10544857658479678| 0.6487089817373454|\n",
            "+--------------------+-------------------+-------------------+\n",
            "only showing top 20 rows\n",
            "\n"
          ]
        }
      ]
    },
    {
      "cell_type": "code",
      "source": [
        "# my_spark.stop()"
      ],
      "metadata": {
        "id": "Me0k1o1X7qh_"
      },
      "execution_count": 21,
      "outputs": []
    },
    {
      "cell_type": "markdown",
      "source": [
        "## 정리할 시간\n",
        "- 첫번째 : Spark 세션 생성\n",
        "- 두번째 : 임의의 pandas 데이터프레임 생성\n",
        "- 세번째 : Spark 데이터프레임으로 변환\n",
        "- 네번째 : 변환된 데이터프레임을 데이터베이스에 추가\n",
        "- 마지막 : listTables() 확인"
      ],
      "metadata": {
        "id": "kmJjeF8n7l8F"
      }
    },
    {
      "cell_type": "markdown",
      "source": [
        "## Chapter 3장"
      ],
      "metadata": {
        "id": "qXAftyP79QsJ"
      }
    },
    {
      "cell_type": "code",
      "source": [
        "# Databricks notebook source\n",
        "# MAGIC\n",
        "# MAGIC %md\n",
        "# MAGIC # Example 3.7\n",
        "\n",
        "# from pyspark.sql.types import *\n",
        "from pyspark.sql.types import *\n",
        "from pyspark.sql.functions import col, expr, when, concat, lit\n",
        "from pyspark.sql import SparkSession\n",
        "\n",
        "# define schema for our data\n",
        "schema = (StructType([\n",
        "   StructField(\"Id\", IntegerType(), False),\n",
        "   StructField(\"First\", StringType(), False),\n",
        "   StructField(\"Last\", StringType(), False),\n",
        "   StructField(\"Url\", StringType(), False),\n",
        "   StructField(\"Published\", StringType(), False),\n",
        "   StructField(\"Hits\", IntegerType(), False),\n",
        "   StructField(\"Campaigns\", ArrayType(StringType()), False)]))\n",
        "\n",
        "ddl_schema = \"`Id` INT,`First` STRING,`Last` STRING,`Url` STRING,`Published` STRING,`Hits` INT,`Campaigns` ARRAY<STRING>\"\n",
        "\n",
        "# create our data\n",
        "data = [[1, \"Jules\", \"Damji\", \"https://tinyurl.1\", \"1/4/2016\", 4535, [\"twitter\", \"LinkedIn\"]],\n",
        "       [2, \"Brooke\",\"Wenig\",\"https://tinyurl.2\", \"5/5/2018\", 8908, [\"twitter\", \"LinkedIn\"]],\n",
        "       [3, \"Denny\", \"Lee\", \"https://tinyurl.3\",\"6/7/2019\",7659, [\"web\", \"twitter\", \"FB\", \"LinkedIn\"]],\n",
        "       [4, \"Tathagata\", \"Das\",\"https://tinyurl.4\", \"5/12/2018\", 10568, [\"twitter\", \"FB\"]],\n",
        "       [5, \"Matei\",\"Zaharia\", \"https://tinyurl.5\", \"5/14/2014\", 40578, [\"web\", \"twitter\", \"FB\", \"LinkedIn\"]],\n",
        "       [6, \"Reynold\", \"Xin\", \"https://tinyurl.6\", \"3/2/2015\", 25568, [\"twitter\", \"LinkedIn\"]]\n",
        "      ]\n",
        "\n",
        "# create a DataFrame using the schema defined above\n",
        "spark = SparkSession.builder.master(\"local[1]\").appName(\"SampleTutorial\").getOrCreate()\n",
        "\n",
        "blogs_df = spark.createDataFrame(data, ddl_schema)\n",
        "blogs_df.show()"
      ],
      "metadata": {
        "colab": {
          "base_uri": "https://localhost:8080/"
        },
        "id": "6iPGTw7g9So3",
        "outputId": "0b9f5e91-5350-48b0-b11f-b751be26c2bf"
      },
      "execution_count": 22,
      "outputs": [
        {
          "output_type": "stream",
          "name": "stdout",
          "text": [
            "+---+---------+-------+-----------------+---------+-----+--------------------+\n",
            "| Id|    First|   Last|              Url|Published| Hits|           Campaigns|\n",
            "+---+---------+-------+-----------------+---------+-----+--------------------+\n",
            "|  1|    Jules|  Damji|https://tinyurl.1| 1/4/2016| 4535| [twitter, LinkedIn]|\n",
            "|  2|   Brooke|  Wenig|https://tinyurl.2| 5/5/2018| 8908| [twitter, LinkedIn]|\n",
            "|  3|    Denny|    Lee|https://tinyurl.3| 6/7/2019| 7659|[web, twitter, FB...|\n",
            "|  4|Tathagata|    Das|https://tinyurl.4|5/12/2018|10568|       [twitter, FB]|\n",
            "|  5|    Matei|Zaharia|https://tinyurl.5|5/14/2014|40578|[web, twitter, FB...|\n",
            "|  6|  Reynold|    Xin|https://tinyurl.6| 3/2/2015|25568| [twitter, LinkedIn]|\n",
            "+---+---------+-------+-----------------+---------+-----+--------------------+\n",
            "\n"
          ]
        }
      ]
    },
    {
      "cell_type": "code",
      "source": [
        "blogs_df2 = spark.createDataFrame(data, schema)\n",
        "blogs_df2.show()"
      ],
      "metadata": {
        "colab": {
          "base_uri": "https://localhost:8080/"
        },
        "id": "4Ft4MJHf95mJ",
        "outputId": "73192b27-3623-485a-8cab-4feffdaa3d8e"
      },
      "execution_count": 23,
      "outputs": [
        {
          "output_type": "stream",
          "name": "stdout",
          "text": [
            "+---+---------+-------+-----------------+---------+-----+--------------------+\n",
            "| Id|    First|   Last|              Url|Published| Hits|           Campaigns|\n",
            "+---+---------+-------+-----------------+---------+-----+--------------------+\n",
            "|  1|    Jules|  Damji|https://tinyurl.1| 1/4/2016| 4535| [twitter, LinkedIn]|\n",
            "|  2|   Brooke|  Wenig|https://tinyurl.2| 5/5/2018| 8908| [twitter, LinkedIn]|\n",
            "|  3|    Denny|    Lee|https://tinyurl.3| 6/7/2019| 7659|[web, twitter, FB...|\n",
            "|  4|Tathagata|    Das|https://tinyurl.4|5/12/2018|10568|       [twitter, FB]|\n",
            "|  5|    Matei|Zaharia|https://tinyurl.5|5/14/2014|40578|[web, twitter, FB...|\n",
            "|  6|  Reynold|    Xin|https://tinyurl.6| 3/2/2015|25568| [twitter, LinkedIn]|\n",
            "+---+---------+-------+-----------------+---------+-----+--------------------+\n",
            "\n"
          ]
        }
      ]
    },
    {
      "cell_type": "code",
      "source": [
        "blogs_df2.printSchema()"
      ],
      "metadata": {
        "colab": {
          "base_uri": "https://localhost:8080/"
        },
        "id": "dnHTGbAVGpdo",
        "outputId": "45878f50-0489-40fd-a788-5e47eb69797b"
      },
      "execution_count": 24,
      "outputs": [
        {
          "output_type": "stream",
          "name": "stdout",
          "text": [
            "root\n",
            " |-- Id: integer (nullable = false)\n",
            " |-- First: string (nullable = false)\n",
            " |-- Last: string (nullable = false)\n",
            " |-- Url: string (nullable = false)\n",
            " |-- Published: string (nullable = false)\n",
            " |-- Hits: integer (nullable = false)\n",
            " |-- Campaigns: array (nullable = false)\n",
            " |    |-- element: string (containsNull = true)\n",
            "\n"
          ]
        }
      ]
    },
    {
      "cell_type": "code",
      "source": [
        "# Create pd_temp\n",
        "pd_temp = pd.DataFrame(np.random.random(10))\n",
        "\n",
        "# Create spark_temp from pd_temp\n",
        "spark_temp = my_spark.createDataFrame(pd_temp)\n",
        "\n",
        "# Examine the tables in the catalog\n",
        "print(my_spark.catalog.listTables())\n",
        "\n",
        "# Add spark_temp to the catalog\n",
        "spark_temp.createOrReplaceTempView(\"temp\")\n",
        "\n",
        "# Examine the tables in the catalog again\n",
        "print(my_spark.catalog.listTables())"
      ],
      "metadata": {
        "colab": {
          "base_uri": "https://localhost:8080/"
        },
        "id": "NfzAsvXUG8xq",
        "outputId": "78ebea1a-4e5b-418b-d13b-fc156ff3cdca"
      },
      "execution_count": 25,
      "outputs": [
        {
          "output_type": "stream",
          "name": "stdout",
          "text": [
            "[Table(name='flights', catalog=None, namespace=[], description=None, tableType='TEMPORARY', isTemporary=True)]\n",
            "[Table(name='flights', catalog=None, namespace=[], description=None, tableType='TEMPORARY', isTemporary=True), Table(name='temp', catalog=None, namespace=[], description=None, tableType='TEMPORARY', isTemporary=True)]\n"
          ]
        }
      ]
    },
    {
      "cell_type": "code",
      "source": [
        "# default DB에 테이블이 2개 존재\n",
        "# 그 중에서 내가 원하는 테이블 취사 선택하는 예제\n",
        "flights_2 = my_spark.table('flights')\n",
        "flights_2.show()"
      ],
      "metadata": {
        "colab": {
          "base_uri": "https://localhost:8080/"
        },
        "id": "bB44lQMyHcwb",
        "outputId": "26156e6e-0e17-4678-b1d1-65ad23a3552d"
      },
      "execution_count": 26,
      "outputs": [
        {
          "output_type": "stream",
          "name": "stdout",
          "text": [
            "+----+-----+---+--------+---------+--------+---------+-------+-------+------+------+----+--------+--------+----+------+\n",
            "|year|month|day|dep_time|dep_delay|arr_time|arr_delay|carrier|tailnum|flight|origin|dest|air_time|distance|hour|minute|\n",
            "+----+-----+---+--------+---------+--------+---------+-------+-------+------+------+----+--------+--------+----+------+\n",
            "|2014|   12|  8|     658|       -7|     935|       -5|     VX| N846VA|  1780|   SEA| LAX|     132|     954|   6|    58|\n",
            "|2014|    1| 22|    1040|        5|    1505|        5|     AS| N559AS|   851|   SEA| HNL|     360|    2677|  10|    40|\n",
            "|2014|    3|  9|    1443|       -2|    1652|        2|     VX| N847VA|   755|   SEA| SFO|     111|     679|  14|    43|\n",
            "|2014|    4|  9|    1705|       45|    1839|       34|     WN| N360SW|   344|   PDX| SJC|      83|     569|  17|     5|\n",
            "|2014|    3|  9|     754|       -1|    1015|        1|     AS| N612AS|   522|   SEA| BUR|     127|     937|   7|    54|\n",
            "|2014|    1| 15|    1037|        7|    1352|        2|     WN| N646SW|    48|   PDX| DEN|     121|     991|  10|    37|\n",
            "|2014|    7|  2|     847|       42|    1041|       51|     WN| N422WN|  1520|   PDX| OAK|      90|     543|   8|    47|\n",
            "|2014|    5| 12|    1655|       -5|    1842|      -18|     VX| N361VA|   755|   SEA| SFO|      98|     679|  16|    55|\n",
            "|2014|    4| 19|    1236|       -4|    1508|       -7|     AS| N309AS|   490|   SEA| SAN|     135|    1050|  12|    36|\n",
            "|2014|   11| 19|    1812|       -3|    2352|       -4|     AS| N564AS|    26|   SEA| ORD|     198|    1721|  18|    12|\n",
            "|2014|   11|  8|    1653|       -2|    1924|       -1|     AS| N323AS|   448|   SEA| LAX|     130|     954|  16|    53|\n",
            "|2014|    8|  3|    1120|        0|    1415|        2|     AS| N305AS|   656|   SEA| PHX|     154|    1107|  11|    20|\n",
            "|2014|   10| 30|     811|       21|    1038|       29|     AS| N433AS|   608|   SEA| LAS|     127|     867|   8|    11|\n",
            "|2014|   11| 12|    2346|       -4|     217|      -28|     AS| N765AS|   121|   SEA| ANC|     183|    1448|  23|    46|\n",
            "|2014|   10| 31|    1314|       89|    1544|      111|     AS| N713AS|   306|   SEA| SFO|     129|     679|  13|    14|\n",
            "|2014|    1| 29|    2009|        3|    2159|        9|     UA| N27205|  1458|   PDX| SFO|      90|     550|  20|     9|\n",
            "|2014|   12| 17|    2015|       50|    2150|       41|     AS| N626AS|   368|   SEA| SMF|      76|     605|  20|    15|\n",
            "|2014|    8| 11|    1017|       -3|    1613|       -7|     WN| N8634A|   827|   SEA| MDW|     216|    1733|  10|    17|\n",
            "|2014|    1| 13|    2156|       -9|     607|      -15|     AS| N597AS|    24|   SEA| BOS|     290|    2496|  21|    56|\n",
            "|2014|    6|  5|    1733|      -12|    1945|      -10|     OO| N215AG|  3488|   PDX| BUR|     111|     817|  17|    33|\n",
            "+----+-----+---+--------+---------+--------+---------+-------+-------+------+------+----+--------+--------+----+------+\n",
            "only showing top 20 rows\n",
            "\n"
          ]
        }
      ]
    },
    {
      "cell_type": "markdown",
      "source": [
        "## Spark 문법 활용 데이터 가공"
      ],
      "metadata": {
        "id": "5_ZDEWMkH-Go"
      }
    },
    {
      "cell_type": "code",
      "source": [
        "# 데이터 컬럼 추가\n",
        "# result = flights_2.\n",
        "# flights_2['새로운'] = flights_2['air_time'] / 60\n",
        "flights_2 = flights_2.withColumn(\"duration_hrs\", flights_2.air_time/60)\n",
        "flights_2.show(1)"
      ],
      "metadata": {
        "colab": {
          "base_uri": "https://localhost:8080/"
        },
        "id": "KVM_EVaIID_p",
        "outputId": "98dd963b-6796-44ca-f3b3-9adc86369a97"
      },
      "execution_count": 27,
      "outputs": [
        {
          "output_type": "stream",
          "name": "stdout",
          "text": [
            "+----+-----+---+--------+---------+--------+---------+-------+-------+------+------+----+--------+--------+----+------+------------+\n",
            "|year|month|day|dep_time|dep_delay|arr_time|arr_delay|carrier|tailnum|flight|origin|dest|air_time|distance|hour|minute|duration_hrs|\n",
            "+----+-----+---+--------+---------+--------+---------+-------+-------+------+------+----+--------+--------+----+------+------------+\n",
            "|2014|   12|  8|     658|       -7|     935|       -5|     VX| N846VA|  1780|   SEA| LAX|     132|     954|   6|    58|         2.2|\n",
            "+----+-----+---+--------+---------+--------+---------+-------+-------+------+------+----+--------+--------+----+------+------------+\n",
            "only showing top 1 row\n",
            "\n"
          ]
        }
      ]
    },
    {
      "cell_type": "markdown",
      "source": [
        "- 데이터를 필터링하는 코드 작성"
      ],
      "metadata": {
        "id": "6vitW-3HJM6o"
      }
    },
    {
      "cell_type": "code",
      "source": [
        "result = flights_2.filter(\"distance >= 1000\")\n",
        "result.show(1)"
      ],
      "metadata": {
        "colab": {
          "base_uri": "https://localhost:8080/"
        },
        "id": "EJyqCn72JO5K",
        "outputId": "85623af0-796e-43e8-b8dc-8c6d8745daff"
      },
      "execution_count": 28,
      "outputs": [
        {
          "output_type": "stream",
          "name": "stdout",
          "text": [
            "+----+-----+---+--------+---------+--------+---------+-------+-------+------+------+----+--------+--------+----+------+------------+\n",
            "|year|month|day|dep_time|dep_delay|arr_time|arr_delay|carrier|tailnum|flight|origin|dest|air_time|distance|hour|minute|duration_hrs|\n",
            "+----+-----+---+--------+---------+--------+---------+-------+-------+------+------+----+--------+--------+----+------+------------+\n",
            "|2014|    1| 22|    1040|        5|    1505|        5|     AS| N559AS|   851|   SEA| HNL|     360|    2677|  10|    40|         6.0|\n",
            "+----+-----+---+--------+---------+--------+---------+-------+-------+------+------+----+--------+--------+----+------+------------+\n",
            "only showing top 1 row\n",
            "\n"
          ]
        }
      ]
    },
    {
      "cell_type": "code",
      "source": [
        "result2 = flights_2.filter(flights_2.distance > 1000)\n",
        "result2.show(1)"
      ],
      "metadata": {
        "colab": {
          "base_uri": "https://localhost:8080/"
        },
        "id": "Fp46hefcJpUJ",
        "outputId": "78df97cb-778d-4d81-dd3c-04b833143cf9"
      },
      "execution_count": 29,
      "outputs": [
        {
          "output_type": "stream",
          "name": "stdout",
          "text": [
            "+----+-----+---+--------+---------+--------+---------+-------+-------+------+------+----+--------+--------+----+------+------------+\n",
            "|year|month|day|dep_time|dep_delay|arr_time|arr_delay|carrier|tailnum|flight|origin|dest|air_time|distance|hour|minute|duration_hrs|\n",
            "+----+-----+---+--------+---------+--------+---------+-------+-------+------+------+----+--------+--------+----+------+------------+\n",
            "|2014|    1| 22|    1040|        5|    1505|        5|     AS| N559AS|   851|   SEA| HNL|     360|    2677|  10|    40|         6.0|\n",
            "+----+-----+---+--------+---------+--------+---------+-------+-------+------+------+----+--------+--------+----+------+------------+\n",
            "only showing top 1 row\n",
            "\n"
          ]
        }
      ]
    },
    {
      "cell_type": "code",
      "source": [
        "# 변수 선택, tailnum, origin, dest\n",
        "result3 = flights_2.select(\"tailnum\", \"origin\", \"dest\")\n",
        "result3.show(1)"
      ],
      "metadata": {
        "colab": {
          "base_uri": "https://localhost:8080/"
        },
        "id": "1nWCx9oPJ_Fy",
        "outputId": "da5e09e0-68de-4ebf-99b3-d3d713fc2c25"
      },
      "execution_count": 30,
      "outputs": [
        {
          "output_type": "stream",
          "name": "stdout",
          "text": [
            "+-------+------+----+\n",
            "|tailnum|origin|dest|\n",
            "+-------+------+----+\n",
            "| N846VA|   SEA| LAX|\n",
            "+-------+------+----+\n",
            "only showing top 1 row\n",
            "\n"
          ]
        }
      ]
    },
    {
      "cell_type": "code",
      "source": [
        "result4 = flights_2.select(flights_2.tailnum, flights_2.origin, flights_2.dest)\n",
        "result4.show(1)"
      ],
      "metadata": {
        "colab": {
          "base_uri": "https://localhost:8080/"
        },
        "id": "1GuFY2r4K3-m",
        "outputId": "2ec678f8-7e25-4dd6-8e9f-d24947e7553a"
      },
      "execution_count": 31,
      "outputs": [
        {
          "output_type": "stream",
          "name": "stdout",
          "text": [
            "+-------+------+----+\n",
            "|tailnum|origin|dest|\n",
            "+-------+------+----+\n",
            "| N846VA|   SEA| LAX|\n",
            "+-------+------+----+\n",
            "only showing top 1 row\n",
            "\n"
          ]
        }
      ]
    },
    {
      "cell_type": "code",
      "source": [
        "# 다중 필터 조건 걸어보기\n",
        "filterA = result4.origin == \"SEA\"\n",
        "filterB = result4.dest == \"LAX\"\n",
        "\n"
      ],
      "metadata": {
        "id": "SL8was5kLDi8"
      },
      "execution_count": 32,
      "outputs": []
    },
    {
      "cell_type": "code",
      "source": [
        "# avg_speed\n",
        "avg_speed = (flights_2.distance/(flights_2.air_time/60)).alias(\"avg_speed\")\n",
        "speed_df = flights.select(\"origin\", \"dest\", \"tailnum\", avg_speed)\n",
        "speed_df.show()"
      ],
      "metadata": {
        "colab": {
          "base_uri": "https://localhost:8080/"
        },
        "id": "S-RqOSirL2at",
        "outputId": "00415509-cc35-43b5-b8fa-62a133868ba1"
      },
      "execution_count": 33,
      "outputs": [
        {
          "output_type": "stream",
          "name": "stdout",
          "text": [
            "+------+----+-------+------------------+\n",
            "|origin|dest|tailnum|         avg_speed|\n",
            "+------+----+-------+------------------+\n",
            "|   SEA| LAX| N846VA| 433.6363636363636|\n",
            "|   SEA| HNL| N559AS| 446.1666666666667|\n",
            "|   SEA| SFO| N847VA|367.02702702702703|\n",
            "|   PDX| SJC| N360SW| 411.3253012048193|\n",
            "|   SEA| BUR| N612AS| 442.6771653543307|\n",
            "|   PDX| DEN| N646SW|491.40495867768595|\n",
            "|   PDX| OAK| N422WN|             362.0|\n",
            "|   SEA| SFO| N361VA| 415.7142857142857|\n",
            "|   SEA| SAN| N309AS| 466.6666666666667|\n",
            "|   SEA| ORD| N564AS| 521.5151515151515|\n",
            "|   SEA| LAX| N323AS| 440.3076923076923|\n",
            "|   SEA| PHX| N305AS|431.29870129870125|\n",
            "|   SEA| LAS| N433AS| 409.6062992125984|\n",
            "|   SEA| ANC| N765AS|474.75409836065575|\n",
            "|   SEA| SFO| N713AS| 315.8139534883721|\n",
            "|   PDX| SFO| N27205| 366.6666666666667|\n",
            "|   SEA| SMF| N626AS|477.63157894736844|\n",
            "|   SEA| MDW| N8634A|481.38888888888886|\n",
            "|   SEA| BOS| N597AS| 516.4137931034483|\n",
            "|   PDX| BUR| N215AG| 441.6216216216216|\n",
            "+------+----+-------+------------------+\n",
            "only showing top 20 rows\n",
            "\n"
          ]
        }
      ]
    },
    {
      "cell_type": "markdown",
      "source": [],
      "metadata": {
        "id": "u-TmHbntJ9lr"
      }
    },
    {
      "cell_type": "code",
      "source": [
        "speed_df2 = flights.selectExpr(\"origin\", 'dest', 'tailnum', 'distance/(air_time/60) AS avg_speed')\n",
        "speed_df2.show()"
      ],
      "metadata": {
        "colab": {
          "base_uri": "https://localhost:8080/"
        },
        "id": "MAWREXILtXi6",
        "outputId": "a2df8dfc-ad9e-4ee6-ae45-5e323e9e6ab7"
      },
      "execution_count": 34,
      "outputs": [
        {
          "output_type": "stream",
          "name": "stdout",
          "text": [
            "+------+----+-------+------------------+\n",
            "|origin|dest|tailnum|         avg_speed|\n",
            "+------+----+-------+------------------+\n",
            "|   SEA| LAX| N846VA| 433.6363636363636|\n",
            "|   SEA| HNL| N559AS| 446.1666666666667|\n",
            "|   SEA| SFO| N847VA|367.02702702702703|\n",
            "|   PDX| SJC| N360SW| 411.3253012048193|\n",
            "|   SEA| BUR| N612AS| 442.6771653543307|\n",
            "|   PDX| DEN| N646SW|491.40495867768595|\n",
            "|   PDX| OAK| N422WN|             362.0|\n",
            "|   SEA| SFO| N361VA| 415.7142857142857|\n",
            "|   SEA| SAN| N309AS| 466.6666666666667|\n",
            "|   SEA| ORD| N564AS| 521.5151515151515|\n",
            "|   SEA| LAX| N323AS| 440.3076923076923|\n",
            "|   SEA| PHX| N305AS|431.29870129870125|\n",
            "|   SEA| LAS| N433AS| 409.6062992125984|\n",
            "|   SEA| ANC| N765AS|474.75409836065575|\n",
            "|   SEA| SFO| N713AS| 315.8139534883721|\n",
            "|   PDX| SFO| N27205| 366.6666666666667|\n",
            "|   SEA| SMF| N626AS|477.63157894736844|\n",
            "|   SEA| MDW| N8634A|481.38888888888886|\n",
            "|   SEA| BOS| N597AS| 516.4137931034483|\n",
            "|   PDX| BUR| N215AG| 441.6216216216216|\n",
            "+------+----+-------+------------------+\n",
            "only showing top 20 rows\n",
            "\n"
          ]
        }
      ]
    },
    {
      "cell_type": "markdown",
      "source": [
        "## 집계 함수\n",
        "- groupby()"
      ],
      "metadata": {
        "id": "mjXCEy2quDxV"
      }
    },
    {
      "cell_type": "code",
      "source": [
        "flights_2.printSchema()"
      ],
      "metadata": {
        "colab": {
          "base_uri": "https://localhost:8080/"
        },
        "id": "Gn8FbqSftmGn",
        "outputId": "b7e54d49-f572-4f48-ec40-976ec1f743ec"
      },
      "execution_count": 35,
      "outputs": [
        {
          "output_type": "stream",
          "name": "stdout",
          "text": [
            "root\n",
            " |-- year: string (nullable = true)\n",
            " |-- month: string (nullable = true)\n",
            " |-- day: string (nullable = true)\n",
            " |-- dep_time: string (nullable = true)\n",
            " |-- dep_delay: string (nullable = true)\n",
            " |-- arr_time: string (nullable = true)\n",
            " |-- arr_delay: string (nullable = true)\n",
            " |-- carrier: string (nullable = true)\n",
            " |-- tailnum: string (nullable = true)\n",
            " |-- flight: string (nullable = true)\n",
            " |-- origin: string (nullable = true)\n",
            " |-- dest: string (nullable = true)\n",
            " |-- air_time: string (nullable = true)\n",
            " |-- distance: string (nullable = true)\n",
            " |-- hour: string (nullable = true)\n",
            " |-- minute: string (nullable = true)\n",
            " |-- duration_hrs: double (nullable = true)\n",
            "\n"
          ]
        }
      ]
    },
    {
      "cell_type": "code",
      "source": [
        "# distance String -> Int\n",
        "flights_2 = flights_2.withColumn('distance', flights_2.distance.cast('int'))\n",
        "flights_2.printSchema()"
      ],
      "metadata": {
        "colab": {
          "base_uri": "https://localhost:8080/"
        },
        "id": "oe5o1_tIuIw7",
        "outputId": "37d6f8c6-c174-4484-b93f-f0424d3cee8a"
      },
      "execution_count": 36,
      "outputs": [
        {
          "output_type": "stream",
          "name": "stdout",
          "text": [
            "root\n",
            " |-- year: string (nullable = true)\n",
            " |-- month: string (nullable = true)\n",
            " |-- day: string (nullable = true)\n",
            " |-- dep_time: string (nullable = true)\n",
            " |-- dep_delay: string (nullable = true)\n",
            " |-- arr_time: string (nullable = true)\n",
            " |-- arr_delay: string (nullable = true)\n",
            " |-- carrier: string (nullable = true)\n",
            " |-- tailnum: string (nullable = true)\n",
            " |-- flight: string (nullable = true)\n",
            " |-- origin: string (nullable = true)\n",
            " |-- dest: string (nullable = true)\n",
            " |-- air_time: string (nullable = true)\n",
            " |-- distance: integer (nullable = true)\n",
            " |-- hour: string (nullable = true)\n",
            " |-- minute: string (nullable = true)\n",
            " |-- duration_hrs: double (nullable = true)\n",
            "\n"
          ]
        }
      ]
    },
    {
      "cell_type": "code",
      "source": [
        "# origin, PDX 추출, groupby, distance 최소\n",
        "flights_2.filter(flights_2.origin == \"PDX\").groupby('tailnum').min('distance').show()"
      ],
      "metadata": {
        "colab": {
          "base_uri": "https://localhost:8080/"
        },
        "id": "gStR95s8ujWj",
        "outputId": "0890224c-c953-4c12-e754-f13c1dd6697c"
      },
      "execution_count": 38,
      "outputs": [
        {
          "output_type": "stream",
          "name": "stdout",
          "text": [
            "+-------+-------------+\n",
            "|tailnum|min(distance)|\n",
            "+-------+-------------+\n",
            "| N442AS|          569|\n",
            "| N36472|          550|\n",
            "| N567AA|         1616|\n",
            "| N38451|         1739|\n",
            "| N516UA|          991|\n",
            "| N927DN|         1426|\n",
            "| N954WN|          543|\n",
            "| N73283|          550|\n",
            "| N102UW|         2282|\n",
            "| N607AS|          550|\n",
            "| N622SW|          569|\n",
            "| N584AS|          933|\n",
            "| N914WN|          991|\n",
            "| N445WN|          543|\n",
            "| N3LDAA|         1739|\n",
            "| N389HA|         2603|\n",
            "| N578SW|          106|\n",
            "| N430WN|          479|\n",
            "| N651SW|         1009|\n",
            "| N611SW|          763|\n",
            "+-------+-------------+\n",
            "only showing top 20 rows\n",
            "\n"
          ]
        }
      ]
    },
    {
      "cell_type": "code",
      "source": [
        "# carrier\n",
        "flights_2.filter(flights_2.origin == \"PDX\").filter(flights_2.carrier == \"DL\").groupby(\"dest\").avg(\"distance\").show()"
      ],
      "metadata": {
        "colab": {
          "base_uri": "https://localhost:8080/"
        },
        "id": "q37KknaVvefl",
        "outputId": "d38e74b2-e483-4e92-eb93-ab242c5f366a"
      },
      "execution_count": 41,
      "outputs": [
        {
          "output_type": "stream",
          "name": "stdout",
          "text": [
            "+----+-------------+\n",
            "|dest|avg(distance)|\n",
            "+----+-------------+\n",
            "| ATL|       2172.0|\n",
            "| DTW|       1953.0|\n",
            "| MSP|       1426.0|\n",
            "| JFK|       2454.0|\n",
            "| SLC|        630.0|\n",
            "+----+-------------+\n",
            "\n"
          ]
        }
      ]
    },
    {
      "cell_type": "code",
      "source": [
        "import pyspark.sql.functions as F\n",
        "\n",
        "flights_2= flights_2.withColumn('dep_delay', flights_2.distance.cast('int'))\n",
        "by_month_dest = flights_2.groupBy(\"month\", \"dest\")\n",
        "by_month_dest.avg(\"dep_delay\").show()"
      ],
      "metadata": {
        "colab": {
          "base_uri": "https://localhost:8080/"
        },
        "id": "V3noDC2RwEc5",
        "outputId": "883dcc9f-287a-4823-c67c-6326f8396c06"
      },
      "execution_count": 45,
      "outputs": [
        {
          "output_type": "stream",
          "name": "stdout",
          "text": [
            "+-----+----+------------------+\n",
            "|month|dest|    avg(dep_delay)|\n",
            "+-----+----+------------------+\n",
            "|   11| TUS|1183.6666666666667|\n",
            "|   11| ANC|1453.5294117647059|\n",
            "|    1| BUR|             877.0|\n",
            "|    1| PDX|             129.0|\n",
            "|    6| SBA|             877.0|\n",
            "|    5| LAX| 919.7142857142857|\n",
            "|   10| DTW|            1927.0|\n",
            "|    6| SIT|             861.0|\n",
            "|   10| DFW|1647.0588235294117|\n",
            "|    3| FAI|            1533.0|\n",
            "|   10| SEA|             129.0|\n",
            "|    2| TUS|            1119.0|\n",
            "|   12| OGG| 2625.818181818182|\n",
            "|    9| DFW|1645.3333333333333|\n",
            "|    5| EWR|2404.6666666666665|\n",
            "|    3| RDM|             116.0|\n",
            "|    8| DCA|            2335.3|\n",
            "|    7| ATL|2178.2162162162163|\n",
            "|    4| JFK|2431.1428571428573|\n",
            "|   10| SNA| 962.1333333333333|\n",
            "+-----+----+------------------+\n",
            "only showing top 20 rows\n",
            "\n"
          ]
        }
      ]
    },
    {
      "cell_type": "code",
      "source": [
        "by_month_dest.agg(F.stddev(\"dep_delay\")).show()"
      ],
      "metadata": {
        "colab": {
          "base_uri": "https://localhost:8080/"
        },
        "id": "Mz7mgL-Sx57D",
        "outputId": "981c99d0-ae76-4031-8da0-fed156a2fe80"
      },
      "execution_count": 46,
      "outputs": [
        {
          "output_type": "stream",
          "name": "stdout",
          "text": [
            "+-----+----+------------------+\n",
            "|month|dest| stddev(dep_delay)|\n",
            "+-----+----+------------------+\n",
            "|   11| TUS|  56.0029761113937|\n",
            "|   11| ANC|22.450261919397587|\n",
            "|    1| BUR| 61.55870112510924|\n",
            "|    1| PDX|               0.0|\n",
            "|    6| SBA| 62.00000000000001|\n",
            "|    5| LAX| 54.56595650240686|\n",
            "|   10| DTW|               0.0|\n",
            "|    6| SIT|              NULL|\n",
            "|   10| DFW|20.349880762766734|\n",
            "|    3| FAI|               0.0|\n",
            "|   10| SEA|               0.0|\n",
            "|    2| TUS|               0.0|\n",
            "|   12| OGG|31.552553563279734|\n",
            "|    9| DFW|21.096385265356872|\n",
            "|    5| EWR| 9.237604307033997|\n",
            "|    3| RDM|               0.0|\n",
            "|    8| DCA|10.143963722332614|\n",
            "|    7| ATL| 4.916723926983699|\n",
            "|    4| JFK|15.001831390031716|\n",
            "|   10| SNA| 41.87202725766531|\n",
            "+-----+----+------------------+\n",
            "only showing top 20 rows\n",
            "\n"
          ]
        }
      ]
    },
    {
      "cell_type": "markdown",
      "source": [
        "테이블 조인"
      ],
      "metadata": {
        "id": "paoYWp4CzhN8"
      }
    },
    {
      "cell_type": "code",
      "source": [
        "my_spark.stop()"
      ],
      "metadata": {
        "id": "VJDtSJcPz2f_"
      },
      "execution_count": 47,
      "outputs": []
    },
    {
      "cell_type": "code",
      "source": [
        "from pyspark.sql import SparkSession\n",
        "my_spark = SparkSession.builder.master(\"local[1]\").appName(\"SampleTutorial\").getOrCreate()\n",
        "DATA_PATH = '/content/drive/MyDrive/Colab Notebooks/data/'\n",
        "airports = my_spark.read.csv(DATA_PATH + \"airports.csv\", header = True)\n",
        "flights = my_spark.read.csv(DATA_PATH + \"flight_small.csv\", header = True)\n",
        "planes = my_spark.read.csv(DATA_PATH + \"planes.csv\", header = True)\n",
        "\n",
        "airports.show(1)\n",
        "flights.show(1)\n",
        "planes.show(1)"
      ],
      "metadata": {
        "colab": {
          "base_uri": "https://localhost:8080/"
        },
        "id": "HAtooXk6zgSg",
        "outputId": "352dd6ac-782d-4b1c-fa01-57de573631ee"
      },
      "execution_count": 50,
      "outputs": [
        {
          "output_type": "stream",
          "name": "stdout",
          "text": [
            "+---+-----------------+----------+-----------+----+---+---+\n",
            "|faa|             name|       lat|        lon| alt| tz|dst|\n",
            "+---+-----------------+----------+-----------+----+---+---+\n",
            "|04G|Lansdowne Airport|41.1304722|-80.6195833|1044| -5|  A|\n",
            "+---+-----------------+----------+-----------+----+---+---+\n",
            "only showing top 1 row\n",
            "\n",
            "+----+-----+---+--------+---------+--------+---------+-------+-------+------+------+----+--------+--------+----+------+\n",
            "|year|month|day|dep_time|dep_delay|arr_time|arr_delay|carrier|tailnum|flight|origin|dest|air_time|distance|hour|minute|\n",
            "+----+-----+---+--------+---------+--------+---------+-------+-------+------+------+----+--------+--------+----+------+\n",
            "|2014|   12|  8|     658|       -7|     935|       -5|     VX| N846VA|  1780|   SEA| LAX|     132|     954|   6|    58|\n",
            "+----+-----+---+--------+---------+--------+---------+-------+-------+------+------+----+--------+--------+----+------+\n",
            "only showing top 1 row\n",
            "\n",
            "+-------+----+--------------------+----------------+--------+-------+-----+-----+---------+\n",
            "|tailnum|year|                type|    manufacturer|   model|engines|seats|speed|   engine|\n",
            "+-------+----+--------------------+----------------+--------+-------+-----+-----+---------+\n",
            "| N102UW|1998|Fixed wing multi ...|AIRBUS INDUSTRIE|A320-214|      2|  182|   NA|Turbo-fan|\n",
            "+-------+----+--------------------+----------------+--------+-------+-----+-----+---------+\n",
            "only showing top 1 row\n",
            "\n"
          ]
        }
      ]
    },
    {
      "cell_type": "code",
      "source": [
        "# 컬럼명 변경\n",
        "airports = airports.withColumnRenamed(\"faa\", \"dest\")"
      ],
      "metadata": {
        "id": "Idl0hIJXyRQp"
      },
      "execution_count": 52,
      "outputs": []
    },
    {
      "cell_type": "code",
      "source": [
        "result = flights.join(airports, on = 'dest', how = 'leftouter')\n",
        "result.show()"
      ],
      "metadata": {
        "colab": {
          "base_uri": "https://localhost:8080/"
        },
        "id": "Z_h6Sgj01goY",
        "outputId": "61720ad2-39b6-4254-d3f5-b0db99b614d7"
      },
      "execution_count": 53,
      "outputs": [
        {
          "output_type": "stream",
          "name": "stdout",
          "text": [
            "+----+----+-----+---+--------+---------+--------+---------+-------+-------+------+------+--------+--------+----+------+--------------------+---------+-----------+----+---+---+\n",
            "|dest|year|month|day|dep_time|dep_delay|arr_time|arr_delay|carrier|tailnum|flight|origin|air_time|distance|hour|minute|                name|      lat|        lon| alt| tz|dst|\n",
            "+----+----+-----+---+--------+---------+--------+---------+-------+-------+------+------+--------+--------+----+------+--------------------+---------+-----------+----+---+---+\n",
            "| LAX|2014|   12|  8|     658|       -7|     935|       -5|     VX| N846VA|  1780|   SEA|     132|     954|   6|    58|    Los Angeles Intl|33.942536|-118.408075| 126| -8|  A|\n",
            "| HNL|2014|    1| 22|    1040|        5|    1505|        5|     AS| N559AS|   851|   SEA|     360|    2677|  10|    40|       Honolulu Intl|21.318681|-157.922428|  13|-10|  N|\n",
            "| SFO|2014|    3|  9|    1443|       -2|    1652|        2|     VX| N847VA|   755|   SEA|     111|     679|  14|    43|  San Francisco Intl|37.618972|-122.374889|  13| -8|  A|\n",
            "| SJC|2014|    4|  9|    1705|       45|    1839|       34|     WN| N360SW|   344|   PDX|      83|     569|  17|     5|Norman Y Mineta S...|  37.3626|-121.929022|  62| -8|  A|\n",
            "| BUR|2014|    3|  9|     754|       -1|    1015|        1|     AS| N612AS|   522|   SEA|     127|     937|   7|    54|            Bob Hope|34.200667|-118.358667| 778| -8|  A|\n",
            "| DEN|2014|    1| 15|    1037|        7|    1352|        2|     WN| N646SW|    48|   PDX|     121|     991|  10|    37|         Denver Intl|39.861656|-104.673178|5431| -7|  A|\n",
            "| OAK|2014|    7|  2|     847|       42|    1041|       51|     WN| N422WN|  1520|   PDX|      90|     543|   8|    47|Metropolitan Oakl...|37.721278|-122.220722|   9| -8|  A|\n",
            "| SFO|2014|    5| 12|    1655|       -5|    1842|      -18|     VX| N361VA|   755|   SEA|      98|     679|  16|    55|  San Francisco Intl|37.618972|-122.374889|  13| -8|  A|\n",
            "| SAN|2014|    4| 19|    1236|       -4|    1508|       -7|     AS| N309AS|   490|   SEA|     135|    1050|  12|    36|      San Diego Intl|32.733556|-117.189667|  17| -8|  A|\n",
            "| ORD|2014|   11| 19|    1812|       -3|    2352|       -4|     AS| N564AS|    26|   SEA|     198|    1721|  18|    12|  Chicago Ohare Intl|41.978603| -87.904842| 668| -6|  A|\n",
            "| LAX|2014|   11|  8|    1653|       -2|    1924|       -1|     AS| N323AS|   448|   SEA|     130|     954|  16|    53|    Los Angeles Intl|33.942536|-118.408075| 126| -8|  A|\n",
            "| PHX|2014|    8|  3|    1120|        0|    1415|        2|     AS| N305AS|   656|   SEA|     154|    1107|  11|    20|Phoenix Sky Harbo...|33.434278|-112.011583|1135| -7|  N|\n",
            "| LAS|2014|   10| 30|     811|       21|    1038|       29|     AS| N433AS|   608|   SEA|     127|     867|   8|    11|      Mc Carran Intl|36.080056| -115.15225|2141| -8|  A|\n",
            "| ANC|2014|   11| 12|    2346|       -4|     217|      -28|     AS| N765AS|   121|   SEA|     183|    1448|  23|    46|Ted Stevens Ancho...|61.174361|-149.996361| 152| -9|  A|\n",
            "| SFO|2014|   10| 31|    1314|       89|    1544|      111|     AS| N713AS|   306|   SEA|     129|     679|  13|    14|  San Francisco Intl|37.618972|-122.374889|  13| -8|  A|\n",
            "| SFO|2014|    1| 29|    2009|        3|    2159|        9|     UA| N27205|  1458|   PDX|      90|     550|  20|     9|  San Francisco Intl|37.618972|-122.374889|  13| -8|  A|\n",
            "| SMF|2014|   12| 17|    2015|       50|    2150|       41|     AS| N626AS|   368|   SEA|      76|     605|  20|    15|     Sacramento Intl|38.695417|-121.590778|  27| -8|  A|\n",
            "| MDW|2014|    8| 11|    1017|       -3|    1613|       -7|     WN| N8634A|   827|   SEA|     216|    1733|  10|    17| Chicago Midway Intl|41.785972| -87.752417| 620| -6|  A|\n",
            "| BOS|2014|    1| 13|    2156|       -9|     607|      -15|     AS| N597AS|    24|   SEA|     290|    2496|  21|    56|General Edward La...|42.364347| -71.005181|  19| -5|  A|\n",
            "| BUR|2014|    6|  5|    1733|      -12|    1945|      -10|     OO| N215AG|  3488|   PDX|     111|     817|  17|    33|            Bob Hope|34.200667|-118.358667| 778| -8|  A|\n",
            "+----+----+-----+---+--------+---------+--------+---------+-------+-------+------+------+--------+--------+----+------+--------------------+---------+-----------+----+---+---+\n",
            "only showing top 20 rows\n",
            "\n"
          ]
        }
      ]
    },
    {
      "cell_type": "code",
      "source": [
        "my_spark.stop()"
      ],
      "metadata": {
        "id": "e-fDaeBw1l1-"
      },
      "execution_count": 55,
      "outputs": []
    },
    {
      "cell_type": "markdown",
      "source": [
        "## zip 파일 데이터 불러오기"
      ],
      "metadata": {
        "id": "kwNqro696kUV"
      }
    },
    {
      "cell_type": "code",
      "source": [
        "from pyspark.sql import SparkSession\n",
        "\n",
        "spark = SparkSession.builder.master(\"local[1]\").appName(\"Sample\").getOrCreate()\n",
        "print(spark)"
      ],
      "metadata": {
        "colab": {
          "base_uri": "https://localhost:8080/"
        },
        "id": "JV1YKVx96ixw",
        "outputId": "7752d0a2-503e-4f88-91e5-2e7b9967e763"
      },
      "execution_count": 56,
      "outputs": [
        {
          "output_type": "stream",
          "name": "stdout",
          "text": [
            "<pyspark.sql.session.SparkSession object at 0x7af7ac4a08b0>\n"
          ]
        }
      ]
    },
    {
      "cell_type": "code",
      "source": [
        "# CSV 파일 불러오기\n",
        "DATA_PATH = \"/content/drive/MyDrive/Colab Notebooks/data/\"\n",
        "aa_dfw_2014 = spark.read.format(\"csv\").options(Header=True).load(DATA_PATH + 'AA_DFW_2014_Departures_Short.csv.gz')\n",
        "aa_dfw_2014.show(1)"
      ],
      "metadata": {
        "colab": {
          "base_uri": "https://localhost:8080/"
        },
        "id": "lSSUVhG57YZG",
        "outputId": "3d7c184b-6b79-4e2f-942f-b63e63e387d6"
      },
      "execution_count": 57,
      "outputs": [
        {
          "output_type": "stream",
          "name": "stdout",
          "text": [
            "+-----------------+-------------+-------------------+-----------------------------+\n",
            "|Date (MM/DD/YYYY)|Flight Number|Destination Airport|Actual elapsed time (Minutes)|\n",
            "+-----------------+-------------+-------------------+-----------------------------+\n",
            "|       01/01/2014|         0005|                HNL|                          519|\n",
            "+-----------------+-------------+-------------------+-----------------------------+\n",
            "only showing top 1 row\n",
            "\n"
          ]
        }
      ]
    },
    {
      "cell_type": "code",
      "source": [
        "import pyspark.sql.functions as F\n",
        "\n",
        "aa_dfw_2014 = aa_dfw_2014.withColumn('airport', F.lower(aa_dfw_2014['Destination Airport']))\n",
        "aa_dfw_2014.show(2)"
      ],
      "metadata": {
        "colab": {
          "base_uri": "https://localhost:8080/"
        },
        "id": "K5nS61BV8MRl",
        "outputId": "083e03ad-6a95-422b-8c97-f7bd4b1361d9"
      },
      "execution_count": 58,
      "outputs": [
        {
          "output_type": "stream",
          "name": "stdout",
          "text": [
            "+-----------------+-------------+-------------------+-----------------------------+-------+\n",
            "|Date (MM/DD/YYYY)|Flight Number|Destination Airport|Actual elapsed time (Minutes)|airport|\n",
            "+-----------------+-------------+-------------------+-----------------------------+-------+\n",
            "|       01/01/2014|         0005|                HNL|                          519|    hnl|\n",
            "|       01/01/2014|         0007|                OGG|                          505|    ogg|\n",
            "+-----------------+-------------+-------------------+-----------------------------+-------+\n",
            "only showing top 2 rows\n",
            "\n"
          ]
        }
      ]
    },
    {
      "cell_type": "code",
      "source": [
        "# 특정 컬럼 삭제\n",
        "aa_dfw_2014 = aa_dfw_2014.drop(aa_dfw_2014['Destination Airport'])\n",
        "aa_dfw_2014.show(1)"
      ],
      "metadata": {
        "colab": {
          "base_uri": "https://localhost:8080/"
        },
        "id": "DLZcxz5X9D4V",
        "outputId": "ca2c245e-1004-4c54-b389-15daa27d3bd1"
      },
      "execution_count": 59,
      "outputs": [
        {
          "output_type": "stream",
          "name": "stdout",
          "text": [
            "+-----------------+-------------+-----------------------------+-------+\n",
            "|Date (MM/DD/YYYY)|Flight Number|Actual elapsed time (Minutes)|airport|\n",
            "+-----------------+-------------+-----------------------------+-------+\n",
            "|       01/01/2014|         0005|                          519|    hnl|\n",
            "+-----------------+-------------+-----------------------------+-------+\n",
            "only showing top 1 row\n",
            "\n"
          ]
        }
      ]
    },
    {
      "cell_type": "code",
      "source": [
        "# .parquet\n",
        "import pyarrow.parquet as pq\n",
        "import pandas as pd\n",
        "import numpy as np\n",
        "import pyarrow as pa\n",
        "\n",
        "df = pd.DataFrame({'one': [-1, 100, 2.5],\n",
        "                   'two': ['foo', 'bar', 'baz'],\n",
        "                   'three': [True, False, True]}, index=list('abc'))\n",
        "\n",
        "table = pa.Table.from_pandas(df)\n",
        "pq.write_table(table, DATA_PATH + 'example.parquet')\n"
      ],
      "metadata": {
        "id": "fm6vW1_f9Y41"
      },
      "execution_count": 60,
      "outputs": []
    },
    {
      "cell_type": "markdown",
      "source": [
        "- 데이터 불러오기"
      ],
      "metadata": {
        "id": "g3a6umlo-eWR"
      }
    },
    {
      "cell_type": "code",
      "source": [
        "example_df = spark.read.parquet(DATA_PATH + 'example.parquet')\n",
        "example_df.show(1)"
      ],
      "metadata": {
        "colab": {
          "base_uri": "https://localhost:8080/"
        },
        "id": "xjhmeJO4-H_K",
        "outputId": "d7ed9a6f-341b-4664-e254-9d46fd13e0b4"
      },
      "execution_count": 61,
      "outputs": [
        {
          "output_type": "stream",
          "name": "stdout",
          "text": [
            "+----+---+-----+-----------------+\n",
            "| one|two|three|__index_level_0__|\n",
            "+----+---+-----+-----------------+\n",
            "|-1.0|foo| true|                a|\n",
            "+----+---+-----+-----------------+\n",
            "only showing top 1 row\n",
            "\n"
          ]
        }
      ]
    },
    {
      "cell_type": "code",
      "source": [
        "voter_df = spark.read.format('csv').options(Header=True).load(DATA_PATH + 'DallasCouncilVoters.csv.gz')\n",
        "voter_df.show()"
      ],
      "metadata": {
        "colab": {
          "base_uri": "https://localhost:8080/"
        },
        "id": "zwTau43P-pW8",
        "outputId": "5aefec5e-a656-4e53-f376-b142100e46d0"
      },
      "execution_count": 62,
      "outputs": [
        {
          "output_type": "stream",
          "name": "stdout",
          "text": [
            "+----------+-------------+-------------------+\n",
            "|      DATE|        TITLE|         VOTER_NAME|\n",
            "+----------+-------------+-------------------+\n",
            "|02/08/2017|Councilmember|  Jennifer S. Gates|\n",
            "|02/08/2017|Councilmember| Philip T. Kingston|\n",
            "|02/08/2017|        Mayor|Michael S. Rawlings|\n",
            "|02/08/2017|Councilmember|       Adam Medrano|\n",
            "|02/08/2017|Councilmember|       Casey Thomas|\n",
            "|02/08/2017|Councilmember|Carolyn King Arnold|\n",
            "|02/08/2017|Councilmember|       Scott Griggs|\n",
            "|02/08/2017|Councilmember|   B. Adam  McGough|\n",
            "|02/08/2017|Councilmember|       Lee Kleinman|\n",
            "|02/08/2017|Councilmember|      Sandy Greyson|\n",
            "|02/08/2017|Councilmember|  Jennifer S. Gates|\n",
            "|02/08/2017|Councilmember| Philip T. Kingston|\n",
            "|02/08/2017|        Mayor|Michael S. Rawlings|\n",
            "|02/08/2017|Councilmember|       Adam Medrano|\n",
            "|02/08/2017|Councilmember|       Casey Thomas|\n",
            "|02/08/2017|Councilmember|Carolyn King Arnold|\n",
            "|02/08/2017|Councilmember| Rickey D. Callahan|\n",
            "|01/11/2017|Councilmember|  Jennifer S. Gates|\n",
            "|04/25/2018|Councilmember|     Sandy  Greyson|\n",
            "|04/25/2018|Councilmember| Jennifer S.  Gates|\n",
            "+----------+-------------+-------------------+\n",
            "only showing top 20 rows\n",
            "\n"
          ]
        }
      ]
    },
    {
      "cell_type": "code",
      "source": [
        "# 중복값 제거\n",
        "voter_df.select(voter_df['VOTER_NAME']).distinct().show(10)"
      ],
      "metadata": {
        "colab": {
          "base_uri": "https://localhost:8080/"
        },
        "id": "Z_TPGAgK--JU",
        "outputId": "6dadc820-6585-48c6-c233-a40b0ac2c851"
      },
      "execution_count": 64,
      "outputs": [
        {
          "output_type": "stream",
          "name": "stdout",
          "text": [
            "+--------------------+\n",
            "|          VOTER_NAME|\n",
            "+--------------------+\n",
            "|      Tennell Atkins|\n",
            "|  the  final   20...|\n",
            "|        Scott Griggs|\n",
            "|       Scott  Griggs|\n",
            "|       Sandy Greyson|\n",
            "| Michael S. Rawlings|\n",
            "| the final 2018 A...|\n",
            "|        Kevin Felder|\n",
            "|        Adam Medrano|\n",
            "|       Casey  Thomas|\n",
            "+--------------------+\n",
            "only showing top 10 rows\n",
            "\n"
          ]
        }
      ]
    },
    {
      "cell_type": "markdown",
      "source": [
        "### 문제\n",
        "- 객체명 : result\n",
        "- 메서드 filter() 사용\n",
        "- length()를 활용해서 0보다 크고, 20보다 작은 VOTER_NAME 가져온다."
      ],
      "metadata": {
        "id": "ht-Sr4Lz_tuY"
      }
    },
    {
      "cell_type": "code",
      "source": [
        "voter_df = voter_df.filter('length(VOTER_NAME) > 0 and length(VOTER_NAME) < 20')\n",
        "voter_df.select('VOTER_NAME').distinct().show(10, truncate=False)"
      ],
      "metadata": {
        "colab": {
          "base_uri": "https://localhost:8080/"
        },
        "id": "he1BmtGJ_kMA",
        "outputId": "cb40ee6b-973c-4aef-d31f-36a78e3145da"
      },
      "execution_count": 71,
      "outputs": [
        {
          "output_type": "stream",
          "name": "stdout",
          "text": [
            "+-------------------+\n",
            "|VOTER_NAME         |\n",
            "+-------------------+\n",
            "|Tennell Atkins     |\n",
            "|Scott Griggs       |\n",
            "|Scott  Griggs      |\n",
            "|Sandy Greyson      |\n",
            "|Michael S. Rawlings|\n",
            "|Kevin Felder       |\n",
            "|Adam Medrano       |\n",
            "|Casey  Thomas      |\n",
            "|011018__42         |\n",
            "|Mark  Clayton      |\n",
            "+-------------------+\n",
            "only showing top 10 rows\n",
            "\n"
          ]
        }
      ]
    },
    {
      "cell_type": "markdown",
      "source": [
        "밑줄이 그어진 행 '011018__42'는 제거를 하자."
      ],
      "metadata": {
        "id": "x1FAFBvlB6BG"
      }
    },
    {
      "cell_type": "code",
      "source": [
        "voter_df = voter_df.filter(~F.col('VOTER_NAME').contains('_'))\n",
        "voter_df.select('VOTER_NAME').distinct().show(10, truncate=False)"
      ],
      "metadata": {
        "colab": {
          "base_uri": "https://localhost:8080/"
        },
        "id": "nhFxUER1Abep",
        "outputId": "b959ab88-a9bf-46b4-ba58-12dc65ac341d"
      },
      "execution_count": 74,
      "outputs": [
        {
          "output_type": "stream",
          "name": "stdout",
          "text": [
            "+-------------------+\n",
            "|VOTER_NAME         |\n",
            "+-------------------+\n",
            "|Tennell Atkins     |\n",
            "|Scott Griggs       |\n",
            "|Scott  Griggs      |\n",
            "|Sandy Greyson      |\n",
            "|Michael S. Rawlings|\n",
            "|Kevin Felder       |\n",
            "|Adam Medrano       |\n",
            "|Casey  Thomas      |\n",
            "|Mark  Clayton      |\n",
            "|Casey Thomas       |\n",
            "+-------------------+\n",
            "only showing top 10 rows\n",
            "\n"
          ]
        }
      ]
    },
    {
      "cell_type": "code",
      "source": [],
      "metadata": {
        "id": "eLC1_EQ9CEMe"
      },
      "execution_count": null,
      "outputs": []
    }
  ]
}