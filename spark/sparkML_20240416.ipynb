{
  "nbformat": 4,
  "nbformat_minor": 0,
  "metadata": {
    "colab": {
      "provenance": []
    },
    "kernelspec": {
      "name": "python3",
      "display_name": "Python 3"
    },
    "language_info": {
      "name": "python"
    }
  },
  "cells": [
    {
      "cell_type": "code",
      "execution_count": 1,
      "metadata": {
        "colab": {
          "base_uri": "https://localhost:8080/"
        },
        "id": "DJ8h9f5hQZyH",
        "outputId": "4cfe9262-0a6c-4c70-96da-6647556d1fa3"
      },
      "outputs": [
        {
          "output_type": "stream",
          "name": "stdout",
          "text": [
            "Mounted at /content/drive\n"
          ]
        }
      ],
      "source": [
        "from google.colab import drive\n",
        "drive.mount(\"/content/drive\")"
      ]
    },
    {
      "cell_type": "code",
      "source": [
        "!apt-get install openjdk-8-jdk-headless\n",
        "!wget -q https://dlcdn.apache.org/spark/spark-3.5.1/spark-3.5.1-bin-hadoop3.tgz\n",
        "!tar -zxf spark-3.5.1-bin-hadoop3.tgz\n",
        "\n",
        "import os\n",
        "os.environ[\"JAVA_HOME\"] = \"/usr/lib/jvm/java-8-openjdk-amd64\"\n",
        "os.environ[\"SPARK_HOME\"] = \"/content/spark-3.5.1-bin-hadoop3\"\n",
        "\n",
        "!pip install findspark -q\n",
        "\n",
        "import findspark\n",
        "findspark.init()\n",
        "\n",
        "import pyspark\n",
        "spark_version = pyspark.__version__\n",
        "print(\"Apache Spark 버전 확인: \" + spark_version)"
      ],
      "metadata": {
        "colab": {
          "base_uri": "https://localhost:8080/"
        },
        "id": "Tjr4IvVlQca_",
        "outputId": "68b98c47-4893-4701-ce8a-95158c44087e"
      },
      "execution_count": 2,
      "outputs": [
        {
          "output_type": "stream",
          "name": "stdout",
          "text": [
            "Reading package lists... Done\n",
            "Building dependency tree... Done\n",
            "Reading state information... Done\n",
            "The following additional packages will be installed:\n",
            "  libxtst6 openjdk-8-jre-headless\n",
            "Suggested packages:\n",
            "  openjdk-8-demo openjdk-8-source libnss-mdns fonts-dejavu-extra fonts-nanum fonts-ipafont-gothic\n",
            "  fonts-ipafont-mincho fonts-wqy-microhei fonts-wqy-zenhei fonts-indic\n",
            "The following NEW packages will be installed:\n",
            "  libxtst6 openjdk-8-jdk-headless openjdk-8-jre-headless\n",
            "0 upgraded, 3 newly installed, 0 to remove and 45 not upgraded.\n",
            "Need to get 39.7 MB of archives.\n",
            "After this operation, 144 MB of additional disk space will be used.\n",
            "Get:1 http://archive.ubuntu.com/ubuntu jammy/main amd64 libxtst6 amd64 2:1.2.3-1build4 [13.4 kB]\n",
            "Get:2 http://archive.ubuntu.com/ubuntu jammy-updates/universe amd64 openjdk-8-jre-headless amd64 8u402-ga-2ubuntu1~22.04 [30.8 MB]\n",
            "Get:3 http://archive.ubuntu.com/ubuntu jammy-updates/universe amd64 openjdk-8-jdk-headless amd64 8u402-ga-2ubuntu1~22.04 [8,873 kB]\n",
            "Fetched 39.7 MB in 1s (56.3 MB/s)\n",
            "Selecting previously unselected package libxtst6:amd64.\n",
            "(Reading database ... 121752 files and directories currently installed.)\n",
            "Preparing to unpack .../libxtst6_2%3a1.2.3-1build4_amd64.deb ...\n",
            "Unpacking libxtst6:amd64 (2:1.2.3-1build4) ...\n",
            "Selecting previously unselected package openjdk-8-jre-headless:amd64.\n",
            "Preparing to unpack .../openjdk-8-jre-headless_8u402-ga-2ubuntu1~22.04_amd64.deb ...\n",
            "Unpacking openjdk-8-jre-headless:amd64 (8u402-ga-2ubuntu1~22.04) ...\n",
            "Selecting previously unselected package openjdk-8-jdk-headless:amd64.\n",
            "Preparing to unpack .../openjdk-8-jdk-headless_8u402-ga-2ubuntu1~22.04_amd64.deb ...\n",
            "Unpacking openjdk-8-jdk-headless:amd64 (8u402-ga-2ubuntu1~22.04) ...\n",
            "Setting up libxtst6:amd64 (2:1.2.3-1build4) ...\n",
            "Setting up openjdk-8-jre-headless:amd64 (8u402-ga-2ubuntu1~22.04) ...\n",
            "update-alternatives: using /usr/lib/jvm/java-8-openjdk-amd64/jre/bin/orbd to provide /usr/bin/orbd (orbd) in auto mode\n",
            "update-alternatives: using /usr/lib/jvm/java-8-openjdk-amd64/jre/bin/servertool to provide /usr/bin/servertool (servertool) in auto mode\n",
            "update-alternatives: using /usr/lib/jvm/java-8-openjdk-amd64/jre/bin/tnameserv to provide /usr/bin/tnameserv (tnameserv) in auto mode\n",
            "Setting up openjdk-8-jdk-headless:amd64 (8u402-ga-2ubuntu1~22.04) ...\n",
            "update-alternatives: using /usr/lib/jvm/java-8-openjdk-amd64/bin/clhsdb to provide /usr/bin/clhsdb (clhsdb) in auto mode\n",
            "update-alternatives: using /usr/lib/jvm/java-8-openjdk-amd64/bin/extcheck to provide /usr/bin/extcheck (extcheck) in auto mode\n",
            "update-alternatives: using /usr/lib/jvm/java-8-openjdk-amd64/bin/hsdb to provide /usr/bin/hsdb (hsdb) in auto mode\n",
            "update-alternatives: using /usr/lib/jvm/java-8-openjdk-amd64/bin/idlj to provide /usr/bin/idlj (idlj) in auto mode\n",
            "update-alternatives: using /usr/lib/jvm/java-8-openjdk-amd64/bin/javah to provide /usr/bin/javah (javah) in auto mode\n",
            "update-alternatives: using /usr/lib/jvm/java-8-openjdk-amd64/bin/jhat to provide /usr/bin/jhat (jhat) in auto mode\n",
            "update-alternatives: using /usr/lib/jvm/java-8-openjdk-amd64/bin/jsadebugd to provide /usr/bin/jsadebugd (jsadebugd) in auto mode\n",
            "update-alternatives: using /usr/lib/jvm/java-8-openjdk-amd64/bin/native2ascii to provide /usr/bin/native2ascii (native2ascii) in auto mode\n",
            "update-alternatives: using /usr/lib/jvm/java-8-openjdk-amd64/bin/schemagen to provide /usr/bin/schemagen (schemagen) in auto mode\n",
            "update-alternatives: using /usr/lib/jvm/java-8-openjdk-amd64/bin/wsgen to provide /usr/bin/wsgen (wsgen) in auto mode\n",
            "update-alternatives: using /usr/lib/jvm/java-8-openjdk-amd64/bin/wsimport to provide /usr/bin/wsimport (wsimport) in auto mode\n",
            "update-alternatives: using /usr/lib/jvm/java-8-openjdk-amd64/bin/xjc to provide /usr/bin/xjc (xjc) in auto mode\n",
            "Processing triggers for libc-bin (2.35-0ubuntu3.4) ...\n",
            "/sbin/ldconfig.real: /usr/local/lib/libtbbmalloc.so.2 is not a symbolic link\n",
            "\n",
            "/sbin/ldconfig.real: /usr/local/lib/libtbbbind_2_0.so.3 is not a symbolic link\n",
            "\n",
            "/sbin/ldconfig.real: /usr/local/lib/libtbb.so.12 is not a symbolic link\n",
            "\n",
            "/sbin/ldconfig.real: /usr/local/lib/libtbbmalloc_proxy.so.2 is not a symbolic link\n",
            "\n",
            "/sbin/ldconfig.real: /usr/local/lib/libtbbbind_2_5.so.3 is not a symbolic link\n",
            "\n",
            "/sbin/ldconfig.real: /usr/local/lib/libtbbbind.so.3 is not a symbolic link\n",
            "\n",
            "Apache Spark 버전 확인: 3.5.1\n"
          ]
        }
      ]
    },
    {
      "cell_type": "markdown",
      "source": [
        "## Spark 세션 설정"
      ],
      "metadata": {
        "id": "ChGUsSLzR5zX"
      }
    },
    {
      "cell_type": "code",
      "source": [
        "from pyspark.sql import SparkSession\n",
        "\n",
        "spark = SparkSession.builder.master('local[1]').appName('ML').getOrCreate()\n",
        "spark"
      ],
      "metadata": {
        "colab": {
          "base_uri": "https://localhost:8080/",
          "height": 222
        },
        "id": "nB5kOnK3QcYz",
        "outputId": "6de5cad0-7dd4-4924-811f-e0866ae3e8a9"
      },
      "execution_count": 3,
      "outputs": [
        {
          "output_type": "execute_result",
          "data": {
            "text/plain": [
              "<pyspark.sql.session.SparkSession at 0x7accb0483970>"
            ],
            "text/html": [
              "\n",
              "            <div>\n",
              "                <p><b>SparkSession - in-memory</b></p>\n",
              "                \n",
              "        <div>\n",
              "            <p><b>SparkContext</b></p>\n",
              "\n",
              "            <p><a href=\"http://e4f620f16dd7:4040\">Spark UI</a></p>\n",
              "\n",
              "            <dl>\n",
              "              <dt>Version</dt>\n",
              "                <dd><code>v3.5.1</code></dd>\n",
              "              <dt>Master</dt>\n",
              "                <dd><code>local[1]</code></dd>\n",
              "              <dt>AppName</dt>\n",
              "                <dd><code>ML</code></dd>\n",
              "            </dl>\n",
              "        </div>\n",
              "        \n",
              "            </div>\n",
              "        "
            ]
          },
          "metadata": {},
          "execution_count": 3
        }
      ]
    },
    {
      "cell_type": "markdown",
      "source": [
        "# 데이터 불러오기"
      ],
      "metadata": {
        "id": "myr64dWhSfN0"
      }
    },
    {
      "cell_type": "code",
      "source": [
        "DATA_PATH = \"/content/drive/MyDrive/Colab Notebooks/data/\"\n",
        "\n",
        "flights = spark.read.option('header', 'true').csv(DATA_PATH + 'flight_small.csv')\n",
        "flights.show(1)"
      ],
      "metadata": {
        "colab": {
          "base_uri": "https://localhost:8080/"
        },
        "id": "HPvPASCPQcWo",
        "outputId": "cf9ac36b-4cf2-4a9b-fada-7844884d1b76"
      },
      "execution_count": 4,
      "outputs": [
        {
          "output_type": "stream",
          "name": "stdout",
          "text": [
            "+----+-----+---+--------+---------+--------+---------+-------+-------+------+------+----+--------+--------+----+------+\n",
            "|year|month|day|dep_time|dep_delay|arr_time|arr_delay|carrier|tailnum|flight|origin|dest|air_time|distance|hour|minute|\n",
            "+----+-----+---+--------+---------+--------+---------+-------+-------+------+------+----+--------+--------+----+------+\n",
            "|2014|   12|  8|     658|       -7|     935|       -5|     VX| N846VA|  1780|   SEA| LAX|     132|     954|   6|    58|\n",
            "+----+-----+---+--------+---------+--------+---------+-------+-------+------+------+----+--------+--------+----+------+\n",
            "only showing top 1 row\n",
            "\n"
          ]
        }
      ]
    },
    {
      "cell_type": "code",
      "source": [
        "planes = spark.read.option('header', 'true').csv(DATA_PATH + 'planes.csv')\n",
        "planes.show(1)"
      ],
      "metadata": {
        "colab": {
          "base_uri": "https://localhost:8080/"
        },
        "id": "anZbWemaQcUd",
        "outputId": "22948ed3-d314-4d61-cae9-7164bb5391e6"
      },
      "execution_count": 5,
      "outputs": [
        {
          "output_type": "stream",
          "name": "stdout",
          "text": [
            "+-------+----+--------------------+----------------+--------+-------+-----+-----+---------+\n",
            "|tailnum|year|                type|    manufacturer|   model|engines|seats|speed|   engine|\n",
            "+-------+----+--------------------+----------------+--------+-------+-----+-----+---------+\n",
            "| N102UW|1998|Fixed wing multi ...|AIRBUS INDUSTRIE|A320-214|      2|  182|   NA|Turbo-fan|\n",
            "+-------+----+--------------------+----------------+--------+-------+-----+-----+---------+\n",
            "only showing top 1 row\n",
            "\n"
          ]
        }
      ]
    },
    {
      "cell_type": "markdown",
      "source": [
        "## 데이터 가공"
      ],
      "metadata": {
        "id": "EMa1f9M4TleH"
      }
    },
    {
      "cell_type": "markdown",
      "source": [
        "### 1단계\n",
        "- planes의 year ==> plane_year\n",
        "- 두 개의 테이블을 join하기\n",
        "- flights 기준으로 left join\n"
      ],
      "metadata": {
        "id": "LQPl6RtjTobu"
      }
    },
    {
      "cell_type": "code",
      "source": [
        "planes = planes.withColumnRenamed('year', 'plane_year')\n",
        "\n",
        "model_data = flights.join(planes, on = 'tailnum', how = 'leftouter')\n",
        "model_data.show(1)"
      ],
      "metadata": {
        "colab": {
          "base_uri": "https://localhost:8080/"
        },
        "id": "3eqNzTtbQcSP",
        "outputId": "3116569d-8304-465f-a4a7-c111f2a23bac"
      },
      "execution_count": 8,
      "outputs": [
        {
          "output_type": "stream",
          "name": "stdout",
          "text": [
            "+-------+----+-----+---+--------+---------+--------+---------+-------+------+------+----+--------+--------+----+------+----------+--------------------+------------+--------+-------+-----+-----+---------+\n",
            "|tailnum|year|month|day|dep_time|dep_delay|arr_time|arr_delay|carrier|flight|origin|dest|air_time|distance|hour|minute|plane_year|                type|manufacturer|   model|engines|seats|speed|   engine|\n",
            "+-------+----+-----+---+--------+---------+--------+---------+-------+------+------+----+--------+--------+----+------+----------+--------------------+------------+--------+-------+-----+-----+---------+\n",
            "| N846VA|2014|   12|  8|     658|       -7|     935|       -5|     VX|  1780|   SEA| LAX|     132|     954|   6|    58|      2011|Fixed wing multi ...|      AIRBUS|A320-214|      2|  182|   NA|Turbo-fan|\n",
            "+-------+----+-----+---+--------+---------+--------+---------+-------+------+------+----+--------+--------+----+------+----------+--------------------+------------+--------+-------+-----+-----+---------+\n",
            "only showing top 1 row\n",
            "\n"
          ]
        }
      ]
    },
    {
      "cell_type": "markdown",
      "source": [
        "- arr_delay, air_time, month, plane_year, integer로 변경"
      ],
      "metadata": {
        "id": "JzpLA_FSVSdZ"
      }
    },
    {
      "cell_type": "code",
      "source": [
        "cols = ['arr_delay', 'air_time', 'month', 'plane_year']\n",
        "\n",
        "for col in cols:\n",
        "  model_data = model_data.withColumn(col, model_data.distance.cast('int'))"
      ],
      "metadata": {
        "id": "CqzjTGr0VXgO"
      },
      "execution_count": 10,
      "outputs": []
    },
    {
      "cell_type": "code",
      "source": [
        "model_data.printSchema()"
      ],
      "metadata": {
        "colab": {
          "base_uri": "https://localhost:8080/"
        },
        "id": "w8Q7t8ZeQcP3",
        "outputId": "e66cecd2-9c5a-44e2-ca3d-9b41484b2431"
      },
      "execution_count": 11,
      "outputs": [
        {
          "output_type": "stream",
          "name": "stdout",
          "text": [
            "root\n",
            " |-- tailnum: string (nullable = true)\n",
            " |-- year: string (nullable = true)\n",
            " |-- month: integer (nullable = true)\n",
            " |-- day: string (nullable = true)\n",
            " |-- dep_time: string (nullable = true)\n",
            " |-- dep_delay: string (nullable = true)\n",
            " |-- arr_time: string (nullable = true)\n",
            " |-- arr_delay: integer (nullable = true)\n",
            " |-- carrier: string (nullable = true)\n",
            " |-- flight: string (nullable = true)\n",
            " |-- origin: string (nullable = true)\n",
            " |-- dest: string (nullable = true)\n",
            " |-- air_time: integer (nullable = true)\n",
            " |-- distance: string (nullable = true)\n",
            " |-- hour: string (nullable = true)\n",
            " |-- minute: string (nullable = true)\n",
            " |-- plane_year: integer (nullable = true)\n",
            " |-- type: string (nullable = true)\n",
            " |-- manufacturer: string (nullable = true)\n",
            " |-- model: string (nullable = true)\n",
            " |-- engines: string (nullable = true)\n",
            " |-- seats: string (nullable = true)\n",
            " |-- speed: string (nullable = true)\n",
            " |-- engine: string (nullable = true)\n",
            "\n"
          ]
        }
      ]
    },
    {
      "cell_type": "markdown",
      "source": [
        "- 새로운 컬럼 작성\n",
        "  + plane_age라는 컬럼을 생성함"
      ],
      "metadata": {
        "id": "lIiINkx2WCM4"
      }
    },
    {
      "cell_type": "code",
      "source": [
        "model_data = model_data.withColumn('plane_age', model_data.year-model_data.plane_year)\n",
        "model_data.show(10)"
      ],
      "metadata": {
        "colab": {
          "base_uri": "https://localhost:8080/"
        },
        "id": "s6WhDU3jQcNV",
        "outputId": "23b50841-5198-4678-dc6a-ac7ae2fa84c6"
      },
      "execution_count": 12,
      "outputs": [
        {
          "output_type": "stream",
          "name": "stdout",
          "text": [
            "+-------+----+-----+---+--------+---------+--------+---------+-------+------+------+----+--------+--------+----+------+----------+--------------------+------------+--------+-------+-----+-----+---------+---------+\n",
            "|tailnum|year|month|day|dep_time|dep_delay|arr_time|arr_delay|carrier|flight|origin|dest|air_time|distance|hour|minute|plane_year|                type|manufacturer|   model|engines|seats|speed|   engine|plane_age|\n",
            "+-------+----+-----+---+--------+---------+--------+---------+-------+------+------+----+--------+--------+----+------+----------+--------------------+------------+--------+-------+-----+-----+---------+---------+\n",
            "| N846VA|2014|  954|  8|     658|       -7|     935|      954|     VX|  1780|   SEA| LAX|     954|     954|   6|    58|       954|Fixed wing multi ...|      AIRBUS|A320-214|      2|  182|   NA|Turbo-fan|   1060.0|\n",
            "| N559AS|2014| 2677| 22|    1040|        5|    1505|     2677|     AS|   851|   SEA| HNL|    2677|    2677|  10|    40|      2677|Fixed wing multi ...|      BOEING| 737-890|      2|  149|   NA|Turbo-fan|   -663.0|\n",
            "| N847VA|2014|  679|  9|    1443|       -2|    1652|      679|     VX|   755|   SEA| SFO|     679|     679|  14|    43|       679|Fixed wing multi ...|      AIRBUS|A320-214|      2|  182|   NA|Turbo-fan|   1335.0|\n",
            "| N360SW|2014|  569|  9|    1705|       45|    1839|      569|     WN|   344|   PDX| SJC|     569|     569|  17|     5|       569|Fixed wing multi ...|      BOEING| 737-3H4|      2|  149|   NA|Turbo-fan|   1445.0|\n",
            "| N612AS|2014|  937|  9|     754|       -1|    1015|      937|     AS|   522|   SEA| BUR|     937|     937|   7|    54|       937|Fixed wing multi ...|      BOEING| 737-790|      2|  151|   NA|Turbo-jet|   1077.0|\n",
            "| N646SW|2014|  991| 15|    1037|        7|    1352|      991|     WN|    48|   PDX| DEN|     991|     991|  10|    37|       991|Fixed wing multi ...|      BOEING| 737-3H4|      2|  149|   NA|Turbo-fan|   1023.0|\n",
            "| N422WN|2014|  543|  2|     847|       42|    1041|      543|     WN|  1520|   PDX| OAK|     543|     543|   8|    47|       543|Fixed wing multi ...|      BOEING| 737-7H4|      2|  140|   NA|Turbo-fan|   1471.0|\n",
            "| N361VA|2014|  679| 12|    1655|       -5|    1842|      679|     VX|   755|   SEA| SFO|     679|     679|  16|    55|       679|Fixed wing multi ...|      AIRBUS|A320-214|      2|  182|   NA|Turbo-fan|   1335.0|\n",
            "| N309AS|2014| 1050| 19|    1236|       -4|    1508|     1050|     AS|   490|   SEA| SAN|    1050|    1050|  12|    36|      1050|Fixed wing multi ...|      BOEING| 737-990|      2|  149|   NA|Turbo-jet|    964.0|\n",
            "| N564AS|2014| 1721| 19|    1812|       -3|    2352|     1721|     AS|    26|   SEA| ORD|    1721|    1721|  18|    12|      1721|Fixed wing multi ...|      BOEING| 737-890|      2|  149|   NA|Turbo-fan|    293.0|\n",
            "+-------+----+-----+---+--------+---------+--------+---------+-------+------+------+----+--------+--------+----+------+----------+--------------------+------------+--------+-------+-----+-----+---------+---------+\n",
            "only showing top 10 rows\n",
            "\n"
          ]
        }
      ]
    },
    {
      "cell_type": "markdown",
      "source": [
        "- 컬럼명 is_late : 도착시간(arr_delay)을 기준으로 해서 양수가 나오면 늦음. True\n",
        "- withColumn() 내부에서 연산"
      ],
      "metadata": {
        "id": "FCNwrn-RWlvR"
      }
    },
    {
      "cell_type": "code",
      "source": [
        "import pyspark.sql.functions as F\n",
        "model_data = model_data.withColumn('is_late', F.when(model_data.arr_delay > 0, True).otherwise(False))\n",
        "model_data.show()"
      ],
      "metadata": {
        "colab": {
          "base_uri": "https://localhost:8080/"
        },
        "id": "cv7hYiriQcJ1",
        "outputId": "e1d33644-146e-4bc4-9829-02c5a7cf1c23"
      },
      "execution_count": 16,
      "outputs": [
        {
          "output_type": "stream",
          "name": "stdout",
          "text": [
            "+-------+----+-----+---+--------+---------+--------+---------+-------+------+------+----+--------+--------+----+------+----------+--------------------+--------------+-----------+-------+-----+-----+---------+---------+-------+\n",
            "|tailnum|year|month|day|dep_time|dep_delay|arr_time|arr_delay|carrier|flight|origin|dest|air_time|distance|hour|minute|plane_year|                type|  manufacturer|      model|engines|seats|speed|   engine|plane_age|is_late|\n",
            "+-------+----+-----+---+--------+---------+--------+---------+-------+------+------+----+--------+--------+----+------+----------+--------------------+--------------+-----------+-------+-----+-----+---------+---------+-------+\n",
            "| N846VA|2014|  954|  8|     658|       -7|     935|      954|     VX|  1780|   SEA| LAX|     954|     954|   6|    58|       954|Fixed wing multi ...|        AIRBUS|   A320-214|      2|  182|   NA|Turbo-fan|   1060.0|   true|\n",
            "| N559AS|2014| 2677| 22|    1040|        5|    1505|     2677|     AS|   851|   SEA| HNL|    2677|    2677|  10|    40|      2677|Fixed wing multi ...|        BOEING|    737-890|      2|  149|   NA|Turbo-fan|   -663.0|   true|\n",
            "| N847VA|2014|  679|  9|    1443|       -2|    1652|      679|     VX|   755|   SEA| SFO|     679|     679|  14|    43|       679|Fixed wing multi ...|        AIRBUS|   A320-214|      2|  182|   NA|Turbo-fan|   1335.0|   true|\n",
            "| N360SW|2014|  569|  9|    1705|       45|    1839|      569|     WN|   344|   PDX| SJC|     569|     569|  17|     5|       569|Fixed wing multi ...|        BOEING|    737-3H4|      2|  149|   NA|Turbo-fan|   1445.0|   true|\n",
            "| N612AS|2014|  937|  9|     754|       -1|    1015|      937|     AS|   522|   SEA| BUR|     937|     937|   7|    54|       937|Fixed wing multi ...|        BOEING|    737-790|      2|  151|   NA|Turbo-jet|   1077.0|   true|\n",
            "| N646SW|2014|  991| 15|    1037|        7|    1352|      991|     WN|    48|   PDX| DEN|     991|     991|  10|    37|       991|Fixed wing multi ...|        BOEING|    737-3H4|      2|  149|   NA|Turbo-fan|   1023.0|   true|\n",
            "| N422WN|2014|  543|  2|     847|       42|    1041|      543|     WN|  1520|   PDX| OAK|     543|     543|   8|    47|       543|Fixed wing multi ...|        BOEING|    737-7H4|      2|  140|   NA|Turbo-fan|   1471.0|   true|\n",
            "| N361VA|2014|  679| 12|    1655|       -5|    1842|      679|     VX|   755|   SEA| SFO|     679|     679|  16|    55|       679|Fixed wing multi ...|        AIRBUS|   A320-214|      2|  182|   NA|Turbo-fan|   1335.0|   true|\n",
            "| N309AS|2014| 1050| 19|    1236|       -4|    1508|     1050|     AS|   490|   SEA| SAN|    1050|    1050|  12|    36|      1050|Fixed wing multi ...|        BOEING|    737-990|      2|  149|   NA|Turbo-jet|    964.0|   true|\n",
            "| N564AS|2014| 1721| 19|    1812|       -3|    2352|     1721|     AS|    26|   SEA| ORD|    1721|    1721|  18|    12|      1721|Fixed wing multi ...|        BOEING|    737-890|      2|  149|   NA|Turbo-fan|    293.0|   true|\n",
            "| N323AS|2014|  954|  8|    1653|       -2|    1924|      954|     AS|   448|   SEA| LAX|     954|     954|  16|    53|       954|Fixed wing multi ...|        BOEING|    737-990|      2|  149|   NA|Turbo-jet|   1060.0|   true|\n",
            "| N305AS|2014| 1107|  3|    1120|        0|    1415|     1107|     AS|   656|   SEA| PHX|    1107|    1107|  11|    20|      1107|Fixed wing multi ...|        BOEING|    737-990|      2|  149|   NA|Turbo-jet|    907.0|   true|\n",
            "| N433AS|2014|  867| 30|     811|       21|    1038|      867|     AS|   608|   SEA| LAS|     867|     867|   8|    11|       867|Fixed wing multi ...|        BOEING|  737-990ER|      2|  222|   NA|Turbo-fan|   1147.0|   true|\n",
            "| N765AS|2014| 1448| 12|    2346|       -4|     217|     1448|     AS|   121|   SEA| ANC|    1448|    1448|  23|    46|      1448|Fixed wing multi ...|        BOEING|    737-4Q8|      2|  149|   NA|Turbo-fan|    566.0|   true|\n",
            "| N713AS|2014|  679| 31|    1314|       89|    1544|      679|     AS|   306|   SEA| SFO|     679|     679|  13|    14|       679|Fixed wing multi ...|        BOEING|    737-490|      2|  149|   NA|Turbo-jet|   1335.0|   true|\n",
            "| N27205|2014|  550| 29|    2009|        3|    2159|      550|     UA|  1458|   PDX| SFO|     550|     550|  20|     9|       550|Fixed wing multi ...|        BOEING|    737-824|      2|  149|   NA|Turbo-fan|   1464.0|   true|\n",
            "| N626AS|2014|  605| 17|    2015|       50|    2150|      605|     AS|   368|   SEA| SMF|     605|     605|  20|    15|       605|Fixed wing multi ...|        BOEING|    737-790|      2|  151|   NA|Turbo-jet|   1409.0|   true|\n",
            "| N8634A|2014| 1733| 11|    1017|       -3|    1613|     1733|     WN|   827|   SEA| MDW|    1733|    1733|  10|    17|      1733|Fixed wing multi ...|        BOEING|    737-8H4|      2|  140|   NA|Turbo-fan|    281.0|   true|\n",
            "| N597AS|2014| 2496| 13|    2156|       -9|     607|     2496|     AS|    24|   SEA| BOS|    2496|    2496|  21|    56|      2496|Fixed wing multi ...|        BOEING|    737-890|      2|  149|   NA|Turbo-fan|   -482.0|   true|\n",
            "| N215AG|2014|  817|  5|    1733|      -12|    1945|      817|     OO|  3488|   PDX| BUR|     817|     817|  17|    33|       817|Fixed wing multi ...|BOMBARDIER INC|CL-600-2C10|      2|   80|   NA|Turbo-fan|   1197.0|   true|\n",
            "+-------+----+-----+---+--------+---------+--------+---------+-------+------+------+----+--------+--------+----+------+----------+--------------------+--------------+-----------+-------+-----+-----+---------+---------+-------+\n",
            "only showing top 20 rows\n",
            "\n"
          ]
        }
      ]
    },
    {
      "cell_type": "code",
      "source": [
        "#label column 생성 from is_late ==> Integer\n",
        "model_data = model_data.withColumn(\"label\", model_data.is_late.cast(\"integer\"))\n",
        "model_data.show(2)"
      ],
      "metadata": {
        "colab": {
          "base_uri": "https://localhost:8080/"
        },
        "id": "i5YnXhZ2XWxa",
        "outputId": "8e80dece-c995-4910-affe-f9cf8795394d"
      },
      "execution_count": 17,
      "outputs": [
        {
          "output_type": "stream",
          "name": "stdout",
          "text": [
            "+-------+----+-----+---+--------+---------+--------+---------+-------+------+------+----+--------+--------+----+------+----------+--------------------+------------+--------+-------+-----+-----+---------+---------+-------+-----+\n",
            "|tailnum|year|month|day|dep_time|dep_delay|arr_time|arr_delay|carrier|flight|origin|dest|air_time|distance|hour|minute|plane_year|                type|manufacturer|   model|engines|seats|speed|   engine|plane_age|is_late|label|\n",
            "+-------+----+-----+---+--------+---------+--------+---------+-------+------+------+----+--------+--------+----+------+----------+--------------------+------------+--------+-------+-----+-----+---------+---------+-------+-----+\n",
            "| N846VA|2014|  954|  8|     658|       -7|     935|      954|     VX|  1780|   SEA| LAX|     954|     954|   6|    58|       954|Fixed wing multi ...|      AIRBUS|A320-214|      2|  182|   NA|Turbo-fan|   1060.0|   true|    1|\n",
            "| N559AS|2014| 2677| 22|    1040|        5|    1505|     2677|     AS|   851|   SEA| HNL|    2677|    2677|  10|    40|      2677|Fixed wing multi ...|      BOEING| 737-890|      2|  149|   NA|Turbo-fan|   -663.0|   true|    1|\n",
            "+-------+----+-----+---+--------+---------+--------+---------+-------+------+------+----+--------+--------+----+------+----------+--------------------+------------+--------+-------+-----+-----+---------+---------+-------+-----+\n",
            "only showing top 2 rows\n",
            "\n"
          ]
        }
      ]
    },
    {
      "cell_type": "code",
      "source": [
        "# 결측치가 있는 컬럼 제거\n",
        "model_data = model_data.filter(\"arr_delay is not NULL and dep_delay is not NULL and air_time is not NULL and plane_year is not NULL\")"
      ],
      "metadata": {
        "id": "m-IQ0GHlbsgY"
      },
      "execution_count": 19,
      "outputs": []
    },
    {
      "cell_type": "markdown",
      "source": [
        "# FE\n",
        "- VectorAssembler\n",
        " + Pipeline 구축\n",
        " + StringIndexer\n",
        " + OneHotEncoder\n",
        "- 모든 input data는 숫자여야 해서, 모두 변경을 해야 함\n",
        "- Spark ML 클래스가 요구하는 데이터 양식에 맞춰야 한다.\n"
      ],
      "metadata": {
        "id": "Lr98zPKucDEp"
      }
    },
    {
      "cell_type": "code",
      "source": [
        "from pyspark.ml.feature import StringIndexer\n",
        "from pyspark.ml.feature import OneHotEncoder\n",
        "from pyspark.ml.feature import VectorAssembler\n",
        "from pyspark.ml import Pipeline\n",
        "\n",
        "carr_indexer = StringIndexer(inputCol=\"carrier\", outputCol=\"carrier_index\")\n",
        "carr_encoder = OneHotEncoder(inputCol=\"carrier_index\", outputCol=\"carrier_fact\")\n",
        "dest_indexer = StringIndexer(inputCol=\"dest\", outputCol=\"dest_index\")\n",
        "dest_encoder = OneHotEncoder(inputCol=\"dest_index\", outputCol=\"dest_fact\")\n",
        "vec_assembler = VectorAssembler(inputCols=[\"month\", \"air_time\", \"carrier_fact\", \"dest_fact\", \"plane_age\"], outputCol=\"features\")\n",
        "\n",
        "flights_pipe = Pipeline(stages=[dest_indexer, dest_encoder, carr_indexer, carr_encoder, vec_assembler])\n",
        "piped_data = flights_pipe.fit(model_data).transform(model_data)\n",
        "piped_data.show(1)"
      ],
      "metadata": {
        "colab": {
          "base_uri": "https://localhost:8080/"
        },
        "id": "XgSHax1ccAye",
        "outputId": "2830d0e4-2f7d-465c-8d93-ac6096cf08d1"
      },
      "execution_count": 24,
      "outputs": [
        {
          "output_type": "stream",
          "name": "stdout",
          "text": [
            "+-------+----+-----+---+--------+---------+--------+---------+-------+------+------+----+--------+--------+----+------+----------+--------------------+------------+--------+-------+-----+-----+---------+---------+-------+-----+----------+--------------+-------------+--------------+--------------------+\n",
            "|tailnum|year|month|day|dep_time|dep_delay|arr_time|arr_delay|carrier|flight|origin|dest|air_time|distance|hour|minute|plane_year|                type|manufacturer|   model|engines|seats|speed|   engine|plane_age|is_late|label|dest_index|     dest_fact|carrier_index|  carrier_fact|            features|\n",
            "+-------+----+-----+---+--------+---------+--------+---------+-------+------+------+----+--------+--------+----+------+----------+--------------------+------------+--------+-------+-----+-----+---------+---------+-------+-----+----------+--------------+-------------+--------------+--------------------+\n",
            "| N846VA|2014|  954|  8|     658|       -7|     935|      954|     VX|  1780|   SEA| LAX|     954|     954|   6|    58|       954|Fixed wing multi ...|      AIRBUS|A320-214|      2|  182|   NA|Turbo-fan|   1060.0|   true|    1|       1.0|(68,[1],[1.0])|          8.0|(10,[8],[1.0])|(81,[0,1,10,13,80...|\n",
            "+-------+----+-----+---+--------+---------+--------+---------+-------+------+------+----+--------+--------+----+------+----------+--------------------+------------+--------+-------+-----+-----+---------+---------+-------+-----+----------+--------------+-------------+--------------+--------------------+\n",
            "only showing top 1 row\n",
            "\n"
          ]
        }
      ]
    },
    {
      "cell_type": "code",
      "source": [
        "training, test = piped_data.randomSplit([0.6, 0.4])"
      ],
      "metadata": {
        "id": "nSmujqyDdKYZ"
      },
      "execution_count": 25,
      "outputs": []
    },
    {
      "cell_type": "markdown",
      "source": [
        "모델 생성"
      ],
      "metadata": {
        "id": "KMFYbUYlg6do"
      }
    },
    {
      "cell_type": "code",
      "source": [
        "from pyspark.ml.classification import LogisticRegression\n",
        "lr = LogisticRegression()"
      ],
      "metadata": {
        "id": "rHslP0Xpg1jZ"
      },
      "execution_count": 26,
      "outputs": []
    },
    {
      "cell_type": "markdown",
      "source": [
        "교차검증(Grid Search)"
      ],
      "metadata": {
        "id": "eLMmNfz8g73o"
      }
    },
    {
      "cell_type": "code",
      "source": [
        "import pyspark.ml.tuning as tune\n",
        "import numpy as np\n",
        "\n",
        "grid = tune.ParamGridBuilder()\n",
        "\n",
        "# 파라미터 튜닝 인수 추가\n",
        "grid = grid.addGrid(lr.regParam, np.arange(0, .1, .01))\n",
        "grid = grid.addGrid(lr.elasticNetParam, [0, 1])\n",
        "\n",
        "grid = grid.build()"
      ],
      "metadata": {
        "id": "RySibW6Kg7b-"
      },
      "execution_count": 27,
      "outputs": []
    },
    {
      "cell_type": "markdown",
      "source": [
        "- 교차검증 : 평가지표가 필요"
      ],
      "metadata": {
        "id": "0jxW4iSUiGpy"
      }
    },
    {
      "cell_type": "code",
      "source": [
        "import pyspark.ml.evaluation as evals\n",
        "evaluator = evals.BinaryClassificationEvaluator(metricName=\"areaUnderROC\")"
      ],
      "metadata": {
        "id": "mrrNnXgziGVI"
      },
      "execution_count": 29,
      "outputs": []
    },
    {
      "cell_type": "code",
      "source": [
        "cv = tune.CrossValidator(estimator = lr,\n",
        "                         estimatorParamMaps = grid,\n",
        "                         evaluator = evaluator)\n",
        "\n",
        "cv"
      ],
      "metadata": {
        "colab": {
          "base_uri": "https://localhost:8080/"
        },
        "id": "Y6DPsPVZifPs",
        "outputId": "4611d8e4-b853-4480-cbd8-654ea07ae729"
      },
      "execution_count": 30,
      "outputs": [
        {
          "output_type": "execute_result",
          "data": {
            "text/plain": [
              "CrossValidator_5916adefe12b"
            ]
          },
          "metadata": {},
          "execution_count": 30
        }
      ]
    },
    {
      "cell_type": "code",
      "source": [
        "final_lr = cv.fit(training)"
      ],
      "metadata": {
        "id": "t8Y1xG2Wiqtx"
      },
      "execution_count": 31,
      "outputs": []
    },
    {
      "cell_type": "code",
      "source": [
        "print(final_lr)"
      ],
      "metadata": {
        "colab": {
          "base_uri": "https://localhost:8080/"
        },
        "id": "rMTWBiIhi-AQ",
        "outputId": "93be7211-f7ff-4c33-a657-19b8eaa0f780"
      },
      "execution_count": 32,
      "outputs": [
        {
          "output_type": "stream",
          "name": "stdout",
          "text": [
            "CrossValidatorModel_1e1f581b860b\n"
          ]
        }
      ]
    },
    {
      "cell_type": "code",
      "source": [
        "test_results = final_lr.transform(test)\n",
        "test_results.show(1)"
      ],
      "metadata": {
        "colab": {
          "base_uri": "https://localhost:8080/"
        },
        "id": "_QIEf1YKjCGO",
        "outputId": "9c3758ec-404f-4370-aa6a-69b9e97eb5cb"
      },
      "execution_count": 33,
      "outputs": [
        {
          "output_type": "stream",
          "name": "stdout",
          "text": [
            "+-------+----+-----+---+--------+---------+--------+---------+-------+------+------+----+--------+--------+----+------+----------+----+------------+-----+-------+-----+-----+------+---------+-------+-----+----------+---------------+-------------+--------------+--------------------+--------------------+-----------+----------+\n",
            "|tailnum|year|month|day|dep_time|dep_delay|arr_time|arr_delay|carrier|flight|origin|dest|air_time|distance|hour|minute|plane_year|type|manufacturer|model|engines|seats|speed|engine|plane_age|is_late|label|dest_index|      dest_fact|carrier_index|  carrier_fact|            features|       rawPrediction|probability|prediction|\n",
            "+-------+----+-----+---+--------+---------+--------+---------+-------+------+------+----+--------+--------+----+------+----------+----+------------+-----+-------+-----+-----+------+---------+-------+-----+----------+---------------+-------------+--------------+--------------------+--------------------+-----------+----------+\n",
            "| D942DN|2014| 1426|  2|      25|       -5|     528|     1426|     DL|  2200|   PDX| MSP|    1426|    1426|   0|    25|      1426|NULL|        NULL| NULL|   NULL| NULL| NULL|  NULL|    588.0|   true|    1|      14.0|(68,[14],[1.0])|          3.0|(10,[3],[1.0])|(81,[0,1,5,26,80]...|[-Infinity,Infinity]|  [0.0,1.0]|       1.0|\n",
            "+-------+----+-----+---+--------+---------+--------+---------+-------+------+------+----+--------+--------+----+------+----------+----+------------+-----+-------+-----+-----+------+---------+-------+-----+----------+---------------+-------------+--------------+--------------------+--------------------+-----------+----------+\n",
            "only showing top 1 row\n",
            "\n"
          ]
        }
      ]
    },
    {
      "cell_type": "code",
      "source": [
        "evaluator.evaluate(test_results)"
      ],
      "metadata": {
        "colab": {
          "base_uri": "https://localhost:8080/"
        },
        "id": "lWDGdV9Ajp8t",
        "outputId": "ffc9e311-b313-48ae-8f96-c84015e0fdda"
      },
      "execution_count": 34,
      "outputs": [
        {
          "output_type": "execute_result",
          "data": {
            "text/plain": [
              "1.0"
            ]
          },
          "metadata": {},
          "execution_count": 34
        }
      ]
    },
    {
      "cell_type": "code",
      "source": [],
      "metadata": {
        "id": "OrXkcg6Ejsvz"
      },
      "execution_count": null,
      "outputs": []
    }
  ]
}