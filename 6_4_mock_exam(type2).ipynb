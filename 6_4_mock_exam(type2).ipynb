{
  "nbformat": 4,
  "nbformat_minor": 0,
  "metadata": {
    "colab": {
      "provenance": [],
      "include_colab_link": true
    },
    "kernelspec": {
      "name": "python3",
      "display_name": "Python 3"
    },
    "language_info": {
      "name": "python"
    }
  },
  "cells": [
    {
      "cell_type": "markdown",
      "metadata": {
        "id": "view-in-github",
        "colab_type": "text"
      },
      "source": [
        "<a href=\"https://colab.research.google.com/github/j2nhyeok/self-study/blob/main/6_4_mock_exam(type2).ipynb\" target=\"_parent\"><img src=\"https://colab.research.google.com/assets/colab-badge.svg\" alt=\"Open In Colab\"/></a>"
      ]
    },
    {
      "cell_type": "markdown",
      "source": [
        "## 모의고사 작업형2\n",
        "- 아래 코드를 시험환경에 복사 - 붙여넣기 한 후 작업 권장함\n",
        "- 시험환경 : https://bit.ly/3ppKsIO\n",
        "- (단 코랩을 사용할 경우 1개의 셀로, 캐글을 사용할 경우 스크립트 모드 권장함)"
      ],
      "metadata": {
        "id": "EuZ7Q1nnFhf0"
      }
    },
    {
      "cell_type": "markdown",
      "source": [
        "- 제공 데이터 목록\n",
        "    - train.csv\n",
        "    - test.csv\n",
        "- 분류 모델을 만든 뒤 다음과 같은 형식으로 CSV파일로 생성하시오 (제출한 모델의 성능은 F1평가지표에 따라 채점)\n",
        "\n",
        "```\n",
        "index,target\n",
        "0,0\n",
        "1,0\n",
        "2,0\n",
        "...\n",
        "111,1\n",
        "112,1\n",
        "113,1\n",
        "\n",
        "```\n",
        "\n",
        "- 수험번호.csv(예: 000.csv) 파일 생성"
      ],
      "metadata": {
        "id": "-_fTu7bWAQNK"
      }
    },
    {
      "cell_type": "code",
      "source": [
        "# 시험환경 세팅\n",
        "import pandas as pd\n",
        "from sklearn import datasets\n",
        "dataset = datasets.load_breast_cancer()\n",
        "df = pd.DataFrame(dataset['data'], columns=dataset['feature_names'])\n",
        "df['target'] = dataset['target']\n",
        "df.to_csv(\"data2.csv\", index=False)\n",
        "\n",
        "from sklearn.model_selection import train_test_split\n",
        "train, test = train_test_split(df, test_size=0.2, random_state=2022)\n",
        "y_test = test.pop('target')\n",
        "train.to_csv('train.csv', index=False)\n",
        "test.to_csv('test.csv', index=False)\n",
        "\n",
        "#####################################################################\n",
        "\n",
        "# 출력을 원하실 경우 print() 함수 활용\n",
        "# 예시) print(df.head())\n",
        "\n",
        "# getcwd(), chdir() 등 작업 폴더 설정 불필요\n",
        "# 파일 경로 상 내부 드라이브 경로(C: 등) 접근 불가\n",
        "\n",
        "# 데이터 파일 읽기 예제\n",
        "import pandas as pd\n",
        "train = pd.read_csv(\"train.csv\")\n",
        "test = pd.read_csv(\"test.csv\")\n",
        "# 사용자 코딩\n",
        "pd.set_option('display.max_columns', 100)\n",
        "\n",
        "from sklearn.model_selection import train_test_split\n",
        "X_tr, X_val, y_tr, y_val = train_test_split(train.drop('target', axis = 1), train['target'], test_size = 0.1, random_state = 2022)\n",
        "\n",
        "from sklearn.ensemble import RandomForestClassifier\n",
        "clf = RandomForestClassifier(max_depth =2, random_state=0)\n",
        "clf = clf.fit(X_tr, y_tr)\n",
        "pred = clf.predict(X_val)\n",
        "\n",
        "\n",
        "from sklearn.metrics import f1_score\n",
        "print(f1_score(y_val, pred))\n",
        "\n",
        "pred = clf.predict(test)\n",
        "\n",
        "submit = pd.DataFrame({\n",
        "    'index' : test.index,\n",
        "    'target' : pred\n",
        "})\n",
        "\n",
        "submit.to_csv('sdfs.csv', index=False))"
      ],
      "metadata": {
        "id": "0fJTz8fzHU7B",
        "colab": {
          "base_uri": "https://localhost:8080/"
        },
        "outputId": "41e79cc4-5adf-41aa-94fb-597bd239bb5e"
      },
      "execution_count": 8,
      "outputs": [
        {
          "output_type": "stream",
          "name": "stdout",
          "text": [
            "0.8800000000000001\n"
          ]
        }
      ]
    },
    {
      "cell_type": "code",
      "source": [],
      "metadata": {
        "id": "rB_CJ9eoGxdh"
      },
      "execution_count": null,
      "outputs": []
    },
    {
      "cell_type": "markdown",
      "source": [
        "## 풀이\n",
        "- 이번 풀이의 포인트는 dir, __all__, help활용"
      ],
      "metadata": {
        "id": "fNPwXteurE9y"
      }
    },
    {
      "cell_type": "code",
      "source": [
        "# 시험환경 세팅\n",
        "import pandas as pd\n",
        "from sklearn import datasets\n",
        "dataset = datasets.load_breast_cancer()\n",
        "df = pd.DataFrame(dataset['data'], columns=dataset['feature_names'])\n",
        "df['target'] = dataset['target']\n",
        "df.to_csv(\"data2.csv\", index=False)\n",
        "\n",
        "from sklearn.model_selection import train_test_split\n",
        "train, test = train_test_split(df, test_size=0.2, random_state=2022)\n",
        "y_test = test.pop('target')\n",
        "train.to_csv('train.csv', index=False)\n",
        "test.to_csv('test.csv', index=False)\n",
        "\n",
        "#####################################################################\n",
        "\n",
        "import pandas as pd\n",
        "train = pd.read_csv(\"train.csv\")\n",
        "test = pd.read_csv(\"test.csv\")\n",
        "\n",
        "\n",
        "## 검증데이터 분리\n",
        "from sklearn.model_selection import train_test_split\n",
        "X_tr, X_val, y_tr, y_val = train_test_split(train.drop('target',axis=1), train['target'],  test_size=0.1, random_state=2022)\n",
        "\n",
        "## 모델\n",
        "from sklearn.ensemble import RandomForestClassifier\n",
        "model = RandomForestClassifier(random_state=2022)\n",
        "model.fit(X_tr, y_tr)\n",
        "pred = model.predict(X_val)\n",
        "\n",
        "## 평가\n",
        "from sklearn.metrics import f1_score\n",
        "f1_score(y_val, pred)\n",
        "\n",
        "## 예측(TEST)\n",
        "pred = model.predict(test)\n",
        "\n",
        "## CSV생성\n",
        "pd.DataFrame({'index': test.index, 'target': pred}).to_csv('003000000.csv', index=False)"
      ],
      "metadata": {
        "id": "-gOFhquprJ0e"
      },
      "execution_count": null,
      "outputs": []
    },
    {
      "cell_type": "code",
      "source": [
        "# 실제 평가\n",
        "f1_score(y_test, pred)"
      ],
      "metadata": {
        "colab": {
          "base_uri": "https://localhost:8080/"
        },
        "id": "dz4tbT9NA_J5",
        "outputId": "00246172-8f61-4b08-8552-4b7112bf3105"
      },
      "execution_count": null,
      "outputs": [
        {
          "output_type": "execute_result",
          "data": {
            "text/plain": [
              "0.9496402877697842"
            ]
          },
          "metadata": {},
          "execution_count": 47
        }
      ]
    },
    {
      "cell_type": "code",
      "source": [],
      "metadata": {
        "id": "VWCNXgMhFotE"
      },
      "execution_count": null,
      "outputs": []
    }
  ]
}