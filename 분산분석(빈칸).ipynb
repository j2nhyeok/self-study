{
  "nbformat": 4,
  "nbformat_minor": 0,
  "metadata": {
    "colab": {
      "provenance": [],
      "include_colab_link": true
    },
    "kernelspec": {
      "name": "python3",
      "display_name": "Python 3"
    },
    "language_info": {
      "name": "python"
    }
  },
  "cells": [
    {
      "cell_type": "markdown",
      "metadata": {
        "id": "view-in-github",
        "colab_type": "text"
      },
      "source": [
        "<a href=\"https://colab.research.google.com/github/j2nhyeok/self-study/blob/main/%EB%B6%84%EC%82%B0%EB%B6%84%EC%84%9D(%EB%B9%88%EC%B9%B8).ipynb\" target=\"_parent\"><img src=\"https://colab.research.google.com/assets/colab-badge.svg\" alt=\"Open In Colab\"/></a>"
      ]
    },
    {
      "cell_type": "markdown",
      "source": [
        "# 일원 분산 분석"
      ],
      "metadata": {
        "id": "noR3fjbYSw1_"
      }
    },
    {
      "cell_type": "markdown",
      "source": [
        "주어진 데이터는 4가지 다른 교육 방법을 적용한 대학생들의 학점 결과이다. 이 실험에서는 비슷한 실력을 가진 학생 40명을 무작위로 4개(A, B, C, D)그룹으로 나누었고, 각 그룹은 다른 교육 방법을 적용했다. 학생들의 학점 결과에는 교육 방법에 따른 차이가 있는지 유의수준 0.5하에서 검정하시오.\n",
        "- 귀무가설(H0): 네 가지 교육 방법에 의한 학생들의 학점 평균은 동일하다.\n",
        "- 대립가설(H1): 적어도 두 그룹의 학점 평균은 다르다."
      ],
      "metadata": {
        "id": "JsELXtKgvRkK"
      }
    },
    {
      "cell_type": "markdown",
      "source": [
        "## 1. 기초"
      ],
      "metadata": {
        "id": "80IBaqHZS1JH"
      }
    },
    {
      "cell_type": "code",
      "source": [
        "import pandas as pd\n",
        "df = pd.DataFrame({\n",
        "    'A': [3.5, 4.3, 3.8, 3.6, 4.1, 3.2, 3.9, 4.4, 3.5, 3.3],\n",
        "    'B': [3.9, 4.4, 4.1, 4.2, 4.5, 3.8, 4.2, 3.9, 4.4, 4.3],\n",
        "    'C': [3.2, 3.7, 3.6, 3.9, 4.3, 4.1, 3.8, 3.5, 4.4, 4.0],\n",
        "    'D': [3.8, 3.4, 3.1, 3.5, 3.6, 3.9, 3.2, 3.7, 3.3, 3.4]\n",
        "})\n",
        "print(df.head(2))"
      ],
      "metadata": {
        "id": "8Tix8IOgjleA",
        "colab": {
          "base_uri": "https://localhost:8080/"
        },
        "outputId": "b15a2088-c860-4324-b46c-dd7175ac1918"
      },
      "execution_count": 1,
      "outputs": [
        {
          "output_type": "stream",
          "name": "stdout",
          "text": [
            "     A    B    C    D\n",
            "0  3.5  3.9  3.2  3.8\n",
            "1  4.3  4.4  3.7  3.4\n"
          ]
        }
      ]
    },
    {
      "cell_type": "markdown",
      "source": [
        "### 일원 분산 분석"
      ],
      "metadata": {
        "id": "w3x85qp5mGRA"
      }
    },
    {
      "cell_type": "code",
      "source": [
        "# 일원 분산 분석\n",
        "from scipy import stats\n",
        "stats.f_oneway(df['A'], df['B'], df['C'], df['D'])"
      ],
      "metadata": {
        "id": "ujMdJExGl5oK",
        "colab": {
          "base_uri": "https://localhost:8080/"
        },
        "outputId": "0d218d25-dece-40f5-e296-3f37aaef4177"
      },
      "execution_count": 2,
      "outputs": [
        {
          "output_type": "execute_result",
          "data": {
            "text/plain": [
              "F_onewayResult(statistic=7.2969837587007, pvalue=0.0006053225519892207)"
            ]
          },
          "metadata": {},
          "execution_count": 2
        }
      ]
    },
    {
      "cell_type": "code",
      "execution_count": 6,
      "metadata": {
        "id": "ie4pxfxlWEvK",
        "colab": {
          "base_uri": "https://localhost:8080/"
        },
        "outputId": "e6d9fb8f-faed-475f-f5bd-f253150b46bf"
      },
      "outputs": [
        {
          "output_type": "stream",
          "name": "stdout",
          "text": [
            "ShapiroResult(statistic=0.949882447719574, pvalue=0.667110025882721)\n",
            "ShapiroResult(statistic=0.934644877910614, pvalue=0.49509894847869873)\n",
            "ShapiroResult(statistic=0.9871343374252319, pvalue=0.9919547438621521)\n",
            "ShapiroResult(statistic=0.9752339720726013, pvalue=0.9346861243247986)\n",
            "LeveneResult(statistic=1.5433829973707245, pvalue=0.22000894224209636)\n"
          ]
        },
        {
          "output_type": "execute_result",
          "data": {
            "text/plain": [
              "F_onewayResult(statistic=7.2969837587007, pvalue=0.0006053225519892207)"
            ]
          },
          "metadata": {},
          "execution_count": 6
        }
      ],
      "source": [
        "# 정규성, 등분산, 일원 분산 분석\n",
        "\n",
        "# Shapiro-Wilk(샤피로-윌크) 정규성 검정\n",
        "print(stats.shapiro(df['A']))\n",
        "print(stats.shapiro(df['B']))\n",
        "print(stats.shapiro(df['C']))\n",
        "print(stats.shapiro(df['D']))\n",
        "\n",
        "# Levene(레빈) 등분산 검정\n",
        "print(stats.levene(df['A'], df['B'], df['C'], df['D']))\n",
        "# 일원 분산 분석\n",
        "stats.f_oneway(df['A'], df['B'], df['C'], df['D'])"
      ]
    },
    {
      "cell_type": "markdown",
      "source": [
        "## 2. 심화"
      ],
      "metadata": {
        "id": "X6IW2XKNTCHh"
      }
    },
    {
      "cell_type": "code",
      "source": [
        "# 데이터 재구조화 (긴 형태)\n",
        "df_melt = df.melt()\n",
        "df_melt.head()"
      ],
      "metadata": {
        "id": "0V10CT1KjvHv",
        "colab": {
          "base_uri": "https://localhost:8080/",
          "height": 206
        },
        "outputId": "b5f3659b-2aed-4e9d-8372-cd251f519ae4"
      },
      "execution_count": 7,
      "outputs": [
        {
          "output_type": "execute_result",
          "data": {
            "text/plain": [
              "  variable  value\n",
              "0        A    3.5\n",
              "1        A    4.3\n",
              "2        A    3.8\n",
              "3        A    3.6\n",
              "4        A    4.1"
            ],
            "text/html": [
              "\n",
              "  <div id=\"df-e9b62c4c-8424-4b42-8ec5-a9c6e1001458\" class=\"colab-df-container\">\n",
              "    <div>\n",
              "<style scoped>\n",
              "    .dataframe tbody tr th:only-of-type {\n",
              "        vertical-align: middle;\n",
              "    }\n",
              "\n",
              "    .dataframe tbody tr th {\n",
              "        vertical-align: top;\n",
              "    }\n",
              "\n",
              "    .dataframe thead th {\n",
              "        text-align: right;\n",
              "    }\n",
              "</style>\n",
              "<table border=\"1\" class=\"dataframe\">\n",
              "  <thead>\n",
              "    <tr style=\"text-align: right;\">\n",
              "      <th></th>\n",
              "      <th>variable</th>\n",
              "      <th>value</th>\n",
              "    </tr>\n",
              "  </thead>\n",
              "  <tbody>\n",
              "    <tr>\n",
              "      <th>0</th>\n",
              "      <td>A</td>\n",
              "      <td>3.5</td>\n",
              "    </tr>\n",
              "    <tr>\n",
              "      <th>1</th>\n",
              "      <td>A</td>\n",
              "      <td>4.3</td>\n",
              "    </tr>\n",
              "    <tr>\n",
              "      <th>2</th>\n",
              "      <td>A</td>\n",
              "      <td>3.8</td>\n",
              "    </tr>\n",
              "    <tr>\n",
              "      <th>3</th>\n",
              "      <td>A</td>\n",
              "      <td>3.6</td>\n",
              "    </tr>\n",
              "    <tr>\n",
              "      <th>4</th>\n",
              "      <td>A</td>\n",
              "      <td>4.1</td>\n",
              "    </tr>\n",
              "  </tbody>\n",
              "</table>\n",
              "</div>\n",
              "    <div class=\"colab-df-buttons\">\n",
              "\n",
              "  <div class=\"colab-df-container\">\n",
              "    <button class=\"colab-df-convert\" onclick=\"convertToInteractive('df-e9b62c4c-8424-4b42-8ec5-a9c6e1001458')\"\n",
              "            title=\"Convert this dataframe to an interactive table.\"\n",
              "            style=\"display:none;\">\n",
              "\n",
              "  <svg xmlns=\"http://www.w3.org/2000/svg\" height=\"24px\" viewBox=\"0 -960 960 960\">\n",
              "    <path d=\"M120-120v-720h720v720H120Zm60-500h600v-160H180v160Zm220 220h160v-160H400v160Zm0 220h160v-160H400v160ZM180-400h160v-160H180v160Zm440 0h160v-160H620v160ZM180-180h160v-160H180v160Zm440 0h160v-160H620v160Z\"/>\n",
              "  </svg>\n",
              "    </button>\n",
              "\n",
              "  <style>\n",
              "    .colab-df-container {\n",
              "      display:flex;\n",
              "      gap: 12px;\n",
              "    }\n",
              "\n",
              "    .colab-df-convert {\n",
              "      background-color: #E8F0FE;\n",
              "      border: none;\n",
              "      border-radius: 50%;\n",
              "      cursor: pointer;\n",
              "      display: none;\n",
              "      fill: #1967D2;\n",
              "      height: 32px;\n",
              "      padding: 0 0 0 0;\n",
              "      width: 32px;\n",
              "    }\n",
              "\n",
              "    .colab-df-convert:hover {\n",
              "      background-color: #E2EBFA;\n",
              "      box-shadow: 0px 1px 2px rgba(60, 64, 67, 0.3), 0px 1px 3px 1px rgba(60, 64, 67, 0.15);\n",
              "      fill: #174EA6;\n",
              "    }\n",
              "\n",
              "    .colab-df-buttons div {\n",
              "      margin-bottom: 4px;\n",
              "    }\n",
              "\n",
              "    [theme=dark] .colab-df-convert {\n",
              "      background-color: #3B4455;\n",
              "      fill: #D2E3FC;\n",
              "    }\n",
              "\n",
              "    [theme=dark] .colab-df-convert:hover {\n",
              "      background-color: #434B5C;\n",
              "      box-shadow: 0px 1px 3px 1px rgba(0, 0, 0, 0.15);\n",
              "      filter: drop-shadow(0px 1px 2px rgba(0, 0, 0, 0.3));\n",
              "      fill: #FFFFFF;\n",
              "    }\n",
              "  </style>\n",
              "\n",
              "    <script>\n",
              "      const buttonEl =\n",
              "        document.querySelector('#df-e9b62c4c-8424-4b42-8ec5-a9c6e1001458 button.colab-df-convert');\n",
              "      buttonEl.style.display =\n",
              "        google.colab.kernel.accessAllowed ? 'block' : 'none';\n",
              "\n",
              "      async function convertToInteractive(key) {\n",
              "        const element = document.querySelector('#df-e9b62c4c-8424-4b42-8ec5-a9c6e1001458');\n",
              "        const dataTable =\n",
              "          await google.colab.kernel.invokeFunction('convertToInteractive',\n",
              "                                                    [key], {});\n",
              "        if (!dataTable) return;\n",
              "\n",
              "        const docLinkHtml = 'Like what you see? Visit the ' +\n",
              "          '<a target=\"_blank\" href=https://colab.research.google.com/notebooks/data_table.ipynb>data table notebook</a>'\n",
              "          + ' to learn more about interactive tables.';\n",
              "        element.innerHTML = '';\n",
              "        dataTable['output_type'] = 'display_data';\n",
              "        await google.colab.output.renderOutput(dataTable, element);\n",
              "        const docLink = document.createElement('div');\n",
              "        docLink.innerHTML = docLinkHtml;\n",
              "        element.appendChild(docLink);\n",
              "      }\n",
              "    </script>\n",
              "  </div>\n",
              "\n",
              "\n",
              "<div id=\"df-5c7b99b6-79ce-43be-9a92-f7993b379deb\">\n",
              "  <button class=\"colab-df-quickchart\" onclick=\"quickchart('df-5c7b99b6-79ce-43be-9a92-f7993b379deb')\"\n",
              "            title=\"Suggest charts\"\n",
              "            style=\"display:none;\">\n",
              "\n",
              "<svg xmlns=\"http://www.w3.org/2000/svg\" height=\"24px\"viewBox=\"0 0 24 24\"\n",
              "     width=\"24px\">\n",
              "    <g>\n",
              "        <path d=\"M19 3H5c-1.1 0-2 .9-2 2v14c0 1.1.9 2 2 2h14c1.1 0 2-.9 2-2V5c0-1.1-.9-2-2-2zM9 17H7v-7h2v7zm4 0h-2V7h2v10zm4 0h-2v-4h2v4z\"/>\n",
              "    </g>\n",
              "</svg>\n",
              "  </button>\n",
              "\n",
              "<style>\n",
              "  .colab-df-quickchart {\n",
              "      --bg-color: #E8F0FE;\n",
              "      --fill-color: #1967D2;\n",
              "      --hover-bg-color: #E2EBFA;\n",
              "      --hover-fill-color: #174EA6;\n",
              "      --disabled-fill-color: #AAA;\n",
              "      --disabled-bg-color: #DDD;\n",
              "  }\n",
              "\n",
              "  [theme=dark] .colab-df-quickchart {\n",
              "      --bg-color: #3B4455;\n",
              "      --fill-color: #D2E3FC;\n",
              "      --hover-bg-color: #434B5C;\n",
              "      --hover-fill-color: #FFFFFF;\n",
              "      --disabled-bg-color: #3B4455;\n",
              "      --disabled-fill-color: #666;\n",
              "  }\n",
              "\n",
              "  .colab-df-quickchart {\n",
              "    background-color: var(--bg-color);\n",
              "    border: none;\n",
              "    border-radius: 50%;\n",
              "    cursor: pointer;\n",
              "    display: none;\n",
              "    fill: var(--fill-color);\n",
              "    height: 32px;\n",
              "    padding: 0;\n",
              "    width: 32px;\n",
              "  }\n",
              "\n",
              "  .colab-df-quickchart:hover {\n",
              "    background-color: var(--hover-bg-color);\n",
              "    box-shadow: 0 1px 2px rgba(60, 64, 67, 0.3), 0 1px 3px 1px rgba(60, 64, 67, 0.15);\n",
              "    fill: var(--button-hover-fill-color);\n",
              "  }\n",
              "\n",
              "  .colab-df-quickchart-complete:disabled,\n",
              "  .colab-df-quickchart-complete:disabled:hover {\n",
              "    background-color: var(--disabled-bg-color);\n",
              "    fill: var(--disabled-fill-color);\n",
              "    box-shadow: none;\n",
              "  }\n",
              "\n",
              "  .colab-df-spinner {\n",
              "    border: 2px solid var(--fill-color);\n",
              "    border-color: transparent;\n",
              "    border-bottom-color: var(--fill-color);\n",
              "    animation:\n",
              "      spin 1s steps(1) infinite;\n",
              "  }\n",
              "\n",
              "  @keyframes spin {\n",
              "    0% {\n",
              "      border-color: transparent;\n",
              "      border-bottom-color: var(--fill-color);\n",
              "      border-left-color: var(--fill-color);\n",
              "    }\n",
              "    20% {\n",
              "      border-color: transparent;\n",
              "      border-left-color: var(--fill-color);\n",
              "      border-top-color: var(--fill-color);\n",
              "    }\n",
              "    30% {\n",
              "      border-color: transparent;\n",
              "      border-left-color: var(--fill-color);\n",
              "      border-top-color: var(--fill-color);\n",
              "      border-right-color: var(--fill-color);\n",
              "    }\n",
              "    40% {\n",
              "      border-color: transparent;\n",
              "      border-right-color: var(--fill-color);\n",
              "      border-top-color: var(--fill-color);\n",
              "    }\n",
              "    60% {\n",
              "      border-color: transparent;\n",
              "      border-right-color: var(--fill-color);\n",
              "    }\n",
              "    80% {\n",
              "      border-color: transparent;\n",
              "      border-right-color: var(--fill-color);\n",
              "      border-bottom-color: var(--fill-color);\n",
              "    }\n",
              "    90% {\n",
              "      border-color: transparent;\n",
              "      border-bottom-color: var(--fill-color);\n",
              "    }\n",
              "  }\n",
              "</style>\n",
              "\n",
              "  <script>\n",
              "    async function quickchart(key) {\n",
              "      const quickchartButtonEl =\n",
              "        document.querySelector('#' + key + ' button');\n",
              "      quickchartButtonEl.disabled = true;  // To prevent multiple clicks.\n",
              "      quickchartButtonEl.classList.add('colab-df-spinner');\n",
              "      try {\n",
              "        const charts = await google.colab.kernel.invokeFunction(\n",
              "            'suggestCharts', [key], {});\n",
              "      } catch (error) {\n",
              "        console.error('Error during call to suggestCharts:', error);\n",
              "      }\n",
              "      quickchartButtonEl.classList.remove('colab-df-spinner');\n",
              "      quickchartButtonEl.classList.add('colab-df-quickchart-complete');\n",
              "    }\n",
              "    (() => {\n",
              "      let quickchartButtonEl =\n",
              "        document.querySelector('#df-5c7b99b6-79ce-43be-9a92-f7993b379deb button');\n",
              "      quickchartButtonEl.style.display =\n",
              "        google.colab.kernel.accessAllowed ? 'block' : 'none';\n",
              "    })();\n",
              "  </script>\n",
              "</div>\n",
              "\n",
              "    </div>\n",
              "  </div>\n"
            ],
            "application/vnd.google.colaboratory.intrinsic+json": {
              "type": "dataframe",
              "variable_name": "df_melt",
              "summary": "{\n  \"name\": \"df_melt\",\n  \"rows\": 40,\n  \"fields\": [\n    {\n      \"column\": \"variable\",\n      \"properties\": {\n        \"dtype\": \"category\",\n        \"num_unique_values\": 4,\n        \"samples\": [\n          \"B\",\n          \"D\",\n          \"A\"\n        ],\n        \"semantic_type\": \"\",\n        \"description\": \"\"\n      }\n    },\n    {\n      \"column\": \"value\",\n      \"properties\": {\n        \"dtype\": \"number\",\n        \"std\": 0.39992787811342645,\n        \"min\": 3.1,\n        \"max\": 4.5,\n        \"num_unique_values\": 15,\n        \"samples\": [\n          4.2,\n          3.7,\n          3.5\n        ],\n        \"semantic_type\": \"\",\n        \"description\": \"\"\n      }\n    }\n  ]\n}"
            }
          },
          "metadata": {},
          "execution_count": 7
        }
      ]
    },
    {
      "cell_type": "markdown",
      "source": [
        "### 분산분석 테이블"
      ],
      "metadata": {
        "id": "l1OyVuNornNT"
      }
    },
    {
      "cell_type": "code",
      "source": [
        "# ANOVA 테이블\n",
        "from statsmodels.formula.api import ols\n",
        "from statsmodels.stats.anova import anova_lm\n",
        "\n",
        "model = ols('value ~ variable', data = df_melt).fit()\n",
        "print(anova_lm(model))"
      ],
      "metadata": {
        "id": "3PH02qzdEPXZ",
        "colab": {
          "base_uri": "https://localhost:8080/"
        },
        "outputId": "d2500811-76e7-492b-af29-f2633db198e0"
      },
      "execution_count": 9,
      "outputs": [
        {
          "output_type": "stream",
          "name": "stdout",
          "text": [
            "            df   sum_sq  mean_sq         F    PR(>F)\n",
            "variable   3.0  2.35875  0.78625  7.296984  0.000605\n",
            "Residual  36.0  3.87900  0.10775       NaN       NaN\n"
          ]
        }
      ]
    },
    {
      "cell_type": "markdown",
      "source": [
        "### 사후검정\n",
        "- 목적: 어떤 그룹들 간에 통계적으로 유의미한 차이가 있는지 구체적으로 파악하는 것"
      ],
      "metadata": {
        "id": "giIbIObjpoQS"
      }
    },
    {
      "cell_type": "code",
      "source": [
        "from scipy import stats\n",
        "from statsmodels.stats.multicomp import pairwise_tukeyhsd, MultiComparison\n",
        "# Tukey HSD (투키)\n",
        "tukey_result = pairwise_tukeyhsd(df_melt['value'], df_melt['variable'], alpha=0.05)\n",
        "print(tukey_result.summary())\n",
        "\n",
        "# Bonferroni(본페로니)\n",
        "mc = MultiComparison(df_melt['value'], df_melt['variable'])\n",
        "bon_result = mc.allpairtest(stats.ttest_ind, method='bonf')\n",
        "print(bon_result[0])"
      ],
      "metadata": {
        "id": "-zJ_Eu22oH20",
        "colab": {
          "base_uri": "https://localhost:8080/"
        },
        "outputId": "80e3d57d-69ec-4fff-c46c-373073e1610d"
      },
      "execution_count": 12,
      "outputs": [
        {
          "output_type": "stream",
          "name": "stdout",
          "text": [
            "Multiple Comparison of Means - Tukey HSD, FWER=0.05 \n",
            "====================================================\n",
            "group1 group2 meandiff p-adj   lower   upper  reject\n",
            "----------------------------------------------------\n",
            "     A      B     0.41 0.0397  0.0146  0.8054   True\n",
            "     A      C     0.09 0.9273 -0.3054  0.4854  False\n",
            "     A      D    -0.27 0.2722 -0.6654  0.1254  False\n",
            "     B      C    -0.32 0.1483 -0.7154  0.0754  False\n",
            "     B      D    -0.68 0.0003 -1.0754 -0.2846   True\n",
            "     C      D    -0.36 0.0852 -0.7554  0.0354  False\n",
            "----------------------------------------------------\n",
            "Test Multiple Comparison ttest_ind \n",
            "FWER=0.05 method=bonf\n",
            "alphacSidak=0.01, alphacBonf=0.008\n",
            "=============================================\n",
            "group1 group2   stat   pval  pval_corr reject\n",
            "---------------------------------------------\n",
            "     A      B -2.7199  0.014    0.0843  False\n",
            "     A      C  -0.515 0.6128       1.0  False\n",
            "     A      D  1.7538 0.0965    0.5788  False\n",
            "     B      C  2.2975 0.0338    0.2028  False\n",
            "     B      D  6.0686    0.0    0.0001   True\n",
            "     C      D  2.5219 0.0213    0.1279  False\n",
            "---------------------------------------------\n"
          ]
        }
      ]
    },
    {
      "cell_type": "markdown",
      "source": [
        "### 크루스칼-왈리스 검정 (비모수 검정)"
      ],
      "metadata": {
        "id": "n_rI32dVrt97"
      }
    },
    {
      "cell_type": "code",
      "source": [
        "import pandas as pd\n",
        "from scipy import stats\n",
        "\n",
        "# 데이터\n",
        "df = pd.DataFrame({\n",
        "    'A': [10.5, 11.3, 10.8, 10.6, 11.1, 10.2, 10.9, 11.4, 10.5, 10.3],\n",
        "    'B': [10.9, 11.4, 11.1, 11.2, 11.5, 10.8, 11.2, 10.9, 11.4, 11.3],\n",
        "    'C': [10.2, 10.7, 10.6, 10.9, 11.3, 11.1, 10.8, 10.5, 11.4, 11.0],\n",
        "    'D': [13.8, 10.4, 10.1, 10.5, 10.6, 10.9, 10.2, 10.7, 10.3, 10.4]\n",
        "})\n",
        "\n",
        "# 정규성 검정\n",
        "print(stats.shapiro(df['A']))\n",
        "print(stats.shapiro(df['B']))\n",
        "print(stats.shapiro(df['C']))\n",
        "print(stats.shapiro(df['D']))\n",
        "\n",
        "# Kruskal-Wallis 검정\n",
        "\n",
        "stats.kruskal(df['A'], df['B'], df['C'], df['D'])"
      ],
      "metadata": {
        "id": "YqHYfIKQW607",
        "colab": {
          "base_uri": "https://localhost:8080/"
        },
        "outputId": "9d0f8c9c-5929-474b-94ae-3ca282f0c59a"
      },
      "execution_count": 14,
      "outputs": [
        {
          "output_type": "stream",
          "name": "stdout",
          "text": [
            "ShapiroResult(statistic=0.949882447719574, pvalue=0.667110025882721)\n",
            "ShapiroResult(statistic=0.934644877910614, pvalue=0.49509894847869873)\n",
            "ShapiroResult(statistic=0.9871343374252319, pvalue=0.9919547438621521)\n",
            "ShapiroResult(statistic=0.5759974718093872, pvalue=2.8656615540967323e-05)\n"
          ]
        },
        {
          "output_type": "execute_result",
          "data": {
            "text/plain": [
              "KruskalResult(statistic=11.183607021517561, pvalue=0.010773365310213669)"
            ]
          },
          "metadata": {},
          "execution_count": 14
        }
      ]
    },
    {
      "cell_type": "markdown",
      "source": [
        "# 이원 분산 분석"
      ],
      "metadata": {
        "id": "zE_cfuF4TJD7"
      }
    },
    {
      "cell_type": "markdown",
      "source": [
        "가정에서 재배하고 있는 네 가지 토마토 종자(A, B, C, D)에 대해 세 가지 종류의 비료 (11, 12, 13)를 사용하여 재배된 토마토 수를 조사하였다. 종자 및 비료 종류 간의 토마토 수의 차이가 있는지 유의수준 0.05하에서 검정하시오.\n",
        "(단, 정규성, 등분산성에 만족한 데이터)\n",
        "- 종자 (주 효과)\n",
        "    - 귀무가설(H0): 종자 간의 토마토 수에 차이가 없다.\n",
        "    - 대립가설(H1): 적어도 하나의 종자에서 토마토 수에 차이가 있다.\n",
        "- 비료 (주 효과)\n",
        "    - 귀무가설(H0): 비료 종류 간의 토마토 수에 차이가 없다.\n",
        "    - 대립가설(H1): 적어도 하나의 비료 종류에서 토마토 수에 차이가 있다.\n",
        "- 상호작용 효과:\n",
        "    - 귀무가설(H0): 종자와 비료 간의 상호작용은 토마토 수에 영향을 미치지 않는다.\n",
        "    - 대립가설(H1): 종자와 비료 간의 상호작용은 토마토 수에 영향을 미친다.\n"
      ],
      "metadata": {
        "id": "0yQjsmneJJJD"
      }
    },
    {
      "cell_type": "markdown",
      "source": [
        "## 1. 기초"
      ],
      "metadata": {
        "id": "yQIVGQDmTVpV"
      }
    },
    {
      "cell_type": "code",
      "source": [
        "import pandas as pd\n",
        "df = pd.read_csv(\"tomato.csv\")\n",
        "print(df.head())\n",
        "print(df.shape)"
      ],
      "metadata": {
        "id": "d-87C0HTjR9d"
      },
      "execution_count": null,
      "outputs": []
    },
    {
      "cell_type": "markdown",
      "source": [
        "### 이원 분산 분석"
      ],
      "metadata": {
        "id": "RcPQMCRM_3_c"
      }
    },
    {
      "cell_type": "code",
      "source": [
        "# anova 테이블\n"
      ],
      "metadata": {
        "id": "40ToLh4Xe0vA"
      },
      "execution_count": null,
      "outputs": []
    },
    {
      "cell_type": "code",
      "source": [
        "# 범주형 데이터 처리\n"
      ],
      "metadata": {
        "id": "kE4qc4wtkbj9"
      },
      "execution_count": null,
      "outputs": []
    },
    {
      "cell_type": "code",
      "source": [
        "# 일반표기법 format(지수표기법, '.10f')\n"
      ],
      "metadata": {
        "id": "B6lwreZut_JA"
      },
      "execution_count": null,
      "outputs": []
    },
    {
      "cell_type": "code",
      "source": [
        "# formula * 활용\n"
      ],
      "metadata": {
        "id": "zzz8pEIyjky7"
      },
      "execution_count": null,
      "outputs": []
    },
    {
      "cell_type": "markdown",
      "source": [
        "## 2. 심화"
      ],
      "metadata": {
        "id": "FRDwpx-gjurL"
      }
    },
    {
      "cell_type": "markdown",
      "source": [
        "### 사후검정"
      ],
      "metadata": {
        "id": "MA5eE1ceAMAE"
      }
    },
    {
      "cell_type": "code",
      "source": [
        "# 이원 분산 분석 수행\n"
      ],
      "metadata": {
        "id": "-yqUH20Bbh0f"
      },
      "execution_count": null,
      "outputs": []
    },
    {
      "cell_type": "code",
      "source": [
        "\n",
        "# Tukey HSD\n"
      ],
      "metadata": {
        "id": "Yxjjxagsb2Vd"
      },
      "execution_count": null,
      "outputs": []
    },
    {
      "cell_type": "code",
      "source": [
        "# Bonferroni\n"
      ],
      "metadata": {
        "id": "CLYOyOE8b_15"
      },
      "execution_count": null,
      "outputs": []
    },
    {
      "cell_type": "markdown",
      "source": [
        "### [참고] 정규성, 등분산"
      ],
      "metadata": {
        "id": "Ru8y1HEZAWPa"
      }
    },
    {
      "cell_type": "code",
      "source": [
        "from scipy.stats import shapiro\n",
        "\n",
        "cond_tree_A = df['종자'] == 'A'\n",
        "cond_tree_B = df['종자'] == 'B'\n",
        "cond_tree_C = df['종자'] == 'C'\n",
        "cond_tree_D = df['종자'] == 'D'\n",
        "\n",
        "cond_fert_1 = df['비료'] == 11\n",
        "cond_fert_2 = df['비료'] == 12\n",
        "cond_fert_3 = df['비료'] == 13\n",
        "\n",
        "print(shapiro(df[cond_tree_A & cond_fert_1]['토마토수']))\n",
        "print(shapiro(df[cond_tree_A & cond_fert_2]['토마토수']))\n",
        "print(shapiro(df[cond_tree_A & cond_fert_3]['토마토수']))\n",
        "\n",
        "print(shapiro(df[cond_tree_B & cond_fert_1]['토마토수']))\n",
        "print(shapiro(df[cond_tree_B & cond_fert_2]['토마토수']))\n",
        "print(shapiro(df[cond_tree_B & cond_fert_3]['토마토수']))\n",
        "\n",
        "print(shapiro(df[cond_tree_C & cond_fert_1]['토마토수']))\n",
        "print(shapiro(df[cond_tree_C & cond_fert_2]['토마토수']))\n",
        "print(shapiro(df[cond_tree_C & cond_fert_3]['토마토수']))\n",
        "\n",
        "print(shapiro(df[cond_tree_D & cond_fert_1]['토마토수']))\n",
        "print(shapiro(df[cond_tree_D & cond_fert_2]['토마토수']))\n",
        "print(shapiro(df[cond_tree_D & cond_fert_3]['토마토수']))"
      ],
      "metadata": {
        "id": "IguuuWXeQGnI"
      },
      "execution_count": null,
      "outputs": []
    },
    {
      "cell_type": "code",
      "source": [
        "from scipy.stats import levene\n",
        "print(levene(df[cond_tree_A]['토마토수'],\n",
        "             df[cond_tree_B]['토마토수'],\n",
        "             df[cond_tree_C]['토마토수'],\n",
        "             df[cond_tree_D]['토마토수']))\n",
        "print(levene(df[cond_fert_1]['토마토수'],\n",
        "             df[cond_fert_2]['토마토수'],\n",
        "             df[cond_fert_3]['토마토수']))"
      ],
      "metadata": {
        "id": "93pcC80YQZsO"
      },
      "execution_count": null,
      "outputs": []
    }
  ]
}